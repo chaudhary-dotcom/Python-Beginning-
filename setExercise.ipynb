{
  "nbformat": 4,
  "nbformat_minor": 0,
  "metadata": {
    "colab": {
      "provenance": [],
      "authorship_tag": "ABX9TyNBeyvlVUebXf0+/gRt+dyy",
      "include_colab_link": true
    },
    "kernelspec": {
      "name": "python3",
      "display_name": "Python 3"
    },
    "language_info": {
      "name": "python"
    }
  },
  "cells": [
    {
      "cell_type": "markdown",
      "metadata": {
        "id": "view-in-github",
        "colab_type": "text"
      },
      "source": [
        "<a href=\"https://colab.research.google.com/github/chaudhary-dotcom/Python-Beginning-/blob/main/setExercise.ipynb\" target=\"_parent\"><img src=\"https://colab.research.google.com/assets/colab-badge.svg\" alt=\"Open In Colab\"/></a>"
      ]
    },
    {
      "cell_type": "code",
      "execution_count": 12,
      "metadata": {
        "colab": {
          "base_uri": "https://localhost:8080/"
        },
        "id": "w5Na8LfFG80k",
        "outputId": "d2acc22b-80f0-4710-d57b-dc7ca87dcb70"
      },
      "outputs": [
        {
          "output_type": "stream",
          "name": "stdout",
          "text": [
            "{'black', 'yellow'}\n"
          ]
        }
      ],
      "source": [
        "set1 = {'yellow', 'orange', 'black'}\n",
        "set2 = {'orange', 'blue', 'pink'}\n",
        "\n",
        "set1.difference_update(set2)\n",
        "print(set1)\n",
        "\n"
      ]
    },
    {
      "cell_type": "code",
      "source": [
        "#remove orange\n",
        "sampleset = {'yellow', 'orange', 'black'}\n",
        "print(sampleset.discard('orange'))\n",
        "print(sampleset)"
      ],
      "metadata": {
        "colab": {
          "base_uri": "https://localhost:8080/"
        },
        "id": "oUSMx4N8HwDD",
        "outputId": "ecf08601-b452-4bd4-bde1-f4c37442f753"
      },
      "execution_count": 8,
      "outputs": [
        {
          "output_type": "stream",
          "name": "stdout",
          "text": [
            "None\n",
            "{'black', 'yellow'}\n"
          ]
        }
      ]
    },
    {
      "cell_type": "code",
      "source": [
        "sampleset = {'yellow', 'orange', 'black'}\n",
        "sampleset.discard('blue')\n",
        "print(sampleset)"
      ],
      "metadata": {
        "colab": {
          "base_uri": "https://localhost:8080/"
        },
        "id": "nsFNLdCCLkig",
        "outputId": "35f9e4fd-6180-4677-d28c-0000c3badcc1"
      },
      "execution_count": 15,
      "outputs": [
        {
          "output_type": "stream",
          "name": "stdout",
          "text": [
            "{'black', 'orange', 'yellow'}\n"
          ]
        }
      ]
    },
    {
      "cell_type": "code",
      "source": [
        "sampleset = {'yellow', 'orange', 'black'}\n",
        "sampleset.update(['blue', 'green', 'red'])\n",
        "print(sampleset)"
      ],
      "metadata": {
        "colab": {
          "base_uri": "https://localhost:8080/"
        },
        "id": "KrC5EcxlML8y",
        "outputId": "930e37bf-a26a-4aad-b137-4230c79389a0"
      },
      "execution_count": 17,
      "outputs": [
        {
          "output_type": "stream",
          "name": "stdout",
          "text": [
            "{'blue', 'black', 'yellow', 'orange', 'green', 'red'}\n"
          ]
        }
      ]
    },
    {
      "cell_type": "code",
      "source": [
        "set1 = {'yellow', 'orange', 'black'}\n",
        "set2 = {'orange', 'blue', 'pink'}\n",
        "set3 = set2.difference(set1)\n",
        "print(set3)\n"
      ],
      "metadata": {
        "colab": {
          "base_uri": "https://localhost:8080/"
        },
        "id": "wMMfo5TRNLeA",
        "outputId": "a06ac6a8-2a55-4909-8417-67d73d8b30e4"
      },
      "execution_count": 21,
      "outputs": [
        {
          "output_type": "stream",
          "name": "stdout",
          "text": [
            "{'blue', 'pink'}\n"
          ]
        }
      ]
    },
    {
      "cell_type": "code",
      "source": [
        "sampleset = {'yellow', 'orange', 'black'}\n",
        "sampleset.add('blue')\n",
        "sampleset.add('orange')\n",
        "print(sampleset)"
      ],
      "metadata": {
        "colab": {
          "base_uri": "https://localhost:8080/"
        },
        "id": "Njlk7TFsOnnm",
        "outputId": "6b0c1008-cdec-4217-bac7-433384c3fcc1"
      },
      "execution_count": 22,
      "outputs": [
        {
          "output_type": "stream",
          "name": "stdout",
          "text": [
            "{'black', 'orange', 'blue', 'yellow'}\n"
          ]
        }
      ]
    },
    {
      "cell_type": "code",
      "source": [
        "set1 = {10,20,30,40}\n",
        "set2 = {50,20,'10',60}\n",
        "set3 = set1.union(set2)\n",
        "print(set3)"
      ],
      "metadata": {
        "colab": {
          "base_uri": "https://localhost:8080/"
        },
        "id": "WwT-ipgkPATm",
        "outputId": "f244989b-ed84-4458-f453-ed9abf0fea43"
      },
      "execution_count": 23,
      "outputs": [
        {
          "output_type": "stream",
          "name": "stdout",
          "text": [
            "{40, 10, '10', 50, 20, 60, 30}\n"
          ]
        }
      ]
    },
    {
      "cell_type": "code",
      "source": [
        "aset = {1,'pynative', ('abc', 'def'), True}\n",
        "print(aset)"
      ],
      "metadata": {
        "colab": {
          "base_uri": "https://localhost:8080/"
        },
        "id": "ctYq1H0EPX5C",
        "outputId": "96c9c5cc-f15d-4c34-b6b7-bfd0edf59847"
      },
      "execution_count": 24,
      "outputs": [
        {
          "output_type": "stream",
          "name": "stdout",
          "text": [
            "{1, 'pynative', ('abc', 'def')}\n"
          ]
        }
      ]
    },
    {
      "cell_type": "code",
      "source": [
        "#copy 2 sets\n",
        "#set2 = set1.copy()\n",
        "#set2 = set(set1)\n",
        "print(set2.update(set1))\n",
        "print(set2)\n",
        "\n",
        "\n"
      ],
      "metadata": {
        "colab": {
          "base_uri": "https://localhost:8080/"
        },
        "id": "yG7FrybqPpBP",
        "outputId": "fd6f369a-ae25-4a53-de68-9ea0ec2354ff"
      },
      "execution_count": 32,
      "outputs": [
        {
          "output_type": "stream",
          "name": "stdout",
          "text": [
            "None\n",
            "{40, 10, 20, 30}\n"
          ]
        }
      ]
    },
    {
      "cell_type": "code",
      "source": [
        "set1 = {10, 20, 30, 40, 50}\n",
        "set2 = {20,50,60,80,70,10}\n",
        "\n",
        "print(set1.issubset(set2))\n",
        "print(set2.issuperset(set1))\n",
        "\n"
      ],
      "metadata": {
        "colab": {
          "base_uri": "https://localhost:8080/"
        },
        "id": "fsHAHqxTQnui",
        "outputId": "7827d594-8df7-4160-ecf2-993b33a082c8"
      },
      "execution_count": 36,
      "outputs": [
        {
          "output_type": "stream",
          "name": "stdout",
          "text": [
            "False\n",
            "False\n"
          ]
        }
      ]
    }
  ]
}