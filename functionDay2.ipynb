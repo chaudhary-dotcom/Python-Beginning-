{
  "nbformat": 4,
  "nbformat_minor": 0,
  "metadata": {
    "colab": {
      "provenance": [],
      "authorship_tag": "ABX9TyPruaAYY41pijeveO5bo/Ol",
      "include_colab_link": true
    },
    "kernelspec": {
      "name": "python3",
      "display_name": "Python 3"
    },
    "language_info": {
      "name": "python"
    }
  },
  "cells": [
    {
      "cell_type": "markdown",
      "metadata": {
        "id": "view-in-github",
        "colab_type": "text"
      },
      "source": [
        "<a href=\"https://colab.research.google.com/github/chaudhary-dotcom/Python-Beginning-/blob/main/functionDay2.ipynb\" target=\"_parent\"><img src=\"https://colab.research.google.com/assets/colab-badge.svg\" alt=\"Open In Colab\"/></a>"
      ]
    },
    {
      "cell_type": "code",
      "execution_count": 3,
      "metadata": {
        "colab": {
          "base_uri": "https://localhost:8080/"
        },
        "id": "noASH8QyEqfv",
        "outputId": "8967866b-b660-4856-e779-f32500f2919c"
      },
      "outputs": [
        {
          "output_type": "stream",
          "name": "stdout",
          "text": [
            "Enter USD: 1\n",
            "83.0\n"
          ]
        }
      ],
      "source": [
        "#convert usd to inr\n",
        "currency = float(input('Enter USD: '))\n",
        "def usd_to_inr(currency):\n",
        "  return currency * 83\n",
        "\n",
        "print(usd_to_inr(currency))"
      ]
    },
    {
      "cell_type": "code",
      "source": [
        "#WAF to find odd and even number\n",
        "n = int(input('Enter number: '))\n",
        "def odd_num(n):\n",
        "  if n%2 != 0:\n",
        "    print('Odd')\n",
        "\n",
        "  else:\n",
        "    print('Even')\n",
        "\n",
        "odd_num(n)\n",
        "\n"
      ],
      "metadata": {
        "colab": {
          "base_uri": "https://localhost:8080/"
        },
        "id": "KAGrT8mIGM4-",
        "outputId": "4db1f845-967d-4509-d7d5-f16a646ad9cd"
      },
      "execution_count": 25,
      "outputs": [
        {
          "output_type": "stream",
          "name": "stdout",
          "text": [
            "Enter number: 20\n",
            "Even\n"
          ]
        }
      ]
    },
    {
      "cell_type": "code",
      "source": [
        " #Recursion\n",
        " n = int(input('Enter number: '))\n",
        " def show(n):\n",
        "  if (n==0):\n",
        "    return\n",
        "  print(n)\n",
        "  show(n-1)\n",
        "  print('End')\n",
        "\n",
        "show(n)"
      ],
      "metadata": {
        "colab": {
          "base_uri": "https://localhost:8080/"
        },
        "id": "XAZEUl1HO_YX",
        "outputId": "1f8ce81e-6be2-405b-c24f-1d69c31de450"
      },
      "execution_count": 4,
      "outputs": [
        {
          "output_type": "stream",
          "name": "stdout",
          "text": [
            "Enter number: 5\n",
            "5\n",
            "4\n",
            "3\n",
            "2\n",
            "1\n",
            "End\n",
            "End\n",
            "End\n",
            "End\n",
            "End\n"
          ]
        }
      ]
    },
    {
      "cell_type": "code",
      "source": [
        "#Recursion: factorial\n",
        "def fact(n):\n",
        "  if(n == 1 or n == 0):\n",
        "    return 1\n",
        "  return fact(n-1) * n\n",
        "\n",
        "print(fact(4))"
      ],
      "metadata": {
        "colab": {
          "base_uri": "https://localhost:8080/"
        },
        "id": "8Ju_9Qe-7tSI",
        "outputId": "3f375ac5-9ea3-4714-f3e6-3dd2fdcb709d"
      },
      "execution_count": 5,
      "outputs": [
        {
          "output_type": "stream",
          "name": "stdout",
          "text": [
            "24\n"
          ]
        }
      ]
    },
    {
      "cell_type": "code",
      "source": [
        "#write a recursive function to calculate the sum of first n ntural numbers:\n",
        "def natural(n):\n",
        "  if n == 0:\n",
        "    return 0\n",
        "\n",
        "  return natural(n-1) + n\n",
        "print(natural(10))"
      ],
      "metadata": {
        "colab": {
          "base_uri": "https://localhost:8080/"
        },
        "id": "77fgHUC29ljt",
        "outputId": "800925fc-8549-4d4b-86bc-acdc3c9f6cfe"
      },
      "execution_count": 10,
      "outputs": [
        {
          "output_type": "stream",
          "name": "stdout",
          "text": [
            "55\n"
          ]
        }
      ]
    },
    {
      "cell_type": "code",
      "source": [
        "#write a recursive function to print all elements in a list\n",
        "def print_list(list, idx = 0):\n",
        "  if (idx == len(list)):\n",
        "    return\n",
        "  print(list[idx])\n",
        "  print_list(list, idx+1)\n",
        "\n",
        "fruits = ['apple', 'mango', 'banana', 'grapes', 'orange']\n",
        "\n",
        "print_list(fruits)\n"
      ],
      "metadata": {
        "colab": {
          "base_uri": "https://localhost:8080/"
        },
        "id": "oQXT3Ito_s_l",
        "outputId": "fe233f66-cbce-4055-d4f0-bb6654bb869f"
      },
      "execution_count": 14,
      "outputs": [
        {
          "output_type": "stream",
          "name": "stdout",
          "text": [
            "apple\n",
            "mango\n",
            "banana\n",
            "grapes\n",
            "orange\n"
          ]
        }
      ]
    },
    {
      "cell_type": "code",
      "source": [
        "#write a program to create a function that takes two arguments, name and age and print their value\n",
        "def func(name, age):\n",
        "  return name, age\n",
        "\n",
        "nam = 'shishir'\n",
        "ag = '25'\n",
        "\n",
        "print(func(nam, ag))"
      ],
      "metadata": {
        "colab": {
          "base_uri": "https://localhost:8080/"
        },
        "id": "4kOsp1p6Cnxi",
        "outputId": "74613870-4f5a-4b39-eebf-4df4a852c98f"
      },
      "execution_count": 19,
      "outputs": [
        {
          "output_type": "stream",
          "name": "stdout",
          "text": [
            "('shishir', '25')\n"
          ]
        }
      ]
    },
    {
      "cell_type": "code",
      "source": [
        "def func(name, age):\n",
        "  print(name, age)\n",
        "\n",
        "func('shishir', 25)"
      ],
      "metadata": {
        "colab": {
          "base_uri": "https://localhost:8080/"
        },
        "id": "uZBrvT7PD3C-",
        "outputId": "6cf77711-2b33-4577-f5c4-5f1b92d9e59f"
      },
      "execution_count": 20,
      "outputs": [
        {
          "output_type": "stream",
          "name": "stdout",
          "text": [
            "shishir 25\n"
          ]
        }
      ]
    },
    {
      "cell_type": "code",
      "source": [
        "#create a function with variable length of arguments\n",
        "def percentage(sub1, sub2, sub3):\n",
        "  avg = (sub1 + sub2 + sub3) / 3\n",
        "  print('average', avg)\n",
        "\n",
        "percentage(51, 65, 73)"
      ],
      "metadata": {
        "colab": {
          "base_uri": "https://localhost:8080/"
        },
        "id": "34HmY7smEFxE",
        "outputId": "51b5fda5-3d8a-4053-fa49-e6aef26cb046"
      },
      "execution_count": 23,
      "outputs": [
        {
          "output_type": "stream",
          "name": "stdout",
          "text": [
            "average 63.0\n"
          ]
        }
      ]
    },
    {
      "cell_type": "code",
      "source": [
        "#function with variable length arguments\n",
        "def percentage(*args):\n",
        "  sum = 0\n",
        "  for i in args:\n",
        "    sum = sum + i\n",
        "\n",
        "  avg = sum / len(args)\n",
        "  print('Average = ', avg)\n",
        "\n",
        "percentage(56,31,67,88,76, 90, 99)"
      ],
      "metadata": {
        "colab": {
          "base_uri": "https://localhost:8080/"
        },
        "id": "Zdss4Q5JFlB7",
        "outputId": "60397cb2-1961-4550-d20c-99f9a10ebc82"
      },
      "execution_count": 26,
      "outputs": [
        {
          "output_type": "stream",
          "name": "stdout",
          "text": [
            "Average =  72.42857142857143\n"
          ]
        }
      ]
    },
    {
      "cell_type": "code",
      "source": [
        "def percentage(*subjects):\n",
        "  sum = 0\n",
        "  for i in subjects:\n",
        "    sum = sum + i\n",
        "  avg = sum / len(subjects)\n",
        "  print('Average = ', avg)\n",
        "\n",
        "percentage(81, 55, 65, 78)"
      ],
      "metadata": {
        "colab": {
          "base_uri": "https://localhost:8080/"
        },
        "id": "mAc8-4n8Gl_h",
        "outputId": "824643cf-be97-4d4c-bf3b-b723404e9b61"
      },
      "execution_count": 27,
      "outputs": [
        {
          "output_type": "stream",
          "name": "stdout",
          "text": [
            "Average =  69.75\n"
          ]
        }
      ]
    },
    {
      "cell_type": "code",
      "source": [
        "#Arbitary keyword arguments (**kwargs)\n",
        "def percentage(**kwargs):\n",
        "  sum = 0\n",
        "  for sub in kwargs:\n",
        "    #get arguments name\n",
        "    sub_name = sub\n",
        "\n",
        "    #get arguments value\n",
        "    sub_marks = kwargs[sub]\n",
        "\n",
        "    print(sub_name, '=', sub_marks)\n",
        "\n",
        "#pass multiple keyword arguments\n",
        "percentage(math=56, science=61, english=54)\n"
      ],
      "metadata": {
        "colab": {
          "base_uri": "https://localhost:8080/"
        },
        "id": "UMHlBfYAHYpw",
        "outputId": "1e9d2be4-db0e-4de9-ca85-fc01a0f845fb"
      },
      "execution_count": 28,
      "outputs": [
        {
          "output_type": "stream",
          "name": "stdout",
          "text": [
            "math = 56\n",
            "science = 61\n",
            "english = 54\n"
          ]
        }
      ]
    },
    {
      "cell_type": "code",
      "source": [
        "#create a function with variable length of arguments\n",
        "def fun(*args):\n",
        "  return args\n",
        "  print(args)\n",
        "\n",
        "fun(2,3,4,5)\n",
        "\n"
      ],
      "metadata": {
        "colab": {
          "base_uri": "https://localhost:8080/"
        },
        "id": "6rd6buMxK3v4",
        "outputId": "326fb15e-24cf-4811-df16-01ae74569a29"
      },
      "execution_count": 29,
      "outputs": [
        {
          "output_type": "execute_result",
          "data": {
            "text/plain": [
              "(2, 3, 4, 5)"
            ]
          },
          "metadata": {},
          "execution_count": 29
        }
      ]
    },
    {
      "cell_type": "code",
      "source": [
        "def func1(*args):\n",
        "  for i in args:\n",
        "    print(i, end=' ')\n",
        "\n",
        "func1(1,2,3,4,5)\n",
        "func1(5,6,7,8,9,0,1,2)\n",
        "func1('shishir', 'mahesh','laddu')"
      ],
      "metadata": {
        "colab": {
          "base_uri": "https://localhost:8080/"
        },
        "id": "qVY47PjML3B7",
        "outputId": "38fa0947-c35b-47f4-9e5f-b2fbcf05a0d3"
      },
      "execution_count": 36,
      "outputs": [
        {
          "output_type": "stream",
          "name": "stdout",
          "text": [
            "1 2 3 4 5 5 6 7 8 9 0 1 2 shishir mahesh laddu "
          ]
        }
      ]
    },
    {
      "cell_type": "code",
      "source": [
        "#Non-Keyword arguments (*args)\n",
        "#allows a function to accept any number of positional arguments\n",
        "#arguments are received as tuple\n",
        "def sum_numbers(*args):\n",
        "\n",
        "  return sum(args)\n",
        "  print(sum_numbers(args))\n",
        "\n",
        "print(sum_numbers(1,2,3))\n",
        "print(sum_numbers(4,5,6,7))\n"
      ],
      "metadata": {
        "colab": {
          "base_uri": "https://localhost:8080/"
        },
        "id": "Creg1WCgMnCZ",
        "outputId": "7fde1f6e-636b-469d-80fb-78b4b05ba33d"
      },
      "execution_count": 41,
      "outputs": [
        {
          "output_type": "stream",
          "name": "stdout",
          "text": [
            "6\n",
            "22\n"
          ]
        }
      ]
    },
    {
      "cell_type": "code",
      "source": [
        "#with loop\n",
        "def print_names(*names):\n",
        "  for name in names:\n",
        "    print(name)\n",
        "\n",
        "print_names('Alice', 'John', 'Jagdish')"
      ],
      "metadata": {
        "colab": {
          "base_uri": "https://localhost:8080/"
        },
        "id": "82omIPpgN1PB",
        "outputId": "e1f4b67e-5066-4297-95e0-c34210ed8a25"
      },
      "execution_count": 42,
      "outputs": [
        {
          "output_type": "stream",
          "name": "stdout",
          "text": [
            "Alice\n",
            "John\n",
            "Jagdish\n"
          ]
        }
      ]
    },
    {
      "cell_type": "code",
      "source": [
        "#kwargs\n",
        "def func1(**kwargs):\n",
        "  for key, value in kwargs.items():\n",
        "    print(f'{key}: {value}')\n",
        "\n",
        "func1(name = 'Alice', age='25', country = 'USA')\n",
        "func1(mob= 989898, pro = 'cs')"
      ],
      "metadata": {
        "colab": {
          "base_uri": "https://localhost:8080/"
        },
        "id": "0prcwVd8PAh6",
        "outputId": "8befc4c6-562a-4499-d181-600cd02f8074"
      },
      "execution_count": 45,
      "outputs": [
        {
          "output_type": "stream",
          "name": "stdout",
          "text": [
            "name: Alice\n",
            "age: 25\n",
            "country: USA\n",
            "mob: 989898\n",
            "pro: cs\n"
          ]
        }
      ]
    },
    {
      "cell_type": "code",
      "source": [
        "#using both *args and *kwargs\n",
        "def person_info(name, *args, **kwargs):\n",
        "  print(f'Name: {name}')\n",
        "  print(f'Other details: {args}')\n",
        "  print(f'Additional Info: {kwargs}')\n",
        "\n",
        "person_info('Alice', 25, 'data scientist', city = 'New york', country='USA')"
      ],
      "metadata": {
        "colab": {
          "base_uri": "https://localhost:8080/"
        },
        "id": "0cXD7q-aQ-mj",
        "outputId": "5c013f43-0548-4eae-ce41-6394c01a02fe"
      },
      "execution_count": 51,
      "outputs": [
        {
          "output_type": "stream",
          "name": "stdout",
          "text": [
            "Name: Alice\n",
            "Other details: (25, 'data scientist')\n",
            "Additional Info: {'city': 'New york', 'country': 'USA'}\n"
          ]
        }
      ]
    },
    {
      "cell_type": "code",
      "source": [
        "#Return multiple values from a function\n",
        "#Addition and subtraction\n",
        "def calculation(a, b):\n",
        "  sum = a+b\n",
        "  sub = a-b\n",
        "  return sum, sub\n",
        "\n",
        "\n",
        "res = calculation(10,5)\n",
        "print(res)"
      ],
      "metadata": {
        "colab": {
          "base_uri": "https://localhost:8080/"
        },
        "id": "siqgp_YVTkDE",
        "outputId": "1b79d2fc-b710-4bef-bdbf-62bff736215f"
      },
      "execution_count": 58,
      "outputs": [
        {
          "output_type": "stream",
          "name": "stdout",
          "text": [
            "(15, 5)\n"
          ]
        }
      ]
    },
    {
      "cell_type": "code",
      "source": [
        "def calculation(a, b):\n",
        "  return a+b, a-b\n",
        "\n",
        "add, sub = calculation(40,10)\n",
        "print(add, sub)"
      ],
      "metadata": {
        "colab": {
          "base_uri": "https://localhost:8080/"
        },
        "id": "S5PsDsZDVW6x",
        "outputId": "5d693b5e-3d8f-46e3-8a17-fdaff1ea8d91"
      },
      "execution_count": 59,
      "outputs": [
        {
          "output_type": "stream",
          "name": "stdout",
          "text": [
            "50 30\n"
          ]
        }
      ]
    },
    {
      "cell_type": "code",
      "source": [
        "#create a function with default argument\n",
        "def show_employee(name, salary = '9000'):\n",
        "  print('Name:', name,', ' ' Salary: ', salary)\n",
        "\n",
        "show_employee('Alice', 12000)\n",
        "show_employee('John')"
      ],
      "metadata": {
        "colab": {
          "base_uri": "https://localhost:8080/"
        },
        "id": "R5-2ugklVui1",
        "outputId": "33b0f768-ec4f-4311-87bd-c05f70eb481c"
      },
      "execution_count": 64,
      "outputs": [
        {
          "output_type": "stream",
          "name": "stdout",
          "text": [
            "Name: Alice ,  Salary:  12000\n",
            "Name: John ,  Salary:  9000\n"
          ]
        }
      ]
    },
    {
      "cell_type": "code",
      "source": [
        "#Create an inner function to calculate the addition in the following way\n",
        "def outer_func(a, b):\n",
        "  square = a**2\n",
        "\n",
        "  def inner_func(a, b):\n",
        "    return a+b\n",
        "  #call inner function from outer function\n",
        "  add = inner_func(a, b)\n",
        "\n",
        "  return add + 5\n",
        "\n",
        "result = outer_func(10,10)\n",
        "print(result)\n"
      ],
      "metadata": {
        "colab": {
          "base_uri": "https://localhost:8080/"
        },
        "id": "urcqETDLXO9r",
        "outputId": "7544b3c2-e464-425b-d3d6-52da169a683f"
      },
      "execution_count": 67,
      "outputs": [
        {
          "output_type": "stream",
          "name": "stdout",
          "text": [
            "25\n"
          ]
        }
      ]
    },
    {
      "cell_type": "code",
      "source": [
        "#outer and inner function\n",
        "def outer_func(a, b):\n",
        "  def inner_func(a, b):\n",
        "    return a + b\n",
        "  add = inner_func(a, b)\n",
        "\n",
        "  return add + 5\n",
        "result = outer_func(10,10)\n",
        "print(result)"
      ],
      "metadata": {
        "colab": {
          "base_uri": "https://localhost:8080/"
        },
        "id": "r7mPqdHgZ2Lq",
        "outputId": "83fe31b5-978b-4d27-c1a7-5d7da8d689e6"
      },
      "execution_count": 68,
      "outputs": [
        {
          "output_type": "stream",
          "name": "stdout",
          "text": [
            "25\n"
          ]
        }
      ]
    },
    {
      "cell_type": "code",
      "source": [
        "#Recursive function\n",
        "#WAP to create a recursive function to calculate the sum of numbers from 0 to 10\n",
        "def addition(num):\n",
        "  if num:\n",
        "    return num + addition(num - 1)\n",
        "  else:\n",
        "    return 0\n",
        "\n",
        "res = addition(10)\n",
        "print(res)"
      ],
      "metadata": {
        "colab": {
          "base_uri": "https://localhost:8080/"
        },
        "id": "LRwxcG3SbDv1",
        "outputId": "b8cec5ff-9548-4279-f959-f8089bf7ac10"
      },
      "execution_count": 71,
      "outputs": [
        {
          "output_type": "stream",
          "name": "stdout",
          "text": [
            "55\n"
          ]
        }
      ]
    },
    {
      "cell_type": "code",
      "source": [
        "#assign  a different name to function and call it through the new name\n",
        "def display_student(name, age):\n",
        "  print(name, age)\n",
        "\n",
        "display_student('Emma', 26)\n",
        "show_student = display_student\n",
        "show_student('Emms', 25)"
      ],
      "metadata": {
        "colab": {
          "base_uri": "https://localhost:8080/"
        },
        "id": "bPpk2xTVc9ml",
        "outputId": "93b2be47-3b82-45fb-84c9-4e6ac0861b3f"
      },
      "execution_count": 78,
      "outputs": [
        {
          "output_type": "stream",
          "name": "stdout",
          "text": [
            "Emma 26\n",
            "Emms 25\n"
          ]
        }
      ]
    },
    {
      "cell_type": "code",
      "source": [
        "#Generate a python list of all the even numbers between  4 to 30\n",
        "print(list(range(4,30,2)))"
      ],
      "metadata": {
        "colab": {
          "base_uri": "https://localhost:8080/"
        },
        "id": "1kkqbob4e1rz",
        "outputId": "ae80555f-f7a3-4afa-ce51-0dc06e8331fc"
      },
      "execution_count": 79,
      "outputs": [
        {
          "output_type": "stream",
          "name": "stdout",
          "text": [
            "[4, 6, 8, 10, 12, 14, 16, 18, 20, 22, 24, 26, 28]\n"
          ]
        }
      ]
    },
    {
      "cell_type": "code",
      "source": [
        "#find the largest item from a given list\n",
        "a = [4,6,8,24,12,2]\n",
        "print(max(a))"
      ],
      "metadata": {
        "colab": {
          "base_uri": "https://localhost:8080/"
        },
        "id": "PIi7BlG_fdPM",
        "outputId": "02ce488a-fe50-426c-84a2-ab407fe24ca4"
      },
      "execution_count": 80,
      "outputs": [
        {
          "output_type": "stream",
          "name": "stdout",
          "text": [
            "24\n"
          ]
        }
      ]
    },
    {
      "cell_type": "code",
      "source": [
        "def func1(name, age=20):\n",
        "  print(name, age)\n",
        "func1('Emma', 25)"
      ],
      "metadata": {
        "colab": {
          "base_uri": "https://localhost:8080/"
        },
        "id": "vKwCucS_DBva",
        "outputId": "a6d9066b-0c8a-438b-9cd0-c422044d3679"
      },
      "execution_count": 1,
      "outputs": [
        {
          "output_type": "stream",
          "name": "stdout",
          "text": [
            "Emma 25\n"
          ]
        }
      ]
    },
    {
      "cell_type": "code",
      "source": [
        "def display(**kwargs):\n",
        "  for i in kwargs:\n",
        "    print(i)\n",
        "display(emp='Kally', salary=9000)"
      ],
      "metadata": {
        "colab": {
          "base_uri": "https://localhost:8080/"
        },
        "id": "kl-V2WSBDc3o",
        "outputId": "a2d54c70-7b56-4a69-ed8f-0d6b5421aead"
      },
      "execution_count": 2,
      "outputs": [
        {
          "output_type": "stream",
          "name": "stdout",
          "text": [
            "emp\n",
            "salary\n"
          ]
        }
      ]
    },
    {
      "cell_type": "code",
      "source": [
        "def outer_fun(a, b):\n",
        "  def inner_fun(c, d):\n",
        "    return c+d\n",
        "  return inner_fun(a, b)\n",
        "\n",
        "res = outer_fun(5, 10)\n",
        "print(res)"
      ],
      "metadata": {
        "colab": {
          "base_uri": "https://localhost:8080/"
        },
        "id": "k8BKa4NND3s2",
        "outputId": "ed5e5d86-0299-46c4-e45f-197176c9ae11"
      },
      "execution_count": 3,
      "outputs": [
        {
          "output_type": "stream",
          "name": "stdout",
          "text": [
            "15\n"
          ]
        }
      ]
    },
    {
      "cell_type": "code",
      "source": [
        "def add(a, b):\n",
        "  return a+5, b+5\n",
        "result = add(3, 2)\n",
        "print(result)"
      ],
      "metadata": {
        "colab": {
          "base_uri": "https://localhost:8080/"
        },
        "id": "8-oJrIpfEf9s",
        "outputId": "096fe7a7-d36d-46ee-9ed3-83ebfe4d054a"
      },
      "execution_count": 4,
      "outputs": [
        {
          "output_type": "stream",
          "name": "stdout",
          "text": [
            "(8, 7)\n"
          ]
        }
      ]
    },
    {
      "cell_type": "code",
      "source": [
        "def fun1(name, age):\n",
        "  print(name, age)\n",
        "\n",
        "fun1('Emma', age=23)\n",
        "fun1(age=23, name='Emma')\n"
      ],
      "metadata": {
        "colab": {
          "base_uri": "https://localhost:8080/"
        },
        "id": "OEsuEiz_FhE3",
        "outputId": "7fa9eed1-cb97-4a7b-8dac-7e6130be7b59"
      },
      "execution_count": 9,
      "outputs": [
        {
          "output_type": "stream",
          "name": "stdout",
          "text": [
            "Emma 23\n",
            "Emma 23\n"
          ]
        }
      ]
    },
    {
      "cell_type": "code",
      "source": [
        "def fun1(*data):\n",
        "  print(data)\n",
        "fun1(25, 75, 55)\n",
        "fun1(10, 20)"
      ],
      "metadata": {
        "colab": {
          "base_uri": "https://localhost:8080/"
        },
        "id": "YxTkjh0eGPrK",
        "outputId": "86e75f05-0984-4a48-e907-69e75ddca51a"
      },
      "execution_count": 11,
      "outputs": [
        {
          "output_type": "stream",
          "name": "stdout",
          "text": [
            "(25, 75, 55)\n",
            "(10, 20)\n"
          ]
        }
      ]
    },
    {
      "cell_type": "code",
      "source": [
        "def fun1(num):\n",
        "  return num + 25\n",
        "\n",
        "print(fun1(5))\n",
        "\n"
      ],
      "metadata": {
        "colab": {
          "base_uri": "https://localhost:8080/"
        },
        "id": "3Bj8CVQ9Gy43",
        "outputId": "3986a74c-4f1c-402a-f736-207db65b25c2"
      },
      "execution_count": 13,
      "outputs": [
        {
          "output_type": "stream",
          "name": "stdout",
          "text": [
            "30\n"
          ]
        }
      ]
    },
    {
      "cell_type": "code",
      "source": [
        "def outer_fun(a, b):\n",
        "  def inner_fun(c, d):\n",
        "    return c+d\n",
        "\n",
        "  return inner_fun(a, b)\n",
        "  return a\n",
        "result = outer_fun(5, 10)\n",
        "print(result)"
      ],
      "metadata": {
        "colab": {
          "base_uri": "https://localhost:8080/"
        },
        "id": "9BPc_6uaHToS",
        "outputId": "7cbf3586-b2c3-4f44-e390-6226693aa508"
      },
      "execution_count": 14,
      "outputs": [
        {
          "output_type": "stream",
          "name": "stdout",
          "text": [
            "15\n"
          ]
        }
      ]
    },
    {
      "cell_type": "code",
      "source": [
        "def display_person(*args):\n",
        "  for i in args:\n",
        "    print(i)\n",
        "display_person('Emma','25')"
      ],
      "metadata": {
        "colab": {
          "base_uri": "https://localhost:8080/"
        },
        "id": "qMVKbiZbIkFr",
        "outputId": "04191ffd-853b-45e5-b802-5a6d9696654b"
      },
      "execution_count": 16,
      "outputs": [
        {
          "output_type": "stream",
          "name": "stdout",
          "text": [
            "Emma\n",
            "25\n"
          ]
        }
      ]
    },
    {
      "cell_type": "code",
      "source": [
        "#WA function to return the square of a number\n",
        "def square_num(n):\n",
        "  return n*n\n",
        "  print(n)\n",
        "square_num(5)"
      ],
      "metadata": {
        "colab": {
          "base_uri": "https://localhost:8080/"
        },
        "id": "OeXZ9uDIKydM",
        "outputId": "34893925-145a-442a-d3df-d47e32acd6fe"
      },
      "execution_count": 17,
      "outputs": [
        {
          "output_type": "execute_result",
          "data": {
            "text/plain": [
              "25"
            ]
          },
          "metadata": {},
          "execution_count": 17
        }
      ]
    },
    {
      "cell_type": "code",
      "source": [
        "#WA function that takes two numbers and return their sum\n",
        "def sum_num(a, b):\n",
        "  sum = a + b\n",
        "  return sum\n",
        "  print(sum)\n",
        "sum_num(3, 5)\n"
      ],
      "metadata": {
        "colab": {
          "base_uri": "https://localhost:8080/"
        },
        "id": "mdyTe5EiLIbR",
        "outputId": "51b7108e-d14a-4c7a-c253-710f30ec9c74"
      },
      "execution_count": 18,
      "outputs": [
        {
          "output_type": "execute_result",
          "data": {
            "text/plain": [
              "8"
            ]
          },
          "metadata": {},
          "execution_count": 18
        }
      ]
    },
    {
      "cell_type": "code",
      "source": [
        "#WA function to check if number is odd or even\n",
        "def odd_even(n):\n",
        "  if n%2 != 0:\n",
        "    print('Odd')\n",
        "  else:\n",
        "    print('Even')\n",
        "odd_even(5)"
      ],
      "metadata": {
        "colab": {
          "base_uri": "https://localhost:8080/"
        },
        "id": "BC0mYCRtLm30",
        "outputId": "5adc688b-4032-48b4-ee7a-cb4676996f55"
      },
      "execution_count": 21,
      "outputs": [
        {
          "output_type": "stream",
          "name": "stdout",
          "text": [
            "Odd\n"
          ]
        }
      ]
    },
    {
      "cell_type": "code",
      "source": [
        "#WA function that takes name as input and return 'Hello, Alice'\n",
        "def call(name):\n",
        "\n",
        "  print('Hello, ', name)\n",
        "call('Alice')"
      ],
      "metadata": {
        "colab": {
          "base_uri": "https://localhost:8080/"
        },
        "id": "dpNC1HNjMIQa",
        "outputId": "84153846-defe-4aee-94c6-e72a08900956"
      },
      "execution_count": 25,
      "outputs": [
        {
          "output_type": "stream",
          "name": "stdout",
          "text": [
            "Hello,  Alice\n"
          ]
        }
      ]
    },
    {
      "cell_type": "code",
      "source": [
        "#WA function that takes a string and returns its length\n",
        "def string_length(length):\n",
        "  return len(length)\n",
        "print(string_length('python'))"
      ],
      "metadata": {
        "colab": {
          "base_uri": "https://localhost:8080/"
        },
        "id": "c8B4m37NMuiI",
        "outputId": "8128477a-7798-4e1a-968c-1a8b8d7bd8d8"
      },
      "execution_count": 26,
      "outputs": [
        {
          "output_type": "stream",
          "name": "stdout",
          "text": [
            "6\n"
          ]
        }
      ]
    },
    {
      "cell_type": "code",
      "source": [
        "#WA function that takes a list of numbers and returns the maximum number\n",
        "def max_number(mx):\n",
        "  return max(mx)\n",
        "num = [3,4,5,6,7,8,9]\n",
        "print(max_number(num))"
      ],
      "metadata": {
        "colab": {
          "base_uri": "https://localhost:8080/"
        },
        "id": "Imsj_wDvNLAB",
        "outputId": "46ba44ef-3b7b-44c3-d64a-8974d53e672f"
      },
      "execution_count": 27,
      "outputs": [
        {
          "output_type": "stream",
          "name": "stdout",
          "text": [
            "9\n"
          ]
        }
      ]
    },
    {
      "cell_type": "code",
      "source": [
        "#WA function to check if number is prime\n",
        "def check_num(num):\n",
        "  if num <= 1:\n",
        "    return False\n",
        "\n",
        "  for i in range(2, num):\n",
        "    if num % i == 0:\n",
        "      return False\n",
        "  return True\n",
        "\n",
        "print(check_num(11))\n",
        "print(check_num(12))"
      ],
      "metadata": {
        "colab": {
          "base_uri": "https://localhost:8080/"
        },
        "id": "l7F0cG9vNvse",
        "outputId": "fbd9d5b5-20db-44f2-d827-21eca9cf3630"
      },
      "execution_count": 29,
      "outputs": [
        {
          "output_type": "stream",
          "name": "stdout",
          "text": [
            "True\n",
            "False\n"
          ]
        }
      ]
    }
  ]
}