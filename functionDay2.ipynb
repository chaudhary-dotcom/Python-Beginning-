{
  "nbformat": 4,
  "nbformat_minor": 0,
  "metadata": {
    "colab": {
      "provenance": [],
      "authorship_tag": "ABX9TyO0oPjYQjWYNVIXaK4PQWEG",
      "include_colab_link": true
    },
    "kernelspec": {
      "name": "python3",
      "display_name": "Python 3"
    },
    "language_info": {
      "name": "python"
    }
  },
  "cells": [
    {
      "cell_type": "markdown",
      "metadata": {
        "id": "view-in-github",
        "colab_type": "text"
      },
      "source": [
        "<a href=\"https://colab.research.google.com/github/chaudhary-dotcom/Python-Beginning-/blob/main/functionDay2.ipynb\" target=\"_parent\"><img src=\"https://colab.research.google.com/assets/colab-badge.svg\" alt=\"Open In Colab\"/></a>"
      ]
    },
    {
      "cell_type": "code",
      "execution_count": 3,
      "metadata": {
        "colab": {
          "base_uri": "https://localhost:8080/"
        },
        "id": "noASH8QyEqfv",
        "outputId": "8967866b-b660-4856-e779-f32500f2919c"
      },
      "outputs": [
        {
          "output_type": "stream",
          "name": "stdout",
          "text": [
            "Enter USD: 1\n",
            "83.0\n"
          ]
        }
      ],
      "source": [
        "#convert usd to inr\n",
        "currency = float(input('Enter USD: '))\n",
        "def usd_to_inr(currency):\n",
        "  return currency * 83\n",
        "\n",
        "print(usd_to_inr(currency))"
      ]
    },
    {
      "cell_type": "code",
      "source": [
        "#WAF to find odd and even number\n",
        "n = int(input('Enter number: '))\n",
        "def odd_num(n):\n",
        "  if n%2 != 0:\n",
        "    print('Odd')\n",
        "\n",
        "  else:\n",
        "    print('Even')\n",
        "\n",
        "odd_num(n)\n",
        "\n"
      ],
      "metadata": {
        "colab": {
          "base_uri": "https://localhost:8080/"
        },
        "id": "KAGrT8mIGM4-",
        "outputId": "4db1f845-967d-4509-d7d5-f16a646ad9cd"
      },
      "execution_count": 25,
      "outputs": [
        {
          "output_type": "stream",
          "name": "stdout",
          "text": [
            "Enter number: 20\n",
            "Even\n"
          ]
        }
      ]
    },
    {
      "cell_type": "code",
      "source": [
        " #Recursion\n",
        " n = int(input('Enter number: '))\n",
        " def show(n):\n",
        "  if (n==0):\n",
        "    return\n",
        "  print(n)\n",
        "  show(n-1)\n",
        "  print('End')\n",
        "\n",
        "show(n)"
      ],
      "metadata": {
        "colab": {
          "base_uri": "https://localhost:8080/"
        },
        "id": "XAZEUl1HO_YX",
        "outputId": "1f8ce81e-6be2-405b-c24f-1d69c31de450"
      },
      "execution_count": 4,
      "outputs": [
        {
          "output_type": "stream",
          "name": "stdout",
          "text": [
            "Enter number: 5\n",
            "5\n",
            "4\n",
            "3\n",
            "2\n",
            "1\n",
            "End\n",
            "End\n",
            "End\n",
            "End\n",
            "End\n"
          ]
        }
      ]
    },
    {
      "cell_type": "code",
      "source": [
        "#Recursion: factorial\n",
        "def fact(n):\n",
        "  if(n == 1 or n == 0):\n",
        "    return 1\n",
        "  return fact(n-1) * n\n",
        "\n",
        "print(fact(4))"
      ],
      "metadata": {
        "colab": {
          "base_uri": "https://localhost:8080/"
        },
        "id": "8Ju_9Qe-7tSI",
        "outputId": "3f375ac5-9ea3-4714-f3e6-3dd2fdcb709d"
      },
      "execution_count": 5,
      "outputs": [
        {
          "output_type": "stream",
          "name": "stdout",
          "text": [
            "24\n"
          ]
        }
      ]
    },
    {
      "cell_type": "code",
      "source": [
        "#write a recursive function to calculate the sum of first n ntural numbers:\n",
        "def natural(n):\n",
        "  if n == 0:\n",
        "    return 0\n",
        "\n",
        "  return natural(n-1) + n\n",
        "print(natural(10))"
      ],
      "metadata": {
        "colab": {
          "base_uri": "https://localhost:8080/"
        },
        "id": "77fgHUC29ljt",
        "outputId": "800925fc-8549-4d4b-86bc-acdc3c9f6cfe"
      },
      "execution_count": 10,
      "outputs": [
        {
          "output_type": "stream",
          "name": "stdout",
          "text": [
            "55\n"
          ]
        }
      ]
    },
    {
      "cell_type": "code",
      "source": [
        "#write a recursive function to print all elements in a list\n",
        "def print_list(list, idx = 0):\n",
        "  if (idx == len(list)):\n",
        "    return\n",
        "  print(list[idx])\n",
        "  print_list(list, idx+1)\n",
        "\n",
        "fruits = ['apple', 'mango', 'banana', 'grapes', 'orange']\n",
        "\n",
        "print_list(fruits)\n"
      ],
      "metadata": {
        "colab": {
          "base_uri": "https://localhost:8080/"
        },
        "id": "oQXT3Ito_s_l",
        "outputId": "fe233f66-cbce-4055-d4f0-bb6654bb869f"
      },
      "execution_count": 14,
      "outputs": [
        {
          "output_type": "stream",
          "name": "stdout",
          "text": [
            "apple\n",
            "mango\n",
            "banana\n",
            "grapes\n",
            "orange\n"
          ]
        }
      ]
    },
    {
      "cell_type": "code",
      "source": [
        "#write a program to create a function that takes two arguments, name and age and print their value\n",
        "def func(name, age):\n",
        "  return name, age\n",
        "\n",
        "nam = 'shishir'\n",
        "ag = '25'\n",
        "\n",
        "print(func(nam, ag))"
      ],
      "metadata": {
        "colab": {
          "base_uri": "https://localhost:8080/"
        },
        "id": "4kOsp1p6Cnxi",
        "outputId": "74613870-4f5a-4b39-eebf-4df4a852c98f"
      },
      "execution_count": 19,
      "outputs": [
        {
          "output_type": "stream",
          "name": "stdout",
          "text": [
            "('shishir', '25')\n"
          ]
        }
      ]
    },
    {
      "cell_type": "code",
      "source": [
        "def func(name, age):\n",
        "  print(name, age)\n",
        "\n",
        "func('shishir', 25)"
      ],
      "metadata": {
        "colab": {
          "base_uri": "https://localhost:8080/"
        },
        "id": "uZBrvT7PD3C-",
        "outputId": "6cf77711-2b33-4577-f5c4-5f1b92d9e59f"
      },
      "execution_count": 20,
      "outputs": [
        {
          "output_type": "stream",
          "name": "stdout",
          "text": [
            "shishir 25\n"
          ]
        }
      ]
    },
    {
      "cell_type": "code",
      "source": [
        "#create a function with variable length of arguments\n",
        "def percentage(sub1, sub2, sub3):\n",
        "  avg = (sub1 + sub2 + sub3) / 3\n",
        "  print('average', avg)\n",
        "\n",
        "percentage(51, 65, 73)"
      ],
      "metadata": {
        "colab": {
          "base_uri": "https://localhost:8080/"
        },
        "id": "34HmY7smEFxE",
        "outputId": "51b5fda5-3d8a-4053-fa49-e6aef26cb046"
      },
      "execution_count": 23,
      "outputs": [
        {
          "output_type": "stream",
          "name": "stdout",
          "text": [
            "average 63.0\n"
          ]
        }
      ]
    },
    {
      "cell_type": "code",
      "source": [
        "#function with variable length arguments\n",
        "def percentage(*args):\n",
        "  sum = 0\n",
        "  for i in args:\n",
        "    sum = sum + i\n",
        "\n",
        "  avg = sum / len(args)\n",
        "  print('Average = ', avg)\n",
        "\n",
        "percentage(56,31,67,88,76, 90, 99)"
      ],
      "metadata": {
        "colab": {
          "base_uri": "https://localhost:8080/"
        },
        "id": "Zdss4Q5JFlB7",
        "outputId": "60397cb2-1961-4550-d20c-99f9a10ebc82"
      },
      "execution_count": 26,
      "outputs": [
        {
          "output_type": "stream",
          "name": "stdout",
          "text": [
            "Average =  72.42857142857143\n"
          ]
        }
      ]
    },
    {
      "cell_type": "code",
      "source": [
        "def percentage(*subjects):\n",
        "  sum = 0\n",
        "  for i in subjects:\n",
        "    sum = sum + i\n",
        "  avg = sum / len(subjects)\n",
        "  print('Average = ', avg)\n",
        "\n",
        "percentage(81, 55, 65, 78)"
      ],
      "metadata": {
        "colab": {
          "base_uri": "https://localhost:8080/"
        },
        "id": "mAc8-4n8Gl_h",
        "outputId": "824643cf-be97-4d4c-bf3b-b723404e9b61"
      },
      "execution_count": 27,
      "outputs": [
        {
          "output_type": "stream",
          "name": "stdout",
          "text": [
            "Average =  69.75\n"
          ]
        }
      ]
    },
    {
      "cell_type": "code",
      "source": [
        "#Arbitary keyword arguments (**kwargs)\n",
        "def percentage(**kwargs):\n",
        "  sum = 0\n",
        "  for sub in kwargs:\n",
        "    #get arguments name\n",
        "    sub_name = sub\n",
        "\n",
        "    #get arguments value\n",
        "    sub_marks = kwargs[sub]\n",
        "\n",
        "    print(sub_name, '=', sub_marks)\n",
        "\n",
        "#pass multiple keyword arguments\n",
        "percentage(math=56, science=61, english=54)\n"
      ],
      "metadata": {
        "colab": {
          "base_uri": "https://localhost:8080/"
        },
        "id": "UMHlBfYAHYpw",
        "outputId": "1e9d2be4-db0e-4de9-ca85-fc01a0f845fb"
      },
      "execution_count": 28,
      "outputs": [
        {
          "output_type": "stream",
          "name": "stdout",
          "text": [
            "math = 56\n",
            "science = 61\n",
            "english = 54\n"
          ]
        }
      ]
    }
  ]
}