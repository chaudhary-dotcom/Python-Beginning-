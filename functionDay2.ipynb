{
  "nbformat": 4,
  "nbformat_minor": 0,
  "metadata": {
    "colab": {
      "provenance": [],
      "authorship_tag": "ABX9TyM9aYCa5oFP3WApbryFNBrn",
      "include_colab_link": true
    },
    "kernelspec": {
      "name": "python3",
      "display_name": "Python 3"
    },
    "language_info": {
      "name": "python"
    }
  },
  "cells": [
    {
      "cell_type": "markdown",
      "metadata": {
        "id": "view-in-github",
        "colab_type": "text"
      },
      "source": [
        "<a href=\"https://colab.research.google.com/github/chaudhary-dotcom/Python-Beginning-/blob/main/functionDay2.ipynb\" target=\"_parent\"><img src=\"https://colab.research.google.com/assets/colab-badge.svg\" alt=\"Open In Colab\"/></a>"
      ]
    },
    {
      "cell_type": "code",
      "execution_count": 3,
      "metadata": {
        "colab": {
          "base_uri": "https://localhost:8080/"
        },
        "id": "noASH8QyEqfv",
        "outputId": "8967866b-b660-4856-e779-f32500f2919c"
      },
      "outputs": [
        {
          "output_type": "stream",
          "name": "stdout",
          "text": [
            "Enter USD: 1\n",
            "83.0\n"
          ]
        }
      ],
      "source": [
        "#convert usd to inr\n",
        "currency = float(input('Enter USD: '))\n",
        "def usd_to_inr(currency):\n",
        "  return currency * 83\n",
        "\n",
        "print(usd_to_inr(currency))"
      ]
    },
    {
      "cell_type": "code",
      "source": [
        "#WAF to find odd and even number\n",
        "n = int(input('Enter number: '))\n",
        "def odd_num(n):\n",
        "  if n%2 != 0:\n",
        "    print('Odd')\n",
        "\n",
        "  else:\n",
        "    print('Even')\n",
        "\n",
        "odd_num(n)\n",
        "\n"
      ],
      "metadata": {
        "colab": {
          "base_uri": "https://localhost:8080/"
        },
        "id": "KAGrT8mIGM4-",
        "outputId": "4db1f845-967d-4509-d7d5-f16a646ad9cd"
      },
      "execution_count": 25,
      "outputs": [
        {
          "output_type": "stream",
          "name": "stdout",
          "text": [
            "Enter number: 20\n",
            "Even\n"
          ]
        }
      ]
    },
    {
      "cell_type": "code",
      "source": [
        " #Recursion\n",
        " n = int(input('Enter number: '))\n",
        " def show(n):\n",
        "  if (n==0):\n",
        "    return\n",
        "  print(n)\n",
        "  show(n-1)\n",
        "\n",
        "show(n)"
      ],
      "metadata": {
        "colab": {
          "base_uri": "https://localhost:8080/"
        },
        "id": "XAZEUl1HO_YX",
        "outputId": "8981538f-d455-4e34-ef96-78299322f0eb"
      },
      "execution_count": 3,
      "outputs": [
        {
          "output_type": "stream",
          "name": "stdout",
          "text": [
            "Enter number: 7\n",
            "7\n",
            "6\n",
            "5\n",
            "4\n",
            "3\n",
            "2\n",
            "1\n"
          ]
        }
      ]
    }
  ]
}