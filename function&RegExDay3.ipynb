{
  "nbformat": 4,
  "nbformat_minor": 0,
  "metadata": {
    "colab": {
      "provenance": [],
      "authorship_tag": "ABX9TyMfj33P7vpuR+umxx7SxFyK",
      "include_colab_link": true
    },
    "kernelspec": {
      "name": "python3",
      "display_name": "Python 3"
    },
    "language_info": {
      "name": "python"
    }
  },
  "cells": [
    {
      "cell_type": "markdown",
      "metadata": {
        "id": "view-in-github",
        "colab_type": "text"
      },
      "source": [
        "<a href=\"https://colab.research.google.com/github/chaudhary-dotcom/Python-Beginning-/blob/main/function%26RegExDay3.ipynb\" target=\"_parent\"><img src=\"https://colab.research.google.com/assets/colab-badge.svg\" alt=\"Open In Colab\"/></a>"
      ]
    },
    {
      "cell_type": "code",
      "execution_count": 8,
      "metadata": {
        "colab": {
          "base_uri": "https://localhost:8080/"
        },
        "id": "taPmZPv-mdIa",
        "outputId": "fa76d207-fbb2-4c20-8596-ce2f2b1ebbaf"
      },
      "outputs": [
        {
          "output_type": "stream",
          "name": "stdout",
          "text": [
            "Enter a number: 1\n",
            "1 is not a prime number\n"
          ]
        }
      ],
      "source": [
        "#prime number checker\n",
        "\n",
        "def num_checker(n):\n",
        "  if n < 2:\n",
        "    return False\n",
        "  for i in range(2, int(n**0.5) + 1):\n",
        "    if n% i == 0:\n",
        "      return False\n",
        "  return True\n",
        "\n",
        "num = int(input('Enter a number: '))\n",
        "if num_checker(num):\n",
        "  print(f'{num} is a prime number')\n",
        "else:\n",
        "  print(f'{num} is not a prime number')\n",
        ""
      ]
    },
    {
      "cell_type": "code",
      "source": [
        "#Generate Fibonacci sequence\n",
        "def fibonacci(n):\n",
        "  #Generate the first n numbers of the fibonacci sequence\n",
        "  if n <= 0:\n",
        "    return []\n",
        "  elif n==1:\n",
        "    return [0]\n",
        "  elif n == 2:\n",
        "    return [0, 1]\n",
        "\n",
        "  fib_seq = [0, 1]\n",
        "  for i in range(2, n):\n",
        "    fib_seq.append(fib_seq[-1] + fib_seq[-2])\n",
        "\n",
        "  return fib_seq\n",
        "\n",
        "num = int(input('Enter the number of Fibonacci terms: '))\n",
        "print(fibonacci(num))"
      ],
      "metadata": {
        "colab": {
          "base_uri": "https://localhost:8080/"
        },
        "id": "rKUs-P8vtTtM",
        "outputId": "053cca1d-d87b-4ecd-f15f-3938503cd4de"
      },
      "execution_count": 26,
      "outputs": [
        {
          "output_type": "stream",
          "name": "stdout",
          "text": [
            "Enter the number of Fibonacci terms: 5\n",
            "[0, 1, 1, 2, 3]\n"
          ]
        }
      ]
    },
    {
      "cell_type": "code",
      "source": [
        "#reverse string using slicing\n",
        "def rev_str(s):\n",
        "  return s[::-1]\n",
        "\n",
        "text = input('Enter a string: ')\n",
        "print('Reversed string: ',rev_str(text))\n",
        "\n"
      ],
      "metadata": {
        "colab": {
          "base_uri": "https://localhost:8080/"
        },
        "id": "NbrPOeA8xeD6",
        "outputId": "8897e473-9a0d-4de8-8f44-18ec7b85ac84"
      },
      "execution_count": 30,
      "outputs": [
        {
          "output_type": "stream",
          "name": "stdout",
          "text": [
            "Enter a string: carman\n",
            "Reversed string:  namrac\n"
          ]
        }
      ]
    },
    {
      "cell_type": "code",
      "source": [
        "#reverse string using loop\n",
        "def rev_str(s):\n",
        "  reversed_str = ''\n",
        "  for char in s:\n",
        "    reversed_str = char + reversed_str\n",
        "  return reversed_str\n",
        "\n",
        "text = input('Enter string: ')\n",
        "print(rev_str(text))"
      ],
      "metadata": {
        "colab": {
          "base_uri": "https://localhost:8080/"
        },
        "id": "4Rwfa5znz0xP",
        "outputId": "e75369e2-f670-4c38-ad31-f9f947f4bc04"
      },
      "execution_count": 35,
      "outputs": [
        {
          "output_type": "stream",
          "name": "stdout",
          "text": [
            "Enter string: inside\n",
            "edisni\n"
          ]
        }
      ]
    },
    {
      "cell_type": "code",
      "source": [
        "#Using reversed() and join() method\n",
        "def reverse_string(s):\n",
        "  return ''.join(reversed(s))\n",
        "\n",
        "text = input('Enter string: ')\n",
        "print(reverse_string(text))"
      ],
      "metadata": {
        "colab": {
          "base_uri": "https://localhost:8080/"
        },
        "id": "NPDRQJe613U9",
        "outputId": "346c0fd2-be39-41d6-ad64-ad2a049bf99a"
      },
      "execution_count": 39,
      "outputs": [
        {
          "output_type": "stream",
          "name": "stdout",
          "text": [
            "Enter string: abcdefgh\n",
            "hgfedcba\n"
          ]
        }
      ]
    },
    {
      "cell_type": "code",
      "source": [
        "#Palindrome checker using slicing method\n",
        "def palin_check(s):\n",
        "  return s == s[::-1]\n",
        "\n",
        "text = input('Enter string: ')\n",
        "if palin_check(text):\n",
        "  print('It is palindrome')\n",
        "else:\n",
        "  print('It is not a palindrome')"
      ],
      "metadata": {
        "colab": {
          "base_uri": "https://localhost:8080/"
        },
        "id": "FN_hLmV23eAB",
        "outputId": "83706d16-c359-4f6a-f5f8-a700e063043a"
      },
      "execution_count": 41,
      "outputs": [
        {
          "output_type": "stream",
          "name": "stdout",
          "text": [
            "Enter string: 1221\n",
            "It is palindrome\n"
          ]
        }
      ]
    },
    {
      "cell_type": "code",
      "source": [
        "#palindrome using loop\n",
        "def is_palindrome(s):\n",
        "  #check if a string is a palindrome\n",
        "  left = 0\n",
        "  right = len(s) -1\n",
        "\n",
        "  while left < right:\n",
        "    if s[left] != s[right]:\n",
        "      return False\n",
        "\n",
        "    left += 1\n",
        "    right -=1\n",
        "\n",
        "  return True\n",
        "\n",
        "text = input('Enter string: ')\n",
        "if is_palindrome(text):\n",
        "  print('It is palindrome')\n",
        "\n",
        "else:\n",
        "  print('It is not palindrome')"
      ],
      "metadata": {
        "colab": {
          "base_uri": "https://localhost:8080/"
        },
        "id": "COd9i5Fb4k2i",
        "outputId": "231ab98c-1db0-40ba-b0eb-e40cc353e287"
      },
      "execution_count": 7,
      "outputs": [
        {
          "output_type": "stream",
          "name": "stdout",
          "text": [
            "Enter string: racecar\n",
            "It is palindrome\n"
          ]
        }
      ]
    },
    {
      "cell_type": "code",
      "source": [
        "#Ignoring case and removing spaces\n",
        "import re"
      ],
      "metadata": {
        "id": "B8rF9Sn4MS_o"
      },
      "execution_count": 12,
      "outputs": []
    },
    {
      "cell_type": "code",
      "source": [
        "\n",
        "def is_palindrome(s):\n",
        "  #check if a string is a palindrome (ignore spaces and cases)\n",
        "  s = re.sub(r'[^a=zA-z0-9]', '',s).lower() #Remove non-alphanueric characters and convert to lowercase\n",
        "  return s ==s[::-1]\n",
        "\n",
        "#test the function\n",
        "text = input('Enter string: ')\n",
        "if is_palindrome(text):\n",
        "  print('It is palindrome')\n",
        "else:\n",
        "  print('It is not palindrome')"
      ],
      "metadata": {
        "colab": {
          "base_uri": "https://localhost:8080/"
        },
        "id": "RxUE2GMKMaij",
        "outputId": "ee55c275-4255-4a2d-e0fd-e95caca0bc68"
      },
      "execution_count": 19,
      "outputs": [
        {
          "output_type": "stream",
          "name": "stdout",
          "text": [
            "Enter string: A man a plan a canal panama\n",
            "It is palindrome\n"
          ]
        }
      ]
    },
    {
      "cell_type": "markdown",
      "source": [
        "##RegEx Module\n"
      ],
      "metadata": {
        "id": "VXqjd2WERv0t"
      }
    },
    {
      "cell_type": "code",
      "source": [
        "import re"
      ],
      "metadata": {
        "id": "GuAKuBjSRqwF"
      },
      "execution_count": 20,
      "outputs": []
    },
    {
      "cell_type": "code",
      "source": [
        "txt = 'The rain in spain'\n",
        "x = re.search('^The.*spain$', txt)\n",
        "if x:\n",
        "  print('Yes! we have a match!')\n",
        "else:\n",
        "  print('No match')"
      ],
      "metadata": {
        "colab": {
          "base_uri": "https://localhost:8080/"
        },
        "id": "11VmIF_YR6VH",
        "outputId": "ce7bdabe-1975-4c60-e84f-b709d9143af9"
      },
      "execution_count": 24,
      "outputs": [
        {
          "output_type": "stream",
          "name": "stdout",
          "text": [
            "Yes! we have a match!\n"
          ]
        }
      ]
    },
    {
      "cell_type": "code",
      "source": [
        "#A set of characters findall[]\n",
        "x = re.findall('[a-m]', txt)\n",
        "print(x)"
      ],
      "metadata": {
        "colab": {
          "base_uri": "https://localhost:8080/"
        },
        "id": "6D1ZOe_5TzAH",
        "outputId": "2673c8fb-086a-4cae-fac2-dc69b25b2799"
      },
      "execution_count": 25,
      "outputs": [
        {
          "output_type": "stream",
          "name": "stdout",
          "text": [
            "['h', 'e', 'a', 'i', 'i', 'a', 'i']\n"
          ]
        }
      ]
    },
    {
      "cell_type": "code",
      "source": [
        "\n",
        "txt = 'That will be 59 dollars!'\n",
        "x = re.findall('\\d', txt)\n",
        "print(x)"
      ],
      "metadata": {
        "colab": {
          "base_uri": "https://localhost:8080/"
        },
        "id": "mKGv83wpUWkm",
        "outputId": "3fc37990-4950-481e-adad-1c41b6f083aa"
      },
      "execution_count": 26,
      "outputs": [
        {
          "output_type": "stream",
          "name": "stdout",
          "text": [
            "['5', '9']\n"
          ]
        }
      ]
    },
    {
      "cell_type": "code",
      "source": [
        "#any character (except newline character) .\n",
        "txt = 'ok hello planet'\n",
        "\n",
        "#search for a sequence that starts with 'he', followed by two (any) characters, and an 'o'\n",
        "x = re.findall('he..o', txt)\n",
        "print(x)"
      ],
      "metadata": {
        "colab": {
          "base_uri": "https://localhost:8080/"
        },
        "id": "OS0pfQM6UuX2",
        "outputId": "c319f89a-8252-44ad-eccc-13c7ae31ecad"
      },
      "execution_count": 32,
      "outputs": [
        {
          "output_type": "stream",
          "name": "stdout",
          "text": [
            "['hello']\n"
          ]
        }
      ]
    },
    {
      "cell_type": "code",
      "source": [
        "# ^ starts with\n",
        "x = re.findall('^hello', txt)\n",
        "if x:\n",
        "  print('Yes the string starts with hello')\n",
        "else:\n",
        "  print('No match')"
      ],
      "metadata": {
        "colab": {
          "base_uri": "https://localhost:8080/"
        },
        "id": "xChTT91wVvPr",
        "outputId": "cd052223-2502-4ff9-dcc9-8f12e4608e18"
      },
      "execution_count": 33,
      "outputs": [
        {
          "output_type": "stream",
          "name": "stdout",
          "text": [
            "No match\n"
          ]
        }
      ]
    },
    {
      "cell_type": "code",
      "source": [
        "# $ end with\n",
        "x = re.findall('planet$', txt)\n",
        "if x:\n",
        "  print('Yes the string ends with planet')\n",
        "else:\n",
        "  print('No match')"
      ],
      "metadata": {
        "colab": {
          "base_uri": "https://localhost:8080/"
        },
        "id": "C-iB9myxWRRt",
        "outputId": "ae545bf6-7e8a-4030-8b56-48a1541a4540"
      },
      "execution_count": 34,
      "outputs": [
        {
          "output_type": "stream",
          "name": "stdout",
          "text": [
            "Yes the string ends with planet\n"
          ]
        }
      ]
    },
    {
      "cell_type": "code",
      "source": [
        "#zero or more occurance *\n",
        "x = re.findall('pl.*t', txt)\n",
        "print(x)"
      ],
      "metadata": {
        "colab": {
          "base_uri": "https://localhost:8080/"
        },
        "id": "EqUfT2y1Wo-P",
        "outputId": "633cfcbc-ad61-4a9d-e636-2de91ae809a4"
      },
      "execution_count": 36,
      "outputs": [
        {
          "output_type": "stream",
          "name": "stdout",
          "text": [
            "['planet']\n"
          ]
        }
      ]
    },
    {
      "cell_type": "code",
      "source": [
        "#one or more occurance .+\n",
        "txt = 'occurance'\n",
        "x = re.findall('oc.+e', txt)\n",
        "print(x)"
      ],
      "metadata": {
        "colab": {
          "base_uri": "https://localhost:8080/"
        },
        "id": "WK68UWD8XFVW",
        "outputId": "d91cc2cf-2423-4937-8890-a987c9aea0ac"
      },
      "execution_count": 40,
      "outputs": [
        {
          "output_type": "stream",
          "name": "stdout",
          "text": [
            "['occurance']\n"
          ]
        }
      ]
    },
    {
      "cell_type": "code",
      "source": [
        "#zero or one occurance .?\n",
        "x = re.findall('oc.?e', txt)\n",
        "print(x)"
      ],
      "metadata": {
        "colab": {
          "base_uri": "https://localhost:8080/"
        },
        "id": "PjTCzXA_Xkv6",
        "outputId": "b3565223-a250-48a9-b03a-b0c6f8f4f324"
      },
      "execution_count": 43,
      "outputs": [
        {
          "output_type": "stream",
          "name": "stdout",
          "text": [
            "[]\n"
          ]
        }
      ]
    },
    {
      "cell_type": "code",
      "source": [
        "#exactly the specified number of occurance {}\n",
        "txt = 'hello planet'\n",
        "x = re.findall('he.{2}o', txt)\n",
        "print(x)"
      ],
      "metadata": {
        "colab": {
          "base_uri": "https://localhost:8080/"
        },
        "id": "HdV1z0u-YBFd",
        "outputId": "74ffdc4c-64c4-451a-9404-e391eeb19a61"
      },
      "execution_count": 45,
      "outputs": [
        {
          "output_type": "stream",
          "name": "stdout",
          "text": [
            "['hello']\n"
          ]
        }
      ]
    },
    {
      "cell_type": "code",
      "source": [
        "txt = 'the rain in spain falls mainly in the plain'\n",
        "\n",
        "#check if the string contains either 'falls' or 'stays'\n",
        "x = re.findall('falls|stays', txt)\n",
        "print(x)\n",
        "if x:\n",
        "  print('Yes! there is at least one match')\n",
        "else:\n",
        "  print('No match')"
      ],
      "metadata": {
        "colab": {
          "base_uri": "https://localhost:8080/"
        },
        "id": "F6P5JpWzYkiX",
        "outputId": "cb77d227-18de-4da9-fc76-9f424f03fb5d"
      },
      "execution_count": 49,
      "outputs": [
        {
          "output_type": "stream",
          "name": "stdout",
          "text": [
            "['falls']\n",
            "Yes! there is at least one match\n"
          ]
        }
      ]
    }
  ]
}