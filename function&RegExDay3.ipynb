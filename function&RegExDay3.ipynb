{
  "nbformat": 4,
  "nbformat_minor": 0,
  "metadata": {
    "colab": {
      "provenance": [],
      "authorship_tag": "ABX9TyMWPbgw2BH06Fv6ppgz3cH1",
      "include_colab_link": true
    },
    "kernelspec": {
      "name": "python3",
      "display_name": "Python 3"
    },
    "language_info": {
      "name": "python"
    }
  },
  "cells": [
    {
      "cell_type": "markdown",
      "metadata": {
        "id": "view-in-github",
        "colab_type": "text"
      },
      "source": [
        "<a href=\"https://colab.research.google.com/github/chaudhary-dotcom/Python-Beginning-/blob/main/function%26RegExDay3.ipynb\" target=\"_parent\"><img src=\"https://colab.research.google.com/assets/colab-badge.svg\" alt=\"Open In Colab\"/></a>"
      ]
    },
    {
      "cell_type": "code",
      "execution_count": 8,
      "metadata": {
        "colab": {
          "base_uri": "https://localhost:8080/"
        },
        "id": "taPmZPv-mdIa",
        "outputId": "fa76d207-fbb2-4c20-8596-ce2f2b1ebbaf"
      },
      "outputs": [
        {
          "output_type": "stream",
          "name": "stdout",
          "text": [
            "Enter a number: 1\n",
            "1 is not a prime number\n"
          ]
        }
      ],
      "source": [
        "#prime number checker\n",
        "\n",
        "def num_checker(n):\n",
        "  if n < 2:\n",
        "    return False\n",
        "  for i in range(2, int(n**0.5) + 1):\n",
        "    if n% i == 0:\n",
        "      return False\n",
        "  return True\n",
        "\n",
        "num = int(input('Enter a number: '))\n",
        "if num_checker(num):\n",
        "  print(f'{num} is a prime number')\n",
        "else:\n",
        "  print(f'{num} is not a prime number')\n",
        ""
      ]
    },
    {
      "cell_type": "code",
      "source": [
        "#Generate Fibonacci sequence\n",
        "def fibonacci(n):\n",
        "  #Generate the first n numbers of the fibonacci sequence\n",
        "  if n <= 0:\n",
        "    return []\n",
        "  elif n==1:\n",
        "    return [0]\n",
        "  elif n == 2:\n",
        "    return [0, 1]\n",
        "\n",
        "  fib_seq = [0, 1]\n",
        "  for i in range(2, n):\n",
        "    fib_seq.append(fib_seq[-1] + fib_seq[-2])\n",
        "\n",
        "  return fib_seq\n",
        "\n",
        "num = int(input('Enter the number of Fibonacci terms: '))\n",
        "print(fibonacci(num))"
      ],
      "metadata": {
        "colab": {
          "base_uri": "https://localhost:8080/"
        },
        "id": "rKUs-P8vtTtM",
        "outputId": "053cca1d-d87b-4ecd-f15f-3938503cd4de"
      },
      "execution_count": 26,
      "outputs": [
        {
          "output_type": "stream",
          "name": "stdout",
          "text": [
            "Enter the number of Fibonacci terms: 5\n",
            "[0, 1, 1, 2, 3]\n"
          ]
        }
      ]
    },
    {
      "cell_type": "code",
      "source": [
        "#reverse string using slicing\n",
        "def rev_str(s):\n",
        "  return s[::-1]\n",
        "\n",
        "text = input('Enter a string: ')\n",
        "print('Reversed string: ',rev_str(text))\n",
        "\n"
      ],
      "metadata": {
        "colab": {
          "base_uri": "https://localhost:8080/"
        },
        "id": "NbrPOeA8xeD6",
        "outputId": "8897e473-9a0d-4de8-8f44-18ec7b85ac84"
      },
      "execution_count": 30,
      "outputs": [
        {
          "output_type": "stream",
          "name": "stdout",
          "text": [
            "Enter a string: carman\n",
            "Reversed string:  namrac\n"
          ]
        }
      ]
    },
    {
      "cell_type": "code",
      "source": [
        "#reverse string using loop\n",
        "def rev_str(s):\n",
        "  reversed_str = ''\n",
        "  for char in s:\n",
        "    reversed_str = char + reversed_str\n",
        "  return reversed_str\n",
        "\n",
        "text = input('Enter string: ')\n",
        "print(rev_str(text))"
      ],
      "metadata": {
        "colab": {
          "base_uri": "https://localhost:8080/"
        },
        "id": "4Rwfa5znz0xP",
        "outputId": "e75369e2-f670-4c38-ad31-f9f947f4bc04"
      },
      "execution_count": 35,
      "outputs": [
        {
          "output_type": "stream",
          "name": "stdout",
          "text": [
            "Enter string: inside\n",
            "edisni\n"
          ]
        }
      ]
    },
    {
      "cell_type": "code",
      "source": [
        "#Using reversed() and join() method\n",
        "def reverse_string(s):\n",
        "  return ''.join(reversed(s))\n",
        "\n",
        "text = input('Enter string: ')\n",
        "print(reverse_string(text))"
      ],
      "metadata": {
        "colab": {
          "base_uri": "https://localhost:8080/"
        },
        "id": "NPDRQJe613U9",
        "outputId": "346c0fd2-be39-41d6-ad64-ad2a049bf99a"
      },
      "execution_count": 39,
      "outputs": [
        {
          "output_type": "stream",
          "name": "stdout",
          "text": [
            "Enter string: abcdefgh\n",
            "hgfedcba\n"
          ]
        }
      ]
    },
    {
      "cell_type": "code",
      "source": [
        "#Palindrome checker using slicing method\n",
        "def palin_check(s):\n",
        "  return s == s[::-1]\n",
        "\n",
        "text = input('Enter string: ')\n",
        "if palin_check(text):\n",
        "  print('It is palindrome')\n",
        "else:\n",
        "  print('It is not a palindrome')"
      ],
      "metadata": {
        "colab": {
          "base_uri": "https://localhost:8080/"
        },
        "id": "FN_hLmV23eAB",
        "outputId": "83706d16-c359-4f6a-f5f8-a700e063043a"
      },
      "execution_count": 41,
      "outputs": [
        {
          "output_type": "stream",
          "name": "stdout",
          "text": [
            "Enter string: 1221\n",
            "It is palindrome\n"
          ]
        }
      ]
    },
    {
      "cell_type": "code",
      "source": [
        "#palindrome using loop\n",
        "def is_palindrome(s):\n",
        "  #check if a string is a palindrome\n",
        "  left = 0\n",
        "  right = len(s) -1\n",
        "\n",
        "  while left < right:\n",
        "    if s[left] != s[right]:\n",
        "      return False\n",
        "\n",
        "    left += 1\n",
        "    right -=1\n",
        "\n",
        "  return True\n",
        "\n",
        "text = input('Enter string: ')\n",
        "if is_palindrome(text):\n",
        "  print('It is palindrome')\n",
        "\n",
        "else:\n",
        "  print('It is not palindrome')"
      ],
      "metadata": {
        "colab": {
          "base_uri": "https://localhost:8080/"
        },
        "id": "COd9i5Fb4k2i",
        "outputId": "231ab98c-1db0-40ba-b0eb-e40cc353e287"
      },
      "execution_count": 7,
      "outputs": [
        {
          "output_type": "stream",
          "name": "stdout",
          "text": [
            "Enter string: racecar\n",
            "It is palindrome\n"
          ]
        }
      ]
    },
    {
      "cell_type": "code",
      "source": [
        "#Ignoring case and removing spaces\n",
        "import re"
      ],
      "metadata": {
        "id": "B8rF9Sn4MS_o"
      },
      "execution_count": 12,
      "outputs": []
    },
    {
      "cell_type": "code",
      "source": [
        "\n",
        "def is_palindrome(s):\n",
        "  #check if a string is a palindrome (ignore spaces and cases)\n",
        "  s = re.sub(r'[^a=zA-z0-9]', '',s).lower() #Remove non-alphanueric characters and convert to lowercase\n",
        "  return s ==s[::-1]\n",
        "\n",
        "#test the function\n",
        "text = input('Enter string: ')\n",
        "if is_palindrome(text):\n",
        "  print('It is palindrome')\n",
        "else:\n",
        "  print('It is not palindrome')"
      ],
      "metadata": {
        "colab": {
          "base_uri": "https://localhost:8080/"
        },
        "id": "RxUE2GMKMaij",
        "outputId": "ee55c275-4255-4a2d-e0fd-e95caca0bc68"
      },
      "execution_count": 19,
      "outputs": [
        {
          "output_type": "stream",
          "name": "stdout",
          "text": [
            "Enter string: A man a plan a canal panama\n",
            "It is palindrome\n"
          ]
        }
      ]
    },
    {
      "cell_type": "markdown",
      "source": [
        "##RegEx Module\n"
      ],
      "metadata": {
        "id": "VXqjd2WERv0t"
      }
    },
    {
      "cell_type": "code",
      "source": [
        "import re"
      ],
      "metadata": {
        "id": "GuAKuBjSRqwF"
      },
      "execution_count": 20,
      "outputs": []
    },
    {
      "cell_type": "code",
      "source": [
        "txt = 'The rain in spain'\n",
        "x = re.search('^The.*spain$', txt)\n",
        "if x:\n",
        "  print('Yes! we have a match!')\n",
        "else:\n",
        "  print('No match')"
      ],
      "metadata": {
        "colab": {
          "base_uri": "https://localhost:8080/"
        },
        "id": "11VmIF_YR6VH",
        "outputId": "ce7bdabe-1975-4c60-e84f-b709d9143af9"
      },
      "execution_count": 24,
      "outputs": [
        {
          "output_type": "stream",
          "name": "stdout",
          "text": [
            "Yes! we have a match!\n"
          ]
        }
      ]
    },
    {
      "cell_type": "code",
      "source": [
        "#A set of characters findall[]\n",
        "x = re.findall('[a-m]', txt)\n",
        "print(x)"
      ],
      "metadata": {
        "colab": {
          "base_uri": "https://localhost:8080/"
        },
        "id": "6D1ZOe_5TzAH",
        "outputId": "2673c8fb-086a-4cae-fac2-dc69b25b2799"
      },
      "execution_count": 25,
      "outputs": [
        {
          "output_type": "stream",
          "name": "stdout",
          "text": [
            "['h', 'e', 'a', 'i', 'i', 'a', 'i']\n"
          ]
        }
      ]
    },
    {
      "cell_type": "code",
      "source": [
        "\n",
        "txt = 'That will be 59 dollars!'\n",
        "x = re.findall('\\d', txt)\n",
        "print(x)"
      ],
      "metadata": {
        "colab": {
          "base_uri": "https://localhost:8080/"
        },
        "id": "mKGv83wpUWkm",
        "outputId": "3fc37990-4950-481e-adad-1c41b6f083aa"
      },
      "execution_count": 26,
      "outputs": [
        {
          "output_type": "stream",
          "name": "stdout",
          "text": [
            "['5', '9']\n"
          ]
        }
      ]
    },
    {
      "cell_type": "code",
      "source": [
        "#any character (except newline character) .\n",
        "txt = 'ok hello planet'\n",
        "\n",
        "#search for a sequence that starts with 'he', followed by two (any) characters, and an 'o'\n",
        "x = re.findall('he..o', txt)\n",
        "print(x)"
      ],
      "metadata": {
        "colab": {
          "base_uri": "https://localhost:8080/"
        },
        "id": "OS0pfQM6UuX2",
        "outputId": "c319f89a-8252-44ad-eccc-13c7ae31ecad"
      },
      "execution_count": 32,
      "outputs": [
        {
          "output_type": "stream",
          "name": "stdout",
          "text": [
            "['hello']\n"
          ]
        }
      ]
    },
    {
      "cell_type": "code",
      "source": [
        "# ^ starts with\n",
        "x = re.findall('^hello', txt)\n",
        "if x:\n",
        "  print('Yes the string starts with hello')\n",
        "else:\n",
        "  print('No match')"
      ],
      "metadata": {
        "colab": {
          "base_uri": "https://localhost:8080/"
        },
        "id": "xChTT91wVvPr",
        "outputId": "cd052223-2502-4ff9-dcc9-8f12e4608e18"
      },
      "execution_count": 33,
      "outputs": [
        {
          "output_type": "stream",
          "name": "stdout",
          "text": [
            "No match\n"
          ]
        }
      ]
    },
    {
      "cell_type": "code",
      "source": [
        "# $ end with\n",
        "x = re.findall('planet$', txt)\n",
        "if x:\n",
        "  print('Yes the string ends with planet')\n",
        "else:\n",
        "  print('No match')"
      ],
      "metadata": {
        "colab": {
          "base_uri": "https://localhost:8080/"
        },
        "id": "C-iB9myxWRRt",
        "outputId": "ae545bf6-7e8a-4030-8b56-48a1541a4540"
      },
      "execution_count": 34,
      "outputs": [
        {
          "output_type": "stream",
          "name": "stdout",
          "text": [
            "Yes the string ends with planet\n"
          ]
        }
      ]
    },
    {
      "cell_type": "code",
      "source": [
        "#zero or more occurance *\n",
        "x = re.findall('pl.*t', txt)\n",
        "print(x)"
      ],
      "metadata": {
        "colab": {
          "base_uri": "https://localhost:8080/"
        },
        "id": "EqUfT2y1Wo-P",
        "outputId": "633cfcbc-ad61-4a9d-e636-2de91ae809a4"
      },
      "execution_count": 36,
      "outputs": [
        {
          "output_type": "stream",
          "name": "stdout",
          "text": [
            "['planet']\n"
          ]
        }
      ]
    },
    {
      "cell_type": "code",
      "source": [
        "#one or more occurance .+\n",
        "txt = 'occurance'\n",
        "x = re.findall('oc.+e', txt)\n",
        "print(x)"
      ],
      "metadata": {
        "colab": {
          "base_uri": "https://localhost:8080/"
        },
        "id": "WK68UWD8XFVW",
        "outputId": "d91cc2cf-2423-4937-8890-a987c9aea0ac"
      },
      "execution_count": 40,
      "outputs": [
        {
          "output_type": "stream",
          "name": "stdout",
          "text": [
            "['occurance']\n"
          ]
        }
      ]
    },
    {
      "cell_type": "code",
      "source": [
        "#zero or one occurance .?\n",
        "x = re.findall('oc.?e', txt)\n",
        "print(x)"
      ],
      "metadata": {
        "colab": {
          "base_uri": "https://localhost:8080/"
        },
        "id": "PjTCzXA_Xkv6",
        "outputId": "b3565223-a250-48a9-b03a-b0c6f8f4f324"
      },
      "execution_count": 43,
      "outputs": [
        {
          "output_type": "stream",
          "name": "stdout",
          "text": [
            "[]\n"
          ]
        }
      ]
    },
    {
      "cell_type": "code",
      "source": [
        "#exactly the specified number of occurance {}\n",
        "txt = 'hello planet'\n",
        "x = re.findall('he.{2}o', txt)\n",
        "print(x)"
      ],
      "metadata": {
        "colab": {
          "base_uri": "https://localhost:8080/"
        },
        "id": "HdV1z0u-YBFd",
        "outputId": "74ffdc4c-64c4-451a-9404-e391eeb19a61"
      },
      "execution_count": 45,
      "outputs": [
        {
          "output_type": "stream",
          "name": "stdout",
          "text": [
            "['hello']\n"
          ]
        }
      ]
    },
    {
      "cell_type": "code",
      "source": [
        "txt = 'the rain in spain falls mainly in the plain'\n",
        "\n",
        "#check if the string contains either 'falls' or 'stays'\n",
        "x = re.findall('falls|stays', txt)\n",
        "print(x)\n",
        "if x:\n",
        "  print('Yes! there is at least one match')\n",
        "else:\n",
        "  print('No match')"
      ],
      "metadata": {
        "colab": {
          "base_uri": "https://localhost:8080/"
        },
        "id": "F6P5JpWzYkiX",
        "outputId": "cb77d227-18de-4da9-fc76-9f424f03fb5d"
      },
      "execution_count": 49,
      "outputs": [
        {
          "output_type": "stream",
          "name": "stdout",
          "text": [
            "['falls']\n",
            "Yes! there is at least one match\n"
          ]
        }
      ]
    },
    {
      "cell_type": "code",
      "source": [
        "#find maximum number in a list\n",
        "def find_max(lst):\n",
        "  #find the maximum number in the list using python built in function max()\n",
        "  return max(lst)\n",
        "numbers = [10,24,98, 74, 65]\n",
        "print(find_max(numbers))\n"
      ],
      "metadata": {
        "colab": {
          "base_uri": "https://localhost:8080/"
        },
        "id": "mQEt1jiEZ6k4",
        "outputId": "3d3672d0-e421-4447-addd-0df2f9216dfe"
      },
      "execution_count": 50,
      "outputs": [
        {
          "output_type": "stream",
          "name": "stdout",
          "text": [
            "98\n"
          ]
        }
      ]
    },
    {
      "cell_type": "code",
      "source": [
        "def find_max(lst):\n",
        "  if not lst:\n",
        "    return None\n",
        "\n",
        "  max_num = lst[0]\n",
        "  for num in lst:\n",
        "    if num > max_num:\n",
        "      max_num = num\n",
        "  return max_num\n",
        "\n",
        "numbers = [10,25,98,76,47,32]\n",
        "print('Maximum number: ', find_max(numbers))"
      ],
      "metadata": {
        "colab": {
          "base_uri": "https://localhost:8080/"
        },
        "id": "dY8DA_GMcLD4",
        "outputId": "443620ea-af07-4c34-8899-dbfe3059ae50"
      },
      "execution_count": 51,
      "outputs": [
        {
          "output_type": "stream",
          "name": "stdout",
          "text": [
            "Maximum number:  98\n"
          ]
        }
      ]
    },
    {
      "cell_type": "code",
      "source": [
        "#using sorted() method\n",
        "def find_max(lst):\n",
        "  return sorted(lst)[-1]\n",
        "\n",
        "numbers = [10,25,98,99,76,47]\n",
        "print('Maximum numbers: ', find_max(numbers))"
      ],
      "metadata": {
        "colab": {
          "base_uri": "https://localhost:8080/"
        },
        "id": "Odle_dX7dK74",
        "outputId": "2fb7547d-63bc-4289-c1fb-00d1bca46ccf"
      },
      "execution_count": 52,
      "outputs": [
        {
          "output_type": "stream",
          "name": "stdout",
          "text": [
            "Maximum numbers:  99\n"
          ]
        }
      ]
    },
    {
      "cell_type": "code",
      "source": [
        "#Count vowels in string\n",
        "def count_vowels(s):\n",
        "  vowels = 'aeiouAEIOU'\n",
        "  count = 0\n",
        "\n",
        "  for char in s:\n",
        "    if char in vowels:\n",
        "      count += 1\n",
        "\n",
        "  return count\n",
        "\n",
        "text = input('Enter string: ')\n",
        "print('Number of vowels: ', count_vowels(text))"
      ],
      "metadata": {
        "colab": {
          "base_uri": "https://localhost:8080/"
        },
        "id": "jMsVreNbduTq",
        "outputId": "eda96671-d165-480c-93a0-b4a9d5febfe0"
      },
      "execution_count": 54,
      "outputs": [
        {
          "output_type": "stream",
          "name": "stdout",
          "text": [
            "Enter string: cherry cherry ladies\n",
            "Number of vowels:  5\n"
          ]
        }
      ]
    },
    {
      "cell_type": "code",
      "source": [
        "#Using list comprehension\n",
        "def count_vowels(s):\n",
        "  #count vowels using list comprehension\n",
        "  return sum(1 for char in s if char.lower() in 'aeiou')\n",
        "\n",
        "text = input('Enter string: ')\n",
        "print('Number of vowels: ', count_vowels(text))"
      ],
      "metadata": {
        "colab": {
          "base_uri": "https://localhost:8080/"
        },
        "id": "StYYU06Mil2I",
        "outputId": "c1a4796e-61e4-4862-c897-ffbfd839d2f3"
      },
      "execution_count": 55,
      "outputs": [
        {
          "output_type": "stream",
          "name": "stdout",
          "text": [
            "Enter string: ok to the skyies\n",
            "Number of vowels:  5\n"
          ]
        }
      ]
    },
    {
      "cell_type": "code",
      "source": [
        "#using regular expression (re Module)\n",
        "import re\n",
        "\n",
        "def count_vowels(s):\n",
        "  #count vowels using regular expression\n",
        "  return len(re.findall(r'[aeiouAEIOU]', s))\n",
        "\n",
        "text = input('Enter a string: ')\n",
        "print('Number of vowels: ', count_vowels(text))"
      ],
      "metadata": {
        "colab": {
          "base_uri": "https://localhost:8080/"
        },
        "id": "Z-TwXZCujzQP",
        "outputId": "5443615d-399c-4e0e-800c-0dd2bf17b7e2"
      },
      "execution_count": 56,
      "outputs": [
        {
          "output_type": "stream",
          "name": "stdout",
          "text": [
            "Enter a string: yah yah you are my buddy\n",
            "Number of vowels:  7\n"
          ]
        }
      ]
    },
    {
      "cell_type": "code",
      "source": [
        "#using sorted() method\n",
        "def merge_sorted_list(lst1, lst2):\n",
        "  #merge two sorted lists using sorted()\n",
        "  return sorted(lst1 + lst2)\n",
        "\n",
        "list1 = [1,3,5,7]\n",
        "list2 = [2,4,6,8]\n",
        "print('Merged sorted list:', merge_sorted_list(list1, list2))"
      ],
      "metadata": {
        "colab": {
          "base_uri": "https://localhost:8080/"
        },
        "id": "uV4ii_gbk81J",
        "outputId": "1986d9a9-2f17-4dff-d1fa-86a4c198c85d"
      },
      "execution_count": 57,
      "outputs": [
        {
          "output_type": "stream",
          "name": "stdout",
          "text": [
            "Merged sorted list: [1, 2, 3, 4, 5, 6, 7, 8]\n"
          ]
        }
      ]
    },
    {
      "cell_type": "code",
      "source": [
        "#using two pointers (efficient for large lists)\n",
        "def merge_sorted_lists(lst1, lst2):\n",
        "  #merge two sorted lists using the two pointer approach\n",
        "  merged_list = []\n",
        "  i, j = 0, 0\n",
        "\n",
        "  while i <len(lst1) and j < len(lst2):\n",
        "    if lst1[i] < lst2[j]:\n",
        "      merged_list.append(lst1[i])\n",
        "      i+=1\n",
        "\n",
        "    else:\n",
        "      merged_list.append(lst2[j])\n",
        "      j+=1\n",
        "\n",
        "  merged_list.extend(lst1[i:])\n",
        "  merged_list.extend(lst2[j:])\n",
        "\n",
        "  return merged_list\n",
        "list1 = [1,3,5,7]\n",
        "list2 = [2,4,6,8]\n",
        "print('Merged sorted list:', merge_sorted_lists(list1, list2))"
      ],
      "metadata": {
        "colab": {
          "base_uri": "https://localhost:8080/"
        },
        "id": "B17V-K8Amowd",
        "outputId": "3e051270-8ba1-442e-e1a5-a17544e49347"
      },
      "execution_count": 68,
      "outputs": [
        {
          "output_type": "stream",
          "name": "stdout",
          "text": [
            "Merged sorted list: [1, 2, 3, 4, 5, 6, 7, 8]\n"
          ]
        }
      ]
    },
    {
      "cell_type": "code",
      "source": [
        "def merge_sorted_lists(lst1, lst2):\n",
        "    \"\"\"Merge two sorted lists using the two-pointer approach.\"\"\"\n",
        "    merged_list = []\n",
        "    i, j = 0, 1  # Pointers for both lists\n",
        "\n",
        "    while i < len(lst1) and j < len(lst2):\n",
        "        if lst1[i] < lst2[j]:\n",
        "            merged_list.append(lst1[i])\n",
        "            i += 1\n",
        "        else:\n",
        "            merged_list.append(lst2[j])\n",
        "            j += 1\n",
        "\n",
        "    # Add any remaining elements\n",
        "    merged_list.extend(lst1[i:])\n",
        "    merged_list.extend(lst2[j:])\n",
        "\n",
        "    return merged_list\n",
        "\n",
        "# Test the function\n",
        "list1 = [1, 3, 5, 7]\n",
        "list2 = [2, 4, 6, 8]\n",
        "print(\"Merged sorted list:\", merge_sorted_lists(list1, list2))\n"
      ],
      "metadata": {
        "colab": {
          "base_uri": "https://localhost:8080/"
        },
        "id": "lVLz_QGYoK2E",
        "outputId": "f08ef0b4-4b46-4794-d3b8-fd24088d14d6"
      },
      "execution_count": 67,
      "outputs": [
        {
          "output_type": "stream",
          "name": "stdout",
          "text": [
            "Merged sorted list: [1, 3, 4, 5, 6, 7, 8]\n"
          ]
        }
      ]
    },
    {
      "cell_type": "code",
      "source": [
        "#Using heapq.merge() method\n",
        "import heapq\n",
        "\n",
        "def merge_sorted_lists(lst1, lst2):\n",
        "  #merge two sorted list using heapq.merge method\n",
        "  return list(heapq.merge(lst1, lst2))\n",
        "\n",
        "list1 = [1,3,5,7]\n",
        "list2 = [2,4,6,8]\n",
        "print('Mearged two sorted list: ', merge_sorted_lists(list1, list2))"
      ],
      "metadata": {
        "colab": {
          "base_uri": "https://localhost:8080/"
        },
        "id": "eHE7rQ3wqmac",
        "outputId": "b778cd6c-381e-450e-f641-2b0876c027c6"
      },
      "execution_count": 71,
      "outputs": [
        {
          "output_type": "stream",
          "name": "stdout",
          "text": [
            "Mearged two sorted list:  [1, 2, 3, 4, 5, 6, 7, 8]\n"
          ]
        }
      ]
    },
    {
      "cell_type": "code",
      "source": [
        "#find the second largest number\n",
        "def second_largest(lst):\n",
        "  if len(lst) < 2:\n",
        "    return None #not enough elements\n",
        "\n",
        "  return sorted(set(lst))[-2] #sort, remove duplicates and pick the second last element\n",
        "\n",
        "numbers = [10,20,30,99,97, 99,81]\n",
        "print('Second largest number: ', second_largest(numbers))"
      ],
      "metadata": {
        "colab": {
          "base_uri": "https://localhost:8080/"
        },
        "id": "vaWKXTG9rh-O",
        "outputId": "3d548b6c-29d8-4fb3-cfa3-f6568721967e"
      },
      "execution_count": 76,
      "outputs": [
        {
          "output_type": "stream",
          "name": "stdout",
          "text": [
            "Second largest number:  97\n"
          ]
        }
      ]
    }
  ]
}