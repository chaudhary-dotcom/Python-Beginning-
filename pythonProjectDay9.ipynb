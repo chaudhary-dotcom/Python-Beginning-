{
  "nbformat": 4,
  "nbformat_minor": 0,
  "metadata": {
    "colab": {
      "provenance": [],
      "authorship_tag": "ABX9TyMUCg53Cff/CtXtbXrl0fU8",
      "include_colab_link": true
    },
    "kernelspec": {
      "name": "python3",
      "display_name": "Python 3"
    },
    "language_info": {
      "name": "python"
    }
  },
  "cells": [
    {
      "cell_type": "markdown",
      "metadata": {
        "id": "view-in-github",
        "colab_type": "text"
      },
      "source": [
        "<a href=\"https://colab.research.google.com/github/chaudhary-dotcom/Python-Beginning-/blob/main/pythonProjectDay9.ipynb\" target=\"_parent\"><img src=\"https://colab.research.google.com/assets/colab-badge.svg\" alt=\"Open In Colab\"/></a>"
      ]
    },
    {
      "cell_type": "markdown",
      "source": [
        "##Dice Roller"
      ],
      "metadata": {
        "id": "ABRQ-xekBguX"
      }
    },
    {
      "cell_type": "code",
      "execution_count": 1,
      "metadata": {
        "id": "wW7gEX6CAfVu"
      },
      "outputs": [],
      "source": [
        "import random"
      ]
    },
    {
      "cell_type": "code",
      "source": [
        "def roll_dice():\n",
        "  return random.randint(1,6)\n",
        "\n",
        "while True:\n",
        "  input('Press Enter to roll the dice...')\n",
        "  dice_result = roll_dice()\n",
        "  print(f'You rolled a {dice_result}!')\n",
        "\n",
        "  play_again = input('Roll again ? (yes/no): ').strip().lower()\n",
        "  if play_again != 'yes':\n",
        "    print('Thanks for playing!')\n",
        "    break"
      ],
      "metadata": {
        "colab": {
          "base_uri": "https://localhost:8080/"
        },
        "id": "VbK6MI-MBmE8",
        "outputId": "da3aa812-9f0e-444d-b7ed-8a037ad0ce02"
      },
      "execution_count": 8,
      "outputs": [
        {
          "output_type": "stream",
          "name": "stdout",
          "text": [
            "Press Enter to roll the dice...\n",
            "You rolled a 4!\n",
            "Roll again ? (yes/no): YES\n",
            "Press Enter to roll the dice...6\n",
            "You rolled a 1!\n",
            "Roll again ? (yes/no): N\n",
            "Thanks for playing!\n",
            "Press Enter to roll the dice...t\n",
            "You rolled a 6!\n",
            "Roll again ? (yes/no): n\n",
            "Thanks for playing!\n"
          ]
        }
      ]
    }
  ]
}