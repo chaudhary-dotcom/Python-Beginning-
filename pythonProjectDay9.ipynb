{
  "nbformat": 4,
  "nbformat_minor": 0,
  "metadata": {
    "colab": {
      "provenance": [],
      "authorship_tag": "ABX9TyPkJkBf4kg1khTBa5M3LpGA",
      "include_colab_link": true
    },
    "kernelspec": {
      "name": "python3",
      "display_name": "Python 3"
    },
    "language_info": {
      "name": "python"
    }
  },
  "cells": [
    {
      "cell_type": "markdown",
      "metadata": {
        "id": "view-in-github",
        "colab_type": "text"
      },
      "source": [
        "<a href=\"https://colab.research.google.com/github/chaudhary-dotcom/Python-Beginning-/blob/main/pythonProjectDay9.ipynb\" target=\"_parent\"><img src=\"https://colab.research.google.com/assets/colab-badge.svg\" alt=\"Open In Colab\"/></a>"
      ]
    },
    {
      "cell_type": "markdown",
      "source": [
        "##Dice Roller"
      ],
      "metadata": {
        "id": "ABRQ-xekBguX"
      }
    },
    {
      "cell_type": "code",
      "execution_count": 1,
      "metadata": {
        "id": "wW7gEX6CAfVu"
      },
      "outputs": [],
      "source": [
        "import random"
      ]
    },
    {
      "cell_type": "code",
      "source": [
        "def roll_dice():\n",
        "  return random.randint(1,6)\n",
        "\n",
        "while True:\n",
        "  input('Press Enter to roll the dice...')\n",
        "  dice_result = roll_dice()\n",
        "  print(f'You rolled a {dice_result}!')\n",
        "\n",
        "  play_again = input('Roll again ? (yes/no): ').strip().lower()\n",
        "  if play_again != 'yes':\n",
        "    print('Thanks for playing!')\n",
        "    break"
      ],
      "metadata": {
        "colab": {
          "base_uri": "https://localhost:8080/"
        },
        "id": "VbK6MI-MBmE8",
        "outputId": "da3aa812-9f0e-444d-b7ed-8a037ad0ce02"
      },
      "execution_count": 8,
      "outputs": [
        {
          "output_type": "stream",
          "name": "stdout",
          "text": [
            "Press Enter to roll the dice...\n",
            "You rolled a 4!\n",
            "Roll again ? (yes/no): YES\n",
            "Press Enter to roll the dice...6\n",
            "You rolled a 1!\n",
            "Roll again ? (yes/no): N\n",
            "Thanks for playing!\n",
            "Press Enter to roll the dice...t\n",
            "You rolled a 6!\n",
            "Roll again ? (yes/no): n\n",
            "Thanks for playing!\n"
          ]
        }
      ]
    },
    {
      "cell_type": "markdown",
      "source": [
        "##Word Counter"
      ],
      "metadata": {
        "id": "tNCoGm-MFxZb"
      }
    },
    {
      "cell_type": "code",
      "source": [
        "def count_words(text):\n",
        "  words = text.strip().split()\n",
        "  return len(words)\n",
        "\n",
        "user_text = input('Enter a sentence or paragraph: ')\n",
        "word_count = count_words(user_text)\n",
        "\n",
        "print(f'Total words: {word_count}')"
      ],
      "metadata": {
        "colab": {
          "base_uri": "https://localhost:8080/"
        },
        "id": "yV1nlMQcF0_4",
        "outputId": "7bc0d290-499b-42f2-863f-8b7b35e61985"
      },
      "execution_count": 12,
      "outputs": [
        {
          "output_type": "stream",
          "name": "stdout",
          "text": [
            "Enter a sentence or paragraph:  Here is a simple Word Counter program in Python:  python Copy Edit def count_words(text):     words = text.strip().split()  # Remove extra spaces and split into words     return len(words)  # Get user input user_text = input(\"Enter a sentence or paragraph: \") word_count = count_words(user_text)  print(f\"Total words: {word_count}\") How it works: The count_words function: Uses strip() to remove leading/trailing spaces. Uses split() to break the text into words (splitting by spaces). Counts the number of words using len(words). The user enters a sentence or paragraph. The program calculates and prints the total word count.\n",
            "Total words: 91\n"
          ]
        }
      ]
    },
    {
      "cell_type": "code",
      "source": [],
      "metadata": {
        "id": "cO_I_gQbHG0q"
      },
      "execution_count": null,
      "outputs": []
    }
  ]
}