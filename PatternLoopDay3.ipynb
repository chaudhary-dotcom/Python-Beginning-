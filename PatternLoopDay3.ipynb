{
  "nbformat": 4,
  "nbformat_minor": 0,
  "metadata": {
    "colab": {
      "provenance": [],
      "authorship_tag": "ABX9TyNEfN5K7h0779hiynRUIjI4",
      "include_colab_link": true
    },
    "kernelspec": {
      "name": "python3",
      "display_name": "Python 3"
    },
    "language_info": {
      "name": "python"
    }
  },
  "cells": [
    {
      "cell_type": "markdown",
      "metadata": {
        "id": "view-in-github",
        "colab_type": "text"
      },
      "source": [
        "<a href=\"https://colab.research.google.com/github/chaudhary-dotcom/Python-Beginning-/blob/main/PatternLoopDay3.ipynb\" target=\"_parent\"><img src=\"https://colab.research.google.com/assets/colab-badge.svg\" alt=\"Open In Colab\"/></a>"
      ]
    },
    {
      "cell_type": "code",
      "execution_count": null,
      "metadata": {
        "colab": {
          "base_uri": "https://localhost:8080/"
        },
        "id": "aEBtXnK1dXNe",
        "outputId": "706af090-74d9-4e52-dd6b-1ceb7e0f5b56"
      },
      "outputs": [
        {
          "output_type": "stream",
          "name": "stdout",
          "text": [
            "\n",
            "1 \n",
            "2 2 \n",
            "3 3 3 \n",
            "4 4 4 4 \n",
            "5 5 5 5 5 \n"
          ]
        }
      ],
      "source": [
        "rows = 6\n",
        "# if you want user to enter a number, uncomment the below line\n",
        "# rows = int(input('Enter the number of rows'))\n",
        "# outer loop\n",
        "for i in range(rows):\n",
        "    # nested loop\n",
        "    for j in range(i):\n",
        "        # display number\n",
        "        print(i, end = ' ')\n",
        "    # new line after each row\n",
        "    print('')"
      ]
    },
    {
      "cell_type": "code",
      "source": [
        "for i in range(6):\n",
        "  print(i)"
      ],
      "metadata": {
        "colab": {
          "base_uri": "https://localhost:8080/"
        },
        "id": "vIGTBdGfxh6b",
        "outputId": "c22cfdcf-bf22-4c7f-e4c2-1f0b3cb49257"
      },
      "execution_count": null,
      "outputs": [
        {
          "output_type": "stream",
          "name": "stdout",
          "text": [
            "0\n",
            "1\n",
            "2\n",
            "3\n",
            "4\n",
            "5\n"
          ]
        }
      ]
    },
    {
      "cell_type": "code",
      "source": [
        "rows = 5\n",
        "for i in range(rows):\n",
        "  for j in range(i):\n",
        "    print(i, end='')\n",
        "  print('')"
      ],
      "metadata": {
        "colab": {
          "base_uri": "https://localhost:8080/"
        },
        "id": "1DpETvf3xkw0",
        "outputId": "e19eaebf-247f-425a-881c-a3d31d6c8dc4"
      },
      "execution_count": null,
      "outputs": [
        {
          "output_type": "stream",
          "name": "stdout",
          "text": [
            "\n",
            "1\n",
            "22\n",
            "333\n",
            "4444\n"
          ]
        }
      ]
    },
    {
      "cell_type": "code",
      "source": [
        "rows = 6\n",
        "for i in range(rows):\n",
        "  for j in range(i):\n",
        "    print(j, end='')\n",
        "  print(\" \")"
      ],
      "metadata": {
        "id": "sbuhO9vW8NW2",
        "colab": {
          "base_uri": "https://localhost:8080/"
        },
        "outputId": "009116da-6922-447e-fe9c-d0ab4b5f5b5b"
      },
      "execution_count": null,
      "outputs": [
        {
          "output_type": "stream",
          "name": "stdout",
          "text": [
            " \n",
            "0 \n",
            "01 \n",
            "012 \n",
            "0123 \n",
            "01234 \n"
          ]
        }
      ]
    },
    {
      "cell_type": "code",
      "source": [
        "rows = 5\n",
        "for i in range(1, rows+1):\n",
        "  for j in range(1, i+1):\n",
        "    print(j, end=' ')\n",
        "  print('')"
      ],
      "metadata": {
        "colab": {
          "base_uri": "https://localhost:8080/"
        },
        "id": "vyniQUt2vk2B",
        "outputId": "7d20d4ab-4396-4076-d409-47f65a5222ef"
      },
      "execution_count": null,
      "outputs": [
        {
          "output_type": "stream",
          "name": "stdout",
          "text": [
            "1 \n",
            "1 2 \n",
            "1 2 3 \n",
            "1 2 3 4 \n",
            "1 2 3 4 5 \n"
          ]
        }
      ]
    },
    {
      "cell_type": "code",
      "source": [
        "#inverted pyramid pattern\n",
        "rows = 5\n",
        "b = 0\n",
        "\n",
        "for i in range(rows, 0, -1):\n",
        "  b+=1\n",
        "  for j in range(1, i+1):\n",
        "    print(b, end=' ')\n",
        "  print(\"\\r\")"
      ],
      "metadata": {
        "colab": {
          "base_uri": "https://localhost:8080/"
        },
        "id": "KquU7UIux8N1",
        "outputId": "cc77c264-e2c4-4529-eb35-40091d63c246"
      },
      "execution_count": null,
      "outputs": [
        {
          "output_type": "stream",
          "name": "stdout",
          "text": [
            "1 1 1 1 1 \r\n",
            "2 2 2 2 \r\n",
            "3 3 3 \r\n",
            "4 4 \r\n",
            "5 \r\n"
          ]
        }
      ]
    },
    {
      "cell_type": "code",
      "source": [
        "#print same number\n",
        "rows = 5\n",
        "num=rows\n",
        "for i in range(rows, 0,-1):\n",
        "  for j in range(0,i):\n",
        "    print(num, end='')\n",
        "  print('')"
      ],
      "metadata": {
        "colab": {
          "base_uri": "https://localhost:8080/"
        },
        "id": "ziGSOEmb8X0s",
        "outputId": "86acd53d-008d-49ac-de31-2dd3397493c5"
      },
      "execution_count": null,
      "outputs": [
        {
          "output_type": "stream",
          "name": "stdout",
          "text": [
            "55555\n",
            "5555\n",
            "555\n",
            "55\n",
            "5\n"
          ]
        }
      ]
    },
    {
      "cell_type": "code",
      "source": [
        "rows = 6\n",
        "for i in range(rows,0,-1):\n",
        "  for j in range(i):\n",
        "    print(j, end=' ')\n",
        "  print('')"
      ],
      "metadata": {
        "colab": {
          "base_uri": "https://localhost:8080/"
        },
        "id": "sC20oA7n9fPR",
        "outputId": "510d8e22-37bc-476e-8d25-2c8647092124"
      },
      "execution_count": null,
      "outputs": [
        {
          "output_type": "stream",
          "name": "stdout",
          "text": [
            "0 1 2 3 4 5 \n",
            "0 1 2 3 4 \n",
            "0 1 2 3 \n",
            "0 1 2 \n",
            "0 1 \n",
            "0 \n"
          ]
        }
      ]
    },
    {
      "cell_type": "code",
      "source": [
        "rows = 5\n",
        "for i in range(rows, 0, -1):\n",
        "  for j in range(i,0, -1):\n",
        "    print(j, end='')\n",
        "  print(' ')"
      ],
      "metadata": {
        "colab": {
          "base_uri": "https://localhost:8080/"
        },
        "id": "3Zs9c_BHAbxi",
        "outputId": "8346a637-3ee2-4c73-e5fc-ca09a249bb1d"
      },
      "execution_count": null,
      "outputs": [
        {
          "output_type": "stream",
          "name": "stdout",
          "text": [
            "54321 \n",
            "4321 \n",
            "321 \n",
            "21 \n",
            "1 \n"
          ]
        }
      ]
    },
    {
      "cell_type": "code",
      "source": [
        "rows = 5\n",
        "i = 1\n",
        "while i <=rows:\n",
        "  j = 1\n",
        "  while j <= i:\n",
        "    print((i*2-1), end = ' ')\n",
        "    j = j+1\n",
        "  i = i+1\n",
        "  print('')"
      ],
      "metadata": {
        "colab": {
          "base_uri": "https://localhost:8080/"
        },
        "id": "xaHVORbfIZJ-",
        "outputId": "68c74361-3fb2-42e3-acb3-1718626bca2a"
      },
      "execution_count": null,
      "outputs": [
        {
          "output_type": "stream",
          "name": "stdout",
          "text": [
            "1 \n",
            "3 3 \n",
            "5 5 5 \n",
            "7 7 7 7 \n",
            "9 9 9 9 9 \n"
          ]
        }
      ]
    },
    {
      "cell_type": "code",
      "source": [
        "#reverse number pattern\n",
        "rows = 6\n",
        "for i in range(rows-1,0,-1):\n",
        "  for j in range(i):\n",
        "    print(i, end=' ')\n",
        "  print('')"
      ],
      "metadata": {
        "colab": {
          "base_uri": "https://localhost:8080/"
        },
        "id": "kXqAVhmHKR6u",
        "outputId": "8ea43ade-a2eb-4afb-bcba-1e7b81744bef"
      },
      "execution_count": null,
      "outputs": [
        {
          "output_type": "stream",
          "name": "stdout",
          "text": [
            "5 5 5 5 5 \n",
            "4 4 4 4 \n",
            "3 3 3 \n",
            "2 2 \n",
            "1 \n"
          ]
        }
      ]
    },
    {
      "cell_type": "code",
      "source": [
        "#reverse pyramid of number\n",
        "rows = 6\n",
        "for i in range(1,rows):\n",
        "  for j in range(i,0,-1):\n",
        "    print(j, end='')\n",
        "  print('')"
      ],
      "metadata": {
        "colab": {
          "base_uri": "https://localhost:8080/"
        },
        "id": "HQVocjtoLtuS",
        "outputId": "e7b385fe-b464-43ab-ee9d-e1d183c1516b"
      },
      "execution_count": null,
      "outputs": [
        {
          "output_type": "stream",
          "name": "stdout",
          "text": [
            "1\n",
            "21\n",
            "321\n",
            "4321\n",
            "54321\n"
          ]
        }
      ]
    },
    {
      "cell_type": "code",
      "source": [
        "#another reverse number pattern\n",
        "rows = 5\n",
        "for i in range(rows, 0, -1):\n",
        "  for j in range(i, 0, -1):\n",
        "    print(j, end='')\n",
        "  print('')"
      ],
      "metadata": {
        "colab": {
          "base_uri": "https://localhost:8080/"
        },
        "id": "-rf_iasuPjOt",
        "outputId": "84db9115-42b9-4d44-ede0-581c1c636556"
      },
      "execution_count": 1,
      "outputs": [
        {
          "output_type": "stream",
          "name": "stdout",
          "text": [
            "54321\n",
            "4321\n",
            "321\n",
            "21\n",
            "1\n"
          ]
        }
      ]
    },
    {
      "cell_type": "code",
      "source": [
        "rows = 5\n",
        "for i in range(0,rows+1):\n",
        "  for j in range(rows-i, 0, -1):\n",
        "    print(j, end='')\n",
        "  print('')\n"
      ],
      "metadata": {
        "colab": {
          "base_uri": "https://localhost:8080/"
        },
        "id": "Xsat_WcZQ2BE",
        "outputId": "05ebb7ad-a049-4ca5-815f-9ad5ab4fc824"
      },
      "execution_count": 2,
      "outputs": [
        {
          "output_type": "stream",
          "name": "stdout",
          "text": [
            "54321\n",
            "4321\n",
            "321\n",
            "21\n",
            "1\n",
            "\n"
          ]
        }
      ]
    },
    {
      "cell_type": "code",
      "source": [
        "#print reverse number from 10 to 1\n"
      ],
      "metadata": {
        "id": "j4lSnjak5SDD"
      },
      "execution_count": null,
      "outputs": []
    }
  ]
}