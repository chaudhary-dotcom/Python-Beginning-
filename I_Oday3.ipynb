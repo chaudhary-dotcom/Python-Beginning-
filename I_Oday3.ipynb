{
  "nbformat": 4,
  "nbformat_minor": 0,
  "metadata": {
    "colab": {
      "provenance": [],
      "authorship_tag": "ABX9TyM/7coGR4NGfGfju1LMLc9Y",
      "include_colab_link": true
    },
    "kernelspec": {
      "name": "python3",
      "display_name": "Python 3"
    },
    "language_info": {
      "name": "python"
    }
  },
  "cells": [
    {
      "cell_type": "markdown",
      "metadata": {
        "id": "view-in-github",
        "colab_type": "text"
      },
      "source": [
        "<a href=\"https://colab.research.google.com/github/chaudhary-dotcom/Python-Beginning-/blob/main/I_Oday3.ipynb\" target=\"_parent\"><img src=\"https://colab.research.google.com/assets/colab-badge.svg\" alt=\"Open In Colab\"/></a>"
      ]
    },
    {
      "cell_type": "code",
      "execution_count": 1,
      "metadata": {
        "id": "zXM7sIoPWcrF"
      },
      "outputs": [],
      "source": [
        "#creating file\n",
        "fp = open('demo.txt', 'w')\n",
        "fp.write('Hello world')\n",
        "fp.close()"
      ]
    },
    {
      "cell_type": "code",
      "source": [
        "fp = open('demo.txt', 'r')\n",
        "fp.read()\n",
        "fp.close()"
      ],
      "metadata": {
        "id": "PYho8EqgXFOE"
      },
      "execution_count": 5,
      "outputs": []
    },
    {
      "cell_type": "code",
      "source": [
        "fp = open('demo.txt', 'a')\n",
        "fp.write('\\n my name is')\n",
        "fp.write('\\nline1')\n",
        "fp.write('\\n line2')\n",
        "fp.close()"
      ],
      "metadata": {
        "id": "kAn7ygiAXUEg"
      },
      "execution_count": 14,
      "outputs": []
    },
    {
      "cell_type": "code",
      "source": [
        "fp = open('demo.txt', 'w')\n",
        "fp.write('ok')\n",
        "fp.close()"
      ],
      "metadata": {
        "id": "MyO8MdyXYBZ2"
      },
      "execution_count": 15,
      "outputs": []
    },
    {
      "cell_type": "code",
      "source": [
        "fp = open('demo.txt', 'r+')\n",
        "fp.read()\n",
        "fp.write('Germany')\n",
        "fp.close()"
      ],
      "metadata": {
        "id": "CfXtc5FeYPV9"
      },
      "execution_count": 21,
      "outputs": []
    },
    {
      "cell_type": "code",
      "source": [
        "fp=open('demo.txt', 'r+')\n",
        "fp.write('\\nline1')\n",
        "fp.write('\\n line2')\n",
        "fp.write('\\n line3')\n",
        "fp.write('\\n line4')\n",
        "print(fp.read())\n",
        "fp.close()"
      ],
      "metadata": {
        "colab": {
          "base_uri": "https://localhost:8080/"
        },
        "id": "xGiRAcO_YlVR",
        "outputId": "1801a3be-3b34-4de1-f29b-78b2050092ca"
      },
      "execution_count": 33,
      "outputs": [
        {
          "output_type": "stream",
          "name": "stdout",
          "text": [
            "ine1\n",
            " line2\n",
            "line1\n",
            " line2\n",
            " line3\n",
            "line1\n",
            " line2\n",
            " line3\n",
            " line4\n"
          ]
        }
      ]
    },
    {
      "cell_type": "code",
      "source": [
        "with open('demo.txt', 'r') as f:\n",
        "  print(f.read())\n"
      ],
      "metadata": {
        "colab": {
          "base_uri": "https://localhost:8080/"
        },
        "id": "DoUIr3d9ZyRL",
        "outputId": "64669958-36f0-4c29-d139-262456bf092a"
      },
      "execution_count": 37,
      "outputs": [
        {
          "output_type": "stream",
          "name": "stdout",
          "text": [
            "\n",
            "line1\n",
            " line2\n",
            " line3\n",
            " line4ine1\n",
            " line2\n",
            "line1\n",
            " line2\n",
            " line3\n",
            "line1\n",
            " line2\n",
            " line3\n",
            " line4\n"
          ]
        }
      ]
    },
    {
      "cell_type": "code",
      "source": [
        "with open('demo.txt', 'r') as f:\n",
        "  line = f.readline()\n",
        "  print(line)"
      ],
      "metadata": {
        "colab": {
          "base_uri": "https://localhost:8080/"
        },
        "id": "Z0xtYqNvacdG",
        "outputId": "118c4a00-1cfd-4354-925c-91d67408ff10"
      },
      "execution_count": 40,
      "outputs": [
        {
          "output_type": "stream",
          "name": "stdout",
          "text": [
            "\n",
            "\n"
          ]
        }
      ]
    }
  ]
}