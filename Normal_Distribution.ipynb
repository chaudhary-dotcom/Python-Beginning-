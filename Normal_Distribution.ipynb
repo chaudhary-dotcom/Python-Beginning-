{
  "nbformat": 4,
  "nbformat_minor": 0,
  "metadata": {
    "colab": {
      "provenance": [],
      "authorship_tag": "ABX9TyOhcMUM6W09jhIdKkW6kEh5",
      "include_colab_link": true
    },
    "kernelspec": {
      "name": "python3",
      "display_name": "Python 3"
    },
    "language_info": {
      "name": "python"
    }
  },
  "cells": [
    {
      "cell_type": "markdown",
      "metadata": {
        "id": "view-in-github",
        "colab_type": "text"
      },
      "source": [
        "<a href=\"https://colab.research.google.com/github/chaudhary-dotcom/Python-Beginning-/blob/main/Normal_Distribution.ipynb\" target=\"_parent\"><img src=\"https://colab.research.google.com/assets/colab-badge.svg\" alt=\"Open In Colab\"/></a>"
      ]
    },
    {
      "cell_type": "code",
      "execution_count": null,
      "metadata": {
        "id": "zWnBiKvt_2FL"
      },
      "outputs": [],
      "source": [
        "import numpy as np\n",
        "import pandas as pd\n",
        "import matplotlib.pyplot as plt\n",
        "from scipy.stats import norm\n",
        "import statistics as stats"
      ]
    },
    {
      "cell_type": "code",
      "source": [
        "x = np.linspace(10,20,10000)"
      ],
      "metadata": {
        "id": "TC8mTIh2BZi1"
      },
      "execution_count": null,
      "outputs": []
    },
    {
      "cell_type": "code",
      "source": [
        "x"
      ],
      "metadata": {
        "colab": {
          "base_uri": "https://localhost:8080/"
        },
        "id": "XU7CH---B1Yd",
        "outputId": "4f0989a4-1617-4e1f-b373-2f282aa8cd8a"
      },
      "execution_count": null,
      "outputs": [
        {
          "output_type": "execute_result",
          "data": {
            "text/plain": [
              "array([0.00000000e+00, 1.00010001e-03, 2.00020002e-03, ...,\n",
              "       9.99799980e+00, 9.99899990e+00, 1.00000000e+01])"
            ]
          },
          "metadata": {},
          "execution_count": 8
        }
      ]
    },
    {
      "cell_type": "code",
      "source": [
        "x1 = np.random.randn(1000)"
      ],
      "metadata": {
        "id": "_OSLfI82F_S3"
      },
      "execution_count": null,
      "outputs": []
    },
    {
      "cell_type": "code",
      "source": [
        "x1"
      ],
      "metadata": {
        "colab": {
          "base_uri": "https://localhost:8080/"
        },
        "id": "mwEP4wkSGTg6",
        "outputId": "7fcb2dee-1a12-4a01-fb91-f115218ad76a"
      },
      "execution_count": null,
      "outputs": [
        {
          "output_type": "execute_result",
          "data": {
            "text/plain": [
              "array([-6.81307975e-01,  1.40358509e+00, -8.33396077e-01,  2.01918340e+00,\n",
              "       -8.40578166e-01, -6.87710750e-01, -1.12869375e+00,  1.48462240e-01,\n",
              "        4.16590632e-01, -2.50607997e-02,  7.23603510e-01, -8.73371252e-02,\n",
              "       -1.07141996e+00,  1.43645432e-01, -1.47735586e+00, -8.40273567e-01,\n",
              "        2.48458717e-02, -8.15345264e-01, -9.77565288e-01,  3.28597745e-01,\n",
              "        2.00678075e+00, -1.35356574e+00, -1.15723117e-01,  3.84839953e-01,\n",
              "       -1.55439904e+00, -6.59148800e-01, -1.45011503e+00, -4.35407370e-01,\n",
              "       -1.75786212e-01,  7.75286601e-01, -1.93698425e-02,  7.54961656e-01,\n",
              "        4.29500967e-02, -2.83769356e-01, -7.48004112e-01,  5.83218723e-01,\n",
              "       -1.66792136e+00, -1.92870263e+00, -5.79092900e-01,  8.45226746e-01,\n",
              "       -1.05051084e+00, -2.51981168e-01,  1.17456863e+00,  6.32402901e-01,\n",
              "       -1.79145752e+00, -2.83963130e-01, -4.09368193e-01,  1.34249489e+00,\n",
              "        2.03865218e-01,  1.24546866e+00, -2.35404205e-01,  1.55579534e+00,\n",
              "        1.61115857e+00,  2.18347575e-02,  4.91630766e-01,  2.48516468e-01,\n",
              "       -9.31337315e-01,  3.54736860e-02,  9.75955717e-01,  4.76769420e-01,\n",
              "        1.28793091e+00, -9.49353683e-02, -1.00337159e+00,  1.59144683e+00,\n",
              "       -2.92119319e+00, -9.75238022e-01,  7.65291034e-01,  1.28250258e+00,\n",
              "       -2.42611490e-01,  1.31339457e-01, -2.68040894e+00,  1.51789897e+00,\n",
              "       -1.55579568e+00,  3.08378260e-01, -1.86901400e+00, -1.00354073e-01,\n",
              "       -6.26133842e-01,  1.52470499e-01,  8.93274665e-01,  1.00226196e+00,\n",
              "       -1.58194025e+00,  1.66614442e-01, -1.19314571e+00,  4.18468571e-01,\n",
              "        9.28797323e-01,  5.02355576e-01, -1.18140522e+00,  3.91381485e-01,\n",
              "        2.50256593e-01, -4.92422415e-01, -9.28068534e-01,  2.01759297e+00,\n",
              "        9.23082782e-01,  1.86370536e+00, -4.53319138e-02, -1.60001372e+00,\n",
              "        2.99117065e-01, -5.63714793e-01,  1.39128813e+00,  3.96428991e-01,\n",
              "       -5.45223211e-01,  3.49797695e-01,  3.77688864e-01,  4.39392166e-01,\n",
              "        1.89932283e+00,  1.09193097e+00,  4.47926054e-01, -4.51516530e-01,\n",
              "        1.09002549e-01, -1.98257768e-01, -7.05099061e-01, -1.15721196e+00,\n",
              "        1.28092480e+00,  1.93085994e-01,  4.98874759e-01, -2.56192304e+00,\n",
              "       -4.62637561e-01, -3.51316328e-01, -1.98590968e+00,  1.03159156e-01,\n",
              "       -1.15929110e+00, -2.75661053e-01,  1.02408627e+00, -3.64140835e-01,\n",
              "       -5.70698528e-01, -6.65011179e-01, -1.18700185e-01,  7.41964554e-01,\n",
              "        3.31238982e-01,  1.11370446e+00,  8.53479749e-01,  5.27908598e-01,\n",
              "        7.90049905e-01, -1.34397579e+00, -6.05514945e-01, -1.33483787e+00,\n",
              "        4.17269922e-01, -1.08450163e+00, -9.01988416e-01,  1.67041641e-01,\n",
              "       -3.32591761e-01,  1.95640662e-01, -1.10804450e+00,  7.38495433e-01,\n",
              "       -7.02180364e-03, -8.55488041e-01, -6.34178931e-02, -2.18572715e+00,\n",
              "        1.06753716e+00,  1.07997175e+00, -2.34063177e-01,  6.22654421e-01,\n",
              "       -1.56680618e+00,  7.95057252e-01, -5.88420162e-01,  1.17947091e+00,\n",
              "        2.82660763e+00, -3.90337981e-01, -7.48274082e-01, -3.49305415e-01,\n",
              "        9.49619279e-01,  1.66245541e+00, -2.07708406e+00,  1.46243992e-01,\n",
              "       -8.27848033e-02,  5.44689365e-01, -6.50330677e-01, -5.78657299e-01,\n",
              "       -3.84344269e-02,  6.15124808e-01,  1.47766896e+00, -3.16916109e-01,\n",
              "       -6.30970598e-01, -7.96008092e-01,  9.79312003e-01,  8.62961022e-01,\n",
              "       -3.78093822e-01, -1.73086057e+00,  2.14378414e-01, -4.08193411e-01,\n",
              "       -1.22896040e+00, -1.16396183e+00, -1.69883289e+00,  3.56372043e-01,\n",
              "       -7.15138326e-01,  1.18052876e-01,  1.25990205e-01,  2.11437551e+00,\n",
              "        7.55227524e-01, -2.60572675e-01,  1.12176452e-01, -8.69874632e-01,\n",
              "        9.38348761e-01,  1.59190581e+00,  4.21200225e-01, -1.29854843e+00,\n",
              "        2.93279101e-01, -6.77164770e-01, -1.03276345e+00,  9.61513433e-01,\n",
              "       -8.43615733e-01, -1.66691349e-02,  7.11486756e-01,  1.12772245e+00,\n",
              "        8.00539569e-01, -1.47243208e+00, -5.42548691e-01,  8.32960043e-01,\n",
              "        6.87973152e-01, -1.69158730e+00,  5.60979016e-01,  3.62722702e-01,\n",
              "       -5.80783055e-01,  1.22618386e+00,  6.63846286e-01, -4.46472317e-01,\n",
              "        7.45106941e-01,  8.06504152e-01, -1.63707488e+00, -8.75597955e-01,\n",
              "       -1.14684908e+00, -1.49129574e+00, -2.37031320e+00,  6.47970603e-01,\n",
              "        1.74494042e+00, -1.04692732e+00,  8.53893358e-01,  7.17055459e-01,\n",
              "       -6.85043690e-01,  7.05391739e-01, -2.53531518e-01, -1.42295704e+00,\n",
              "        1.94462570e+00,  1.05075440e-01,  6.52473688e-01, -3.32020845e-01,\n",
              "        2.39654026e-01,  2.65620656e+00, -6.47112204e-01,  1.08564645e-01,\n",
              "       -6.86831724e-01, -4.03129279e-01,  6.45551894e-01, -1.84632828e+00,\n",
              "       -8.31215767e-01, -8.40459487e-01, -5.29686664e-01, -7.00714743e-01,\n",
              "       -9.02409296e-01,  3.65195395e-01, -5.13092439e-01, -5.37400949e-01,\n",
              "       -1.73430614e-01,  6.38069620e-01,  7.72295435e-01, -1.07377972e-01,\n",
              "        5.32156029e-01, -1.56374852e+00,  1.43595077e+00, -1.54937167e+00,\n",
              "        5.14672441e-01,  1.15209302e+00, -1.34190791e+00,  1.15069608e-01,\n",
              "       -1.43936192e+00, -8.73966361e-01,  1.24050723e+00,  6.32406263e-01,\n",
              "        2.09983914e-01, -1.50346130e+00,  3.79471969e-01, -1.27487668e+00,\n",
              "        1.21045302e+00, -1.12777790e+00, -2.10901397e-01,  2.00385755e-01,\n",
              "       -9.66762854e-01, -1.02256959e-01,  3.79822225e-01, -1.74143176e+00,\n",
              "       -1.64620207e-01, -1.97844894e+00,  9.20490488e-01, -3.39759883e-01,\n",
              "       -6.32106763e-01,  7.80620943e-01,  5.63885531e-01,  5.51075355e-01,\n",
              "       -2.95552362e-01, -8.89865047e-03,  6.11783176e-01, -6.76159152e-01,\n",
              "        1.16253801e+00,  2.87393247e-01, -1.47519004e+00, -3.17042395e-02,\n",
              "       -2.55307453e-01,  7.22878473e-01, -6.92537242e-01,  6.22573682e-01,\n",
              "       -1.61817967e+00, -6.18520974e-01,  5.35645160e-01,  1.16653391e-01,\n",
              "       -5.95188313e-02,  1.57470670e+00, -1.58129368e+00, -1.32208631e-01,\n",
              "        1.37403013e+00,  1.26011711e+00,  1.92319594e+00, -9.56706813e-01,\n",
              "       -1.20874821e+00,  1.61431819e+00, -3.09781895e-02,  1.92114725e-01,\n",
              "        1.93836796e-01,  6.22132137e-01, -2.31504258e-02, -4.73369146e-01,\n",
              "       -3.97522987e-01, -3.00379136e-01,  1.69912836e+00, -4.10641099e-01,\n",
              "       -8.35474060e-01, -1.13139709e+00,  6.62911178e-01, -6.51858312e-01,\n",
              "        1.32615648e-02,  9.84136492e-01,  1.91250572e+00, -5.03901885e-01,\n",
              "        2.75063663e-01, -7.85947002e-01,  1.19786859e+00,  5.59038962e-01,\n",
              "       -7.21740410e-01, -5.11005616e-01, -2.02711623e-01, -6.90123400e-01,\n",
              "        1.24296827e+00,  1.46509888e+00,  3.57001017e-01, -1.65277531e+00,\n",
              "        1.49255870e+00,  2.21954304e+00,  2.59147959e-01, -6.35400348e-01,\n",
              "        1.41799819e+00, -1.24170819e+00, -2.47557844e+00,  1.50720823e+00,\n",
              "        3.80148266e-01,  2.38582387e-01,  1.10087269e+00,  1.47358210e-01,\n",
              "       -3.24439439e-01,  4.32866780e-01,  1.43072688e-01,  5.07822186e-01,\n",
              "       -1.96682581e+00,  3.24212071e-01,  1.17510316e-01,  1.40885731e+00,\n",
              "        2.82323957e-01,  9.19526512e-01, -8.03735004e-01,  2.54651198e-01,\n",
              "        6.00635351e-01, -4.56160140e-01,  4.77013403e-01,  1.13207464e+00,\n",
              "        4.41639743e-01,  8.61179180e-01, -2.22737903e-01, -4.02073359e-01,\n",
              "       -5.25734855e-01, -1.20303665e+00,  1.37566166e+00, -1.67395836e+00,\n",
              "       -1.46502110e+00,  1.14455697e-01, -1.35632479e-01, -5.89855625e-01,\n",
              "        9.67729686e-01,  1.17217583e+00, -2.36477157e+00,  3.39035952e-01,\n",
              "        3.46884320e-01,  1.43105083e+00,  5.39969845e-01,  1.25089982e+00,\n",
              "       -1.08731472e+00, -8.50137095e-03, -2.73157453e-01, -8.20622345e-02,\n",
              "        3.81536705e-01,  7.24706860e-01, -1.51641474e+00,  5.07353788e-02,\n",
              "       -6.68919000e-01,  8.77329190e-01, -3.07462424e-01, -6.36609102e-01,\n",
              "       -2.26201417e-01, -1.32570696e+00, -4.11876086e-01, -9.69639892e-01,\n",
              "        4.31356738e-01, -1.05856931e-01, -1.12610395e+00,  1.05947985e+00,\n",
              "       -1.60995887e+00, -1.29892729e+00, -4.20185034e-02,  5.26315287e-01,\n",
              "        7.64226774e-02, -4.92304122e-01,  1.56417578e-01,  4.77050692e-01,\n",
              "       -1.80928375e+00, -2.69794899e-01,  1.09313198e-01,  9.20730385e-02,\n",
              "        5.55731077e-01,  6.31860174e-01,  1.07873817e+00, -1.06642156e-01,\n",
              "       -4.12972428e-02, -3.18423594e-01,  9.24225380e-01,  6.75853298e-01,\n",
              "       -7.44907755e-01, -4.51816787e-01, -7.06979774e-01, -1.70824013e+00,\n",
              "        5.46509085e-01, -1.05794427e+00,  1.93517680e+00,  1.67341850e+00,\n",
              "       -2.62637110e-01,  2.57901263e+00, -3.18598206e-02, -7.18765593e-02,\n",
              "        4.65246636e-01,  6.80460717e-01, -8.07275349e-02, -1.18192607e-01,\n",
              "       -2.08608166e+00,  1.81262530e+00, -4.33052917e-01,  1.56466416e+00,\n",
              "        1.02080782e+00, -2.73064308e-01, -5.24712008e-01, -2.29189333e-03,\n",
              "       -6.05855856e-02,  4.42403726e-01, -6.97052551e-01, -9.78463361e-01,\n",
              "        1.94877364e+00, -2.11774689e+00, -9.26363775e-01, -5.35109082e-02,\n",
              "       -6.37872104e-01,  1.87826136e-01, -1.91145361e+00,  4.97714372e-01,\n",
              "       -1.07459230e+00,  1.29560033e-01,  4.95823865e-01, -1.13903284e+00,\n",
              "       -7.12817882e-01, -1.53134386e+00, -1.48955036e+00, -1.25721914e+00,\n",
              "        1.34015893e+00, -2.26600004e-01, -1.46438812e-01,  2.98774302e-01,\n",
              "        1.38373038e+00,  5.09208478e-01,  2.44698257e+00,  4.87242766e-01,\n",
              "        1.22936636e+00,  1.14630579e+00,  4.91325009e-01, -1.36841716e-01,\n",
              "       -1.69917682e+00, -7.55791772e-01, -1.37453375e+00,  1.29945239e+00,\n",
              "        4.50890378e-01, -1.05640792e+00, -7.82508832e-01,  8.71444251e-01,\n",
              "       -1.29471615e+00, -4.31924067e-01,  1.43709764e+00, -1.47519459e+00,\n",
              "        2.96610210e-02, -1.60881739e+00,  1.08459602e+00, -1.23249106e+00,\n",
              "        1.12823242e+00,  2.44077961e-01,  1.35260578e+00,  1.15257308e+00,\n",
              "        7.95907549e-01,  1.11295880e+00, -7.20081352e-01, -1.19244977e+00,\n",
              "       -1.37749967e+00,  1.37020020e+00,  1.91585348e-02,  4.42289981e-01,\n",
              "       -1.99889039e+00, -7.90735345e-01, -8.94213120e-02, -2.82467017e-01,\n",
              "       -1.50066780e+00, -9.51900170e-02, -1.06251529e+00, -1.54408899e-01,\n",
              "       -1.32450093e+00,  2.52475148e-01, -1.59290099e+00,  1.59359627e+00,\n",
              "        2.89074400e-01,  1.66490234e-01,  1.58694772e+00,  1.33306228e+00,\n",
              "        4.01491904e-01, -8.45684785e-01,  1.47046957e+00,  1.14367694e+00,\n",
              "       -1.09325956e+00, -1.14686222e+00,  2.01115506e-01, -3.57434039e-02,\n",
              "        1.95430081e+00,  8.35219082e-01,  2.01967832e+00,  1.68394456e+00,\n",
              "       -1.76488113e-01,  3.83586028e-01, -2.04953031e+00, -8.03067789e-01,\n",
              "       -1.11519117e+00,  1.03257169e+00,  1.48177101e+00, -2.17786334e-01,\n",
              "        2.23132153e+00,  7.46946011e-01,  5.56784482e-01,  1.46398585e+00,\n",
              "       -6.21293422e-01,  3.18774628e-01,  6.30590285e-01,  1.07976753e+00,\n",
              "        1.75528678e+00, -1.52871189e+00, -2.27312216e+00,  7.88624478e-02,\n",
              "       -3.78122625e-02, -1.46877968e+00, -1.13806610e+00, -3.27613437e+00,\n",
              "        1.00927604e+00,  1.20352665e+00,  1.13355792e+00,  2.28647584e-01,\n",
              "       -7.51102511e-02,  5.20485493e-01, -1.30757058e+00,  1.07748066e+00,\n",
              "        8.26473260e-01, -7.52159384e-01,  6.23064025e-01, -4.47528594e-01,\n",
              "        1.08066159e+00, -6.38816681e-01,  2.40394331e-01, -3.31467740e+00,\n",
              "        7.26881482e-01, -1.86560027e-01,  3.98172321e-01,  7.02768944e-01,\n",
              "       -1.92249774e+00,  1.56539526e-01, -2.82570544e-01, -7.96845025e-02,\n",
              "       -1.48668022e+00, -2.49694664e-01,  2.24289538e-02,  2.61809646e-02,\n",
              "       -7.07394581e-01,  6.34094431e-02,  3.12254944e-02, -4.98960634e-01,\n",
              "        2.10993683e+00, -2.47483006e-01,  1.33755079e+00,  6.53836678e-01,\n",
              "       -5.88425480e-01, -8.70458018e-01, -8.78963221e-01,  4.78465877e-01,\n",
              "        3.94811948e-01, -6.47335006e-02,  4.19458451e-01,  2.85942849e-01,\n",
              "        9.71545403e-01, -2.10127272e+00,  1.70241652e+00,  9.72571837e-01,\n",
              "        1.37070094e+00, -9.10321129e-01, -1.50387374e+00, -1.92862347e-01,\n",
              "        1.14775657e+00, -2.73961297e-01, -1.40761076e+00,  1.87019350e+00,\n",
              "        1.98823442e+00,  1.34384824e+00, -1.34581460e+00, -9.05570665e-01,\n",
              "        6.28230438e-01,  1.71768628e+00,  9.16375444e-01,  1.75067520e+00,\n",
              "        4.87413148e-01,  9.00663722e-01, -1.16156612e+00,  1.47306276e-01,\n",
              "       -6.01024595e-01, -7.30580339e-01,  7.88504812e-01, -7.06065854e-01,\n",
              "        2.12128370e-01, -6.51293385e-01,  2.27631834e-01,  2.07690753e-03,\n",
              "        1.59330840e-01, -7.14119508e-01,  4.23364133e-01,  2.60826662e+00,\n",
              "        1.67188098e-01, -4.98146279e-01,  4.75266000e-01, -8.22480319e-01,\n",
              "        9.12099168e-01,  8.20921529e-01,  4.88664884e-01,  9.63496223e-01,\n",
              "       -1.05432027e+00, -4.62622055e-01,  1.14406701e+00, -2.49910799e-01,\n",
              "       -1.71807930e+00,  1.73177220e+00, -1.36653782e+00, -6.63232708e-01,\n",
              "        5.84487837e-01,  3.16820004e-02,  7.31046312e-02, -1.65000107e-02,\n",
              "        1.25180389e+00, -2.14648273e-01,  2.11991248e-01,  6.15482044e-01,\n",
              "        2.94690268e-01, -4.30302812e-01,  2.54381320e+00, -1.21647907e+00,\n",
              "       -3.92903887e-01,  7.69316392e-01, -5.24771304e-01, -3.53307646e-01,\n",
              "        1.31499461e-01, -1.70707722e+00,  1.87492366e+00,  1.42913862e+00,\n",
              "        6.16030813e-01, -1.11911030e+00, -1.15300065e+00,  8.48581906e-01,\n",
              "        1.04370829e+00, -8.49651914e-01, -6.98234217e-01,  4.63813923e-01,\n",
              "       -4.94203803e-01, -3.03900279e-02, -1.14516504e+00,  1.66624674e-01,\n",
              "       -1.46831777e+00, -1.06530156e+00,  8.05728631e-01,  9.42822140e-01,\n",
              "       -1.66959281e-01, -9.49284410e-01, -1.21217354e+00, -7.61331372e-01,\n",
              "        5.95331181e-01, -1.28054083e-01, -1.20987997e-01, -6.74143126e-02,\n",
              "        8.34079371e-02, -1.09548083e+00, -8.64071869e-01,  5.56458857e-02,\n",
              "        7.96413556e-01,  7.91416688e-01, -2.77988570e-01,  1.81830352e+00,\n",
              "        2.97549157e-01,  1.50256079e+00,  6.74819695e-01, -1.36750213e+00,\n",
              "        3.75125492e-01, -1.24578808e+00,  6.82303194e-01,  1.89464170e-02,\n",
              "       -1.13721000e+00, -1.41903812e-01,  5.86507990e-01, -4.97981654e-01,\n",
              "        3.69092677e-02, -4.43211038e-01,  4.78061370e-01,  9.83036645e-02,\n",
              "        3.53898270e-02,  1.58380561e+00, -1.54381698e+00,  2.98449548e-01,\n",
              "        1.55568790e+00,  4.06202248e-01,  1.56398877e-02,  4.41695404e-01,\n",
              "       -7.16199527e-01, -1.92280204e-01,  1.36137135e+00,  4.90655825e-01,\n",
              "       -1.07991381e+00,  1.56641288e+00, -3.71089116e-01, -9.10362331e-01,\n",
              "        1.32228455e+00,  9.72527149e-01, -1.84371203e+00, -2.63537455e+00,\n",
              "        3.60151042e-01, -1.50634782e+00, -2.55305321e-01,  3.01297724e-01,\n",
              "        5.06759941e-01, -5.66436034e-02, -1.16957754e-01,  1.54422057e+00,\n",
              "       -1.24748915e+00,  1.77354775e+00,  5.56932757e-01,  5.35907339e-01,\n",
              "        7.67281374e-01, -1.30961967e+00, -3.60384403e-02,  1.22038173e+00,\n",
              "       -6.18824417e-01,  1.87389760e-01,  1.10474328e+00,  3.55001328e-01,\n",
              "       -7.50838836e-01,  8.78866973e-01,  1.53881400e+00, -1.81112588e+00,\n",
              "        9.74946137e-01,  3.38656420e-01, -8.65575804e-01,  1.47591754e+00,\n",
              "        6.95315843e-01,  1.38281930e+00,  9.65222038e-01, -1.89364174e+00,\n",
              "        1.66346221e+00,  2.58438764e+00, -8.70587809e-02,  1.81983018e-01,\n",
              "       -9.73397243e-01,  5.60871000e-01,  1.53179895e+00,  1.57946434e-01,\n",
              "       -3.13525417e-01,  7.87992560e-01, -8.31373771e-01, -8.29452817e-01,\n",
              "       -1.26233233e+00, -9.14586399e-02, -8.47837346e-01,  5.77703342e-01,\n",
              "       -1.13936223e-01,  5.51092742e-01,  1.13813009e-01,  3.81736307e-01,\n",
              "        4.54969129e-01,  3.35877513e-01,  9.80218935e-02,  1.38830387e+00,\n",
              "       -1.75202312e+00, -1.66638027e+00, -1.26572857e+00,  3.79792420e-01,\n",
              "        3.36060023e-01,  6.26353004e-01, -6.54464832e-01, -7.07878628e-01,\n",
              "        4.53379392e-01, -9.10208533e-01, -4.70028068e-02,  4.78256611e-01,\n",
              "        9.83369157e-01, -5.35016299e-01, -1.50676358e+00, -1.49443863e+00,\n",
              "        5.98334870e-01,  2.43319215e+00,  1.38098228e-01,  3.20680017e-01,\n",
              "       -1.79516688e+00,  4.96971004e-01,  9.44233706e-01, -8.29994691e-01,\n",
              "       -8.30319936e-01, -4.89689346e-01,  1.20425246e+00,  7.81452366e-01,\n",
              "        3.44465462e-01,  1.96423487e-01,  1.30116811e+00,  6.21162664e-01,\n",
              "       -3.42562012e-01,  2.65552968e-01, -9.27963705e-01,  6.28547440e-01,\n",
              "       -1.00406486e-01,  2.01491986e-01,  1.14259966e+00,  3.01484453e-02,\n",
              "        1.20471738e+00,  3.10039482e-01,  1.09362858e+00,  1.66475630e+00,\n",
              "       -7.49443904e-02,  1.30733463e+00,  4.31805904e-01,  8.09976270e-01,\n",
              "       -1.03218269e+00,  1.13508110e+00,  1.22201470e+00, -4.41312580e-01,\n",
              "        4.22241510e-01, -3.81584838e-01, -3.16338200e-01,  6.59911416e-02,\n",
              "       -2.08052867e-01, -2.05227975e+00,  2.62847785e+00,  2.29771105e+00,\n",
              "        2.12688886e+00, -9.05091614e-01, -9.10811446e-01, -4.74321009e-01,\n",
              "        2.35378190e+00, -4.13301859e-01, -5.32493457e-02, -8.33167996e-01,\n",
              "       -6.65575847e-01,  1.32530070e-01, -3.63703503e-01, -9.10204594e-01,\n",
              "       -5.71215033e-01, -1.30639850e-01, -1.72227850e+00,  9.72747469e-01,\n",
              "       -5.82447505e-01, -2.26915643e-01, -1.28817590e+00,  2.18466632e-01,\n",
              "       -4.43134425e-01,  1.08541954e+00,  9.53958662e-01, -8.13810671e-01,\n",
              "        1.09580769e+00, -1.37172665e+00,  1.71077906e+00,  9.37353004e-01,\n",
              "        5.59507636e-01,  2.44823280e+00, -1.80288290e+00,  3.13781731e-01,\n",
              "        2.40078769e-01, -7.80148197e-01,  7.78012913e-01,  3.80890149e-01,\n",
              "        3.52096190e-01,  9.05251355e-01, -1.16398953e-01,  6.39801839e-01,\n",
              "       -1.27843914e+00, -4.16394274e-01,  3.24527844e-01,  1.73826046e-02,\n",
              "        8.10135966e-01, -2.50547642e-02, -1.42536712e+00, -1.53160992e+00,\n",
              "        1.22870596e-01,  8.97827020e-01, -2.77996214e-01,  6.20041515e-01,\n",
              "       -2.09096112e+00,  1.31373331e+00, -1.15033165e+00,  1.35418905e+00,\n",
              "        1.56111932e+00, -6.79570263e-02, -2.91972599e-01,  9.92108495e-01,\n",
              "        1.37642003e-01, -5.93325568e-01,  4.31666693e-01,  4.97011850e-01,\n",
              "       -2.61269012e-01,  8.56384392e-01,  5.90938647e-01, -2.07746187e+00,\n",
              "       -4.31467977e-01,  5.08253053e-01, -1.27383035e+00,  3.79219278e-01,\n",
              "        1.03723104e+00,  2.51401680e-02, -3.11232778e+00, -1.22855076e+00,\n",
              "       -1.60300388e+00,  9.92662103e-01,  6.85237457e-01,  2.05197858e-01,\n",
              "        1.31032998e+00,  1.05944595e+00,  1.03835549e+00, -1.95639812e-01,\n",
              "       -4.59004252e-01,  7.86687170e-01,  1.64151336e+00,  1.64588654e-01,\n",
              "       -2.28223467e-01,  6.33854337e-01, -7.97534198e-01,  4.31327530e-01,\n",
              "        2.34878800e-01,  6.82140137e-01, -1.30266184e+00,  9.58637588e-01,\n",
              "        2.38838036e-01,  3.37328628e-01,  4.66896849e-01,  1.40964633e+00,\n",
              "       -2.85983879e-01, -1.89318838e+00, -3.32824316e-02,  3.54802545e-01,\n",
              "        1.74008561e+00,  6.97812799e-01, -1.23351357e+00,  5.75714254e-01,\n",
              "       -1.41439467e+00, -1.40983468e+00,  1.01179610e+00, -1.12526711e+00,\n",
              "       -1.24831268e+00,  1.71076389e+00,  5.35366306e-02, -5.52471832e-02,\n",
              "        5.94820524e-01,  1.00062415e+00,  2.71487240e+00,  9.87783831e-01,\n",
              "       -1.54887634e+00, -4.92621599e-01, -2.89895248e-01, -1.21998464e+00,\n",
              "        1.26151692e-01,  3.65663713e-01, -2.06167059e+00,  5.88301898e-01,\n",
              "       -1.48028593e+00,  8.93174949e-01, -7.31951101e-01,  9.13767348e-01])"
            ]
          },
          "metadata": {},
          "execution_count": 23
        }
      ]
    },
    {
      "cell_type": "code",
      "source": [],
      "metadata": {
        "id": "gTwlriNFGdhW"
      },
      "execution_count": null,
      "outputs": []
    },
    {
      "cell_type": "code",
      "source": [
        "np.mean(x)"
      ],
      "metadata": {
        "colab": {
          "base_uri": "https://localhost:8080/"
        },
        "id": "FnSI59MBCjri",
        "outputId": "e9d9a7f0-6944-4448-dc29-99735040d372"
      },
      "execution_count": null,
      "outputs": [
        {
          "output_type": "execute_result",
          "data": {
            "text/plain": [
              "5.0"
            ]
          },
          "metadata": {},
          "execution_count": 9
        }
      ]
    },
    {
      "cell_type": "code",
      "source": [
        "np.std(x)"
      ],
      "metadata": {
        "colab": {
          "base_uri": "https://localhost:8080/"
        },
        "id": "P-Ccr4dUComs",
        "outputId": "fe2050a0-9826-403c-8b4d-9925cf9edefb"
      },
      "execution_count": null,
      "outputs": [
        {
          "output_type": "execute_result",
          "data": {
            "text/plain": [
              "2.887040035517924"
            ]
          },
          "metadata": {},
          "execution_count": 10
        }
      ]
    },
    {
      "cell_type": "code",
      "source": [
        "np.median(x)"
      ],
      "metadata": {
        "colab": {
          "base_uri": "https://localhost:8080/"
        },
        "id": "4XDz0cKCDyOM",
        "outputId": "e651d937-86e1-4d08-818d-f9a498ad32d0"
      },
      "execution_count": null,
      "outputs": [
        {
          "output_type": "execute_result",
          "data": {
            "text/plain": [
              "5.0"
            ]
          },
          "metadata": {},
          "execution_count": 11
        }
      ]
    },
    {
      "cell_type": "code",
      "source": [
        "stats.mode(x)"
      ],
      "metadata": {
        "colab": {
          "base_uri": "https://localhost:8080/"
        },
        "id": "gSsm1PhcD8G1",
        "outputId": "62dcebc6-3a90-499a-e9bc-8474e46513d5"
      },
      "execution_count": null,
      "outputs": [
        {
          "output_type": "execute_result",
          "data": {
            "text/plain": [
              "0.0"
            ]
          },
          "metadata": {},
          "execution_count": 13
        }
      ]
    },
    {
      "cell_type": "code",
      "source": [
        "plt.figure(figsize=(10,10))"
      ],
      "metadata": {
        "colab": {
          "base_uri": "https://localhost:8080/",
          "height": 52
        },
        "id": "sRfRz6buEj0F",
        "outputId": "3409494d-5663-4395-ddf8-0c9d55c9f292"
      },
      "execution_count": null,
      "outputs": [
        {
          "output_type": "execute_result",
          "data": {
            "text/plain": [
              "<Figure size 1000x1000 with 0 Axes>"
            ]
          },
          "metadata": {},
          "execution_count": 15
        },
        {
          "output_type": "display_data",
          "data": {
            "text/plain": [
              "<Figure size 1000x1000 with 0 Axes>"
            ]
          },
          "metadata": {}
        }
      ]
    },
    {
      "cell_type": "code",
      "source": [
        "norm.pdf(x)"
      ],
      "metadata": {
        "colab": {
          "base_uri": "https://localhost:8080/"
        },
        "id": "PSYdDXbyEwAJ",
        "outputId": "fcd7120f-9b04-4abf-c1a9-2da628b0a3b0"
      },
      "execution_count": null,
      "outputs": [
        {
          "output_type": "execute_result",
          "data": {
            "text/plain": [
              "array([3.98942280e-01, 3.98942081e-01, 3.98941482e-01, ...,\n",
              "       7.85003983e-23, 7.77193451e-23, 7.69459863e-23])"
            ]
          },
          "metadata": {},
          "execution_count": 18
        }
      ]
    },
    {
      "cell_type": "code",
      "source": [
        "plt.plot(x, norm.pdf(x))"
      ],
      "metadata": {
        "colab": {
          "base_uri": "https://localhost:8080/",
          "height": 462
        },
        "id": "aZ3-OlO-FZrM",
        "outputId": "853dc941-da6a-4bbe-c7a2-d549ced1af7c"
      },
      "execution_count": null,
      "outputs": [
        {
          "output_type": "execute_result",
          "data": {
            "text/plain": [
              "[<matplotlib.lines.Line2D at 0x7e86b4693640>]"
            ]
          },
          "metadata": {},
          "execution_count": 21
        },
        {
          "output_type": "display_data",
          "data": {
            "text/plain": [
              "<Figure size 640x480 with 1 Axes>"
            ],
            "image/png": "[encoded data removed]"
          },
          "metadata": {}
        }
      ]
    },
    {
      "cell_type": "code",
      "source": [
        "np.mean(x1)"
      ],
      "metadata": {
        "colab": {
          "base_uri": "https://localhost:8080/"
        },
        "id": "t4vk5xfXGiWq",
        "outputId": "4713ef63-ea48-43e0-c3e1-bc6c4e7e8857"
      },
      "execution_count": null,
      "outputs": [
        {
          "output_type": "execute_result",
          "data": {
            "text/plain": [
              "0.0214527424439703"
            ]
          },
          "metadata": {},
          "execution_count": 24
        }
      ]
    },
    {
      "cell_type": "code",
      "source": [
        "np.median(x1)"
      ],
      "metadata": {
        "colab": {
          "base_uri": "https://localhost:8080/"
        },
        "id": "tuQwt-XsGmFf",
        "outputId": "c54a2e7f-ed08-43d9-f796-cc2bac805b35"
      },
      "execution_count": null,
      "outputs": [
        {
          "output_type": "execute_result",
          "data": {
            "text/plain": [
              "0.07476365425546003"
            ]
          },
          "metadata": {},
          "execution_count": 25
        }
      ]
    },
    {
      "cell_type": "code",
      "source": [
        "stats.mode(x1)"
      ],
      "metadata": {
        "colab": {
          "base_uri": "https://localhost:8080/"
        },
        "id": "UdSgCRVKGoiG",
        "outputId": "9cdbe2d1-4581-4d54-e4ef-6f50aae58acf"
      },
      "execution_count": null,
      "outputs": [
        {
          "output_type": "execute_result",
          "data": {
            "text/plain": [
              "-0.6813079750868424"
            ]
          },
          "metadata": {},
          "execution_count": 26
        }
      ]
    },
    {
      "cell_type": "code",
      "source": [
        "np.std(x1)"
      ],
      "metadata": {
        "colab": {
          "base_uri": "https://localhost:8080/"
        },
        "id": "i4IFcd23Gwy2",
        "outputId": "2dc0b654-88b0-4682-a9c5-7c6bd4f3e9dc"
      },
      "execution_count": null,
      "outputs": [
        {
          "output_type": "execute_result",
          "data": {
            "text/plain": [
              "1.0257182160094251"
            ]
          },
          "metadata": {},
          "execution_count": 27
        }
      ]
    },
    {
      "cell_type": "code",
      "source": [
        "norm.pdf(x1)"
      ],
      "metadata": {
        "colab": {
          "base_uri": "https://localhost:8080/"
        },
        "id": "vT233bldG2A3",
        "outputId": "f2b6a284-568b-4eeb-eb8a-b824170451da"
      },
      "execution_count": null,
      "outputs": [
        {
          "output_type": "execute_result",
          "data": {
            "text/plain": [
              "array([0.31631118, 0.14897689, 0.28189714, 0.05194918, 0.28020765,\n",
              "       0.31492789, 0.21099659, 0.39456987, 0.36578395, 0.39881702,\n",
              "       0.30705157, 0.39742366, 0.22471802, 0.39484755, 0.13395803,\n",
              "       0.28027939, 0.39881916, 0.28612329, 0.24739835, 0.37797517,\n",
              "       0.05326249, 0.15961212, 0.39627992, 0.37046755, 0.11919235,\n",
              "       0.321044  , 0.13940731, 0.36286358, 0.39282584, 0.29538574,\n",
              "       0.39886745, 0.30001522, 0.39857448, 0.38319892, 0.30158795,\n",
              "       0.33654932, 0.09926926, 0.06210769, 0.33735725, 0.27911186,\n",
              "       0.22975884, 0.38647589, 0.20013878, 0.32663719, 0.08017059,\n",
              "       0.38317784, 0.36687661, 0.16201201, 0.3907376 , 0.18368469,\n",
              "       0.38804029, 0.11893382, 0.10895128, 0.39884719, 0.35352929,\n",
              "       0.38681113, 0.25855855, 0.39869135, 0.24778761, 0.35608241,\n",
              "       0.17406586, 0.39714855, 0.2411549 , 0.11244511, 0.00559645,\n",
              "       0.24796117, 0.29766883, 0.17528449, 0.38737243, 0.39551619,\n",
              "       0.01098489, 0.12606632, 0.11893375, 0.38041706, 0.06956142,\n",
              "       0.39693847, 0.32792829, 0.39433197, 0.26769464, 0.2414234 ,\n",
              "       0.1141541 , 0.39344314, 0.19578525, 0.36549726, 0.25917008,\n",
              "       0.35164994, 0.19853345, 0.36952818, 0.3866433 , 0.35339161,\n",
              "       0.2593455 , 0.05211621, 0.26054506, 0.07025405, 0.39853258,\n",
              "       0.1109184 , 0.3814887 , 0.34033471, 0.15155906, 0.3687942 ,\n",
              "       0.34384211, 0.37526691, 0.37147899, 0.36223168, 0.06570028,\n",
              "       0.21978727, 0.36086281, 0.36028059, 0.39657928, 0.39117838,\n",
              "       0.31113733, 0.20423004, 0.17563932, 0.39157444, 0.35226324,\n",
              "       0.01498563, 0.35845387, 0.37506718, 0.0555286 , 0.39682518,\n",
              "       0.20373881, 0.38406901, 0.23614367, 0.37335043, 0.33898923,\n",
              "       0.31980032, 0.39614166, 0.30294796, 0.37764595, 0.21457255,\n",
              "       0.2771622 , 0.34705144, 0.29199227, 0.16169006, 0.33211875,\n",
              "       0.16368121, 0.36568037, 0.22157139, 0.26560897, 0.3934151 ,\n",
              "       0.37747642, 0.39138006, 0.21592593, 0.30372692, 0.39893245,\n",
              "       0.27668699, 0.39814085, 0.03660245, 0.22565312, 0.22266029,\n",
              "       0.38816246, 0.3286415 , 0.11690667, 0.29083577, 0.33552538,\n",
              "       0.19898729, 0.00734457, 0.36967893, 0.30152704, 0.37533149,\n",
              "       0.25415094, 0.10017691, 0.04613988, 0.39469886, 0.39757758,\n",
              "       0.34394216, 0.32290293, 0.33744233, 0.39864773, 0.33017654,\n",
              "       0.13389608, 0.37940295, 0.32693285, 0.29061585, 0.2469759 ,\n",
              "       0.27491608, 0.37142215, 0.08919969, 0.38987949, 0.36705284,\n",
              "       0.18747489, 0.20263639, 0.0942358 , 0.37439681, 0.3089271 ,\n",
              "       0.39617202, 0.3957885 , 0.04267123, 0.29995499, 0.38562588,\n",
              "       0.3964401 , 0.27327423, 0.25686934, 0.112363  , 0.36507833,\n",
              "       0.1716921 , 0.38214894, 0.3172026 , 0.23404574, 0.25127871,\n",
              "       0.27949181, 0.39888686, 0.30973282, 0.21122793, 0.28956649,\n",
              "       0.13493439, 0.34434264, 0.28199957, 0.31487106, 0.09540042,\n",
              "       0.3408587 , 0.3735429 , 0.33702674, 0.18811497, 0.32004794,\n",
              "       0.36109749, 0.30224096, 0.28818201, 0.10446057, 0.27191264,\n",
              "       0.20668282, 0.13121474, 0.02403772, 0.32339801, 0.08704352,\n",
              "       0.23062392, 0.27706436, 0.30850328, 0.31550493, 0.31107312,\n",
              "       0.38632448, 0.14495355, 0.06022167, 0.39674602, 0.32245248,\n",
              "       0.37754804, 0.38764878, 0.0117177 , 0.32357782, 0.39659817,\n",
              "       0.31511821, 0.36780766, 0.32390431, 0.07255557, 0.28240915,\n",
              "       0.2802356 , 0.34672528, 0.31209767, 0.26550813, 0.37320688,\n",
              "       0.34973818, 0.34530112, 0.39298744, 0.3254635 , 0.29607021,\n",
              "       0.39664899, 0.34627101, 0.11746754, 0.14228605, 0.12012591,\n",
              "       0.34945433, 0.20544073, 0.1621397 , 0.3963098 , 0.14158997,\n",
              "       0.27230102, 0.18482097, 0.32663649, 0.3902432 , 0.12884612,\n",
              "       0.37122831, 0.17700208, 0.19175499, 0.21121472, 0.39016786,\n",
              "       0.3910125 , 0.25001016, 0.39686196, 0.37117895, 0.08757753,\n",
              "       0.39357311, 0.05635588, 0.26116839, 0.37656789, 0.32669835,\n",
              "       0.29416247, 0.34030195, 0.34274088, 0.38189326, 0.39892649,\n",
              "       0.33085408, 0.31741852, 0.20297228, 0.38280254, 0.13438703,\n",
              "       0.39874183, 0.38614996, 0.30721263, 0.31388065, 0.32865802,\n",
              "       0.1077231 , 0.3294856 , 0.34562656, 0.39623709, 0.39823628,\n",
              "       0.11546485, 0.11427089, 0.39547089, 0.15521905, 0.18034455,\n",
              "       0.06276989, 0.25243979, 0.19215083, 0.10839751, 0.3987509 ,\n",
              "       0.3916477 , 0.39151757, 0.32874834, 0.39883539, 0.35665808,\n",
              "       0.36863407, 0.38134441, 0.09418851, 0.36668519, 0.28140877,\n",
              "       0.210353  , 0.32024654, 0.32258192, 0.3989072 , 0.24580891,\n",
              "       0.06407009, 0.35137646, 0.38413219, 0.29293783, 0.19468292,\n",
              "       0.34122922, 0.30746527, 0.3501121 , 0.39082924, 0.31440488,\n",
              "       0.18425703, 0.13639558, 0.37431283, 0.1017973 , 0.13096774,\n",
              "       0.03397521, 0.38576868, 0.32601714, 0.1459782 , 0.1845457 ,\n",
              "       0.01862626, 0.12812142, 0.37113296, 0.38774813, 0.21764306,\n",
              "       0.3946343 , 0.37848872, 0.36326403, 0.39487997, 0.35068033,\n",
              "       0.05766295, 0.37851663, 0.39619734, 0.14787647, 0.38335572,\n",
              "       0.26140012, 0.28882523, 0.38621458, 0.33309753, 0.35952212,\n",
              "       0.35604099, 0.21019176, 0.36187321, 0.27533869, 0.38916782,\n",
              "       0.36796405, 0.3474491 , 0.19347884, 0.15487127, 0.09827291,\n",
              "       0.13641113, 0.39633773, 0.3952896 , 0.33524175, 0.24977646,\n",
              "       0.20070149, 0.02435518, 0.37666043, 0.37564794, 0.14328899,\n",
              "       0.34482362, 0.18244369, 0.22089558, 0.39892786, 0.38433296,\n",
              "       0.39760126, 0.37093677, 0.30680634, 0.12635052, 0.39842916,\n",
              "       0.31896789, 0.27150037, 0.38052435, 0.3257666 , 0.38886538,\n",
              "       0.1656815 , 0.366499  , 0.24931471, 0.36350114, 0.39671332,\n",
              "       0.21161354, 0.22759505, 0.10916199, 0.17160764, 0.39859026,\n",
              "       0.34734303, 0.39777898, 0.3534122 , 0.39409166, 0.35603465,\n",
              "       0.07763846, 0.38468396, 0.39656583, 0.39725485, 0.34185895,\n",
              "       0.32674927, 0.22295695, 0.39668022, 0.39860223, 0.37922131,\n",
              "       0.26027024, 0.31748415, 0.30228581, 0.36023174, 0.31072446,\n",
              "       0.09273765, 0.34360085, 0.22796536, 0.0613357 , 0.09836175,\n",
              "       0.38541768, 0.01434159, 0.39873986, 0.39791309, 0.35802024,\n",
              "       0.31649371, 0.39764446, 0.39616548, 0.04528376, 0.07717006,\n",
              "       0.36323475, 0.11729942, 0.23693657, 0.38434273, 0.34763581,\n",
              "       0.39894123, 0.39821077, 0.36175103, 0.31289749, 0.24718115,\n",
              "       0.05973735, 0.04236789, 0.25975576, 0.39837152, 0.32550452,\n",
              "       0.39196691, 0.06419911, 0.35246698, 0.2239544 , 0.39560801,\n",
              "       0.35279815, 0.20853749, 0.30943934, 0.12350847, 0.13155652,\n",
              "       0.18100357, 0.16252044, 0.38883029, 0.39468761, 0.38152779,\n",
              "       0.15315674, 0.3504332 , 0.01998446, 0.35428936, 0.18738137,\n",
              "       0.20681161, 0.35358242, 0.39522448, 0.09418075, 0.29982715,\n",
              "       0.15511166, 0.17149061, 0.3603824 , 0.22833592, 0.29372875,\n",
              "       0.27290103, 0.17254737, 0.36341213, 0.14205182, 0.13438613,\n",
              "       0.39876683, 0.10936272, 0.22154871, 0.18666203, 0.21110646,\n",
              "       0.38723422, 0.15981958, 0.20532712, 0.29063911, 0.21475076,\n",
              "       0.30783323, 0.19594784, 0.15447991, 0.15603689, 0.39886907,\n",
              "       0.36176923, 0.05411088, 0.29183412, 0.39735046, 0.38334024,\n",
              "       0.12938789, 0.39713893, 0.22686324, 0.3942147 , 0.16594649,\n",
              "       0.38642774, 0.11218508, 0.11206087, 0.3826171 , 0.39345128,\n",
              "       0.11325198, 0.16406935, 0.36805003, 0.27900379, 0.1353246 ,\n",
              "       0.20743505, 0.21946845, 0.2066797 , 0.39095522, 0.39868752,\n",
              "       0.05909645, 0.28146871, 0.05189729, 0.09663897, 0.39277727,\n",
              "       0.37064607, 0.04883902, 0.28898009, 0.21421733, 0.23409209,\n",
              "       0.13308581, 0.38959249, 0.03309621, 0.30182657, 0.34165869,\n",
              "       0.1366181 , 0.32891981, 0.3791789 , 0.32701129, 0.2227094 ,\n",
              "       0.08548158, 0.12400684, 0.03012257, 0.39770364, 0.39865719,\n",
              "       0.1356611 , 0.20876715, 0.00186319, 0.23972626, 0.1933648 ,\n",
              "       0.20983887, 0.3886491 , 0.39781854, 0.3484045 , 0.16968543,\n",
              "       0.22325943, 0.28352143, 0.30064942, 0.32855766, 0.36092704,\n",
              "       0.22249442, 0.32530831, 0.3875799 , 0.00164095, 0.30632248,\n",
              "       0.39205982, 0.36853886, 0.3116481 , 0.06285421, 0.39408414,\n",
              "       0.38332902, 0.39767772, 0.13211962, 0.38669762, 0.39884195,\n",
              "       0.39880558, 0.31063333, 0.39814106, 0.39874784, 0.35224815,\n",
              "       0.04307316, 0.38691028, 0.16308894, 0.32216555, 0.33552433,\n",
              "       0.27313554, 0.27111107, 0.35579401, 0.36903021, 0.39810729,\n",
              "       0.36534571, 0.38296174, 0.24885403, 0.04386616, 0.09366324,\n",
              "       0.24860586, 0.15592985, 0.26361098, 0.12876624, 0.39159134,\n",
              "       0.20646774, 0.38424845, 0.14813629, 0.06940819, 0.05527268,\n",
              "       0.16171778, 0.16129069, 0.26475044, 0.32749736, 0.09124915,\n",
              "       0.26215732, 0.08617541, 0.35425995, 0.26592629, 0.20320165,\n",
              "       0.39463732, 0.33301964, 0.30549791, 0.29234857, 0.31092516,\n",
              "       0.39006661, 0.32270068, 0.38873918, 0.39894142, 0.39391045,\n",
              "       0.30915211, 0.36474488, 0.01329369, 0.39340547, 0.35239119,\n",
              "       0.35633734, 0.28445635, 0.26318423, 0.28482093, 0.3540436 ,\n",
              "       0.25079961, 0.22883956, 0.35845645, 0.20734251, 0.38667674,\n",
              "       0.09118756, 0.08905902, 0.15682083, 0.32017827, 0.33630004,\n",
              "       0.39874211, 0.39787767, 0.39888798, 0.1822374 , 0.38985692,\n",
              "       0.39007795, 0.33010397, 0.38199043, 0.36366623, 0.01569471,\n",
              "       0.19035792, 0.36930764, 0.29675085, 0.34762499, 0.37480414,\n",
              "       0.39550787, 0.092922  , 0.06879612, 0.14368137, 0.32999245,\n",
              "       0.21328148, 0.20522594, 0.27831989, 0.23140126, 0.27806713,\n",
              "       0.31263965, 0.3582586 , 0.3530812 , 0.3987581 , 0.20708209,\n",
              "       0.39344247, 0.13575316, 0.22619174, 0.28836223, 0.25579081,\n",
              "       0.39342051, 0.25423176, 0.19135578, 0.29856988, 0.33415573,\n",
              "       0.39568476, 0.39603306, 0.39803678, 0.39755699, 0.2189356 ,\n",
              "       0.2746525 , 0.3983251 , 0.29052205, 0.29167686, 0.38382162,\n",
              "       0.07637863, 0.38166719, 0.12902063, 0.31770584, 0.15661424,\n",
              "       0.37183759, 0.18361162, 0.31609662, 0.39887068, 0.20897057,\n",
              "       0.39494574, 0.3359025 , 0.35242008, 0.39867063, 0.36162173,\n",
              "       0.35586285, 0.39701932, 0.39869253, 0.11381754, 0.12116234,\n",
              "       0.3815648 , 0.1189537 , 0.36735057, 0.39889349, 0.36186432,\n",
              "       0.30869257, 0.39163524, 0.15792982, 0.35369861, 0.22267422,\n",
              "       0.11697873, 0.372398  , 0.2636011 , 0.16643395, 0.24861667,\n",
              "       0.07290664, 0.01238167, 0.37389027, 0.12828763, 0.38615017,\n",
              "       0.38123904, 0.35086935, 0.39830279, 0.396223  , 0.12108686,\n",
              "       0.18322266, 0.08277126, 0.34163048, 0.34557801, 0.29721518,\n",
              "       0.16923104, 0.3986833 , 0.18945489, 0.32942375, 0.391999  ,\n",
              "       0.21671603, 0.37457939, 0.30094793, 0.271134  , 0.12210026,\n",
              "       0.07737999, 0.24803175, 0.37670887, 0.2742955 , 0.13424285,\n",
              "       0.31327603, 0.15334988, 0.25038255, 0.06641196, 0.10000933,\n",
              "       0.01414395, 0.3974333 , 0.39239063, 0.24840628, 0.34087935,\n",
              "       0.12342241, 0.39399697, 0.37980868, 0.29246664, 0.28237206,\n",
              "       0.28282286, 0.17984139, 0.39727725, 0.27849571, 0.3376285 ,\n",
              "       0.39636124, 0.3427376 , 0.3963668 , 0.37090851, 0.35971724,\n",
              "       0.3770621 , 0.3970303 , 0.15218896, 0.08597222, 0.09952463,\n",
              "       0.17907099, 0.37118315, 0.37703898, 0.32788328, 0.3220332 ,\n",
              "       0.31052694, 0.35997706, 0.263638  , 0.39850184, 0.35582963,\n",
              "       0.24599453, 0.34574293, 0.1282073 , 0.13060054, 0.33355722,\n",
              "       0.02066837, 0.39515622, 0.37894797, 0.07963906, 0.35259732,\n",
              "       0.25545036, 0.28269573, 0.28261941, 0.35386622, 0.19319591,\n",
              "       0.29397151, 0.37596217, 0.39132001, 0.17110844, 0.32894653,\n",
              "       0.37620807, 0.38512099, 0.25937073, 0.32743213, 0.39693638,\n",
              "       0.39092559, 0.20769066, 0.39876102, 0.19308775, 0.3802217 ,\n",
              "       0.21937992, 0.09979419, 0.39782349, 0.16973779, 0.36343068,\n",
              "       0.28737442, 0.23418612, 0.20947663, 0.18907746, 0.36192549,\n",
              "       0.36491805, 0.37092996, 0.37947238, 0.39807456, 0.39040074,\n",
              "       0.0485644 , 0.01260847, 0.02847649, 0.04155379, 0.26486528,\n",
              "       0.26349332, 0.35649725, 0.02499491, 0.36628347, 0.39837708,\n",
              "       0.28195072, 0.31968021, 0.39545406, 0.37340986, 0.26363895,\n",
              "       0.33888928, 0.39555244, 0.09053125, 0.2485634 , 0.33670063,\n",
              "       0.38880246, 0.17401094, 0.38953468, 0.36163401, 0.22135084,\n",
              "       0.25310342, 0.28648118, 0.21885721, 0.15571069, 0.09233601,\n",
              "       0.25710933, 0.34113979, 0.0199234 , 0.0785412 , 0.37977815,\n",
              "       0.38760929, 0.29427101, 0.29476095, 0.37102821, 0.37496432,\n",
              "       0.26482699, 0.39624884, 0.32510349, 0.17619889, 0.36581387,\n",
              "       0.37847786, 0.39888201, 0.28733725, 0.39881708, 0.14445688,\n",
              "       0.12345815, 0.39594217, 0.26660551, 0.38382081, 0.32917549,\n",
              "       0.04482462, 0.16832037, 0.20585773, 0.15947749, 0.11795108,\n",
              "       0.39802215, 0.38229507, 0.2438802 , 0.39518108, 0.33455428,\n",
              "       0.36345252, 0.35259016, 0.38555583, 0.27647479, 0.33502746,\n",
              "       0.04610368, 0.36348369, 0.35060357, 0.17723825, 0.37126389,\n",
              "       0.23296603, 0.39881623, 0.00314409, 0.18756928, 0.11038851,\n",
              "       0.24374625, 0.31546305, 0.39063111, 0.16907365, 0.22760323,\n",
              "       0.23269433, 0.39138013, 0.35905454, 0.29276739, 0.10370327,\n",
              "       0.39357515, 0.38868676, 0.32633716, 0.29026269, 0.36350572,\n",
              "       0.38808823, 0.31613178, 0.17077601, 0.25197345, 0.38772446,\n",
              "       0.37687797, 0.35774499, 0.14771214, 0.38295725, 0.066469  ,\n",
              "       0.39872138, 0.37460582, 0.08778299, 0.31273163, 0.18642684,\n",
              "       0.33801602, 0.14672508, 0.14767292, 0.23911655, 0.21181298,\n",
              "       0.18303447, 0.09233841, 0.39837097, 0.39833391, 0.33425729,\n",
              "       0.2418197 , 0.01000966, 0.24492653, 0.12021812, 0.35335695,\n",
              "       0.38252619, 0.18954671, 0.39578044, 0.37314302, 0.04763529,\n",
              "       0.33554873, 0.13337884, 0.26771849, 0.30519183, 0.26278373])"
            ]
          },
          "metadata": {},
          "execution_count": 28
        }
      ]
    },
    {
      "cell_type": "code",
      "source": [
        "plt.figure(figsize=(10,10))"
      ],
      "metadata": {
        "colab": {
          "base_uri": "https://localhost:8080/",
          "height": 52
        },
        "id": "1KFP_NM7HEi3",
        "outputId": "2a6f1778-2176-4100-fd49-26cc61cae71d"
      },
      "execution_count": null,
      "outputs": [
        {
          "output_type": "execute_result",
          "data": {
            "text/plain": [
              "<Figure size 1000x1000 with 0 Axes>"
            ]
          },
          "metadata": {},
          "execution_count": 31
        },
        {
          "output_type": "display_data",
          "data": {
            "text/plain": [
              "<Figure size 1000x1000 with 0 Axes>"
            ]
          },
          "metadata": {}
        }
      ]
    },
    {
      "cell_type": "code",
      "source": [
        "plt.plot(x1,norm.pdf(x1))"
      ],
      "metadata": {
        "colab": {
          "base_uri": "https://localhost:8080/",
          "height": 447
        },
        "id": "cqxgucGjHWCu",
        "outputId": "383c8b97-b76a-45e2-90e5-4bea6c783a32"
      },
      "execution_count": null,
      "outputs": [
        {
          "output_type": "execute_result",
          "data": {
            "text/plain": [
              "[<matplotlib.lines.Line2D at 0x7e86b7955390>]"
            ]
          },
          "metadata": {},
          "execution_count": 32
        },
        {
          "output_type": "display_data",
          "data": {
            "text/plain": [
              "<Figure size 640x480 with 1 Axes>"
            ],
            "image/png": "[encoded data removed]"
          },
          "metadata": {}
        }
      ]
    }
  ]
}