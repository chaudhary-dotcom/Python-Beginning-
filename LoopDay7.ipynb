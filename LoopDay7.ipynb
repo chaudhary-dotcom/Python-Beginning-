{
  "nbformat": 4,
  "nbformat_minor": 0,
  "metadata": {
    "colab": {
      "provenance": [],
      "authorship_tag": "ABX9TyM1trKFgWjeqqL9sulhALty",
      "include_colab_link": true
    },
    "kernelspec": {
      "name": "python3",
      "display_name": "Python 3"
    },
    "language_info": {
      "name": "python"
    }
  },
  "cells": [
    {
      "cell_type": "markdown",
      "metadata": {
        "id": "view-in-github",
        "colab_type": "text"
      },
      "source": [
        "<a href=\"https://colab.research.google.com/github/chaudhary-dotcom/Python-Beginning-/blob/main/LoopDay7.ipynb\" target=\"_parent\"><img src=\"https://colab.research.google.com/assets/colab-badge.svg\" alt=\"Open In Colab\"/></a>"
      ]
    },
    {
      "cell_type": "code",
      "execution_count": 8,
      "metadata": {
        "colab": {
          "base_uri": "https://localhost:8080/"
        },
        "id": "FXfxERA92EAX",
        "outputId": "060dcdf6-3a3a-4f33-ff68-35536d5fdd06"
      },
      "outputs": [
        {
          "output_type": "stream",
          "name": "stdout",
          "text": [
            "\n",
            "1\n",
            "22\n",
            "333\n",
            "4444\n",
            "55555\n"
          ]
        }
      ],
      "source": [
        "rows = 5\n",
        "for i in range(0, rows+1):\n",
        "  for j in range(1, i+1):\n",
        "    print(i, end='')\n",
        "  print()"
      ]
    },
    {
      "cell_type": "code",
      "source": [
        "n = int(input('Enter number: '))\n",
        "for i in range (1,n+1,1):\n",
        "  for j in range(1, i+1,1):\n",
        "    print(i*j, end=' ')\n",
        "  print()"
      ],
      "metadata": {
        "colab": {
          "base_uri": "https://localhost:8080/"
        },
        "id": "WQrlPsUv4cSc",
        "outputId": "e22620ae-9908-405c-8d08-01d991966bea"
      },
      "execution_count": 10,
      "outputs": [
        {
          "output_type": "stream",
          "name": "stdout",
          "text": [
            "Enter number: 5\n",
            "1 \n",
            "2 4 \n",
            "3 6 9 \n",
            "4 8 12 16 \n",
            "5 10 15 20 25 \n"
          ]
        }
      ]
    },
    {
      "cell_type": "code",
      "source": [
        "rows = 9\n",
        "for i in range(1, rows):\n",
        "  for j in range(-1+i, -1,-1):\n",
        "    print(format(2**j, '4d'), end=' ' )\n",
        "  print('')"
      ],
      "metadata": {
        "colab": {
          "base_uri": "https://localhost:8080/"
        },
        "id": "jNdIxjJs7pqm",
        "outputId": "f844fc2a-5fb4-4e47-eb5d-37e9fec80138"
      },
      "execution_count": 16,
      "outputs": [
        {
          "output_type": "stream",
          "name": "stdout",
          "text": [
            "   1 \n",
            "   2    1 \n",
            "   4    2    1 \n",
            "   8    4    2    1 \n",
            "  16    8    4    2    1 \n",
            "  32   16    8    4    2    1 \n",
            "  64   32   16    8    4    2    1 \n",
            " 128   64   32   16    8    4    2    1 \n"
          ]
        }
      ]
    },
    {
      "cell_type": "code",
      "source": [
        "rows = 9\n",
        "for i in range(1, rows):\n",
        "  for i in range(0, i, 1):\n",
        "    print(format(2**i, '4d'), end=' ')\n",
        "  for i in range(-1+i, -1, -1):\n",
        "    print(format(2**i, '4d'), end=' ')\n",
        "  print('')"
      ],
      "metadata": {
        "colab": {
          "base_uri": "https://localhost:8080/"
        },
        "id": "Wx89u2AoBj3n",
        "outputId": "2b6a662f-4405-47c0-8416-142a12e3090e"
      },
      "execution_count": 18,
      "outputs": [
        {
          "output_type": "stream",
          "name": "stdout",
          "text": [
            "   1 \n",
            "   1    2    1 \n",
            "   1    2    4    2    1 \n",
            "   1    2    4    8    4    2    1 \n",
            "   1    2    4    8   16    8    4    2    1 \n",
            "   1    2    4    8   16   32   16    8    4    2    1 \n",
            "   1    2    4    8   16   32   64   32   16    8    4    2    1 \n",
            "   1    2    4    8   16   32   64  128   64   32   16    8    4    2    1 \n"
          ]
        }
      ]
    },
    {
      "cell_type": "code",
      "source": [
        "current_num = 1\n",
        "rows = 3\n",
        "stop = 2\n",
        "for i in range(rows):\n",
        "  for j in range(1, stop):\n",
        "    print(current_num, end=' ')\n",
        "    current_num += 1\n",
        "  print(' ')\n",
        "  stop+=2"
      ],
      "metadata": {
        "colab": {
          "base_uri": "https://localhost:8080/"
        },
        "id": "26I2PEyQDkvt",
        "outputId": "d1b906c3-e6c0-41c3-c015-243a009c59a2"
      },
      "execution_count": 19,
      "outputs": [
        {
          "output_type": "stream",
          "name": "stdout",
          "text": [
            "1  \n",
            "2 3 4  \n",
            "5 6 7 8 9  \n"
          ]
        }
      ]
    },
    {
      "cell_type": "code",
      "source": [
        "#pyramid of numbers upto 10\n",
        "current_num = 1\n",
        "rows = 4\n",
        "stop = 2\n",
        "\n",
        "for i in range(rows):\n",
        "  for j in range(1, stop):\n",
        "    print(current_num, end=' ')\n",
        "    current_num+=1\n",
        "  print()\n",
        "  stop+=1"
      ],
      "metadata": {
        "colab": {
          "base_uri": "https://localhost:8080/"
        },
        "id": "4bzNw337ELoq",
        "outputId": "958e27d8-d025-46d7-b8f7-1408568cd0ac"
      },
      "execution_count": 1,
      "outputs": [
        {
          "output_type": "stream",
          "name": "stdout",
          "text": [
            "1 \n",
            "2 3 \n",
            "4 5 6 \n",
            "7 8 9 10 \n"
          ]
        }
      ]
    },
    {
      "cell_type": "code",
      "source": [
        "rows = 5\n",
        "last_num = 2*rows\n",
        "even_num = last_num\n",
        "for i in range(1, rows+1):\n",
        "  even_num = last_num\n",
        "  for j in range(i):\n",
        "    print(even_num, end=' ')\n",
        "    even_num -=2\n",
        "  print()"
      ],
      "metadata": {
        "colab": {
          "base_uri": "https://localhost:8080/"
        },
        "id": "4qlAciFihywU",
        "outputId": "f158b528-298c-4ad0-b243-4c4352796b5c"
      },
      "execution_count": 2,
      "outputs": [
        {
          "output_type": "stream",
          "name": "stdout",
          "text": [
            "10 \n",
            "10 8 \n",
            "10 8 6 \n",
            "10 8 6 4 \n",
            "10 8 6 4 2 \n"
          ]
        }
      ]
    },
    {
      "cell_type": "code",
      "source": [
        "rows = 6\n",
        "for i in range(1, rows+1):\n",
        "  for j in range(1, i-1):\n",
        "    print(j, end=' ')\n",
        "  for j in range(i-1, 0, -1):\n",
        "    print(j, end=' ')\n",
        "  print()"
      ],
      "metadata": {
        "colab": {
          "base_uri": "https://localhost:8080/"
        },
        "id": "4BWKgHTAjOGQ",
        "outputId": "85676b53-388d-4d00-96d6-3cd5ae070204"
      },
      "execution_count": 8,
      "outputs": [
        {
          "output_type": "stream",
          "name": "stdout",
          "text": [
            "\n",
            "1 \n",
            "1 2 1 \n",
            "1 2 3 2 1 \n",
            "1 2 3 4 3 2 1 \n",
            "1 2 3 4 5 4 3 2 1 \n"
          ]
        }
      ]
    },
    {
      "cell_type": "code",
      "source": [],
      "metadata": {
        "id": "-asA9Eaqkjol"
      },
      "execution_count": null,
      "outputs": []
    }
  ]
}