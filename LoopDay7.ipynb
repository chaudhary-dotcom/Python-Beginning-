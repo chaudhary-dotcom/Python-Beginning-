{
  "nbformat": 4,
  "nbformat_minor": 0,
  "metadata": {
    "colab": {
      "provenance": [],
      "authorship_tag": "ABX9TyOobzuhkK+u083ETKpmXJD9",
      "include_colab_link": true
    },
    "kernelspec": {
      "name": "python3",
      "display_name": "Python 3"
    },
    "language_info": {
      "name": "python"
    }
  },
  "cells": [
    {
      "cell_type": "markdown",
      "metadata": {
        "id": "view-in-github",
        "colab_type": "text"
      },
      "source": [
        "<a href=\"https://colab.research.google.com/github/chaudhary-dotcom/Python-Beginning-/blob/main/LoopDay7.ipynb\" target=\"_parent\"><img src=\"https://colab.research.google.com/assets/colab-badge.svg\" alt=\"Open In Colab\"/></a>"
      ]
    },
    {
      "cell_type": "code",
      "execution_count": null,
      "metadata": {
        "colab": {
          "base_uri": "https://localhost:8080/"
        },
        "id": "FXfxERA92EAX",
        "outputId": "060dcdf6-3a3a-4f33-ff68-35536d5fdd06"
      },
      "outputs": [
        {
          "output_type": "stream",
          "name": "stdout",
          "text": [
            "\n",
            "1\n",
            "22\n",
            "333\n",
            "4444\n",
            "55555\n"
          ]
        }
      ],
      "source": [
        "rows = 5\n",
        "for i in range(0, rows+1):\n",
        "  for j in range(1, i+1):\n",
        "    print(i, end='')\n",
        "  print()"
      ]
    },
    {
      "cell_type": "code",
      "source": [
        "n = int(input('Enter number: '))\n",
        "for i in range (1,n+1,1):\n",
        "  for j in range(1, i+1,1):\n",
        "    print(i*j, end=' ')\n",
        "  print()"
      ],
      "metadata": {
        "colab": {
          "base_uri": "https://localhost:8080/"
        },
        "id": "WQrlPsUv4cSc",
        "outputId": "e22620ae-9908-405c-8d08-01d991966bea"
      },
      "execution_count": null,
      "outputs": [
        {
          "output_type": "stream",
          "name": "stdout",
          "text": [
            "Enter number: 5\n",
            "1 \n",
            "2 4 \n",
            "3 6 9 \n",
            "4 8 12 16 \n",
            "5 10 15 20 25 \n"
          ]
        }
      ]
    },
    {
      "cell_type": "code",
      "source": [
        "rows = 9\n",
        "for i in range(1, rows):\n",
        "  for j in range(-1+i, -1,-1):\n",
        "    print(format(2**j, '4d'), end=' ' )\n",
        "  print('')"
      ],
      "metadata": {
        "colab": {
          "base_uri": "https://localhost:8080/"
        },
        "id": "jNdIxjJs7pqm",
        "outputId": "f844fc2a-5fb4-4e47-eb5d-37e9fec80138"
      },
      "execution_count": null,
      "outputs": [
        {
          "output_type": "stream",
          "name": "stdout",
          "text": [
            "   1 \n",
            "   2    1 \n",
            "   4    2    1 \n",
            "   8    4    2    1 \n",
            "  16    8    4    2    1 \n",
            "  32   16    8    4    2    1 \n",
            "  64   32   16    8    4    2    1 \n",
            " 128   64   32   16    8    4    2    1 \n"
          ]
        }
      ]
    },
    {
      "cell_type": "code",
      "source": [
        "rows = 9\n",
        "for i in range(1, rows):\n",
        "  for i in range(0, i, 1):\n",
        "    print(format(2**i, '4d'), end=' ')\n",
        "  for i in range(-1+i, -1, -1):\n",
        "    print(format(2**i, '4d'), end=' ')\n",
        "  print('')"
      ],
      "metadata": {
        "colab": {
          "base_uri": "https://localhost:8080/"
        },
        "id": "Wx89u2AoBj3n",
        "outputId": "2b6a662f-4405-47c0-8416-142a12e3090e"
      },
      "execution_count": null,
      "outputs": [
        {
          "output_type": "stream",
          "name": "stdout",
          "text": [
            "   1 \n",
            "   1    2    1 \n",
            "   1    2    4    2    1 \n",
            "   1    2    4    8    4    2    1 \n",
            "   1    2    4    8   16    8    4    2    1 \n",
            "   1    2    4    8   16   32   16    8    4    2    1 \n",
            "   1    2    4    8   16   32   64   32   16    8    4    2    1 \n",
            "   1    2    4    8   16   32   64  128   64   32   16    8    4    2    1 \n"
          ]
        }
      ]
    },
    {
      "cell_type": "code",
      "source": [
        "current_num = 1\n",
        "rows = 3\n",
        "stop = 2\n",
        "for i in range(rows):\n",
        "  for j in range(1, stop):\n",
        "    print(current_num, end=' ')\n",
        "    current_num += 1\n",
        "  print(' ')\n",
        "  stop+=2"
      ],
      "metadata": {
        "colab": {
          "base_uri": "https://localhost:8080/"
        },
        "id": "26I2PEyQDkvt",
        "outputId": "d1b906c3-e6c0-41c3-c015-243a009c59a2"
      },
      "execution_count": null,
      "outputs": [
        {
          "output_type": "stream",
          "name": "stdout",
          "text": [
            "1  \n",
            "2 3 4  \n",
            "5 6 7 8 9  \n"
          ]
        }
      ]
    },
    {
      "cell_type": "code",
      "source": [
        "#pyramid of numbers upto 10\n",
        "current_num = 1\n",
        "rows = 4\n",
        "stop = 2\n",
        "\n",
        "for i in range(rows):\n",
        "  for j in range(1, stop):\n",
        "    print(current_num, end=' ')\n",
        "    current_num+=1\n",
        "  print()\n",
        "  stop+=1"
      ],
      "metadata": {
        "colab": {
          "base_uri": "https://localhost:8080/"
        },
        "id": "4bzNw337ELoq",
        "outputId": "958e27d8-d025-46d7-b8f7-1408568cd0ac"
      },
      "execution_count": null,
      "outputs": [
        {
          "output_type": "stream",
          "name": "stdout",
          "text": [
            "1 \n",
            "2 3 \n",
            "4 5 6 \n",
            "7 8 9 10 \n"
          ]
        }
      ]
    },
    {
      "cell_type": "code",
      "source": [
        "rows = 5\n",
        "last_num = 2*rows\n",
        "even_num = last_num\n",
        "for i in range(1, rows+1):\n",
        "  even_num = last_num\n",
        "  for j in range(i):\n",
        "    print(even_num, end=' ')\n",
        "    even_num -=2\n",
        "  print()"
      ],
      "metadata": {
        "colab": {
          "base_uri": "https://localhost:8080/"
        },
        "id": "4qlAciFihywU",
        "outputId": "f158b528-298c-4ad0-b243-4c4352796b5c"
      },
      "execution_count": null,
      "outputs": [
        {
          "output_type": "stream",
          "name": "stdout",
          "text": [
            "10 \n",
            "10 8 \n",
            "10 8 6 \n",
            "10 8 6 4 \n",
            "10 8 6 4 2 \n"
          ]
        }
      ]
    },
    {
      "cell_type": "code",
      "source": [
        "rows = 6\n",
        "for i in range(1, rows+1):\n",
        "  for j in range(1, i-1):\n",
        "    print(j, end=' ')\n",
        "  for j in range(i-1, 0, -1):\n",
        "    print(j, end=' ')\n",
        "  print()"
      ],
      "metadata": {
        "colab": {
          "base_uri": "https://localhost:8080/"
        },
        "id": "4BWKgHTAjOGQ",
        "outputId": "85676b53-388d-4d00-96d6-3cd5ae070204"
      },
      "execution_count": null,
      "outputs": [
        {
          "output_type": "stream",
          "name": "stdout",
          "text": [
            "\n",
            "1 \n",
            "1 2 1 \n",
            "1 2 3 2 1 \n",
            "1 2 3 4 3 2 1 \n",
            "1 2 3 4 5 4 3 2 1 \n"
          ]
        }
      ]
    },
    {
      "cell_type": "code",
      "source": [
        "#pattern double row in each column\n",
        "rows = 7\n",
        "for i in range(0, rows):\n",
        "  for j in range(0, i+1):\n",
        "    print(i*j, end=' ')\n",
        "  print()"
      ],
      "metadata": {
        "colab": {
          "base_uri": "https://localhost:8080/"
        },
        "id": "-asA9Eaqkjol",
        "outputId": "1ef1b4ae-c002-4962-84d5-5365019346a7"
      },
      "execution_count": null,
      "outputs": [
        {
          "output_type": "stream",
          "name": "stdout",
          "text": [
            "0 \n",
            "0 1 \n",
            "0 2 4 \n",
            "0 3 6 9 \n",
            "0 4 8 12 16 \n",
            "0 5 10 15 20 25 \n",
            "0 6 12 18 24 30 36 \n"
          ]
        }
      ]
    },
    {
      "cell_type": "code",
      "source": [
        "#number reduction\n",
        "rows = 6\n",
        "\n",
        "for i in range(0, rows, 1):\n",
        "\n",
        "  for j in range(i+1, rows, 1):\n",
        "    print(j, end=' ')\n",
        "\n",
        "  print()"
      ],
      "metadata": {
        "colab": {
          "base_uri": "https://localhost:8080/"
        },
        "id": "7FbWw0rxptRu",
        "outputId": "e67407be-62eb-400d-8a5d-996a6d988b3c"
      },
      "execution_count": null,
      "outputs": [
        {
          "output_type": "stream",
          "name": "stdout",
          "text": [
            "1 2 3 4 5 \n",
            "2 3 4 5 \n",
            "3 4 5 \n",
            "4 5 \n",
            "5 \n",
            "\n"
          ]
        }
      ]
    },
    {
      "cell_type": "code",
      "source": [
        "rows = 6\n",
        "for i in range(0, rows):\n",
        "  for j in range(rows-1, i, -1):\n",
        "    print(j, '', end='')\n",
        "  for k in range(i):\n",
        "    print('    ', end='')\n",
        "\n",
        "  for l in range(i+1, rows):\n",
        "    print(l,' ', end='')\n",
        "  print('\\n')"
      ],
      "metadata": {
        "colab": {
          "base_uri": "https://localhost:8080/"
        },
        "id": "0Nw9EFrK5ZLx",
        "outputId": "efc26d0c-4483-498b-b704-d1dad4acfd90"
      },
      "execution_count": null,
      "outputs": [
        {
          "output_type": "stream",
          "name": "stdout",
          "text": [
            "5 4 3 2 1 1  2  3  4  5  \n",
            "\n",
            "5 4 3 2     2  3  4  5  \n",
            "\n",
            "5 4 3         3  4  5  \n",
            "\n",
            "5 4             4  5  \n",
            "\n",
            "5                 5  \n",
            "\n",
            "                    \n",
            "\n"
          ]
        }
      ]
    },
    {
      "cell_type": "code",
      "source": [
        "row = 4\n",
        "for i in range(0, row):\n",
        "  c = 1\n",
        "  print(c, end='')\n",
        "  for j in range(row-i-1, 0, -1):\n",
        "    print(' * ', end='')\n",
        "    c = c+1\n",
        "    print(c, end='')\n",
        "  print('\\n')"
      ],
      "metadata": {
        "colab": {
          "base_uri": "https://localhost:8080/"
        },
        "id": "1cqU0pIx9IN0",
        "outputId": "3c9e3776-2e90-40f3-9a7c-7b902f1f8d5c"
      },
      "execution_count": null,
      "outputs": [
        {
          "output_type": "stream",
          "name": "stdout",
          "text": [
            "1 * 2 * 3 * 4\n",
            "\n",
            "1 * 2 * 3\n",
            "\n",
            "1 * 2\n",
            "\n",
            "1\n",
            "\n"
          ]
        }
      ]
    },
    {
      "cell_type": "code",
      "source": [
        "num = 4\n",
        "counter = 0\n",
        "for i in range(0, num):\n",
        "  for j in range(0, i+1):\n",
        "    print(counter, end=' ')\n",
        "    counter = 2**(i+1)\n",
        "  print('\\n')"
      ],
      "metadata": {
        "colab": {
          "base_uri": "https://localhost:8080/"
        },
        "id": "9WaTPaSF-4Li",
        "outputId": "7ad8a35e-df0e-42b6-fc8f-0ea9f3f7fe25"
      },
      "execution_count": null,
      "outputs": [
        {
          "output_type": "stream",
          "name": "stdout",
          "text": [
            "0 \n",
            "\n",
            "2 4 \n",
            "\n",
            "4 8 8 \n",
            "\n",
            "8 16 16 16 \n",
            "\n"
          ]
        }
      ]
    },
    {
      "cell_type": "code",
      "source": [
        "#calculate sum and average of number\n",
        "n = int(input('Enter Number: '))\n",
        "sum = 0\n",
        "for i in range(1, n+1, 1):\n",
        "  sum = sum + i\n",
        "print(\"Sum: \", sum)\n",
        "average = sum/n\n",
        "print('Average: ', average)"
      ],
      "metadata": {
        "colab": {
          "base_uri": "https://localhost:8080/"
        },
        "id": "8AJR9ZSPMD6A",
        "outputId": "4195bc0f-a833-459e-b63a-700ed83065b7"
      },
      "execution_count": 40,
      "outputs": [
        {
          "output_type": "stream",
          "name": "stdout",
          "text": [
            "Enter Number: 10\n",
            "Sum:  55\n",
            "Average:  5.5\n"
          ]
        }
      ]
    },
    {
      "cell_type": "code",
      "source": [],
      "metadata": {
        "id": "XZwCiWXBOhoS"
      },
      "execution_count": 48,
      "outputs": []
    },
    {
      "cell_type": "code",
      "source": [
        "list1 = [10,20.5,30,45.5,50]\n",
        "sum = 0\n",
        "for num in list1:\n",
        "  sum = sum+num\n",
        "print(\"Sum: \", sum)\n",
        "average = sum/len(list1)\n",
        "print(average)"
      ],
      "metadata": {
        "colab": {
          "base_uri": "https://localhost:8080/"
        },
        "id": "9Dif1HYsPwRO",
        "outputId": "677fe4d9-307e-4791-f792-125f42182340"
      },
      "execution_count": 49,
      "outputs": [
        {
          "output_type": "stream",
          "name": "stdout",
          "text": [
            "Sum:  156.0\n",
            "31.2\n"
          ]
        }
      ]
    },
    {
      "cell_type": "code",
      "source": [
        "n = 20\n",
        "res = n*(n+1)/2\n",
        "print('Sum of', n, 'Number is: ', res)\n",
        "average = (n* (n+1)/2) / n\n",
        "print('Average: ', average)"
      ],
      "metadata": {
        "colab": {
          "base_uri": "https://localhost:8080/"
        },
        "id": "i8XrvU2oVMyp",
        "outputId": "67e9410d-48b0-4021-fbef-5d58316f5afd"
      },
      "execution_count": 50,
      "outputs": [
        {
          "output_type": "stream",
          "name": "stdout",
          "text": [
            "Sum of 20 Number is:  210.0\n",
            "Average:  10.5\n"
          ]
        }
      ]
    },
    {
      "cell_type": "code",
      "source": [
        "n = int(input('Enter number: '))\n",
        "total_numbers = n\n",
        "sum = 0\n",
        "while n >= 0:\n",
        "  sum += n\n",
        "  n -= 1\n",
        "print('Sum: ', sum)\n",
        "\n",
        "average = sum / total_numbers\n",
        "\n",
        "\n",
        "print('Average: ', average)"
      ],
      "metadata": {
        "colab": {
          "base_uri": "https://localhost:8080/"
        },
        "id": "DraSl8viWDax",
        "outputId": "12c88f3a-e01a-471b-da99-a415e68c7610"
      },
      "execution_count": 53,
      "outputs": [
        {
          "output_type": "stream",
          "name": "stdout",
          "text": [
            "Enter number: 20\n",
            "Sum:  210\n",
            "Average:  10.5\n"
          ]
        }
      ]
    },
    {
      "cell_type": "code",
      "source": [
        "#Add two matrix\n",
        "matrixOne = [[6,9,11],[2,3,8]]\n",
        "matrixTwo = [[15,18,11], [26,16,19]]\n",
        "\n",
        "result = [[0,0,0],[0,0,0]]\n",
        "\n",
        "for i in range(len(matrixOne)):\n",
        "  for j in range(len(matrixOne[0])):\n",
        "    result[i][j] = matrixOne[i][j] + matrixTwo[i][j]\n",
        "print('Addition of two matrix in python')\n",
        "for res in result:\n",
        "  print(res)"
      ],
      "metadata": {
        "colab": {
          "base_uri": "https://localhost:8080/"
        },
        "id": "-bUfPniCXhsZ",
        "outputId": "927dd5c3-4826-4740-857c-ab2d8fe93c85"
      },
      "execution_count": 55,
      "outputs": [
        {
          "output_type": "stream",
          "name": "stdout",
          "text": [
            "Addition of two matrix in python\n",
            "[21, 27, 22]\n",
            "[28, 19, 27]\n"
          ]
        }
      ]
    }
  ]
}