{
  "nbformat": 4,
  "nbformat_minor": 0,
  "metadata": {
    "colab": {
      "provenance": [],
      "authorship_tag": "ABX9TyNyV0QKfzKfDXM9U3J4rv2c",
      "include_colab_link": true
    },
    "kernelspec": {
      "name": "python3",
      "display_name": "Python 3"
    },
    "language_info": {
      "name": "python"
    }
  },
  "cells": [
    {
      "cell_type": "markdown",
      "metadata": {
        "id": "view-in-github",
        "colab_type": "text"
      },
      "source": [
        "<a href=\"https://colab.research.google.com/github/chaudhary-dotcom/Python-Beginning-/blob/main/Dictionary_Exercise.ipynb\" target=\"_parent\"><img src=\"https://colab.research.google.com/assets/colab-badge.svg\" alt=\"Open In Colab\"/></a>"
      ]
    },
    {
      "cell_type": "code",
      "execution_count": 2,
      "metadata": {
        "id": "YyuNreIaCcbw"
      },
      "outputs": [],
      "source": [
        "#convert two lists into a dictionary\n",
        "keys = ['Ten', 'Twenty', 'Thirty']\n",
        "values = [10, 20, 30]\n"
      ]
    },
    {
      "cell_type": "code",
      "source": [
        "res_dict= dict(zip(keys, values))\n",
        "print(res_dict)\n"
      ],
      "metadata": {
        "colab": {
          "base_uri": "https://localhost:8080/"
        },
        "id": "rcGAUa1JShvT",
        "outputId": "3019605b-3252-46bf-e515-0c08e40d7a11"
      },
      "execution_count": 3,
      "outputs": [
        {
          "output_type": "stream",
          "name": "stdout",
          "text": [
            "{'Ten': 10, 'Twenty': 20, 'Thirty': 30}\n"
          ]
        }
      ]
    },
    {
      "cell_type": "code",
      "source": [
        "#using for loop and update\n",
        "res_dict=dict()\n",
        "\n",
        "for i in range(len(keys)):\n",
        "  res_dict.update({keys[i]: values[i]})\n",
        "print(res_dict)"
      ],
      "metadata": {
        "colab": {
          "base_uri": "https://localhost:8080/"
        },
        "id": "qzsKzKD3S2Xt",
        "outputId": "b82e9f7f-627a-4587-ea6f-a7bc6fc0e55d"
      },
      "execution_count": 5,
      "outputs": [
        {
          "output_type": "stream",
          "name": "stdout",
          "text": [
            "{'Ten': 10, 'Twenty': 20, 'Thirty': 30}\n"
          ]
        }
      ]
    },
    {
      "cell_type": "code",
      "source": [
        "#merge two python dictionaries into one\n",
        "dict1 = {'Ten': 10, 'Twenty': 20, 'Thirty': 30}\n",
        "dict2 = {'Thirty': 30, 'Fourty': 40, 'Fifty': 50}\n",
        "\n",
        "merge = {**dict1,**dict2}\n",
        "print(merge)"
      ],
      "metadata": {
        "colab": {
          "base_uri": "https://localhost:8080/"
        },
        "id": "dzcERY1eTlE5",
        "outputId": "7b67385d-0e2e-46d9-a5c9-8022e2767e3c"
      },
      "execution_count": 9,
      "outputs": [
        {
          "output_type": "stream",
          "name": "stdout",
          "text": [
            "{'Ten': 10, 'Twenty': 20, 'Thirty': 30, 'Fourty': 40, 'Fifty': 50}\n"
          ]
        }
      ]
    },
    {
      "cell_type": "code",
      "source": [
        "dict3 = dict1.copy()\n",
        "dict3.update(dict2)\n",
        "print(dict3)"
      ],
      "metadata": {
        "colab": {
          "base_uri": "https://localhost:8080/"
        },
        "id": "Uo5ITbWuUjCC",
        "outputId": "57c11348-ca55-495a-c8df-71a1bd82d3fb"
      },
      "execution_count": 10,
      "outputs": [
        {
          "output_type": "stream",
          "name": "stdout",
          "text": [
            "{'Ten': 10, 'Twenty': 20, 'Thirty': 30, 'Fourty': 40, 'Fifty': 50}\n"
          ]
        }
      ]
    },
    {
      "cell_type": "code",
      "source": [
        "#Print the value of key 'history' from the below dict\n",
        "sampleDict = {\n",
        "    \"class\": {\n",
        "        \"student\": {\n",
        "            \"name\": \"Mike\",\n",
        "            \"marks\": {\n",
        "                \"Physics\": 70,\n",
        "                \"history\": 80\n",
        "            }\n",
        "        }\n",
        "    }\n",
        "}\n",
        "\n",
        "sample = sampleDict['class']['student']['marks']['history']\n",
        "print(sample)"
      ],
      "metadata": {
        "colab": {
          "base_uri": "https://localhost:8080/"
        },
        "id": "8oknGqSvU6pR",
        "outputId": "ecd8cbbf-c027-4be1-80ef-c873d47d16ef"
      },
      "execution_count": 13,
      "outputs": [
        {
          "output_type": "stream",
          "name": "stdout",
          "text": [
            "80\n"
          ]
        }
      ]
    },
    {
      "cell_type": "code",
      "source": [
        "#Initilize dictionary with default values\n",
        "employes = ['Kellay', 'Emma']\n",
        "defaults = {\n",
        "    'designation': 'Developer',\n",
        "    'salary': 8000\n",
        "}\n",
        "\n",
        "res = dict.fromkeys(employes, defaults)\n",
        "print(res)\n",
        "print(res['Emma'])"
      ],
      "metadata": {
        "colab": {
          "base_uri": "https://localhost:8080/"
        },
        "id": "V94IsmG1WpIP",
        "outputId": "2155aeb9-80e6-4b75-a434-12586f5bc096"
      },
      "execution_count": 15,
      "outputs": [
        {
          "output_type": "stream",
          "name": "stdout",
          "text": [
            "{'Kellay': {'designation': 'Developer', 'salary': 8000}, 'Emma': {'designation': 'Developer', 'salary': 8000}}\n",
            "{'designation': 'Developer', 'salary': 8000}\n"
          ]
        }
      ]
    },
    {
      "cell_type": "code",
      "source": [
        "#create a dictionary by extracting the keys from a given dictionary\n",
        "sample_dict = {\n",
        "    \"name\": \"Kelly\",\n",
        "    \"age\": 25,\n",
        "    \"salary\": 8000,\n",
        "    \"city\": \"New york\"\n",
        "}\n",
        "#keys to extract\n",
        "keys = ['name', 'salary']\n"
      ],
      "metadata": {
        "id": "FpL22yUxYCO4"
      },
      "execution_count": 20,
      "outputs": []
    },
    {
      "cell_type": "code",
      "source": [
        "#using the update() method and loop\n",
        "\n",
        "#new dict\n",
        "res = dict()\n",
        "\n",
        "for k in keys:\n",
        "  res.update({k: sample_dict[k]})\n",
        "print(res)"
      ],
      "metadata": {
        "colab": {
          "base_uri": "https://localhost:8080/"
        },
        "id": "8F6F7QV0aiVN",
        "outputId": "c0807358-bd72-453c-c617-b99c39d0ecc9"
      },
      "execution_count": 23,
      "outputs": [
        {
          "output_type": "stream",
          "name": "stdout",
          "text": [
            "{'name': 'Kelly', 'salary': 8000}\n"
          ]
        }
      ]
    },
    {
      "cell_type": "code",
      "source": [
        "#Dictionary comprehension\n",
        "newDict = {k: sample_dict[k] for k in keys}\n",
        "print(newDict)"
      ],
      "metadata": {
        "colab": {
          "base_uri": "https://localhost:8080/"
        },
        "id": "yRc5xfb4bBxb",
        "outputId": "97382b07-d270-45f3-edf3-e9b216be461e"
      },
      "execution_count": 24,
      "outputs": [
        {
          "output_type": "stream",
          "name": "stdout",
          "text": [
            "{'name': 'Kelly', 'salary': 8000}\n"
          ]
        }
      ]
    },
    {
      "cell_type": "code",
      "source": [
        "#Delete a list of keys from a dictionary\n",
        "sample_dict = {\n",
        "    \"name\": \"Kelly\",\n",
        "    \"age\": 25,\n",
        "    \"salary\": 8000,\n",
        "    \"city\": \"New york\"\n",
        "}\n",
        "\n",
        "#keys to remove\n",
        "keys = [\"name\", \"salary\"]\n"
      ],
      "metadata": {
        "id": "PJWG8lH3bxdX"
      },
      "execution_count": 30,
      "outputs": []
    },
    {
      "cell_type": "code",
      "source": [
        "#Using the pop() method and loop\n",
        "for k in keys:\n",
        "  sample_dict.pop(k)\n",
        "print(sample_dict)"
      ],
      "metadata": {
        "colab": {
          "base_uri": "https://localhost:8080/"
        },
        "id": "sCypiurJdkka",
        "outputId": "1cd2783e-3028-4318-b7e3-b7d4e08d63f8"
      },
      "execution_count": 31,
      "outputs": [
        {
          "output_type": "stream",
          "name": "stdout",
          "text": [
            "{'age': 25, 'city': 'New york'}\n"
          ]
        }
      ]
    },
    {
      "cell_type": "code",
      "source": [
        "#Dictionary comprehension\n",
        "sample_dict = {k: sample_dict[k] for k in sample_dict.keys()-keys}\n",
        "print(sample_dict)"
      ],
      "metadata": {
        "colab": {
          "base_uri": "https://localhost:8080/"
        },
        "id": "4BmY5aXOd0bW",
        "outputId": "80aa0dcd-95ed-46dd-ece4-567acc0d7a26"
      },
      "execution_count": 32,
      "outputs": [
        {
          "output_type": "stream",
          "name": "stdout",
          "text": [
            "{'city': 'New york', 'age': 25}\n"
          ]
        }
      ]
    },
    {
      "cell_type": "code",
      "source": [
        "#check if a value exists in a dictionary\n",
        "sample_dict = {'a': 100, 'b': 200, 'c': 300}\n",
        "\n",
        "if 200 in sample_dict.values():\n",
        "  print('200 present in a dict')\n",
        "else:\n",
        "  print(\"error\")"
      ],
      "metadata": {
        "colab": {
          "base_uri": "https://localhost:8080/"
        },
        "id": "TIoADoYleb5H",
        "outputId": "40393b7c-b972-4ab7-83bd-c093669220e7"
      },
      "execution_count": 38,
      "outputs": [
        {
          "output_type": "stream",
          "name": "stdout",
          "text": [
            "200 present in a dict\n"
          ]
        }
      ]
    },
    {
      "cell_type": "code",
      "source": [
        "#Rename key of dictionary\n",
        "#WAP to rename a key city to location in the following dictionary\n",
        "\n",
        "sample_dict = {\n",
        "    'name': 'Kelly',\n",
        "    'age': 25,\n",
        "    'salary': 8000,\n",
        "    'city': 'New york'\n",
        "}\n",
        "sample_dict['location'] = sample_dict.pop('city')\n",
        "print(sample_dict)"
      ],
      "metadata": {
        "colab": {
          "base_uri": "https://localhost:8080/"
        },
        "id": "9rBw3dfdfJrN",
        "outputId": "b81b9dc6-9788-4009-ff43-1cb0b68ab27f"
      },
      "execution_count": 39,
      "outputs": [
        {
          "output_type": "stream",
          "name": "stdout",
          "text": [
            "{'name': 'Kelly', 'age': 25, 'salary': 8000, 'location': 'New york'}\n"
          ]
        }
      ]
    },
    {
      "cell_type": "code",
      "source": [
        "#get the key of a minimum value from the following dictionary\n",
        "sample_dict = {\n",
        "    'Physics': 82,\n",
        "    'Math': 65,\n",
        "    'history': 75\n",
        "}\n",
        "\n",
        "print(min(sample_dict, key=sample_dict.get))"
      ],
      "metadata": {
        "colab": {
          "base_uri": "https://localhost:8080/"
        },
        "id": "pXIkn3rchMyU",
        "outputId": "ffda30b1-591f-4168-90c4-6c06f942499f"
      },
      "execution_count": 42,
      "outputs": [
        {
          "output_type": "stream",
          "name": "stdout",
          "text": [
            "Math\n"
          ]
        }
      ]
    },
    {
      "cell_type": "code",
      "source": [
        "#change value of a key in a nested dictionary\n",
        "#WAP to change Brad's salary to 8500 in the following dictionary\n",
        "\n",
        "sample_dict = {\n",
        "    'emp1': {'name': 'John', 'salary': 7500},\n",
        "    'emp2': {'name': 'Emma', 'salary': 8000},\n",
        "    'emp3': {'name': 'Brad', 'salary': 6500}\n",
        "}\n",
        "\n",
        "sample_dict['emp3']['salary'] = 8500\n",
        "print(sample_dict)"
      ],
      "metadata": {
        "colab": {
          "base_uri": "https://localhost:8080/"
        },
        "id": "hYLSVGOdifPQ",
        "outputId": "b5a230c1-7669-4249-f1d5-43be069c3061"
      },
      "execution_count": 43,
      "outputs": [
        {
          "output_type": "stream",
          "name": "stdout",
          "text": [
            "{'emp1': {'name': 'John', 'salary': 7500}, 'emp2': {'name': 'Emma', 'salary': 8000}, 'emp3': {'name': 'Brad', 'salary': 8500}}\n"
          ]
        }
      ]
    },
    {
      "cell_type": "code",
      "source": [
        "#copying dictionary\n",
        "dict1 =  {\n",
        "    'a': 1,\n",
        "    'b': 2\n",
        "}\n",
        "dict2 = {\n",
        "    'c': 3,\n",
        "    'd': 4\n",
        "}\n",
        "\n",
        "dic3 = dict1.copy()\n",
        "print(dic3)\n",
        "\n",
        "dic3['b']\n",
        "print(dic3['b'])\n",
        "\n",
        "dict4= dict2\n",
        "print(dict4)\n",
        "\n",
        "#merge\n",
        "dict5 = {**dict1, **dict2}\n",
        "print(dict5)"
      ],
      "metadata": {
        "colab": {
          "base_uri": "https://localhost:8080/"
        },
        "id": "-Qb0oIn1qNfZ",
        "outputId": "07d3df91-2e05-4532-bdc1-c1519b4d59d2"
      },
      "execution_count": 52,
      "outputs": [
        {
          "output_type": "stream",
          "name": "stdout",
          "text": [
            "{'a': 1, 'b': 2}\n",
            "2\n",
            "{'c': 3, 'd': 4}\n",
            "{'a': 1, 'b': 2, 'c': 3, 'd': 4}\n"
          ]
        }
      ]
    }
  ]
}