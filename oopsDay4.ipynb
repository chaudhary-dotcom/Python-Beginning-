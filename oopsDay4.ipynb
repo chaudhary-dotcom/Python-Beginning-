{
 "cells": [
  {
   "cell_type": "code",
   "execution_count": null,
   "metadata": {},
   "outputs": [],
   "source": [
    "# #Bank account system\n",
    "class BankAccount:\n",
    "    def __init__(self, account_number, account_holder, balance):\n",
    "        self.account_number = account_number\n",
    "        self.account_holder = account_holder\n",
    "        self.balance = balance\n",
    "\n",
    "    def deposite(self, amount):\n",
    "        try:\n",
    "            amount = float(amount)\n",
    "            if amount > 0:\n",
    "                self.balance += amount\n",
    "                print(f\"{amount} has been credited\")\n",
    "                print(f\"{self.balance} is your current balance\")\n",
    "            \n",
    "            else:\n",
    "                (\"Invalid! enter positive number\")\n",
    "\n",
    "        except ValueError:\n",
    "            print('Invalid! enter numeric value')\n",
    "    \n",
    "    def withdraw(self, amount):\n",
    "        try:\n",
    "            amount = float(amount)\n",
    "\n",
    "            if amount > 0:\n",
    "                \n",
    "                if amount <= self.balance:\n",
    "                    self.balance -= amount\n",
    "                    print(f'{amount} is debited')\n",
    "                    print(f'{self.balance} is your current balance.')\n",
    "                    \n",
    "\n",
    "                else:\n",
    "                    print(f\"Insufficient ! balance.\")\n",
    "            else:\n",
    "                print('Enter positive value')\n",
    "        except ValueError:\n",
    "            print('Invalid! enter numeric')\n",
    "    \n",
    "    def get_balance(self):\n",
    "        print(f\"Account holder: {self.account_holder}\")\n",
    "        print(f\"Account Number: {self.account_number}\")\n",
    "        print(f'Current balance: {self.balance}')\n",
    "\n",
    "class SavingAccount(BankAccount):\n",
    "    def __init__(self, account_number, account_holder, balance = 0.0):\n",
    "        super().__init__(account_number, account_holder, balance)\n",
    "    \n",
    "    def withdraw(self, amount):\n",
    "        if amount > 500:\n",
    "            print('Withdrawal failed. The maximum limit per transactio is $500.')\n",
    "        \n",
    "        else:\n",
    "            super().withdraw(amount)\n",
    "    \n",
    "    def add_intrest(self, rate):\n",
    "        if rate < 0:\n",
    "            print('Intrest rate must be positive')\n",
    "        \n",
    "        else:\n",
    "            intrest = self.balance * (rate / 100)\n",
    "            self.balance += intrest\n",
    "            print(f\"Intrest rate: {rate}, Intrest: {intrest:.2f} added. New balance: {self.balance}\")\n",
    "        \n"
   ]
  },
  {
   "cell_type": "code",
   "execution_count": 80,
   "metadata": {},
   "outputs": [
    {
     "name": "stdout",
     "output_type": "stream",
     "text": [
      "10000.0 has been credited\n",
      "10050.0 is your current balance\n"
     ]
    }
   ],
   "source": [
    "# bank1 = BankAccount(1122, 'Tripathi', 100)\n",
    "# bank1.balance\n",
    "# bank1.withdraw(50)\n",
    "# bank1.deposite(500)\n",
    "# bank1.withdraw(50)\n",
    "# bank1.withdraw(600)\n",
    "# bank1.withdraw(500)\n",
    "# bank1.deposite(1000)\n",
    "# bank1.withdraw('d')\n",
    "# bank1.deposite('s')\n",
    "# bank1.get_balance()\n",
    "\n",
    "# bank2 = SavingAccount('5567', 'Mukesh', 500)\n",
    "# bank2.withdraw(-10)\n",
    "# bank2.add_intrest(5)\n",
    "# bank2.deposite(1200)\n",
    "# bank2.add_intrest(5)\n",
    "# bank2.withdraw(100)\n",
    "# bank2.withdraw(1000)\n",
    "# bank2.withdraw(400)\n",
    "# bank2.withdraw(1000)\n",
    "\n",
    "# bank3 = BankAccount(\"6665g\", \"Hirachand\", 1000)\n",
    "# bank3.withdraw(500)\n",
    "# bank3.deposite(1000)\n",
    "# bank3.withdraw(1500)\n",
    "\n",
    "# bank4 = SavingAccount(\"65656\", \"Duryodhan\", 100)\n",
    "# bank4.deposite(1000)\n",
    "# bank4.withdraw(1000)\n",
    "# bank4.add_intrest(10)\n",
    "# bank4.get_balance()\n",
    "\n",
    "bank5 = BankAccount(\"1234521\", \"Minali\", 50)\n",
    "bank5.deposite(10000)\n"
   ]
  },
  {
   "cell_type": "code",
   "execution_count": null,
   "metadata": {},
   "outputs": [],
   "source": []
  },
  {
   "cell_type": "code",
   "execution_count": 96,
   "metadata": {},
   "outputs": [
    {
     "name": "stdout",
     "output_type": "stream",
     "text": [
      "defg\n"
     ]
    }
   ],
   "source": [
    "#Private attribute\n",
    "class Bank:\n",
    "    def __init__(self, acc_no, acc_pas):\n",
    "        self.acc_no = acc_no\n",
    "        self.__acc_pas = acc_pas #account password is creating private: '__acc_pas'\n",
    "\n",
    "    def reset_pas(self):\n",
    "        print(self.__acc_pas)\n",
    "bank1 = Bank(1223, 'defg')\n",
    "bank1.reset_pas()"
   ]
  },
  {
   "cell_type": "code",
   "execution_count": 103,
   "metadata": {},
   "outputs": [
    {
     "name": "stdout",
     "output_type": "stream",
     "text": [
      "Hello person\n",
      "anonymous\n"
     ]
    }
   ],
   "source": [
    "class Person:\n",
    "    __name = 'anonymous'\n",
    "\n",
    "    def __hello(self):\n",
    "        print('Hello person')\n",
    "    \n",
    "    def welcome(self):\n",
    "        self.__hello()\n",
    "        print(self.__name)\n",
    "        \n",
    "\n",
    "p1 = Person()\n",
    "p1.welcome()"
   ]
  },
  {
   "cell_type": "code",
   "execution_count": 122,
   "metadata": {},
   "outputs": [
    {
     "data": {
      "text/plain": [
       "'SUV'"
      ]
     },
     "execution_count": 122,
     "metadata": {},
     "output_type": "execute_result"
    }
   ],
   "source": [
    "#Types of inheritance: \n",
    "#Single Inheritance and Multi-level inheritance\n",
    "class Car:\n",
    "    @staticmethod\n",
    "    def start():\n",
    "        print('Car Started')\n",
    "    @staticmethod\n",
    "    def stop():\n",
    "        print('Car Stopped')\n",
    "\n",
    "class ToyotaCar(Car):\n",
    "    def __init__(self, brand):\n",
    "        self.brand = brand\n",
    "\n",
    "class Fortuner(ToyotaCar):\n",
    "    def __init__(self, type):\n",
    "        self.type = type\n",
    "        \n",
    "\n",
    "\n",
    "# car1 = Car\n",
    "# car1.start()\n",
    "# car1.stop()\n",
    "car2 = ToyotaCar(\"SUV\")\n",
    "# car2.start()\n",
    "# car2.stop()\n",
    "car2.brand\n",
    "\n",
    "# car3 = Fortuner(\"Disel\")\n",
    "# car3.start()\n",
    "# car3.stop()\n",
    "# car3.type"
   ]
  },
  {
   "cell_type": "code",
   "execution_count": 127,
   "metadata": {},
   "outputs": [
    {
     "name": "stdout",
     "output_type": "stream",
     "text": [
      "Welcome to class A\n",
      "Welcome to class B\n",
      "Welcome to class C\n"
     ]
    },
    {
     "data": {
      "text/plain": [
       "'Welcome to class A'"
      ]
     },
     "execution_count": 127,
     "metadata": {},
     "output_type": "execute_result"
    }
   ],
   "source": [
    "#Multiple Inheritance\n",
    "class A:\n",
    "    varA = 'Welcome to class A'\n",
    "\n",
    "class B:\n",
    "    varB = 'Welcome to class B'\n",
    "\n",
    "class C(A, B):\n",
    "    varC = 'Welcome to class C'\n",
    "\n",
    "c1 = C()\n",
    "print(c1.varA)\n",
    "print(c1.varB)\n",
    "print(c1.varC)\n",
    "c1.varA"
   ]
  },
  {
   "cell_type": "code",
   "execution_count": 137,
   "metadata": {},
   "outputs": [
    {
     "name": "stdout",
     "output_type": "stream",
     "text": [
      "Car Started..\n"
     ]
    },
    {
     "data": {
      "text/plain": [
       "'Electric'"
      ]
     },
     "execution_count": 137,
     "metadata": {},
     "output_type": "execute_result"
    }
   ],
   "source": [
    "#Super method\n",
    "class Car:\n",
    "    def __init__(self, type):\n",
    "        self.type = type\n",
    "    \n",
    "    @staticmethod\n",
    "    def start():\n",
    "        print('Car Started..')\n",
    "    \n",
    "    def stop():\n",
    "        print('Car stoped')\n",
    "\n",
    "class ToyotaCar(Car):\n",
    "    def __init__(self, name, type):\n",
    "        super().__init__(type)\n",
    "        self.name = name\n",
    "        super().start()\n",
    "\n",
    "car1 = ToyotaCar('Tesla', 'Electric')\n",
    "car1.type\n"
   ]
  },
  {
   "cell_type": "code",
   "execution_count": null,
   "metadata": {},
   "outputs": [],
   "source": []
  }
 ],
 "metadata": {
  "kernelspec": {
   "display_name": "base",
   "language": "python",
   "name": "python3"
  },
  "language_info": {
   "codemirror_mode": {
    "name": "ipython",
    "version": 3
   },
   "file_extension": ".py",
   "mimetype": "text/x-python",
   "name": "python",
   "nbconvert_exporter": "python",
   "pygments_lexer": "ipython3",
   "version": "3.12.7"
  }
 },
 "nbformat": 4,
 "nbformat_minor": 2
}
