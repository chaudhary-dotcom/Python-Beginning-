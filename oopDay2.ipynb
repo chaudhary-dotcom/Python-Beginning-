{
  "cells": [
    {
      "cell_type": "markdown",
      "metadata": {
        "id": "view-in-github",
        "colab_type": "text"
      },
      "source": [
        "<a href=\"https://colab.research.google.com/github/chaudhary-dotcom/Python-Beginning-/blob/main/oopDay2.ipynb\" target=\"_parent\"><img src=\"https://colab.research.google.com/assets/colab-badge.svg\" alt=\"Open In Colab\"/></a>"
      ]
    },
    {
      "cell_type": "code",
      "execution_count": null,
      "metadata": {
        "colab": {
          "base_uri": "https://localhost:8080/"
        },
        "id": "53UHbw_QpmtH",
        "outputId": "06cc0fa5-300a-4c52-cfae-97f992f7a1cc"
      },
      "outputs": [
        {
          "name": "stdout",
          "output_type": "stream",
          "text": [
            "Fortuner\n",
            "Car start\n",
            "Black\n"
          ]
        }
      ],
      "source": [
        "class Car:\n",
        "  color = 'Black'\n",
        "  @staticmethod\n",
        "  def start():\n",
        "    print('Car start')\n",
        "\n",
        "  @staticmethod\n",
        "  def stop():\n",
        "    print('Car Stoped')\n",
        "\n",
        "class ToyotaCar(Car):\n",
        "    def __init__(self, name):\n",
        "      self.name = name\n",
        "\n",
        "car1 = ToyotaCar('Fortuner')\n",
        "print(car1.name)\n",
        "car1.start()\n",
        "print(car1.color)\n"
      ]
    },
    {
      "cell_type": "code",
      "execution_count": null,
      "metadata": {
        "colab": {
          "base_uri": "https://localhost:8080/"
        },
        "id": "dPR0sEqluEXB",
        "outputId": "b76e5c5d-ecc7-4df7-c5cf-78cf0bf18b42"
      },
      "outputs": [
        {
          "name": "stdout",
          "output_type": "stream",
          "text": [
            "Welcome to class C\n",
            "Welcome to class B\n",
            "Welcome to class A\n"
          ]
        }
      ],
      "source": [
        "#Multiple inheritance\n",
        "class A:\n",
        "  varA = 'Welcome to class A'\n",
        "\n",
        "class B:\n",
        "  varB = 'Welcome to class B'\n",
        "\n",
        "class C(A, B):\n",
        "  varC = 'Welcome to class C'\n",
        "\n",
        "c1 = C()\n",
        "print(c1.varC)\n",
        "print(c1.varB)\n",
        "print(c1.varA)"
      ]
    },
    {
      "cell_type": "code",
      "execution_count": null,
      "metadata": {
        "colab": {
          "base_uri": "https://localhost:8080/"
        },
        "id": "62e-St0Su0RA",
        "outputId": "06eea0f3-f1aa-4eb0-83f1-1d94b29c7e04"
      },
      "outputs": [
        {
          "name": "stdout",
          "output_type": "stream",
          "text": [
            "Car started\n",
            "Car stopped..\n",
            "Electric\n",
            "Tesla\n"
          ]
        }
      ],
      "source": [
        "#Super method\n",
        "class Car:\n",
        "  def __init__(self, type):\n",
        "    self.type = type\n",
        "\n",
        "  @staticmethod\n",
        "  def start():\n",
        "    print('Car started')\n",
        "\n",
        "  @staticmethod\n",
        "  def stop():\n",
        "    print('Car stopped..')\n",
        "\n",
        "class ToyotaCar(Car):\n",
        "  def __init__(self, name, type):\n",
        "    super().__init__(type)\n",
        "    self.name = name\n",
        "    super().start()\n",
        "    super().stop()\n",
        "\n",
        "car1 = ToyotaCar('Tesla', 'Electric')\n",
        "print(car1.type)\n",
        "print(car1.name)"
      ]
    },
    {
      "cell_type": "code",
      "execution_count": null,
      "metadata": {
        "colab": {
          "base_uri": "https://localhost:8080/"
        },
        "id": "MRLXP2Qzx2KJ",
        "outputId": "6a4f2732-7930-4450-bd16-219d933c30bd"
      },
      "outputs": [
        {
          "name": "stdout",
          "output_type": "stream",
          "text": [
            "anonymous\n",
            "Rahul Kumar\n"
          ]
        }
      ],
      "source": [
        "class Person:\n",
        "  name = 'anonymous'\n",
        "\n",
        "  def changeName(self, name):\n",
        "    self.name = name\n",
        "\n",
        "p1 = Person()\n",
        "print(p1.name)\n",
        "\n",
        "p1.changeName('Rahul Kumar')\n",
        "print(p1.name)"
      ]
    },
    {
      "cell_type": "code",
      "execution_count": null,
      "metadata": {
        "colab": {
          "base_uri": "https://localhost:8080/"
        },
        "id": "Nm-enM3u2LM4",
        "outputId": "2d364c60-614a-46de-f91f-500f977020fb"
      },
      "outputs": [
        {
          "name": "stdout",
          "output_type": "stream",
          "text": [
            "80.33333333333333%\n",
            "96\n",
            "86.33333333333333%\n"
          ]
        }
      ],
      "source": [
        "class Student:\n",
        "  def __init__(self, phy, chem, math):\n",
        "    self.phy = phy\n",
        "    self.chem = chem\n",
        "    self.math = math\n",
        "\n",
        "  @property\n",
        "  def percentage(self):\n",
        "   return str((self.phy + self.chem + self.math)/3) + '%'\n",
        "\n",
        "s1 = Student(78, 65, 98)\n",
        "print(s1.percentage)\n",
        "\n",
        "s1.phy = 96\n",
        "print(s1.phy)\n",
        "print(s1.percentage)"
      ]
    },
    {
      "cell_type": "code",
      "execution_count": null,
      "metadata": {
        "colab": {
          "base_uri": "https://localhost:8080/"
        },
        "id": "-CbTY1iP-TYP",
        "outputId": "bf85673c-0540-4eee-bed4-2fc47da0f91e"
      },
      "outputs": [
        {
          "name": "stdout",
          "output_type": "stream",
          "text": [
            "1 i + 3 j\n",
            "5 i + 6 j\n",
            "6 i + 9 j\n",
            "3 i + 4 j\n",
            "9 i + 13 j\n"
          ]
        }
      ],
      "source": [
        "class Complex:\n",
        "  def __init__(self, real, img):\n",
        "    self.real = real\n",
        "    self.img = img\n",
        "\n",
        "  def showNumber(self):\n",
        "    print(self.real, 'i +', self.img,'j')\n",
        "\n",
        "  def add(self, num2):\n",
        "    newReal = self.real + num2.real\n",
        "    newImg = self.img + num2.img\n",
        "    return Complex(newReal, newImg)\n",
        "\n",
        "num1 = Complex(1, 3)\n",
        "num1.showNumber()\n",
        "\n",
        "num2 = Complex(5, 6)\n",
        "num2.showNumber()\n",
        "\n",
        "num3 = num1.add(num2)\n",
        "num3.showNumber()\n",
        "\n",
        "num4 = Complex(3, 4)\n",
        "num4.showNumber()\n",
        "num5 = num4.add(num3)\n",
        "num5.showNumber()"
      ]
    },
    {
      "cell_type": "code",
      "execution_count": null,
      "metadata": {
        "colab": {
          "background_save": true
        },
        "id": "nvum0frgA7cz",
        "outputId": "af611518-8bdb-4ef5-b7ed-02cd77ff9b37"
      },
      "outputs": [
        {
          "name": "stdout",
          "output_type": "stream",
          "text": [
            "4 i + 5 j\n"
          ]
        }
      ],
      "source": [
        "#dondone function __add__, __sub__, __mul__\n",
        "class Complex:\n",
        "  def __init__(self, real, img):\n",
        "    self.real = real\n",
        "    self.img = img\n",
        "\n",
        "  def showNumber(self):\n",
        "    print(self.real,'+',self.img)\n",
        "\n",
        "  def __add__(self, num2):\n",
        "    newReal = self.real + num2.real\n",
        "    newImg = self.img + num2.img\n",
        "\n",
        "n1 = Complex(4, 5)\n",
        "n1.showNumber()"
      ]
    }
  ],
  "metadata": {
    "colab": {
      "provenance": [],
      "authorship_tag": "ABX9TyOQm6+psjlgH4pJf03c2h65",
      "include_colab_link": true
    },
    "kernelspec": {
      "display_name": "Python 3",
      "name": "python3"
    },
    "language_info": {
      "name": "python"
    }
  },
  "nbformat": 4,
  "nbformat_minor": 0
}