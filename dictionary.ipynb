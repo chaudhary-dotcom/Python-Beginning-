{
  "nbformat": 4,
  "nbformat_minor": 0,
  "metadata": {
    "colab": {
      "provenance": [],
      "authorship_tag": "ABX9TyMoR/B174XrLdVnJl2jPeMP",
      "include_colab_link": true
    },
    "kernelspec": {
      "name": "python3",
      "display_name": "Python 3"
    },
    "language_info": {
      "name": "python"
    }
  },
  "cells": [
    {
      "cell_type": "markdown",
      "metadata": {
        "id": "view-in-github",
        "colab_type": "text"
      },
      "source": [
        "<a href=\"https://colab.research.google.com/github/chaudhary-dotcom/Python-Beginning-/blob/main/dictionary.ipynb\" target=\"_parent\"><img src=\"https://colab.research.google.com/assets/colab-badge.svg\" alt=\"Open In Colab\"/></a>"
      ]
    },
    {
      "cell_type": "code",
      "execution_count": 14,
      "metadata": {
        "colab": {
          "base_uri": "https://localhost:8080/"
        },
        "id": "eJ5Q8T_DWP_y",
        "outputId": "565a7bfa-b0ce-48e6-f532-0b6fcdb422ab"
      },
      "outputs": [
        {
          "output_type": "stream",
          "name": "stdout",
          "text": [
            "{}\n",
            "{'key': 'Value', 'name': 'Laddus', 'class': 'python', 'age': 26, 'subjects': ['python', 'c'], 12.9: 30, 'topics': ('dict', 'set'), 'surname': 'tiwari'}\n",
            "<class 'dict'>\n"
          ]
        }
      ],
      "source": [
        "#Dictionary\n",
        "info = {\n",
        "    \"key\": \"Value\",\n",
        "    \"name\": \"shishir\",\n",
        "    \"class\": \"python\",\n",
        "    \"age\": 26,\n",
        "    \"subjects\": ['python', 'c'],\n",
        "    12.9 : 30,\n",
        "    \"topics\": (\"dict\", \"set\",)\n",
        "\n",
        "}\n",
        "null_dict = {\n",
        "\n",
        "}\n",
        "print(null_dict)\n",
        "info['name'] = \"Laddus\"\n",
        "info['surname'] = \"tiwari\"\n",
        "print(info)\n",
        "print(type(info))\n"
      ]
    },
    {
      "cell_type": "code",
      "source": [
        "#nested dictionary\n",
        "student = {\n",
        "    \"name\": \"rahul kumar\",\n",
        "    \"subjects\": {\n",
        "        \"phy\": 98,\n",
        "        \"math\": 99\n",
        "    }\n",
        "}\n",
        "print(student)\n",
        "print(student['subjects'])\n",
        "print(student['subjects']['phy'])\n",
        "print(student.keys())\n",
        "print(list(student.keys()))\n",
        "print(len(student))\n",
        "print(student.values())\n",
        "\n"
      ],
      "metadata": {
        "colab": {
          "base_uri": "https://localhost:8080/"
        },
        "id": "HSzgZgL2eHNd",
        "outputId": "013867e8-f2ec-4cca-dace-5604dc275134"
      },
      "execution_count": 24,
      "outputs": [
        {
          "output_type": "stream",
          "name": "stdout",
          "text": [
            "{'name': 'rahul kumar', 'subjects': {'phy': 98, 'math': 99}}\n",
            "{'phy': 98, 'math': 99}\n",
            "98\n",
            "dict_keys(['name', 'subjects'])\n",
            "['name', 'subjects']\n",
            "2\n",
            "dict_values(['rahul kumar', {'phy': 98, 'math': 99}])\n"
          ]
        }
      ]
    },
    {
      "cell_type": "code",
      "source": [
        "print(list(student.values()))"
      ],
      "metadata": {
        "colab": {
          "base_uri": "https://localhost:8080/"
        },
        "id": "smvRiWf5gRZi",
        "outputId": "90ce67d6-fb1f-48a5-8307-5337c5f631e4"
      },
      "execution_count": 25,
      "outputs": [
        {
          "output_type": "stream",
          "name": "stdout",
          "text": [
            "['rahul kumar', {'phy': 98, 'math': 99}]\n"
          ]
        }
      ]
    },
    {
      "cell_type": "code",
      "source": [
        "print(student.items())"
      ],
      "metadata": {
        "colab": {
          "base_uri": "https://localhost:8080/"
        },
        "id": "fmyKDvfLgXxx",
        "outputId": "9930bc36-1cab-4d27-b7a1-d8ab9135fad5"
      },
      "execution_count": 26,
      "outputs": [
        {
          "output_type": "stream",
          "name": "stdout",
          "text": [
            "dict_items([('name', 'rahul kumar'), ('subjects', {'phy': 98, 'math': 99})])\n"
          ]
        }
      ]
    },
    {
      "cell_type": "code",
      "source": [
        "print(student.get('name'))"
      ],
      "metadata": {
        "colab": {
          "base_uri": "https://localhost:8080/"
        },
        "id": "o72td_XzgmAa",
        "outputId": "efa8d1d7-6d4b-4269-dddc-3bb7940326e7"
      },
      "execution_count": 31,
      "outputs": [
        {
          "output_type": "stream",
          "name": "stdout",
          "text": [
            "rahul kumar\n"
          ]
        }
      ]
    },
    {
      "cell_type": "code",
      "source": [
        "#update\n",
        "student.update({'city': 'Kathmandu'})\n",
        "print(student)"
      ],
      "metadata": {
        "colab": {
          "base_uri": "https://localhost:8080/"
        },
        "id": "OCOGqOxWiZ5V",
        "outputId": "2ae66958-dc20-4d5f-dd5d-3239e21bf970"
      },
      "execution_count": 34,
      "outputs": [
        {
          "output_type": "stream",
          "name": "stdout",
          "text": [
            "{'name': 'rahul kumar', 'subjects': {'phy': 98, 'math': 99}, 'city': 'Kathmandu'}\n"
          ]
        }
      ]
    },
    {
      "cell_type": "code",
      "source": [
        "student.update({'qulification': 'batcholr'})\n",
        "print(student)"
      ],
      "metadata": {
        "colab": {
          "base_uri": "https://localhost:8080/"
        },
        "id": "LvdzlJ5DivuS",
        "outputId": "763e6932-c12b-4a0a-c13a-5f60eb4ef25a"
      },
      "execution_count": 36,
      "outputs": [
        {
          "output_type": "stream",
          "name": "stdout",
          "text": [
            "{'name': 'rahul kumar', 'subjects': {'phy': 98, 'math': 99}, 'city': 'Kathmandu', 'qulification': 'batcholr'}\n"
          ]
        }
      ]
    },
    {
      "cell_type": "code",
      "source": [
        "new_dict = {'car': ['Toyota', 'range Rover']}\n",
        "student.update(new_dict)\n",
        "print(student)"
      ],
      "metadata": {
        "colab": {
          "base_uri": "https://localhost:8080/"
        },
        "id": "DwvwvjUDi-R1",
        "outputId": "dc7bbc38-acf1-4bdb-9109-e9f4eb7ac036"
      },
      "execution_count": 42,
      "outputs": [
        {
          "output_type": "stream",
          "name": "stdout",
          "text": [
            "{'name': 'rahul kumar', 'subjects': {'phy': 98, 'math': 99}, 'city': 'Kathmandu', 'qulification': 'batcholr', 'car': ['Toyota', 'range Rover']}\n"
          ]
        }
      ]
    },
    {
      "cell_type": "code",
      "source": [
        "#SET\n",
        "collection = {1,2,4,}\n",
        "print(collection)\n",
        "print(type(collection))"
      ],
      "metadata": {
        "colab": {
          "base_uri": "https://localhost:8080/"
        },
        "id": "kCe2plw5larE",
        "outputId": "e858759e-48c2-44a5-c8f7-c60cf919db93"
      },
      "execution_count": 44,
      "outputs": [
        {
          "output_type": "stream",
          "name": "stdout",
          "text": [
            "{1, 2, 4}\n",
            "<class 'set'>\n"
          ]
        }
      ]
    },
    {
      "cell_type": "code",
      "source": [
        "#set ignore duplicate value\n",
        "coll = {1,2,2,2,3,'hello', 'world', 'world',4}\n",
        "print(coll)\n",
        "print(type(coll))\n",
        "print(len(coll)) #duplicate are not allowed in set"
      ],
      "metadata": {
        "colab": {
          "base_uri": "https://localhost:8080/"
        },
        "id": "d2BLCbeolvJ2",
        "outputId": "b129ecd7-a57f-4e06-a8b2-05b6bf3fd7c7"
      },
      "execution_count": 49,
      "outputs": [
        {
          "output_type": "stream",
          "name": "stdout",
          "text": [
            "{1, 2, 3, 4, 'hello', 'world'}\n",
            "<class 'set'>\n",
            "6\n"
          ]
        }
      ]
    },
    {
      "cell_type": "code",
      "source": [
        "#if you create empty set then\n",
        "set1 = {}\n",
        "print(type(set1))\n",
        "\n",
        "set2 = set()\n",
        "print(type(set2))"
      ],
      "metadata": {
        "colab": {
          "base_uri": "https://localhost:8080/"
        },
        "id": "g4r215GVmb8F",
        "outputId": "d4228ca4-892d-4b41-c7c6-cbf53713190b"
      },
      "execution_count": 52,
      "outputs": [
        {
          "output_type": "stream",
          "name": "stdout",
          "text": [
            "<class 'dict'>\n",
            "<class 'set'>\n"
          ]
        }
      ]
    },
    {
      "cell_type": "code",
      "source": [
        "#set is mutable but elements of set is immutable\n",
        "#value add\n",
        "set2.add(1)\n",
        "set2.add(2)\n",
        "set2.add(2)\n",
        "\n",
        "#value remove\n",
        "set2.remove(2)\n",
        "set2.add('dataScience')\n",
        "\n",
        "#passing tupple\n",
        "set2.add((5,6,7))\n",
        "print(set2)"
      ],
      "metadata": {
        "colab": {
          "base_uri": "https://localhost:8080/"
        },
        "id": "CV2WxsbSm9_1",
        "outputId": "dfb121c5-dae3-438d-9fc2-aa0ecd2925f7"
      },
      "execution_count": 59,
      "outputs": [
        {
          "output_type": "stream",
          "name": "stdout",
          "text": [
            "{(5, 6, 7), 1, 'dataScience'}\n"
          ]
        }
      ]
    },
    {
      "cell_type": "code",
      "source": [
        "#clear\n",
        "set2.clear()\n",
        "print(len(set2))"
      ],
      "metadata": {
        "colab": {
          "base_uri": "https://localhost:8080/"
        },
        "id": "RrHeYR5Do7vQ",
        "outputId": "379ae507-49b7-4810-c83d-cb11b26b8e27"
      },
      "execution_count": 61,
      "outputs": [
        {
          "output_type": "stream",
          "name": "stdout",
          "text": [
            "0\n"
          ]
        }
      ]
    },
    {
      "cell_type": "code",
      "source": [
        "#pop\n",
        "set3 = {'hello', 'world', 'sewa', 'factory', 'college', 30.5,18}\n",
        "print(set3.pop())\n",
        "print(set3.pop())\n",
        "print(set3.pop())"
      ],
      "metadata": {
        "colab": {
          "base_uri": "https://localhost:8080/"
        },
        "id": "Agt8mEh3pSsC",
        "outputId": "dc862729-38d5-439b-8678-651c6aa17f33"
      },
      "execution_count": 64,
      "outputs": [
        {
          "output_type": "stream",
          "name": "stdout",
          "text": [
            "18\n",
            "sewa\n",
            "hello\n"
          ]
        }
      ]
    },
    {
      "cell_type": "code",
      "source": [
        "#Union\n",
        "set4 = {1,2,3,4}\n",
        "set5 ={5,6,3,7}\n",
        "\n",
        "print(set4.union(set5))\n",
        "\n",
        "#Intersection\n",
        "print(set4.intersection(set5))"
      ],
      "metadata": {
        "colab": {
          "base_uri": "https://localhost:8080/"
        },
        "id": "BGZIgwLFp7UF",
        "outputId": "9931e6b3-28ac-4337-b046-cb56d44dddf2"
      },
      "execution_count": 66,
      "outputs": [
        {
          "output_type": "stream",
          "name": "stdout",
          "text": [
            "{1, 2, 3, 4, 5, 6, 7}\n",
            "{3}\n"
          ]
        }
      ]
    },
    {
      "cell_type": "code",
      "source": [
        "#store following word meanings in a python dictionary\n",
        "meaning = {\n",
        "    \"table\": [\"a piece of furniture\", 'list of facts and figures'],\n",
        "    \"cat\": \"a small animal\"\n",
        "}\n",
        "print(meaning)\n",
        "print(meaning[\"table\"])"
      ],
      "metadata": {
        "colab": {
          "base_uri": "https://localhost:8080/"
        },
        "id": "BFbnHW5xssgu",
        "outputId": "3eca4fc7-c1b7-424d-8a12-ad3b3a83f7d6"
      },
      "execution_count": 72,
      "outputs": [
        {
          "output_type": "stream",
          "name": "stdout",
          "text": [
            "{'table': ['a piece of furniture', 'list of facts and figures'], 'cat': 'a small animal'}\n",
            "['a piece of furniture', 'list of facts and figures']\n"
          ]
        }
      ]
    },
    {
      "cell_type": "code",
      "source": [
        "dict1 = {\"name\": \"mike\",\n",
        "         \"salary\": 8000}\n",
        "\n",
        "temp = dict1.get(\"age\")\n",
        "print(temp)\n",
        "print(dict1.pop(\"salary\"))\n",
        "print(dict1)"
      ],
      "metadata": {
        "colab": {
          "base_uri": "https://localhost:8080/"
        },
        "id": "65qnp8_Kbpyw",
        "outputId": "5f679bc1-fbd0-4f0a-81c5-86613aa13447"
      },
      "execution_count": 8,
      "outputs": [
        {
          "output_type": "stream",
          "name": "stdout",
          "text": [
            "None\n",
            "8000\n",
            "{'name': 'mike'}\n"
          ]
        }
      ]
    },
    {
      "cell_type": "code",
      "source": [
        "dict1 = {\"key1\": 1, \"key2\": 2}\n",
        "dict2 = {\"key2\":2, \"key1\": 1}\n",
        "print(dict1 == dict2)\n",
        "dict1.clear()\n",
        "print(dict1)"
      ],
      "metadata": {
        "colab": {
          "base_uri": "https://localhost:8080/"
        },
        "id": "4ScGNxoBcIH6",
        "outputId": "afdbf968-30d6-4661-f0b5-f1b0f5a77aa9"
      },
      "execution_count": 5,
      "outputs": [
        {
          "output_type": "stream",
          "name": "stdout",
          "text": [
            "True\n",
            "{}\n"
          ]
        }
      ]
    },
    {
      "cell_type": "code",
      "source": [
        "student = {\n",
        "    1:{\n",
        "    \"name\": \"Mike\",\n",
        "    \"age\": 27,\n",
        "    \"gender\": \"Male\"\n",
        "    },\n",
        "    2:{\n",
        "        \"name\": \"Emma\",\n",
        "        \"age\": 31,\n",
        "        \"gender\": \"Female\"\n",
        "    },\n",
        "    3: {\n",
        "\n",
        "    }\n",
        "}\n",
        "\n",
        "print(student)\n",
        "print(student[2][\"gender\"])\n",
        "print(student.get(1))"
      ],
      "metadata": {
        "colab": {
          "base_uri": "https://localhost:8080/"
        },
        "id": "baKgzC3ueDM_",
        "outputId": "0416f11c-003c-4a4f-b57a-e640494cdbf3"
      },
      "execution_count": 16,
      "outputs": [
        {
          "output_type": "stream",
          "name": "stdout",
          "text": [
            "{1: {'name': 'Mike', 'age': 27, 'gender': 'Male'}, 2: {'name': 'Emma', 'age': 31, 'gender': 'Female'}, 3: {}}\n",
            "Female\n",
            "{'name': 'Mike', 'age': 27, 'gender': 'Male'}\n"
          ]
        }
      ]
    }
  ]
}