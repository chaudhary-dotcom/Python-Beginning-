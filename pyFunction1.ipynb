{
  "nbformat": 4,
  "nbformat_minor": 0,
  "metadata": {
    "colab": {
      "provenance": [],
      "authorship_tag": "ABX9TyPXaUOZ/RwCebVyOR/ZQYDz",
      "include_colab_link": true
    },
    "kernelspec": {
      "name": "python3",
      "display_name": "Python 3"
    },
    "language_info": {
      "name": "python"
    }
  },
  "cells": [
    {
      "cell_type": "markdown",
      "metadata": {
        "id": "view-in-github",
        "colab_type": "text"
      },
      "source": [
        "<a href=\"https://colab.research.google.com/github/chaudhary-dotcom/Python-Beginning-/blob/main/pyFunction1.ipynb\" target=\"_parent\"><img src=\"https://colab.research.google.com/assets/colab-badge.svg\" alt=\"Open In Colab\"/></a>"
      ]
    },
    {
      "cell_type": "code",
      "execution_count": 12,
      "metadata": {
        "colab": {
          "base_uri": "https://localhost:8080/"
        },
        "id": "C5tyLmqj0qrk",
        "outputId": "6b6ca64f-feb7-4a64-986a-74bcdfb9ff0f"
      },
      "outputs": [
        {
          "output_type": "stream",
          "name": "stdout",
          "text": [
            "41\n",
            "6\n"
          ]
        },
        {
          "output_type": "execute_result",
          "data": {
            "text/plain": [
              "6"
            ]
          },
          "metadata": {},
          "execution_count": 12
        }
      ],
      "source": [
        "#calculate sum\n",
        "def calc_sum(a, b):\n",
        "  res = a+b\n",
        "  print(res)\n",
        "  return res\n",
        "\n",
        "calc_sum(20, 21)\n",
        "calc_sum(2, 4)\n"
      ]
    },
    {
      "cell_type": "code",
      "source": [
        "def calc_sum(a, b):\n",
        "  return a+b\n",
        "\n",
        "print(calc_sum(10,12))\n",
        "print(calc_sum(3, 5))"
      ],
      "metadata": {
        "colab": {
          "base_uri": "https://localhost:8080/"
        },
        "id": "kjoh0x0x3Yz7",
        "outputId": "7f99fdcc-b853-4e07-e66c-53372286dfd2"
      },
      "execution_count": 14,
      "outputs": [
        {
          "output_type": "stream",
          "name": "stdout",
          "text": [
            "22\n",
            "8\n"
          ]
        }
      ]
    },
    {
      "cell_type": "code",
      "source": [
        "def print_str():\n",
        "  print('Hello')\n",
        "\n",
        "\n",
        "print_str()\n",
        "print_str()"
      ],
      "metadata": {
        "colab": {
          "base_uri": "https://localhost:8080/"
        },
        "id": "aWrLokPm4igk",
        "outputId": "ff86def9-562c-4a3d-abd6-157a856d885d"
      },
      "execution_count": 19,
      "outputs": [
        {
          "output_type": "stream",
          "name": "stdout",
          "text": [
            "Hello\n",
            "Hello\n"
          ]
        }
      ]
    },
    {
      "cell_type": "code",
      "source": [
        "#average of 3 numbers\n",
        "def average(a, b, c):\n",
        "  sum = a + b + c\n",
        "  avg = sum / 3\n",
        "  return avg, sum\n",
        "\n",
        "print(average(1,2,3))"
      ],
      "metadata": {
        "colab": {
          "base_uri": "https://localhost:8080/"
        },
        "id": "j-q7wf6U5Xe-",
        "outputId": "41bda4f6-1fba-4f02-fc26-ed4d29b43d58"
      },
      "execution_count": 21,
      "outputs": [
        {
          "output_type": "stream",
          "name": "stdout",
          "text": [
            "(2.0, 6)\n"
          ]
        }
      ]
    },
    {
      "cell_type": "code",
      "source": [
        "#WAF to print the length of a list. (list is the parameter)\n",
        "cities = ['Kathmandu', 'Inaruwa', 'Biratnagar', 'Dharan', 'Ithari']\n",
        "stuff = ['Perfume', 'Sunscream', 'Oil', 'Bodyspray']\n",
        "\n",
        "def len_func(list):\n",
        "  return(len(list), list)\n",
        "\n",
        "\n",
        "print(len_func(cities))\n",
        "print(len_func(stuff))"
      ],
      "metadata": {
        "colab": {
          "base_uri": "https://localhost:8080/"
        },
        "id": "lJrN_FXa8oTz",
        "outputId": "0d97c9b6-6c56-449a-b160-2c91cd29aaee"
      },
      "execution_count": 33,
      "outputs": [
        {
          "output_type": "stream",
          "name": "stdout",
          "text": [
            "(5, ['Kathmandu', 'Inaruwa', 'Biratnagar', 'Dharan', 'Ithari'])\n",
            "(4, ['Perfume', 'Sunscream', 'Oil', 'Bodyspray'])\n"
          ]
        }
      ]
    },
    {
      "cell_type": "code",
      "source": [
        "#WAF to print the elements of a list in a single line.(list is the parameter)\n",
        "name = ['Mahesh', 'Laddu', 'Parash', 'Nabbe', 'Sachin']\n",
        "sujects = ['Math', 'Science', 'Physics', 'Chemestry']\n",
        "\n",
        "def print_single(list):\n",
        "  res = print(list, end=' ')\n",
        "  return res\n",
        "\n",
        "print_single(name)\n",
        "print_single(sujects)"
      ],
      "metadata": {
        "colab": {
          "base_uri": "https://localhost:8080/"
        },
        "id": "OtwscbPyVmfS",
        "outputId": "560f7c2e-4f02-4a22-a20a-47e07df60610"
      },
      "execution_count": 4,
      "outputs": [
        {
          "output_type": "stream",
          "name": "stdout",
          "text": [
            "['Mahesh', 'Laddu', 'Parash', 'Nabbe', 'Sachin'] ['Math', 'Science', 'Physics', 'Chemestry'] "
          ]
        }
      ]
    },
    {
      "cell_type": "code",
      "source": [
        "#WAF to print the elements of a list in a single line.(list is the parameter)\n",
        "name = ['Mahesh', 'Laddu', 'Parash', 'Nabbe', 'Sachin']\n",
        "sujects = ['Math', 'Science', 'Physics', 'Chemestry']\n",
        "\n",
        "def print_list(list):\n",
        "  for item in list:\n",
        "    print(item, end=' ')\n",
        "\n",
        "print_list(name)\n",
        "print_list(sujects)\n",
        "print()"
      ],
      "metadata": {
        "colab": {
          "base_uri": "https://localhost:8080/"
        },
        "id": "vGtC8SKEaFvi",
        "outputId": "37baf5c4-fafa-49f4-a31c-a9e28d598d8b"
      },
      "execution_count": 14,
      "outputs": [
        {
          "output_type": "stream",
          "name": "stdout",
          "text": [
            "Mahesh Laddu Parash Nabbe Sachin Math Science Physics Chemestry \n"
          ]
        }
      ]
    },
    {
      "cell_type": "code",
      "source": [
        "#WAF to find the factorial of n. (n is the parameter)\n",
        "n = int(input('Enter number: '))\n",
        "def calc_fact(n):\n",
        "  fact = 1\n",
        "  for i in range(1, n+1):\n",
        "    fact *=i\n",
        "  print(fact)\n",
        "\n",
        "calc_fact(n)\n",
        "\n"
      ],
      "metadata": {
        "colab": {
          "base_uri": "https://localhost:8080/"
        },
        "id": "nebD87DpXAiT",
        "outputId": "68de0193-6cd4-4f3a-963d-4909b8e76dc2"
      },
      "execution_count": 18,
      "outputs": [
        {
          "output_type": "stream",
          "name": "stdout",
          "text": [
            "Enter number: 10\n",
            "3628800\n"
          ]
        }
      ]
    },
    {
      "cell_type": "code",
      "source": [
        "#WAF to convert USD to NPR\n",
        "doller = int(input('Enter USD: '))\n",
        "rupees = int(input('Enter NPR: '))\n",
        "\n",
        "def usd_to_npr(doller):\n",
        "  converter = doller * 0.0072\n",
        "  return converter\n",
        "\n",
        "def npr_to_usd(rupees):\n",
        "  convert = rupees * 138.72\n",
        "  return convert\n",
        "\n",
        "print('{1} doller is ',usd_to_npr(doller))\n",
        "print(npr_to_usd(rupees))\n"
      ],
      "metadata": {
        "colab": {
          "base_uri": "https://localhost:8080/"
        },
        "id": "rBzwXRbmbxAq",
        "outputId": "baa9cf06-3ffd-4e4e-86d4-43e136bee535"
      },
      "execution_count": 2,
      "outputs": [
        {
          "output_type": "stream",
          "name": "stdout",
          "text": [
            "Enter USD: 1\n",
            "Enter NPR: 1\n",
            "{1} doller is  0.0072\n",
            "138.72\n"
          ]
        }
      ]
    },
    {
      "cell_type": "code",
      "source": [
        "#currency converter\n",
        "def doller_to_npr(doller):\n",
        "  return (doller * 0.0072)\n",
        "\n",
        "def npr_to_doller(npr):\n",
        "  return (npr * 138.72)\n",
        "\n",
        "#user input\n",
        "print('Currency Converter')\n",
        "print('1. Doller to NPR')\n",
        "print('2. Npr to Doller')\n",
        "\n",
        "choice = int(input('Enter choice. '))\n",
        "currency = float(input('Enter amount. '))\n",
        "\n",
        "if choice == 1:\n",
        "  print(f'Result: {doller_to_npr(currency)}')\n",
        "elif choice == 2:\n",
        "  print(f'Result: {npr_to_doller(currency)}')\n",
        "else:\n",
        "  print('Invalid choice! please enter a number 1 and 2')\n"
      ],
      "metadata": {
        "colab": {
          "base_uri": "https://localhost:8080/"
        },
        "id": "NRpRjnUQ2xsY",
        "outputId": "cf67a751-a8f7-43a6-ca2c-3d7cef301630"
      },
      "execution_count": 4,
      "outputs": [
        {
          "output_type": "stream",
          "name": "stdout",
          "text": [
            "Currency Converter\n",
            "1. Doller to NPR\n",
            "2. Npr to Doller\n",
            "Enter choice. 2\n",
            "Enter amount. 1\n",
            "Result: 138.72\n"
          ]
        }
      ]
    }
  ]
}