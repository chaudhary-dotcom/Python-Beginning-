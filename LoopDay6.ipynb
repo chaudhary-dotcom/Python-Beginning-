{
  "nbformat": 4,
  "nbformat_minor": 0,
  "metadata": {
    "colab": {
      "provenance": [],
      "authorship_tag": "ABX9TyO1PusbKMhxyPx/sRVjRKT5",
      "include_colab_link": true
    },
    "kernelspec": {
      "name": "python3",
      "display_name": "Python 3"
    },
    "language_info": {
      "name": "python"
    }
  },
  "cells": [
    {
      "cell_type": "markdown",
      "metadata": {
        "id": "view-in-github",
        "colab_type": "text"
      },
      "source": [
        "<a href=\"https://colab.research.google.com/github/chaudhary-dotcom/Python-Beginning-/blob/main/LoopDay6.ipynb\" target=\"_parent\"><img src=\"https://colab.research.google.com/assets/colab-badge.svg\" alt=\"Open In Colab\"/></a>"
      ]
    },
    {
      "cell_type": "code",
      "execution_count": 5,
      "metadata": {
        "colab": {
          "base_uri": "https://localhost:8080/"
        },
        "id": "d3zJtSOCQhVm",
        "outputId": "7b76a93e-efee-4dd2-c582-c2004e46a266"
      },
      "outputs": [
        {
          "output_type": "stream",
          "name": "stdout",
          "text": [
            "1 2 3 4 5 6 7 8 9 10 "
          ]
        }
      ],
      "source": [
        "total_num = 10\n",
        "a=1\n",
        "while a <=10:\n",
        "  print(a, end=' ')\n",
        "  a+=1"
      ]
    },
    {
      "cell_type": "code",
      "source": [
        "row = 5\n",
        "for i in range(0, row):\n",
        "  for j in range(1, i+2):\n",
        "    print(j, end=' ')\n",
        "  print('')"
      ],
      "metadata": {
        "colab": {
          "base_uri": "https://localhost:8080/"
        },
        "id": "nK7CR79wRUTv",
        "outputId": "8cc2ba0a-8b0f-4ff0-a351-fccbd1fb1eee"
      },
      "execution_count": 8,
      "outputs": [
        {
          "output_type": "stream",
          "name": "stdout",
          "text": [
            "1 \n",
            "1 2 \n",
            "1 2 3 \n",
            "1 2 3 4 \n",
            "1 2 3 4 5 \n"
          ]
        }
      ]
    },
    {
      "cell_type": "code",
      "source": [
        "n = int(input(\"Enter number: \"))\n",
        "s = 0\n",
        "for i in range(1, n+1, 1):\n",
        "  s+=i\n",
        "print(s)"
      ],
      "metadata": {
        "colab": {
          "base_uri": "https://localhost:8080/"
        },
        "id": "WRix5fBJSG8W",
        "outputId": "8029acee-605a-4434-aade-48dba6ab35c7"
      },
      "execution_count": 23,
      "outputs": [
        {
          "output_type": "stream",
          "name": "stdout",
          "text": [
            "Enter number: 11\n",
            "66\n"
          ]
        }
      ]
    },
    {
      "cell_type": "code",
      "source": [
        "s = 0\n",
        "n = int(input('Enter number: '))\n",
        "for i in range(1, n+1, 1):\n",
        "  s+=i\n",
        "print(s)\n",
        "\n"
      ],
      "metadata": {
        "colab": {
          "base_uri": "https://localhost:8080/"
        },
        "id": "bHe-LknxYdX3",
        "outputId": "9a0958c0-36d1-443a-8f31-860391733933"
      },
      "execution_count": 21,
      "outputs": [
        {
          "output_type": "stream",
          "name": "stdout",
          "text": [
            "Enter number: 10\n",
            "55\n"
          ]
        }
      ]
    },
    {
      "cell_type": "code",
      "source": [
        "#multiplication table\n",
        "n = int(input('Enter number: '))\n",
        "s = 10\n",
        "for i in range(1,s+1,1):\n",
        "  multiply = n*i\n",
        "  print(multiply)"
      ],
      "metadata": {
        "colab": {
          "base_uri": "https://localhost:8080/"
        },
        "id": "efTaJ9fZhAeT",
        "outputId": "6110f089-d132-4f42-f159-2e839349adf8"
      },
      "execution_count": 33,
      "outputs": [
        {
          "output_type": "stream",
          "name": "stdout",
          "text": [
            "Enter number: 10\n",
            "10\n",
            "20\n",
            "30\n",
            "40\n",
            "50\n",
            "60\n",
            "70\n",
            "80\n",
            "90\n",
            "100\n"
          ]
        }
      ]
    },
    {
      "cell_type": "code",
      "source": [
        "#display numbers from a list using a loop\n",
        "num = [12, 75, 150, 180, 145, 525, 50]\n",
        "\n",
        "for i in num:\n",
        "  if i >500:\n",
        "    break\n",
        "  elif i > 150:\n",
        "    continue\n",
        "  elif i % 5 == 0:\n",
        "    print(i)"
      ],
      "metadata": {
        "colab": {
          "base_uri": "https://localhost:8080/"
        },
        "id": "qMcu-EBdijjI",
        "outputId": "5a378b4e-181f-42d9-8dc8-f7af62dbea76"
      },
      "execution_count": 42,
      "outputs": [
        {
          "output_type": "stream",
          "name": "stdout",
          "text": [
            "75\n",
            "150\n",
            "145\n"
          ]
        }
      ]
    },
    {
      "cell_type": "code",
      "source": [
        "num= 7586910\n",
        "counter = 0\n",
        "while num != 0:\n",
        "  num = num//10\n",
        "  counter += 1\n",
        "print(counter)"
      ],
      "metadata": {
        "colab": {
          "base_uri": "https://localhost:8080/"
        },
        "id": "m23aurFombFG",
        "outputId": "a039715c-2e38-4164-e60f-c51eb6168e8b"
      },
      "execution_count": 54,
      "outputs": [
        {
          "output_type": "stream",
          "name": "stdout",
          "text": [
            "7\n"
          ]
        }
      ]
    }
  ]
}