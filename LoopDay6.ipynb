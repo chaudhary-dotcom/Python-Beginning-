{
  "nbformat": 4,
  "nbformat_minor": 0,
  "metadata": {
    "colab": {
      "provenance": [],
      "authorship_tag": "ABX9TyN/tuVCfP/J5ZTtuLLkzpIE",
      "include_colab_link": true
    },
    "kernelspec": {
      "name": "python3",
      "display_name": "Python 3"
    },
    "language_info": {
      "name": "python"
    }
  },
  "cells": [
    {
      "cell_type": "markdown",
      "metadata": {
        "id": "view-in-github",
        "colab_type": "text"
      },
      "source": [
        "<a href=\"https://colab.research.google.com/github/chaudhary-dotcom/Python-Beginning-/blob/main/LoopDay6.ipynb\" target=\"_parent\"><img src=\"https://colab.research.google.com/assets/colab-badge.svg\" alt=\"Open In Colab\"/></a>"
      ]
    },
    {
      "cell_type": "code",
      "execution_count": 5,
      "metadata": {
        "colab": {
          "base_uri": "https://localhost:8080/"
        },
        "id": "d3zJtSOCQhVm",
        "outputId": "7b76a93e-efee-4dd2-c582-c2004e46a266"
      },
      "outputs": [
        {
          "output_type": "stream",
          "name": "stdout",
          "text": [
            "1 2 3 4 5 6 7 8 9 10 "
          ]
        }
      ],
      "source": [
        "total_num = 10\n",
        "a=1\n",
        "while a <=10:\n",
        "  print(a, end=' ')\n",
        "  a+=1"
      ]
    },
    {
      "cell_type": "code",
      "source": [
        "row = 5\n",
        "for i in range(0, row):\n",
        "  for j in range(1, i+2):\n",
        "    print(j, end=' ')\n",
        "  print('')"
      ],
      "metadata": {
        "colab": {
          "base_uri": "https://localhost:8080/"
        },
        "id": "nK7CR79wRUTv",
        "outputId": "8cc2ba0a-8b0f-4ff0-a351-fccbd1fb1eee"
      },
      "execution_count": 8,
      "outputs": [
        {
          "output_type": "stream",
          "name": "stdout",
          "text": [
            "1 \n",
            "1 2 \n",
            "1 2 3 \n",
            "1 2 3 4 \n",
            "1 2 3 4 5 \n"
          ]
        }
      ]
    },
    {
      "cell_type": "code",
      "source": [
        "n = int(input(\"Enter number: \"))\n",
        "s = 0\n",
        "for i in range(1, n+1, 1):\n",
        "  s+=i\n",
        "print(s)"
      ],
      "metadata": {
        "colab": {
          "base_uri": "https://localhost:8080/"
        },
        "id": "WRix5fBJSG8W",
        "outputId": "8029acee-605a-4434-aade-48dba6ab35c7"
      },
      "execution_count": 23,
      "outputs": [
        {
          "output_type": "stream",
          "name": "stdout",
          "text": [
            "Enter number: 11\n",
            "66\n"
          ]
        }
      ]
    },
    {
      "cell_type": "code",
      "source": [
        "s = 0\n",
        "n = int(input('Enter number: '))\n",
        "for i in range(1, n+1, 1):\n",
        "  s+=i\n",
        "print(s)\n",
        "\n"
      ],
      "metadata": {
        "colab": {
          "base_uri": "https://localhost:8080/"
        },
        "id": "bHe-LknxYdX3",
        "outputId": "9a0958c0-36d1-443a-8f31-860391733933"
      },
      "execution_count": 21,
      "outputs": [
        {
          "output_type": "stream",
          "name": "stdout",
          "text": [
            "Enter number: 10\n",
            "55\n"
          ]
        }
      ]
    },
    {
      "cell_type": "code",
      "source": [
        "#multiplication table\n",
        "n = int(input('Enter number: '))\n",
        "s = 10\n",
        "for i in range(1,s+1,1):\n",
        "  multiply = n*i\n",
        "  print(multiply)"
      ],
      "metadata": {
        "colab": {
          "base_uri": "https://localhost:8080/"
        },
        "id": "efTaJ9fZhAeT",
        "outputId": "6110f089-d132-4f42-f159-2e839349adf8"
      },
      "execution_count": 33,
      "outputs": [
        {
          "output_type": "stream",
          "name": "stdout",
          "text": [
            "Enter number: 10\n",
            "10\n",
            "20\n",
            "30\n",
            "40\n",
            "50\n",
            "60\n",
            "70\n",
            "80\n",
            "90\n",
            "100\n"
          ]
        }
      ]
    },
    {
      "cell_type": "code",
      "source": [
        "#display numbers from a list using a loop\n",
        "num = [12, 75, 150, 180, 145, 525, 50]\n",
        "\n",
        "for i in num:\n",
        "  if i >500:\n",
        "    break\n",
        "  elif i > 150:\n",
        "    continue\n",
        "  elif i % 5 == 0:\n",
        "    print(i)"
      ],
      "metadata": {
        "colab": {
          "base_uri": "https://localhost:8080/"
        },
        "id": "qMcu-EBdijjI",
        "outputId": "5a378b4e-181f-42d9-8dc8-f7af62dbea76"
      },
      "execution_count": 42,
      "outputs": [
        {
          "output_type": "stream",
          "name": "stdout",
          "text": [
            "75\n",
            "150\n",
            "145\n"
          ]
        }
      ]
    },
    {
      "cell_type": "code",
      "source": [
        "num= 7586910\n",
        "counter = 0\n",
        "while num != 0:\n",
        "  num = num//10\n",
        "  counter += 1\n",
        "print(counter)"
      ],
      "metadata": {
        "colab": {
          "base_uri": "https://localhost:8080/"
        },
        "id": "m23aurFombFG",
        "outputId": "a039715c-2e38-4164-e60f-c51eb6168e8b"
      },
      "execution_count": 54,
      "outputs": [
        {
          "output_type": "stream",
          "name": "stdout",
          "text": [
            "7\n"
          ]
        }
      ]
    },
    {
      "cell_type": "code",
      "source": [
        "#print the pattern\n",
        "rows = 5\n",
        "for i in range(rows, 0, -1):\n",
        "  for j in range(i, 0, -1):\n",
        "    print(j, end=' ')\n",
        "  print()"
      ],
      "metadata": {
        "colab": {
          "base_uri": "https://localhost:8080/"
        },
        "id": "7a3jLamipQrf",
        "outputId": "cbefd6f5-3347-41d8-ae4e-a75bfa70a8a3"
      },
      "execution_count": 56,
      "outputs": [
        {
          "output_type": "stream",
          "name": "stdout",
          "text": [
            "5 4 3 2 1 \n",
            "4 3 2 1 \n",
            "3 2 1 \n",
            "2 1 \n",
            "1 \n"
          ]
        }
      ]
    },
    {
      "cell_type": "code",
      "source": [
        "#print list in reverse order\n",
        "list1 = [10,20,30,40,50]\n",
        "length = len(list1)\n",
        "\n",
        "for i in range(length-1, -1, -1):\n",
        "  print(list1[i])\n"
      ],
      "metadata": {
        "colab": {
          "base_uri": "https://localhost:8080/"
        },
        "id": "uOad7KZxqmKd",
        "outputId": "b9c48032-0dae-495f-a323-d509abf2d431"
      },
      "execution_count": 66,
      "outputs": [
        {
          "output_type": "stream",
          "name": "stdout",
          "text": [
            "50\n",
            "40\n",
            "30\n",
            "20\n",
            "10\n"
          ]
        }
      ]
    },
    {
      "cell_type": "code",
      "source": [
        "for i in range(-10,0,1):\n",
        "  print(i)\n",
        "print(' Done!')"
      ],
      "metadata": {
        "colab": {
          "base_uri": "https://localhost:8080/"
        },
        "id": "bJi2oWNJtSrB",
        "outputId": "c5d55dbd-4f72-46f8-ce51-aae9878d527b"
      },
      "execution_count": 69,
      "outputs": [
        {
          "output_type": "stream",
          "name": "stdout",
          "text": [
            "-10\n",
            "-9\n",
            "-8\n",
            "-7\n",
            "-6\n",
            "-5\n",
            "-4\n",
            "-3\n",
            "-2\n",
            "-1\n",
            " Done!\n"
          ]
        }
      ]
    },
    {
      "cell_type": "code",
      "source": [
        "start = 25\n",
        "stop = 50\n",
        "for num in range(start, stop+1):\n",
        "  if num >1:\n",
        "    for i in range(2, num):\n",
        "      if (num%i) == 0:\n",
        "        break\n",
        "    else:\n",
        "      print(num)\n",
        "\n"
      ],
      "metadata": {
        "colab": {
          "base_uri": "https://localhost:8080/"
        },
        "id": "8_rUyKPrt7dS",
        "outputId": "67e33c71-5be3-4293-fedf-35b5186a104e"
      },
      "execution_count": 74,
      "outputs": [
        {
          "output_type": "stream",
          "name": "stdout",
          "text": [
            "29\n",
            "31\n",
            "37\n",
            "41\n",
            "43\n",
            "47\n"
          ]
        }
      ]
    },
    {
      "cell_type": "code",
      "source": [
        "n = int(input('Enter number: '))\n",
        "num1 = 0\n",
        "num2 = 1\n",
        "\n",
        "for i in range(n):\n",
        "  print(num1, end=' ')\n",
        "  res = num1 + num2\n",
        "\n",
        "  num1=num2\n",
        "  num2=res"
      ],
      "metadata": {
        "colab": {
          "base_uri": "https://localhost:8080/"
        },
        "id": "b33nT-1L4jCt",
        "outputId": "33422b59-5a0b-479d-c95e-851996b9b11a"
      },
      "execution_count": 75,
      "outputs": [
        {
          "output_type": "stream",
          "name": "stdout",
          "text": [
            "Enter number: 10\n",
            "0 1 1 2 3 5 8 13 21 34 "
          ]
        }
      ]
    },
    {
      "cell_type": "code",
      "source": [
        "#factorial number\n",
        "factorial = 1\n",
        "n = int(input('Enter number: '))\n",
        "for i in range(n, 0, -1):\n",
        "  factorial = factorial * i\n",
        "print(factorial)"
      ],
      "metadata": {
        "colab": {
          "base_uri": "https://localhost:8080/"
        },
        "id": "Dd8y3wJL8kZq",
        "outputId": "32a530e4-a541-4109-e8c4-56e0c10c2121"
      },
      "execution_count": 80,
      "outputs": [
        {
          "output_type": "stream",
          "name": "stdout",
          "text": [
            "Enter number: 5\n",
            "120\n"
          ]
        }
      ]
    },
    {
      "cell_type": "code",
      "source": [
        "#Reverse integer number\n",
        "num = 76542\n",
        "reverse_number = 0\n",
        "print('Given Number ', num)\n",
        "while num > 0:\n",
        "  reminder = num % 10\n",
        "  reverse_number = (reverse_number * 10) + reminder\n",
        "  num = num//10\n",
        "print('Reverse Number', reverse_number)"
      ],
      "metadata": {
        "colab": {
          "base_uri": "https://localhost:8080/"
        },
        "id": "BbUFg35I-IBA",
        "outputId": "1798585a-81f8-4b51-8865-3351af4bb993"
      },
      "execution_count": 82,
      "outputs": [
        {
          "output_type": "stream",
          "name": "stdout",
          "text": [
            "Given Number  76542\n",
            "Reverse Number 24567\n"
          ]
        }
      ]
    },
    {
      "cell_type": "code",
      "source": [
        "#Print elements from a given list present at odd inde positions\n",
        "my_list = [10,20,30,40,50,60,70,80,90,100]\n",
        "\n",
        "for i in my_list[1::2]:\n",
        "  print(i, end=' ')"
      ],
      "metadata": {
        "colab": {
          "base_uri": "https://localhost:8080/"
        },
        "id": "Rw8FoJE-_nlx",
        "outputId": "b4b4e6c1-2ef3-410f-8e78-1aeb759e4c95"
      },
      "execution_count": 86,
      "outputs": [
        {
          "output_type": "stream",
          "name": "stdout",
          "text": [
            "20 40 60 80 100 "
          ]
        }
      ]
    },
    {
      "cell_type": "code",
      "source": [
        "#calculating cube number\n",
        "num = int(input('Enter number: '))\n",
        "for i in range(1,num+1, 1):\n",
        "  print('Cube of', i, 'is', i**3)"
      ],
      "metadata": {
        "colab": {
          "base_uri": "https://localhost:8080/"
        },
        "id": "EnQ5pGvQBOzK",
        "outputId": "7c9f84b8-8740-4c62-9459-1e7b83a1b657"
      },
      "execution_count": 88,
      "outputs": [
        {
          "output_type": "stream",
          "name": "stdout",
          "text": [
            "Enter number: 6\n",
            "Cube of 1 is 1\n",
            "Cube of 2 is 8\n",
            "Cube of 3 is 27\n",
            "Cube of 4 is 64\n",
            "Cube of 5 is 125\n",
            "Cube of 6 is 216\n"
          ]
        }
      ]
    },
    {
      "cell_type": "code",
      "source": [
        "#WAP to calculate the sum of series up to n terms\n",
        "n = 5\n",
        "start = 2\n",
        "sum_seq = 0\n",
        "for i in range(0, n):\n",
        "  print(start, end='+')\n",
        "  sum_seq+=start\n",
        "  start = start * 10 + 2\n",
        "print('=', sum_seq)"
      ],
      "metadata": {
        "colab": {
          "base_uri": "https://localhost:8080/"
        },
        "id": "WfWvy2pFCP0l",
        "outputId": "57846c04-d7e1-4db7-fb4c-3102cbf42e67"
      },
      "execution_count": 90,
      "outputs": [
        {
          "output_type": "stream",
          "name": "stdout",
          "text": [
            "2+22+222+2222+22222+= 24690\n"
          ]
        }
      ]
    },
    {
      "cell_type": "code",
      "source": [
        "#print the pattern\n",
        "rows = 5\n",
        "for i in range(0, rows):\n",
        "  for j in range(0, i+1):\n",
        "    print('*', end='')\n",
        "  print()\n",
        "\n",
        "for i in range(rows-1, -1, -1):\n",
        "  for j in range(i,0,-1):\n",
        "    print('*', end='')\n",
        "  print()"
      ],
      "metadata": {
        "colab": {
          "base_uri": "https://localhost:8080/"
        },
        "id": "WLDiGgqXFAyN",
        "outputId": "e1f00e91-d584-4b91-e409-f29a8cdd5eb2"
      },
      "execution_count": 94,
      "outputs": [
        {
          "output_type": "stream",
          "name": "stdout",
          "text": [
            "*\n",
            "**\n",
            "***\n",
            "****\n",
            "*****\n",
            "****\n",
            "***\n",
            "**\n",
            "*\n",
            "\n"
          ]
        }
      ]
    }
  ]
}