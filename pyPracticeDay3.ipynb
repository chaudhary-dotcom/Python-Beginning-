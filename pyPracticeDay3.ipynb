{
  "nbformat": 4,
  "nbformat_minor": 0,
  "metadata": {
    "colab": {
      "provenance": [],
      "authorship_tag": "ABX9TyMEFcSCtdBfPDEJocmT6V7l",
      "include_colab_link": true
    },
    "kernelspec": {
      "name": "python3",
      "display_name": "Python 3"
    },
    "language_info": {
      "name": "python"
    }
  },
  "cells": [
    {
      "cell_type": "markdown",
      "metadata": {
        "id": "view-in-github",
        "colab_type": "text"
      },
      "source": [
        "<a href=\"https://colab.research.google.com/github/chaudhary-dotcom/Python-Beginning-/blob/main/pyPracticeDay3.ipynb\" target=\"_parent\"><img src=\"https://colab.research.google.com/assets/colab-badge.svg\" alt=\"Open In Colab\"/></a>"
      ]
    },
    {
      "cell_type": "code",
      "execution_count": 18,
      "metadata": {
        "colab": {
          "base_uri": "https://localhost:8080/"
        },
        "id": "WxFoF5gVaLqL",
        "outputId": "135daa1a-de5b-4a41-e906-b0cd9e6ab05b"
      },
      "outputs": [
        {
          "output_type": "stream",
          "name": "stdout",
          "text": [
            "Enter number: 5\n",
            "1 2 6 24 120 \n",
            "120\n"
          ]
        }
      ],
      "source": [
        "#factorial using function\n",
        "def factorial(n):\n",
        "  fact = 1\n",
        "  for i in range(1, n+1):\n",
        "    fact *= i\n",
        "    print(fact, end =' ')\n",
        "  return fact\n",
        "\n",
        "num = int(input('Enter number: '))\n",
        "res = factorial(num)\n",
        "print()\n",
        "print(res)"
      ]
    },
    {
      "cell_type": "code",
      "source": [
        "#find prime number in range\n",
        "def find_prime_num(num):\n",
        "  for i in range(1, num+1):\n",
        "    if i%2 != 0:\n",
        "      print('Prime Number: ', i)\n",
        "  return\n",
        "\n",
        "num = int(input('Enter number: '))\n",
        "res = find_prime_num(num)\n",
        "\n"
      ],
      "metadata": {
        "colab": {
          "base_uri": "https://localhost:8080/"
        },
        "id": "BfBRJ17zcZmf",
        "outputId": "17960295-da7a-4243-a0f8-6110d8282b1c"
      },
      "execution_count": 36,
      "outputs": [
        {
          "output_type": "stream",
          "name": "stdout",
          "text": [
            "Enter number: 100\n",
            "Prime Number:  1\n",
            "Prime Number:  3\n",
            "Prime Number:  5\n",
            "Prime Number:  7\n",
            "Prime Number:  9\n",
            "Prime Number:  11\n",
            "Prime Number:  13\n",
            "Prime Number:  15\n",
            "Prime Number:  17\n",
            "Prime Number:  19\n",
            "Prime Number:  21\n",
            "Prime Number:  23\n",
            "Prime Number:  25\n",
            "Prime Number:  27\n",
            "Prime Number:  29\n",
            "Prime Number:  31\n",
            "Prime Number:  33\n",
            "Prime Number:  35\n",
            "Prime Number:  37\n",
            "Prime Number:  39\n",
            "Prime Number:  41\n",
            "Prime Number:  43\n",
            "Prime Number:  45\n",
            "Prime Number:  47\n",
            "Prime Number:  49\n",
            "Prime Number:  51\n",
            "Prime Number:  53\n",
            "Prime Number:  55\n",
            "Prime Number:  57\n",
            "Prime Number:  59\n",
            "Prime Number:  61\n",
            "Prime Number:  63\n",
            "Prime Number:  65\n",
            "Prime Number:  67\n",
            "Prime Number:  69\n",
            "Prime Number:  71\n",
            "Prime Number:  73\n",
            "Prime Number:  75\n",
            "Prime Number:  77\n",
            "Prime Number:  79\n",
            "Prime Number:  81\n",
            "Prime Number:  83\n",
            "Prime Number:  85\n",
            "Prime Number:  87\n",
            "Prime Number:  89\n",
            "Prime Number:  91\n",
            "Prime Number:  93\n",
            "Prime Number:  95\n",
            "Prime Number:  97\n",
            "Prime Number:  99\n"
          ]
        }
      ]
    }
  ]
}