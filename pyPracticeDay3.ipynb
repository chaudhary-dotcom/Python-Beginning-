{
  "nbformat": 4,
  "nbformat_minor": 0,
  "metadata": {
    "colab": {
      "provenance": [],
      "authorship_tag": "ABX9TyN0ojLtaOcGS2cfGnVQLVsH",
      "include_colab_link": true
    },
    "kernelspec": {
      "name": "python3",
      "display_name": "Python 3"
    },
    "language_info": {
      "name": "python"
    }
  },
  "cells": [
    {
      "cell_type": "markdown",
      "metadata": {
        "id": "view-in-github",
        "colab_type": "text"
      },
      "source": [
        "<a href=\"https://colab.research.google.com/github/chaudhary-dotcom/Python-Beginning-/blob/main/pyPracticeDay3.ipynb\" target=\"_parent\"><img src=\"https://colab.research.google.com/assets/colab-badge.svg\" alt=\"Open In Colab\"/></a>"
      ]
    },
    {
      "cell_type": "code",
      "execution_count": 18,
      "metadata": {
        "colab": {
          "base_uri": "https://localhost:8080/"
        },
        "id": "WxFoF5gVaLqL",
        "outputId": "135daa1a-de5b-4a41-e906-b0cd9e6ab05b"
      },
      "outputs": [
        {
          "output_type": "stream",
          "name": "stdout",
          "text": [
            "Enter number: 5\n",
            "1 2 6 24 120 \n",
            "120\n"
          ]
        }
      ],
      "source": [
        "#factorial using function\n",
        "def factorial(n):\n",
        "  fact = 1\n",
        "  for i in range(1, n+1):\n",
        "    fact *= i\n",
        "    print(fact, end =' ')\n",
        "  return fact\n",
        "\n",
        "num = int(input('Enter number: '))\n",
        "res = factorial(num)\n",
        "print()\n",
        "print(res)"
      ]
    }
  ]
}