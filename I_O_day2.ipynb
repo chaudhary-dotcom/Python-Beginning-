{
  "nbformat": 4,
  "nbformat_minor": 0,
  "metadata": {
    "colab": {
      "provenance": [],
      "authorship_tag": "ABX9TyN36aX7z9niTU/yl92+luJy",
      "include_colab_link": true
    },
    "kernelspec": {
      "name": "python3",
      "display_name": "Python 3"
    },
    "language_info": {
      "name": "python"
    }
  },
  "cells": [
    {
      "cell_type": "markdown",
      "metadata": {
        "id": "view-in-github",
        "colab_type": "text"
      },
      "source": [
        "<a href=\"https://colab.research.google.com/github/chaudhary-dotcom/Python-Beginning-/blob/main/I_O_day2.ipynb\" target=\"_parent\"><img src=\"https://colab.research.google.com/assets/colab-badge.svg\" alt=\"Open In Colab\"/></a>"
      ]
    },
    {
      "cell_type": "code",
      "execution_count": 6,
      "metadata": {
        "id": "AnmCOOqBQCi0"
      },
      "outputs": [],
      "source": [
        "#create a new file 'practice.txt' using python\n",
        "with open('practice.txt', 'w') as f:\n",
        "  f.write('Hello\\n')\n",
        "  f.write('I am learning file i/o in Java')\n",
        "\n"
      ]
    },
    {
      "cell_type": "code",
      "source": [
        "#WAF that replace all occurences of 'java' with python in above file\n",
        "with open('practice.txt', 'r') as f:\n",
        "  data = f.read()\n",
        "\n",
        "new_data = data.replace('Java', 'Python')\n",
        "print(new_data)\n",
        "\n",
        "with open('practice.txt', 'w') as f:\n",
        "  f.write(new_data)"
      ],
      "metadata": {
        "colab": {
          "base_uri": "https://localhost:8080/"
        },
        "id": "lSMLxqBXRtyN",
        "outputId": "79c2398c-76f0-4a2f-8deb-95166a18c4ec"
      },
      "execution_count": 9,
      "outputs": [
        {
          "output_type": "stream",
          "name": "stdout",
          "text": [
            "Hello\n",
            "I am learning file i/o in Python\n"
          ]
        }
      ]
    },
    {
      "cell_type": "code",
      "source": [
        "#search if the word 'learning' exists in the file or not\n",
        "with open('practice.txt', 'r') as f:\n",
        ""
      ],
      "metadata": {
        "id": "8a2wNejlTqv8"
      },
      "execution_count": 10,
      "outputs": []
    }
  ]
}