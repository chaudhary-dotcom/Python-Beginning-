{
 "cells": [
  {
   "cell_type": "code",
   "execution_count": 1,
   "metadata": {},
   "outputs": [
    {
     "name": "stdout",
     "output_type": "stream",
     "text": [
      "2\n"
     ]
    }
   ],
   "source": [
    "print(1+1)"
   ]
  },
  {
   "cell_type": "code",
   "execution_count": 2,
   "metadata": {},
   "outputs": [
    {
     "name": "stdout",
     "output_type": "stream",
     "text": [
      "Hello, my name is John and I am 25 years old.\n"
     ]
    }
   ],
   "source": [
    "class Person:\n",
    "    def __init__(self, name, age):\n",
    "        self.name = name\n",
    "        self.age = age\n",
    "\n",
    "    def greet(self):\n",
    "        print(f\"Hello, my name is {self.name} and I am {self.age} years old.\")\n",
    "    \n",
    "p1 = Person('John', 25)\n",
    "p1.greet()"
   ]
  },
  {
   "cell_type": "code",
   "execution_count": 5,
   "metadata": {},
   "outputs": [
    {
     "name": "stdout",
     "output_type": "stream",
     "text": [
      "Age of Elephant is 12 years\n",
      "Total age is 4380 days\n"
     ]
    }
   ],
   "source": [
    "class Animal:\n",
    "    def __init__(self, name, age_in_years):\n",
    "        self.name = name\n",
    "        self.age_in_years = age_in_years\n",
    "\n",
    "    def age_in_days(self):\n",
    "        days = self.age_in_years * 365\n",
    "        print(f\"Age of {self.name} is {self.age_in_years} years\")\n",
    "        print(f\"Total age is {days} days\")\n",
    "\n",
    "animal1 = Animal(\"Elephant\", 12)\n",
    "animal1.age_in_days()"
   ]
  },
  {
   "cell_type": "code",
   "execution_count": 6,
   "metadata": {},
   "outputs": [
    {
     "name": "stdout",
     "output_type": "stream",
     "text": [
      "Title: Rich Dad and Poor Dad\n",
      "Author: Robort Kiyoshaki\n"
     ]
    }
   ],
   "source": [
    "#Track an Inventory of Books\n",
    "class Book:\n",
    "    def __init__(self, title, author):\n",
    "        self.title = title\n",
    "        self.author = author\n",
    "    \n",
    "    def details(self):\n",
    "        print(f\"Title: {self.title}\")\n",
    "        print(f\"Author: {self.author}\")\n",
    "\n",
    "book1 = Book(\"Rich Dad and Poor Dad\", 'Robort Kiyoshaki')\n",
    "book1.details()"
   ]
  },
  {
   "cell_type": "code",
   "execution_count": null,
   "metadata": {},
   "outputs": [
    {
     "name": "stdout",
     "output_type": "stream",
     "text": [
      "Total balance: 0\n",
      "Account Holder name: Ramesh\n",
      "2000.0 has been Credited\n",
      "Your Current Balance is 2000.0\n",
      "5000.0 has been Credited\n",
      "Your Current Balance is 7000.0\n",
      "2000.0 debited\n",
      "5000.0, is your Current balance\n",
      "Invalid! amount must in positive format\n",
      "Amount must be positive\n",
      "Total balance: 5000.0\n",
      "Account Holder name: Ramesh\n",
      "Invalid input! Please enter numeric value\n",
      "Invalid Input! Please enter nummeric value\n"
     ]
    }
   ],
   "source": [
    "#Bank account Simulation\n",
    "class BankAccount:\n",
    "    def __init__(self, account_holder, balance = 0):\n",
    "        self.account_holder = account_holder\n",
    "        self.balance = balance\n",
    "    \n",
    "    def deposite(self, amount):\n",
    "\n",
    "        try:\n",
    "             \n",
    "            amount = float(amount)\n",
    "            if amount > 0:\n",
    "                self.balance += amount\n",
    "                print(f\"{amount} has been Credited\")\n",
    "                print(f\"Your Current Balance is {self.balance}\")\n",
    "            else: \n",
    "                print('Invalid! amount must in positive format')\n",
    "\n",
    "        except ValueError:\n",
    "             print('Invalid input! Please enter numeric value')\n",
    "    \n",
    "    def withdraw(self, amount):\n",
    "        try:\n",
    "             amount = float(amount)\n",
    "             if amount > 0:\n",
    "                if amount <= self.balance:                    \n",
    "                        self.balance -= amount\n",
    "                        print(f'{amount} debited')\n",
    "                        print(f'{self.balance}, is your Current balance')\n",
    "            \n",
    "                else:\n",
    "                    print('Insufficient balance!')\n",
    "        \n",
    "             else:\n",
    "                print(\"Amount must be positive\")\n",
    "        except ValueError:\n",
    "            print('Invalid Input! Please enter nummeric value')\n",
    "    \n",
    "        \n",
    "\n",
    "    def get_balance(self):\n",
    "        print(f'Total balance: {self.balance}')\n",
    "        print(f'Account Holder name: {self.account_holder}')\n",
    "\n",
    "bank1 = BankAccount('Ramesh')\n",
    "\n",
    "bank1.get_balance()\n",
    "bank1.deposite(2000)\n",
    "bank1.deposite(5000)\n",
    "bank1.withdraw(2000)\n",
    "bank1.deposite(-1000)\n",
    "bank1.withdraw(-1000)\n",
    "bank1.get_balance()\n",
    "bank1.deposite('s')\n",
    "bank1.withdraw('s')"
   ]
  },
  {
   "cell_type": "code",
   "execution_count": 103,
   "metadata": {},
   "outputs": [
    {
     "name": "stdout",
     "output_type": "stream",
     "text": [
      "Base Salary == 95000.48 + 'Bonus' 3300.65\n",
      "Total Salary == 98301.13\n",
      "Salary with Bonus and allowence is 'Base Salary' = 96000.24 + 'bonus' = 8600.75  + allowence = 4000.335\n",
      "Total salary ==108601.33\n",
      "Invalid! value must be in numeric\n",
      "Invalid! use numeric format\n",
      "Invalid! Use positive number\n"
     ]
    }
   ],
   "source": [
    "#Employee salary Management\n",
    "class Employee:\n",
    "    def __init__(self, name, position, base_salary):\n",
    "        self.name = name\n",
    "        self.position = position\n",
    "        self.base_salary = base_salary\n",
    "\n",
    "    def calculate_salary(self, bonus):\n",
    "        try:\n",
    "            bonus = float(bonus)\n",
    "            if bonus > 0:\n",
    "                salary_with_bonus = bonus + self.base_salary\n",
    "                print(f\"Base Salary == {self.base_salary} + 'Bonus' {bonus}\")\n",
    "                print(f\"Total Salary == {salary_with_bonus:.2f}\")\n",
    "            else:\n",
    "                print(\"Invalid! value must be in positive\")\n",
    "        except ValueError:\n",
    "            print('Invalid! value must be in numeric')\n",
    "\n",
    "class Manager(Employee):\n",
    "    def calculate_salary_with_allowence(self, bonus, allowence):\n",
    "        try:\n",
    "            bonus = float(bonus)\n",
    "            allowence = float(allowence)\n",
    "            if bonus > 0 and allowence > 0:\n",
    "                total_salary = bonus + allowence\n",
    "                print(f\"Salary with Bonus and allowence is 'Base Salary' = {self.base_salary} + 'bonus' = {bonus}  + allowence = {allowence}\")\n",
    "                print(f\"Total salary =={(self.base_salary + total_salary):.2f}\") \n",
    "            else:\n",
    "                print('Invalid! Use positive number')\n",
    "        except ValueError:\n",
    "            print('Invalid! use numeric format')\n",
    "    \n",
    "emp1 = Employee(\"Saugat\", \"Operation\", 95000.48)\n",
    "emp1.calculate_salary(3300.65)\n",
    "emp2 = Manager(\"Bhupendra\", \"Striker\", 96000.24)\n",
    "emp2.calculate_salary_with_allowence(8600.75, 4000.335)\n",
    "emp2.calculate_salary('s')\n",
    "emp2.calculate_salary_with_allowence(6000, 'p')\n",
    "emp2.calculate_salary_with_allowence(-3000, 4500)\n",
    "\n",
    "        "
   ]
  }
 ],
 "metadata": {
  "kernelspec": {
   "display_name": "base",
   "language": "python",
   "name": "python3"
  },
  "language_info": {
   "codemirror_mode": {
    "name": "ipython",
    "version": 3
   },
   "file_extension": ".py",
   "mimetype": "text/x-python",
   "name": "python",
   "nbconvert_exporter": "python",
   "pygments_lexer": "ipython3",
   "version": "3.12.7"
  }
 },
 "nbformat": 4,
 "nbformat_minor": 2
}
