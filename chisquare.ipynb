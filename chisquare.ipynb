{
 "cells": [
  {
   "cell_type": "code",
   "execution_count": 86,
   "metadata": {},
   "outputs": [],
   "source": [
    "import numpy as np\n",
    "from scipy.stats import chi2_contingency\n",
    "from scipy.stats import chisquare"
   ]
  },
  {
   "cell_type": "code",
   "execution_count": 15,
   "metadata": {},
   "outputs": [],
   "source": [
    "observed = np.array([[50,80], [30,50], [40,50]])"
   ]
  },
  {
   "cell_type": "code",
   "execution_count": 17,
   "metadata": {},
   "outputs": [],
   "source": [
    "chi2, p, dof, expected = chi2_contingency(observed)"
   ]
  },
  {
   "cell_type": "code",
   "execution_count": 18,
   "metadata": {},
   "outputs": [
    {
     "data": {
      "text/plain": [
       "1.0772792022792022"
      ]
     },
     "execution_count": 18,
     "metadata": {},
     "output_type": "execute_result"
    }
   ],
   "source": [
    "chi2"
   ]
  },
  {
   "cell_type": "code",
   "execution_count": 19,
   "metadata": {},
   "outputs": [
    {
     "data": {
      "text/plain": [
       "0.5835415619187718"
      ]
     },
     "execution_count": 19,
     "metadata": {},
     "output_type": "execute_result"
    }
   ],
   "source": [
    "p"
   ]
  },
  {
   "cell_type": "code",
   "execution_count": 20,
   "metadata": {},
   "outputs": [
    {
     "data": {
      "text/plain": [
       "2"
      ]
     },
     "execution_count": 20,
     "metadata": {},
     "output_type": "execute_result"
    }
   ],
   "source": [
    "dof"
   ]
  },
  {
   "cell_type": "code",
   "execution_count": 21,
   "metadata": {},
   "outputs": [
    {
     "data": {
      "text/plain": [
       "array([[52., 78.],\n",
       "       [32., 48.],\n",
       "       [36., 54.]])"
      ]
     },
     "execution_count": 21,
     "metadata": {},
     "output_type": "execute_result"
    }
   ],
   "source": [
    "expected"
   ]
  },
  {
   "cell_type": "code",
   "execution_count": 22,
   "metadata": {},
   "outputs": [],
   "source": [
    "p1 = .05"
   ]
  },
  {
   "cell_type": "code",
   "execution_count": 23,
   "metadata": {},
   "outputs": [
    {
     "name": "stdout",
     "output_type": "stream",
     "text": [
      "Fail to reject null hypothesis\n"
     ]
    }
   ],
   "source": [
    "if p < p1:\n",
    "    print('Reject H0')\n",
    "else:\n",
    "    print('Fail to reject null hypothesis')"
   ]
  },
  {
   "cell_type": "code",
   "execution_count": 38,
   "metadata": {},
   "outputs": [],
   "source": [
    "observed = np.array([120, 80])\n",
    "expected = np.array([100, 100])"
   ]
  },
  {
   "cell_type": "code",
   "execution_count": 42,
   "metadata": {},
   "outputs": [
    {
     "data": {
      "text/plain": [
       "Power_divergenceResult(statistic=8.0, pvalue=0.004677734981047276)"
      ]
     },
     "execution_count": 42,
     "metadata": {},
     "output_type": "execute_result"
    }
   ],
   "source": [
    "# stats.chisquare(f_obs = observed, f_exp = expected)\n",
    "from scipy.stats import chisquare\n",
    "chisquare(f_obs = observed, f_exp = expected)\n",
    "\n"
   ]
  },
  {
   "cell_type": "code",
   "execution_count": 44,
   "metadata": {},
   "outputs": [
    {
     "name": "stdout",
     "output_type": "stream",
     "text": [
      "Reject H0\n"
     ]
    }
   ],
   "source": [
    "if 0.0046777 < .05:\n",
    "    print('Reject H0')\n",
    "else:\n",
    "    print('Accept null')"
   ]
  },
  {
   "cell_type": "markdown",
   "metadata": {},
   "source": [
    "#ANOVA TEST"
   ]
  },
  {
   "cell_type": "code",
   "execution_count": 102,
   "metadata": {},
   "outputs": [
    {
     "name": "stdout",
     "output_type": "stream",
     "text": [
      "                     Sum of Squares  Degree of freedom  Mean Square  \\\n",
      "Between Groups(SSB)           926.4                  2   463.200000   \n",
      "Within Groups (SSW)           119.2                 12     9.933333   \n",
      "Total (SST)                  1045.6                 14          NaN   \n",
      "\n",
      "                     F_Statistics   P_Value  \n",
      "Between Groups(SSB)     46.630872  0.000002  \n",
      "Within Groups (SSW)           NaN       NaN  \n",
      "Total (SST)                   NaN       NaN  \n",
      "Since the p-value is < 0.05, we reject the null hypothesis. At least one fertilizer significantly affects plant growth.\n"
     ]
    }
   ],
   "source": [
    "import scipy.stats as stats\n",
    "import pandas as pd\n",
    "# Dataset for anova test\n",
    "fertilizer_A = np.array([55, 60, 52, 58, 62])\n",
    "fertilizer_B = np.array([65, 70, 68, 66, 72])\n",
    "fertilizer_C = np.array([75, 78, 74, 76, 80])\n",
    "\n",
    "# Compute the group means\n",
    "mean_A = np.mean(fertilizer_A)\n",
    "mean_B = np.mean(fertilizer_B)\n",
    "mean_C = np.mean(fertilizer_C)\n",
    "\n",
    "# data combined\n",
    "data_combined = np.concatenate([fertilizer_A, fertilizer_B, fertilizer_C])\n",
    "overall_mean = np.mean(data_combined)\n",
    "\n",
    "# (SSB) sum of square between groups\n",
    "n_A = len(fertilizer_A)\n",
    "n_B = len(fertilizer_B)\n",
    "n_C = len(fertilizer_C)\n",
    "\n",
    "# using SSB formula\n",
    "SSB = (n_A * (mean_A - overall_mean)**2 +\n",
    "       n_B * (mean_B - overall_mean)**2 +\n",
    "       n_C * (mean_C - overall_mean)**2)\n",
    "\n",
    "# SSW: Sum of square within\n",
    "SSW_A = np.sum((fertilizer_A - mean_A)**2)\n",
    "SSW_B = np.sum((fertilizer_B - mean_B)**2)\n",
    "SSW_C = np.sum((fertilizer_C - mean_C)**2)\n",
    "\n",
    "SSW = SSW_A + SSW_B + SSW_C\n",
    "\n",
    "# SST: Sum of square total\n",
    "SST = SSB + SSW\n",
    "\n",
    "# Compute mean Square between and within (MSB, MSW)\n",
    "k = 3  #No. of group\n",
    "N = len(data_combined) #Total number of observation\n",
    "\n",
    "MSB = SSB / (k-1)\n",
    "MSW = SSW / (N - k)\n",
    "\n",
    "# Compute F statictics\n",
    "F_stats = MSB / MSW\n",
    "\n",
    "# compute p Value\n",
    "p_value = 1 - stats.f.cdf(F_stats, k - 1, N - k)\n",
    "\n",
    "#Organizing the result into readable dataframe\n",
    "anova_manual_results = pd.DataFrame({\n",
    "    'Sum of Squares': [SSB, SSW, SST],\n",
    "    'Degree of freedom': [k-1, N-k, N-1],\n",
    "    'Mean Square': [MSB, MSW, None],\n",
    "    'F_Statistics': [F_stats, None, None],\n",
    "    'P_Value': [p_value, None, None]\n",
    "\n",
    "}, index=['Between Groups(SSB)','Within Groups (SSW)', 'Total (SST)'])\n",
    "\n",
    "print(anova_manual_results)\n",
    "\n",
    "# Final Iteration \n",
    "if p_value < 0.5:\n",
    "    manual_result = \"Since the p-value is < 0.05, we reject the null hypothesis. At least one fertilizer significantly affects plant growth.\"\n",
    "\n",
    "else: \n",
    "    manual_result = \"Since the p-value is ≥ 0.05, we fail to reject the null hypothesis. The fertilizers have similar effects on plant growth.\"\n",
    "\n",
    "print(manual_result)\n"
   ]
  }
 ],
 "metadata": {
  "kernelspec": {
   "display_name": "base",
   "language": "python",
   "name": "python3"
  },
  "language_info": {
   "codemirror_mode": {
    "name": "ipython",
    "version": 3
   },
   "file_extension": ".py",
   "mimetype": "text/x-python",
   "name": "python",
   "nbconvert_exporter": "python",
   "pygments_lexer": "ipython3",
   "version": "3.12.7"
  }
 },
 "nbformat": 4,
 "nbformat_minor": 2
}
