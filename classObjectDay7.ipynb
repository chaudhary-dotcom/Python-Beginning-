{
 "cells": [
  {
   "cell_type": "code",
   "execution_count": 1,
   "metadata": {},
   "outputs": [
    {
     "name": "stdout",
     "output_type": "stream",
     "text": [
      "Brand: BMW\n",
      "Year: 1990\n",
      "Fule type: Petrol\n",
      "Brand: Mercedeez\n",
      "Year: 1880\n"
     ]
    }
   ],
   "source": [
    "class Vehicle:\n",
    "    def __init__(self, brand, year):\n",
    "        self.brand = brand\n",
    "        self.year = year\n",
    "    \n",
    "    def display_info(self):\n",
    "        print(f'Brand: {self.brand}')\n",
    "        print(f'Year: {self.year}')\n",
    "    \n",
    "class Car(Vehicle):\n",
    "    def __init__(self,brand, year, fule_type):\n",
    "        super().__init__(brand, year)\n",
    "        self.fule_type = fule_type\n",
    "\n",
    "    def display_info(self):\n",
    "        super().display_info()\n",
    "        print(f\"Fule type: {self.fule_type}\")\n",
    "\n",
    "car1 = Car('BMW',1990,'Petrol')\n",
    "car1.display_info()\n",
    "\n",
    "vehicle1 = Vehicle('Mercedeez', 1880)\n",
    "vehicle1.display_info()\n",
    "\n"
   ]
  },
  {
   "cell_type": "code",
   "execution_count": 21,
   "metadata": {},
   "outputs": [
    {
     "name": "stdout",
     "output_type": "stream",
     "text": [
      "Bark\n",
      "Some sound\n"
     ]
    }
   ],
   "source": [
    "class Animal:\n",
    "    def make_sound(self):\n",
    "        print('Some sound')\n",
    "    \n",
    "class Dog(Animal):\n",
    "    def make_sound(self):\n",
    "        \n",
    "        print('Bark')\n",
    "\n",
    "dg = Dog()\n",
    "dg.make_sound()\n",
    "\n",
    "an = Animal()\n",
    "an.make_sound()\n"
   ]
  },
  {
   "cell_type": "code",
   "execution_count": 69,
   "metadata": {},
   "outputs": [
    {
     "name": "stdout",
     "output_type": "stream",
     "text": [
      "Total balance: 1000\n",
      "Rs 2000.0 credited\n",
      "Rs 5000.0 credited\n",
      "Amount must be positive!\n",
      "Total balance: 8000.0\n",
      "5000.0 has been debited.\n",
      "Enter positive number\n",
      "Invalid input!\n",
      "Innvalid! Input\n",
      "Rs 5000.0 credited\n",
      "Total balance: 8000.0\n",
      "Insufficient balance\n",
      "Rs 10000.0 credited\n",
      "Total balance: 18000.0\n"
     ]
    }
   ],
   "source": [
    "class BankAccount:\n",
    "    def __init__(self, __balance):\n",
    "        self.__balance = __balance\n",
    "\n",
    "    def deposite(self, amount):\n",
    "        \n",
    "        try:\n",
    "            amount = float(amount)\n",
    "            if amount < 0:\n",
    "                print('Amount must be positive!')\n",
    "            \n",
    "            else:\n",
    "                self.__balance += amount\n",
    "                print(f\"Rs {amount} credited\")\n",
    "\n",
    "        \n",
    "        except ValueError:\n",
    "            print('Innvalid! Input')\n",
    "\n",
    "    def withdraw(self, amount):\n",
    "        try:\n",
    "            amount = float(amount)\n",
    "            if amount < 0:\n",
    "                print('Enter positive number')\n",
    "\n",
    "            elif amount > self.__balance:\n",
    "                print('Insufficient balance')\n",
    "            \n",
    "            else:\n",
    "                self.__balance -= amount\n",
    "                print(f\"{amount} has been debited.\")\n",
    "        \n",
    "        except ValueError:\n",
    "            print('Invalid input!')\n",
    "\n",
    "    \n",
    "    def get_balance(self):\n",
    "        print(f\"Total balance: {self.__balance}\")\n",
    "\n",
    "bank = BankAccount(1000)\n",
    "bank.get_balance()\n",
    "bank.deposite(2000)\n",
    "bank.deposite(5000)\n",
    "bank.deposite(-1000)\n",
    "bank.get_balance()\n",
    "bank.withdraw(5000)\n",
    "bank.withdraw(-1000)\n",
    "bank.withdraw('s')\n",
    "bank.deposite('s')\n",
    "bank.deposite(5000)\n",
    "bank.get_balance()\n",
    "bank.withdraw(10000)\n",
    "bank.deposite(10000)\n",
    "bank.get_balance()\n"
   ]
  },
  {
   "cell_type": "code",
   "execution_count": 16,
   "metadata": {},
   "outputs": [
    {
     "name": "stdout",
     "output_type": "stream",
     "text": [
      "Brand Name: BMW\n",
      "Model: S6F\n",
      "Year: 2024\n",
      "Fule Type: Petrol\n",
      "Brand Name: Porshe\n",
      "Model: NO9\n",
      "Year: 2020\n"
     ]
    }
   ],
   "source": [
    "class Car:\n",
    "    def __init__(self, brand, model, year):\n",
    "        self.brand = brand\n",
    "        self.model = model\n",
    "        self.year = year\n",
    "    def car_info(self):\n",
    "        print(f\"Brand Name: {self.brand}\")\n",
    "        print(f\"Model: {self.model}\")\n",
    "        print(f'Year: {self.year}')\n",
    "\n",
    "class Vehicle(Car):\n",
    "    def __init__(self, brand, model, year, fule_type):\n",
    "        super().__init__(brand, model, year) \n",
    "        self.fule_type = fule_type  \n",
    "\n",
    "    def display_info(self):\n",
    "        super().car_info()\n",
    "        print(f\"Fule Type: {self.fule_type}\")      \n",
    "\n",
    "car = Vehicle('BMW', 'S6F', 2024, 'Petrol')\n",
    "car.display_info()\n",
    "car.model\n",
    "car.brand\n",
    "car.fule_type\n",
    "car.year\n",
    "\n",
    "car1 = Car('Porshe', 'NO9', 2020)\n",
    "car1.brand\n",
    "car1.car_info()"
   ]
  },
  {
   "cell_type": "code",
   "execution_count": 29,
   "metadata": {},
   "outputs": [
    {
     "name": "stdout",
     "output_type": "stream",
     "text": [
      "(20, 50)\n",
      "(30, 75)\n"
     ]
    }
   ],
   "source": [
    "#Operator overloading\n",
    "class Vector:\n",
    "    def __init__(self, a, b):\n",
    "        self.a = a\n",
    "        self.b = b\n",
    "    \n",
    "    def __add__(self, other):\n",
    "        return Vector(self.a + other.a, self.b + other.b)\n",
    "    def __str__(self):\n",
    "         return f\"({self.a}, {self.b})\"\n",
    "\n",
    "a = Vector(10, 25)\n",
    "a2 = a + a\n",
    "print(a2)\n",
    "a3 = a2 + a\n",
    "print(a3)\n",
    "\n"
   ]
  },
  {
   "cell_type": "code",
   "execution_count": 40,
   "metadata": {},
   "outputs": [
    {
     "name": "stdout",
     "output_type": "stream",
     "text": [
      "Area of rectangle:  200\n",
      "None\n"
     ]
    },
    {
     "data": {
      "text/plain": [
       "1256.6370614359173"
      ]
     },
     "execution_count": 40,
     "metadata": {},
     "output_type": "execute_result"
    }
   ],
   "source": [
    "import math\n",
    "from abc import ABC, abstractmethod\n",
    "\n",
    "#abstractclass\n",
    "class Shape:\n",
    "    @abstractmethod\n",
    "    def area(self):\n",
    "        pass \n",
    "\n",
    "class Rectangle(Shape):\n",
    "    def __init__(self, length, breadth):\n",
    "        self.length = length\n",
    "        self.breadth = breadth\n",
    "    \n",
    "    def area(self):\n",
    "        return self.length * self.breadth\n",
    "    \n",
    "class Circle(Shape):\n",
    "    def __init__(self, radius):\n",
    "        self.radius = radius\n",
    "    \n",
    "    def area(self):\n",
    "        return math.pi * self.radius ** 2\n",
    "    \n",
    "rect = Rectangle(10, 20)\n",
    "print('Area of rectangle: ', rect.area())\n",
    "\n",
    "shape = Shape()\n",
    "print(shape.area())\n",
    "\n",
    "circle = Circle(20)\n",
    "circle.area()\n",
    "\n"
   ]
  },
  {
   "cell_type": "code",
   "execution_count": 52,
   "metadata": {},
   "outputs": [
    {
     "name": "stdout",
     "output_type": "stream",
     "text": [
      "Name: Rupesh\n",
      "Age: 33\n",
      "Employee ID: 4AB\n",
      "Name: Rupesh\n",
      "Age: 33\n",
      "Employee ID: 4AB\n",
      "Name: Rupesh\n",
      "Age: 33\n",
      "Employee ID: 4AB\n"
     ]
    }
   ],
   "source": [
    "class Person:\n",
    "    def __init__(self, name, age):\n",
    "        self.name = name\n",
    "        self.age = age\n",
    "    \n",
    "    def get_info(self):\n",
    "        print(f'Name: {self.name}')\n",
    "        print(f'Age: {self.age}')\n",
    "\n",
    "class Employee:\n",
    "    def __init__(self, employee_id):\n",
    "        self.employee_id = employee_id\n",
    "    \n",
    "    def get_employee_info(self):\n",
    "        print(f'Employee ID: {self.employee_id}')\n",
    "\n",
    "\n",
    "class Manager(Person, Employee):\n",
    "    def __init__(self, name, age, employee_id):\n",
    "        Person.__init__(self, name, age)\n",
    "        Employee.__init__(self, employee_id)\n",
    "    \n",
    "    def get_manager_info(self):\n",
    "        self.get_info()\n",
    "        self.get_employee_info()\n",
    "\n",
    "manager = Manager('Rupesh', 33, '4AB')\n",
    "manager.get_manager_info()\n",
    "\n",
    "manager.get_info()\n",
    "manager.get_employee_info()\n",
    "manager.get_manager_info()"
   ]
  }
 ],
 "metadata": {
  "kernelspec": {
   "display_name": "base",
   "language": "python",
   "name": "python3"
  },
  "language_info": {
   "codemirror_mode": {
    "name": "ipython",
    "version": 3
   },
   "file_extension": ".py",
   "mimetype": "text/x-python",
   "name": "python",
   "nbconvert_exporter": "python",
   "pygments_lexer": "ipython3",
   "version": "3.12.7"
  }
 },
 "nbformat": 4,
 "nbformat_minor": 2
}
