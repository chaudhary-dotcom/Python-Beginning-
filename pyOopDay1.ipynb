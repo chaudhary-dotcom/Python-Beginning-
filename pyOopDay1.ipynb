{
  "nbformat": 4,
  "nbformat_minor": 0,
  "metadata": {
    "colab": {
      "provenance": [],
      "authorship_tag": "ABX9TyM2uPjeImBaXO9kyGK4Fun3",
      "include_colab_link": true
    },
    "kernelspec": {
      "name": "python3",
      "display_name": "Python 3"
    },
    "language_info": {
      "name": "python"
    }
  },
  "cells": [
    {
      "cell_type": "markdown",
      "metadata": {
        "id": "view-in-github",
        "colab_type": "text"
      },
      "source": [
        "<a href=\"https://colab.research.google.com/github/chaudhary-dotcom/Python-Beginning-/blob/main/pyOopDay1.ipynb\" target=\"_parent\"><img src=\"https://colab.research.google.com/assets/colab-badge.svg\" alt=\"Open In Colab\"/></a>"
      ]
    },
    {
      "cell_type": "code",
      "execution_count": 2,
      "metadata": {
        "colab": {
          "base_uri": "https://localhost:8080/"
        },
        "id": "1WuhfghY0M9W",
        "outputId": "ed5580de-8fed-422f-8560-a4fd3318e0f6"
      },
      "outputs": [
        {
          "output_type": "stream",
          "name": "stdout",
          "text": [
            "<__main__.Student object at 0x7c924610eb50>\n",
            "John\n"
          ]
        }
      ],
      "source": [
        "#basics\n",
        "#creating class\n",
        "class Student:\n",
        "  name = 'John'\n",
        "\n",
        "s1 = Student()\n",
        "print(s1)\n",
        "print(s1.name)"
      ]
    },
    {
      "cell_type": "code",
      "source": [
        "class Car:\n",
        "  color = 'blue'\n",
        "  brand = 'Rolls Royace'\n",
        "\n",
        "car1 = Car()\n",
        "print(car1.color)\n",
        "print(car1.brand)"
      ],
      "metadata": {
        "colab": {
          "base_uri": "https://localhost:8080/"
        },
        "id": "fgur2tlQ3Wxl",
        "outputId": "eb3c6202-132e-4dec-c2b8-032a09a01101"
      },
      "execution_count": 5,
      "outputs": [
        {
          "output_type": "stream",
          "name": "stdout",
          "text": [
            "blue\n",
            "Rolls Royace\n"
          ]
        }
      ]
    },
    {
      "cell_type": "code",
      "source": [
        "#constructur: __init__\n",
        "class Student:\n",
        "  def __init__(self, name):\n",
        "    self.name = name\n",
        "    print('Adding new students in database..')\n",
        "\n",
        "s1 = Student('Shishir')\n",
        "print(s1.name)\n",
        "\n",
        "s2 = Student('Laddu')\n",
        "print(s2.name)"
      ],
      "metadata": {
        "colab": {
          "base_uri": "https://localhost:8080/"
        },
        "id": "CPAXomMq6H-g",
        "outputId": "34c90269-774f-4c2e-a304-880d0dad6259"
      },
      "execution_count": 10,
      "outputs": [
        {
          "output_type": "stream",
          "name": "stdout",
          "text": [
            "Adding new students in database..\n",
            "Shishir\n",
            "Adding new students in database..\n",
            "Laddu\n"
          ]
        }
      ]
    },
    {
      "cell_type": "code",
      "source": [
        "class Student:\n",
        "  def __init__(self, name, marks):\n",
        "    self.name = name\n",
        "    self.marks = marks\n",
        "    print('Adding new students in database..')\n",
        "\n",
        "s1 = Student('Mahesh', 98)\n",
        "print(s1.name, s1.marks)\n",
        "\n",
        "s2 = Student('Parash', 88)\n",
        "print(s2.name, s2.marks)"
      ],
      "metadata": {
        "colab": {
          "base_uri": "https://localhost:8080/"
        },
        "id": "ssoPhU4n69Xw",
        "outputId": "fe3dc001-7589-4f8d-f632-b2ddca045cb5"
      },
      "execution_count": 16,
      "outputs": [
        {
          "output_type": "stream",
          "name": "stdout",
          "text": [
            "Adding new students in database..\n",
            "Mahesh 98\n",
            "Adding new students in database..\n",
            "Parash 88\n"
          ]
        }
      ]
    },
    {
      "cell_type": "code",
      "source": [
        "class Student:\n",
        "  college_name = 'ABCD college'\n",
        "  name = 'anonoymous'\n",
        "  def __init__(self, name):\n",
        "    self.name = name\n",
        "\n",
        "s1 = Student('Karan')\n",
        "print(s1.name)\n",
        "print(s1.college_name)\n",
        "print(Student.name)"
      ],
      "metadata": {
        "colab": {
          "base_uri": "https://localhost:8080/"
        },
        "id": "um2f1npW8NO7",
        "outputId": "32660bb8-2c29-4284-d963-0c98711d3168"
      },
      "execution_count": 21,
      "outputs": [
        {
          "output_type": "stream",
          "name": "stdout",
          "text": [
            "Karan\n",
            "ABCD college\n",
            "anonoymous\n"
          ]
        }
      ]
    },
    {
      "cell_type": "code",
      "source": [
        "#Methods: Methods are function that belong to objects.\n",
        "class Students:\n",
        "  college_name = 'ABCD College'\n",
        "\n",
        "  def __init__(self, name, marks):\n",
        "    self.name = name\n",
        "    self.marks = marks\n",
        "\n",
        "  def welcome(self):\n",
        "    print('Welcome student,', self.name)\n",
        "\n",
        "  def get_marks(self):\n",
        "    return self.marks\n",
        "\n",
        "s1 = Students('Karan', 97)\n",
        "s1.welcome()\n",
        "print(s1.get_marks())\n"
      ],
      "metadata": {
        "colab": {
          "base_uri": "https://localhost:8080/"
        },
        "id": "VYZ2d2QqAOC4",
        "outputId": "e4c36582-eab7-4cb0-da4f-2cd095aec241"
      },
      "execution_count": 26,
      "outputs": [
        {
          "output_type": "stream",
          "name": "stdout",
          "text": [
            "Welcome student, Karan\n",
            "97\n"
          ]
        }
      ]
    },
    {
      "cell_type": "code",
      "source": [
        "#create student class that takes name and marks of 3 subjects as arguments in constructor.Then create a method to print the average\n",
        "class Student:\n",
        "  def __init__(self, name, marks):\n",
        "    self.name = name\n",
        "    self.marks = marks\n",
        "\n",
        "  def get_avg(self):\n",
        "    sum = 0\n",
        "    for val in self.marks:\n",
        "      sum += val\n",
        "    print('Hi', self.name, 'your average score is: ', sum/3)\n",
        "\n",
        "s1 = Student('Karan', [99, 98, 97])\n",
        "s1.get_avg()\n",
        "s2 = Student('Tonny', [93, 81, 75])\n",
        "s2.get_avg()"
      ],
      "metadata": {
        "colab": {
          "base_uri": "https://localhost:8080/"
        },
        "id": "vUf3O4O-CS_L",
        "outputId": "710ecffc-96c9-4e0f-839e-05f7d45f31f3"
      },
      "execution_count": 34,
      "outputs": [
        {
          "output_type": "stream",
          "name": "stdout",
          "text": [
            "Hi Karan your average score is:  98.0\n",
            "Hi Tonny your average score is:  83.0\n"
          ]
        }
      ]
    },
    {
      "cell_type": "code",
      "source": [
        "#Abstraction\n",
        "class Car:\n",
        "  def __init__(self):\n",
        "    self.acc = False\n",
        "    self.brk = False\n",
        "    self.clutch = False\n",
        "\n",
        "  def start(self):\n",
        "    self.acc = True\n",
        "    self.clutch = True\n",
        "    print('Car Start..')\n",
        "\n",
        "car1 = Car()\n",
        "car1.start()"
      ],
      "metadata": {
        "colab": {
          "base_uri": "https://localhost:8080/"
        },
        "id": "SDY67A8dI4Cq",
        "outputId": "d29b2440-1d4d-434b-f8bb-77b194657ff8"
      },
      "execution_count": 35,
      "outputs": [
        {
          "output_type": "stream",
          "name": "stdout",
          "text": [
            "Car Start..\n"
          ]
        }
      ]
    },
    {
      "cell_type": "code",
      "source": [
        "#Create Account class with 2 attributes - balance & account no.\n",
        "\n",
        "\n",
        "class Account:\n",
        "  def __init__(self, bal, acc):\n",
        "    self.balance = bal\n",
        "    self.account = acc\n",
        "\n",
        "acc1 = Account(100000, 546564)\n",
        "print('Total balance is: ',acc1.balance)\n",
        "print('Your account number is: ', acc1.account)\n",
        "\n"
      ],
      "metadata": {
        "colab": {
          "base_uri": "https://localhost:8080/"
        },
        "id": "FGiVkewFLFzv",
        "outputId": "0c6488ee-2012-4d5e-8f6d-87bc2f9d8a1f"
      },
      "execution_count": 40,
      "outputs": [
        {
          "output_type": "stream",
          "name": "stdout",
          "text": [
            "Total balance is:  100000\n",
            "Your account number is:  546564\n"
          ]
        }
      ]
    },
    {
      "cell_type": "code",
      "source": [
        "#create methods for debit, credit and printing balance\n",
        "class Account:\n",
        "  def __init__(self, bal, acc):\n",
        "    self.balance = bal\n",
        "    self.account_no = acc\n",
        "\n",
        "  def debit(self, amount):\n",
        "    self.balance -= amount\n",
        "    print('Rs.', amount,'was debited')\n",
        "    print('Total balance = ',self.get_blnc())\n",
        "\n",
        "  def credit(self, amount):\n",
        "    self.balance += amount\n",
        "    print('Rs. ', amount,'was credited')\n",
        "    print('Total balance = ', self.get_blnc())\n",
        "\n",
        "  def get_blnc(self):\n",
        "    return self.balance\n",
        "\n",
        "acc1 = Account(10000, 543211)\n",
        "acc1.debit(5000)\n",
        "acc1.credit(50000)"
      ],
      "metadata": {
        "colab": {
          "base_uri": "https://localhost:8080/"
        },
        "id": "Xu9taMszNkKc",
        "outputId": "0eb69ee5-c92f-4039-aa4b-8a9b41397d75"
      },
      "execution_count": 43,
      "outputs": [
        {
          "output_type": "stream",
          "name": "stdout",
          "text": [
            "Rs. 5000 was debited\n",
            "Total balance =  5000\n",
            "Rs.  50000 was credited\n",
            "Total balance =  55000\n"
          ]
        }
      ]
    }
  ]
}