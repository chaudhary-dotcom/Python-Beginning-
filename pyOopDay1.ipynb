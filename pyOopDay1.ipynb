{
  "nbformat": 4,
  "nbformat_minor": 0,
  "metadata": {
    "colab": {
      "provenance": [],
      "authorship_tag": "ABX9TyOEnb+LC5DmiRzUnl2ZfUuI",
      "include_colab_link": true
    },
    "kernelspec": {
      "name": "python3",
      "display_name": "Python 3"
    },
    "language_info": {
      "name": "python"
    }
  },
  "cells": [
    {
      "cell_type": "markdown",
      "metadata": {
        "id": "view-in-github",
        "colab_type": "text"
      },
      "source": [
        "<a href=\"https://colab.research.google.com/github/chaudhary-dotcom/Python-Beginning-/blob/main/pyOopDay1.ipynb\" target=\"_parent\"><img src=\"https://colab.research.google.com/assets/colab-badge.svg\" alt=\"Open In Colab\"/></a>"
      ]
    },
    {
      "cell_type": "code",
      "execution_count": 2,
      "metadata": {
        "colab": {
          "base_uri": "https://localhost:8080/"
        },
        "id": "1WuhfghY0M9W",
        "outputId": "ed5580de-8fed-422f-8560-a4fd3318e0f6"
      },
      "outputs": [
        {
          "output_type": "stream",
          "name": "stdout",
          "text": [
            "<__main__.Student object at 0x7c924610eb50>\n",
            "John\n"
          ]
        }
      ],
      "source": [
        "#basics\n",
        "#creating class\n",
        "class Student:\n",
        "  name = 'John'\n",
        "\n",
        "s1 = Student()\n",
        "print(s1)\n",
        "print(s1.name)"
      ]
    },
    {
      "cell_type": "code",
      "source": [
        "class Car:\n",
        "  color = 'blue'\n",
        "  brand = 'Rolls Royace'\n",
        "\n",
        "car1 = Car()\n",
        "print(car1.color)\n",
        "print(car1.brand)"
      ],
      "metadata": {
        "colab": {
          "base_uri": "https://localhost:8080/"
        },
        "id": "fgur2tlQ3Wxl",
        "outputId": "eb3c6202-132e-4dec-c2b8-032a09a01101"
      },
      "execution_count": 5,
      "outputs": [
        {
          "output_type": "stream",
          "name": "stdout",
          "text": [
            "blue\n",
            "Rolls Royace\n"
          ]
        }
      ]
    },
    {
      "cell_type": "code",
      "source": [
        "#constructur: __init__\n",
        "class Student:\n",
        "  def __init__(self, name):\n",
        "    self.name = name\n",
        "    print('Adding new students in database..')\n",
        "\n",
        "s1 = Student('Shishir')\n",
        "print(s1.name)\n",
        "\n",
        "s2 = Student('Laddu')\n",
        "print(s2.name)"
      ],
      "metadata": {
        "colab": {
          "base_uri": "https://localhost:8080/"
        },
        "id": "CPAXomMq6H-g",
        "outputId": "34c90269-774f-4c2e-a304-880d0dad6259"
      },
      "execution_count": 10,
      "outputs": [
        {
          "output_type": "stream",
          "name": "stdout",
          "text": [
            "Adding new students in database..\n",
            "Shishir\n",
            "Adding new students in database..\n",
            "Laddu\n"
          ]
        }
      ]
    },
    {
      "cell_type": "code",
      "source": [
        "class Student:\n",
        "  def __init__(self, name, marks):\n",
        "    self.name = name\n",
        "    self.marks = marks\n",
        "    print('Adding new students in database..')\n",
        "\n",
        "s1 = Student('Mahesh', 98)\n",
        "print(s1.name, s1.marks)\n",
        "\n",
        "s2 = Student('Parash', 88)\n",
        "print(s2.name, s2.marks)"
      ],
      "metadata": {
        "colab": {
          "base_uri": "https://localhost:8080/"
        },
        "id": "ssoPhU4n69Xw",
        "outputId": "fe3dc001-7589-4f8d-f632-b2ddca045cb5"
      },
      "execution_count": 16,
      "outputs": [
        {
          "output_type": "stream",
          "name": "stdout",
          "text": [
            "Adding new students in database..\n",
            "Mahesh 98\n",
            "Adding new students in database..\n",
            "Parash 88\n"
          ]
        }
      ]
    },
    {
      "cell_type": "code",
      "source": [
        "class Student:\n",
        "  college_name = 'ABCD college'\n",
        "  name = 'anonoymous'\n",
        "  def __init__(self, name):\n",
        "    self.name = name\n",
        "\n",
        "s1 = Student('Karan')\n",
        "print(s1.name)\n",
        "print(s1.college_name)\n",
        "print(Student.name)"
      ],
      "metadata": {
        "colab": {
          "base_uri": "https://localhost:8080/"
        },
        "id": "um2f1npW8NO7",
        "outputId": "32660bb8-2c29-4284-d963-0c98711d3168"
      },
      "execution_count": 21,
      "outputs": [
        {
          "output_type": "stream",
          "name": "stdout",
          "text": [
            "Karan\n",
            "ABCD college\n",
            "anonoymous\n"
          ]
        }
      ]
    },
    {
      "cell_type": "code",
      "source": [
        "#Methods: Methods are function that belong to objects.\n",
        "class Students:\n",
        "  college_name = 'ABCD College'\n",
        "\n",
        "  def __init__(self, name, marks):\n",
        "    self.name = name\n",
        "    self.marks = marks\n",
        "\n",
        "  def welcome(self):\n",
        "    print('Welcome student,', self.name)\n",
        "\n",
        "  def get_marks(self):\n",
        "    return self.marks\n",
        "\n",
        "s1 = Students('Karan', 97)\n",
        "s1.welcome()\n",
        "print(s1.get_marks())\n"
      ],
      "metadata": {
        "colab": {
          "base_uri": "https://localhost:8080/"
        },
        "id": "VYZ2d2QqAOC4",
        "outputId": "e4c36582-eab7-4cb0-da4f-2cd095aec241"
      },
      "execution_count": 26,
      "outputs": [
        {
          "output_type": "stream",
          "name": "stdout",
          "text": [
            "Welcome student, Karan\n",
            "97\n"
          ]
        }
      ]
    },
    {
      "cell_type": "code",
      "source": [
        "#create student class that takes name and marks of 3 subjects as arguments in constructor.Then create a method to print the average\n",
        "class Student:\n",
        "  def __init__(self, name, marks):\n",
        "    self.name = name\n",
        "    self.marks = marks\n",
        "\n",
        "  def get_avg(self):\n",
        "    sum = 0\n",
        "    for val in self.marks:\n",
        "      sum += val\n",
        "    print('Hi', self.name, 'your average score is: ', sum/3)\n",
        "\n",
        "s1 = Student('Karan', [99, 98, 97])\n",
        "s1.get_avg()\n",
        "s2 = Student('Tonny', [93, 81, 75])\n",
        "s2.get_avg()"
      ],
      "metadata": {
        "colab": {
          "base_uri": "https://localhost:8080/"
        },
        "id": "vUf3O4O-CS_L",
        "outputId": "710ecffc-96c9-4e0f-839e-05f7d45f31f3"
      },
      "execution_count": 34,
      "outputs": [
        {
          "output_type": "stream",
          "name": "stdout",
          "text": [
            "Hi Karan your average score is:  98.0\n",
            "Hi Tonny your average score is:  83.0\n"
          ]
        }
      ]
    },
    {
      "cell_type": "code",
      "source": [
        "#Abstraction\n",
        "class Car:\n",
        "  def __init__(self):\n",
        "    self.acc = False\n",
        "    self.brk = False\n",
        "    self.clutch = False\n",
        "\n",
        "  def start(self):\n",
        "    self.acc = True\n",
        "    self.clutch = True\n",
        "    print('Car Start..')\n",
        "\n",
        "car1 = Car()\n",
        "car1.start()"
      ],
      "metadata": {
        "colab": {
          "base_uri": "https://localhost:8080/"
        },
        "id": "SDY67A8dI4Cq",
        "outputId": "d29b2440-1d4d-434b-f8bb-77b194657ff8"
      },
      "execution_count": 35,
      "outputs": [
        {
          "output_type": "stream",
          "name": "stdout",
          "text": [
            "Car Start..\n"
          ]
        }
      ]
    },
    {
      "cell_type": "code",
      "source": [
        "#Create Account class with 2 attributes - balance & account no.\n",
        "\n",
        "\n",
        "class Account:\n",
        "  def __init__(self, bal, acc):\n",
        "    self.balance = bal\n",
        "    self.account = acc\n",
        "\n",
        "acc1 = Account(100000, 546564)\n",
        "print('Total balance is: ',acc1.balance)\n",
        "print('Your account number is: ', acc1.account)\n",
        "\n"
      ],
      "metadata": {
        "colab": {
          "base_uri": "https://localhost:8080/"
        },
        "id": "FGiVkewFLFzv",
        "outputId": "0c6488ee-2012-4d5e-8f6d-87bc2f9d8a1f"
      },
      "execution_count": 40,
      "outputs": [
        {
          "output_type": "stream",
          "name": "stdout",
          "text": [
            "Total balance is:  100000\n",
            "Your account number is:  546564\n"
          ]
        }
      ]
    },
    {
      "cell_type": "code",
      "source": [
        "#create methods for debit, credit and printing balance\n",
        "class Account:\n",
        "  def __init__(self, bal, acc):\n",
        "    self.balance = bal\n",
        "    self.account_no = acc\n",
        "\n",
        "  def debit(self, amount):\n",
        "    self.balance -= amount\n",
        "    print('Rs.', amount,'was debited')\n",
        "    print('Total balance = ',self.get_blnc())\n",
        "\n",
        "  def credit(self, amount):\n",
        "    self.balance += amount\n",
        "    print('Rs. ', amount,'was credited')\n",
        "    print('Total balance = ', self.get_blnc())\n",
        "\n",
        "  def get_blnc(self):\n",
        "    return self.balance\n",
        "\n",
        "acc1 = Account(10000, 543211)\n",
        "acc1.debit(5000)\n",
        "acc1.credit(50000)"
      ],
      "metadata": {
        "colab": {
          "base_uri": "https://localhost:8080/"
        },
        "id": "Xu9taMszNkKc",
        "outputId": "0eb69ee5-c92f-4039-aa4b-8a9b41397d75"
      },
      "execution_count": 43,
      "outputs": [
        {
          "output_type": "stream",
          "name": "stdout",
          "text": [
            "Rs. 5000 was debited\n",
            "Total balance =  5000\n",
            "Rs.  50000 was credited\n",
            "Total balance =  55000\n"
          ]
        }
      ]
    },
    {
      "cell_type": "code",
      "source": [
        "class Person:\n",
        "  def __init__(self, name, age):\n",
        "    self.name = name\n",
        "    self.age = age\n",
        "\n",
        "  def greet(self):\n",
        "    print('Hello, my name is ', self.name, 'and I am', self.age, 'years old.')\n",
        "\n",
        "per1 = Person('Nobita', 20)\n",
        "per1.greet()\n",
        "\n",
        "per2 = Person('Kimo', 28)\n",
        "per2.greet()"
      ],
      "metadata": {
        "colab": {
          "base_uri": "https://localhost:8080/"
        },
        "id": "jghRP2vmT3jI",
        "outputId": "c2bb9ac4-2923-4491-ebdc-22316b151d5a"
      },
      "execution_count": 45,
      "outputs": [
        {
          "output_type": "stream",
          "name": "stdout",
          "text": [
            "Hello, my name is  Nobita and I am 20 years old.\n",
            "Hello, my name is  Kimo and I am 28 years old.\n"
          ]
        }
      ]
    },
    {
      "cell_type": "code",
      "source": [
        "#bank account class\n",
        "class BankAccount:\n",
        "  def __init__(self, balance, account_no):\n",
        "    self.balance = balance\n",
        "    self.account = account_no\n",
        "\n",
        "  def deposite(self, amount):\n",
        "    self.balance += amount\n",
        "    print('Rs. ',amount,'is deposited:')\n",
        "    print('Your total balance is: ', self.check_balance())\n",
        "\n",
        "  def withdraw(self, amount):\n",
        "    self.balance -= amount\n",
        "    print('Rs. ',amount,'is credited: ')\n",
        "    print('Your total balance is: ', self.check_balance())\n",
        "\n",
        "  def check_balance(self):\n",
        "    return self.balance\n",
        "\n",
        "acc1 = BankAccount(23000, 54554)\n",
        "print('Your balance is ', acc1.balance)\n",
        "print('your account number is: ', acc1.account)\n",
        "\n",
        "acc1.deposite(5000)\n",
        "acc1.withdraw(1000)\n",
        "acc1.deposite(2000)\n",
        "acc1.deposite(100000)"
      ],
      "metadata": {
        "colab": {
          "base_uri": "https://localhost:8080/"
        },
        "id": "ERW0PEElVKvu",
        "outputId": "f82a7a12-b78f-4060-c16f-4a1382c2f82f"
      },
      "execution_count": 56,
      "outputs": [
        {
          "output_type": "stream",
          "name": "stdout",
          "text": [
            "Your balance is  23000\n",
            "your account number is:  54554\n",
            "Rs.  5000 is deposited:\n",
            "Your total balance is:  28000\n",
            "Rs.  1000 is credited: \n",
            "Your total balance is:  27000\n",
            "Rs.  2000 is deposited:\n",
            "Your total balance is:  29000\n",
            "Rs.  100000 is deposited:\n",
            "Your total balance is:  129000\n"
          ]
        }
      ]
    },
    {
      "cell_type": "code",
      "source": [
        "#Rectangle class\n",
        "class Rectangle:\n",
        "  def __init__(self, length, width):\n",
        "    self.length = length\n",
        "    self.width = width\n",
        "\n",
        "  def area(self):\n",
        "    area = self.length * self.width\n",
        "    print(f'Area of rectangle is {self.length} * {self.width} = {area}')\n",
        "\n",
        "  def perimeter(self):\n",
        "    peri = 2 * (self.length + self.width)\n",
        "    print('Perimeter of this rectangle is: ', peri)\n",
        "\n",
        "rect1 = Rectangle(10, 5)\n",
        "rect1.area()\n",
        "rect1.perimeter()\n",
        "\n",
        "rect2 = Rect\n"
      ],
      "metadata": {
        "colab": {
          "base_uri": "https://localhost:8080/"
        },
        "id": "DTmMR1AyX2lR",
        "outputId": "583b3c30-0b20-40a1-c085-9109aa05cb3b"
      },
      "execution_count": 68,
      "outputs": [
        {
          "output_type": "stream",
          "name": "stdout",
          "text": [
            "Area of rectangle is 10 * 5 = 50\n",
            "Perimeter of this rectangle is:  30\n"
          ]
        }
      ]
    },
    {
      "cell_type": "code",
      "source": [
        "#calculator class\n",
        "class Calculator:\n",
        "  def __init__(self, num1, num2):\n",
        "    self.num1 = num1\n",
        "    self.num2 = num2\n",
        "\n",
        "  def add(self):\n",
        "    sum = self.num1 + self.num2\n",
        "    print(f'Sum of {self.num1} + {self.num2} = ', sum)\n",
        "\n",
        "  def sub(self):\n",
        "    subtr = self.num1 - self.num2\n",
        "    print(f'Sub of {self.num1} - {self.num2} = ', subtr)\n",
        "\n",
        "  def multiply(self):\n",
        "    multi = self.num1 * self.num2\n",
        "    print(f'Multiplication  of {self.num1} * {self.num2} = ', multi)\n",
        "\n",
        "  def division(self):\n",
        "    divide = self.num1 / self.num2\n",
        "    print(f'Division of {self.num1} / {self.num2} = ', divide)\n",
        "\n",
        "calc1 = Calculator(10, 5)\n",
        "calc1.add()\n",
        "calc1.sub()\n",
        "calc1.multiply()\n",
        "calc1.division()"
      ],
      "metadata": {
        "colab": {
          "base_uri": "https://localhost:8080/"
        },
        "id": "7REOo7XBglbU",
        "outputId": "c7c8ae1a-1ebb-449d-b77d-0b161a238a45"
      },
      "execution_count": 78,
      "outputs": [
        {
          "output_type": "stream",
          "name": "stdout",
          "text": [
            "Sum of 10 + 5 =  15\n",
            "Sub of 10 - 5 =  5\n",
            "Multiplication  of 10 * 5 =  50\n",
            "Division of 10 / 5 =  2.0\n"
          ]
        }
      ]
    },
    {
      "cell_type": "code",
      "source": [
        "#class calculator\n",
        "class Calculator:\n",
        "  def add(self, a,b):\n",
        "    return a+b\n",
        "\n",
        "  def subtract(self, a, b):\n",
        "    return a-b\n",
        "\n",
        "  def multiply(self, a,b):\n",
        "    return a*b\n",
        "\n",
        "  def division(self, a, b):\n",
        "    if b!=0:\n",
        "      return a/b\n",
        "\n",
        "    else:\n",
        "      return \"Error! division by zero.\"\n",
        "\n",
        "calc = Calculator()\n",
        "\n",
        "num1 = float(input('Enter first number: '))\n",
        "num2 = float(input('Enter second number: '))\n",
        "\n",
        "print(f'Sum of {num1} + {num2} = {calc.add(num1, num2)}')\n",
        "print(f'Sub of {num1} - {num2} = {calc.subtract(num1, num2)}')\n",
        "print(f'Multiplication of {num1} * {num2} = {calc.multiply(num1, num2)}')\n",
        "print(f'Division of {num1} / {num2} = {calc.division(num1, num2)}')"
      ],
      "metadata": {
        "colab": {
          "base_uri": "https://localhost:8080/"
        },
        "id": "EjigXrEOo17i",
        "outputId": "b2c8fb05-dbd0-448a-fcaf-4ab113aff886"
      },
      "execution_count": 93,
      "outputs": [
        {
          "output_type": "stream",
          "name": "stdout",
          "text": [
            "Enter first number: 0\n",
            "Enter second number: 1\n",
            "Sum of 0.0 + 1.0 = 1.0\n",
            "Sub of 0.0 - 1.0 = -1.0\n",
            "Multiplication of 0.0 * 1.0 = 0.0\n",
            "Division of 0.0 / 1.0 = 0.0\n"
          ]
        }
      ]
    }
  ]
}