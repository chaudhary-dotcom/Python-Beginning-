{
  "nbformat": 4,
  "nbformat_minor": 0,
  "metadata": {
    "colab": {
      "provenance": [],
      "authorship_tag": "ABX9TyOInnRxh4rF7U1xE2GxStm4",
      "include_colab_link": true
    },
    "kernelspec": {
      "name": "python3",
      "display_name": "Python 3"
    },
    "language_info": {
      "name": "python"
    }
  },
  "cells": [
    {
      "cell_type": "markdown",
      "metadata": {
        "id": "view-in-github",
        "colab_type": "text"
      },
      "source": [
        "<a href=\"https://colab.research.google.com/github/chaudhary-dotcom/Python-Beginning-/blob/main/pythonBegining.ipynb\" target=\"_parent\"><img src=\"https://colab.research.google.com/assets/colab-badge.svg\" alt=\"Open In Colab\"/></a>"
      ]
    },
    {
      "cell_type": "code",
      "execution_count": null,
      "metadata": {
        "colab": {
          "base_uri": "https://localhost:8080/"
        },
        "id": "IDShUO-HhqJi",
        "outputId": "9ffba9f6-9a55-40af-bc08-46610044d0cc"
      },
      "outputs": [
        {
          "output_type": "stream",
          "name": "stdout",
          "text": [
            "Enter your first name. shishir\n",
            "7\n"
          ]
        }
      ],
      "source": [
        "#Wap to input user's first name and print its length\n",
        "name=input(\"Enter your first name. \")\n",
        "print(len(name))"
      ]
    },
    {
      "cell_type": "code",
      "source": [
        "#Wap to find the occurrence of'$' in a string\n",
        "str1 = \"Networth of shishir is Billion $\"\n",
        "print(str1.count('$'))"
      ],
      "metadata": {
        "colab": {
          "base_uri": "https://localhost:8080/"
        },
        "id": "10uo6VZZi62-",
        "outputId": "3dd3bc47-30da-4d19-a409-8da74ed3a52f"
      },
      "execution_count": null,
      "outputs": [
        {
          "output_type": "stream",
          "name": "stdout",
          "text": [
            "1\n"
          ]
        }
      ]
    },
    {
      "cell_type": "code",
      "source": [
        "#Grade based students\n",
        "name = input(\"Enter Name: \")\n",
        "marks = int(input(\"Enter marks: \"))\n",
        "\n",
        "if(marks>=90):\n",
        "  grade = \"A\"\n",
        "elif(marks >= 80 and marks <=90):\n",
        "  grade = \"B\"\n",
        "elif(marks >= 70 and marks <=80):\n",
        "  grade = \"C\"\n",
        "else:\n",
        "  grade=\"D\"\n",
        "\n",
        "print(\"Grade Score of \",name, \"is: \", grade)"
      ],
      "metadata": {
        "colab": {
          "base_uri": "https://localhost:8080/"
        },
        "id": "oLiKG6prlD7V",
        "outputId": "e77dda48-4ff5-48dd-9ea9-340279eb4cf2"
      },
      "execution_count": null,
      "outputs": [
        {
          "output_type": "stream",
          "name": "stdout",
          "text": [
            "Enter Name: Laru\n",
            "Enter marks: 89\n",
            "Grade Score of  Laru is:  B\n"
          ]
        }
      ]
    },
    {
      "cell_type": "code",
      "source": [
        "#Wap to check if a number entered by the user is odd or even\n",
        "num1 = int(input(\"Enter number: \"))\n",
        "\n",
        "if num1 % 2 == 0:\n",
        "  print(\"Even Number\")\n",
        "else:\n",
        "  print(\"Odd Number\")\n"
      ],
      "metadata": {
        "colab": {
          "base_uri": "https://localhost:8080/"
        },
        "id": "cLTE-0G-sQ6p",
        "outputId": "74b19685-c551-444b-d9bc-affaa5197ade"
      },
      "execution_count": null,
      "outputs": [
        {
          "output_type": "stream",
          "name": "stdout",
          "text": [
            "Enter number: 6\n",
            "Even Number\n"
          ]
        }
      ]
    },
    {
      "cell_type": "code",
      "source": [
        "#WAP to find the gretest of 3 numbers entered by the user\n",
        "a = int(input(\"Enter first number: \"))\n",
        "b = int(input(\"Enter second number:\"))\n",
        "c = int(input(\"Enter third number: \"))\n",
        "\n",
        "if (a>=b and a>=c):\n",
        "  print(\"First number is largest \", a)\n",
        "elif(b>=c):\n",
        "  print(\"Second number is largest: \", b)\n",
        "else:\n",
        "  print(\"C is largest\", c)"
      ],
      "metadata": {
        "colab": {
          "base_uri": "https://localhost:8080/"
        },
        "id": "ytXXkpzbtsU8",
        "outputId": "8cc81b19-18bc-4516-8c18-3c37ec6e3aec"
      },
      "execution_count": null,
      "outputs": [
        {
          "output_type": "stream",
          "name": "stdout",
          "text": [
            "Enter first number: 10\n",
            "Enter second number:12\n",
            "Enter third number: 11\n",
            "Second number is largest:  12\n"
          ]
        }
      ]
    },
    {
      "cell_type": "code",
      "source": [
        "#WAP to check if a number is a multiple of 7 or not\n",
        "\n",
        "num=int(input(\"Enter number: \"))\n",
        "if (num % 7 == 0):\n",
        "  print(\"This number is multiple of 7\", num)\n",
        "else:\n",
        "  print(\"This number is not multipe of 7\", num)"
      ],
      "metadata": {
        "colab": {
          "base_uri": "https://localhost:8080/"
        },
        "id": "wpMHQtBiwG4L",
        "outputId": "60f1c9d9-1c35-464c-f580-797cf67369a6"
      },
      "execution_count": null,
      "outputs": [
        {
          "output_type": "stream",
          "name": "stdout",
          "text": [
            "Enter number: 49\n",
            "This number is multiple of 7 49\n"
          ]
        }
      ]
    },
    {
      "cell_type": "code",
      "source": [
        "#Seperate parameter\n",
        "print(\"Name\", \"Is\", \"James\", sep=\"**\")"
      ],
      "metadata": {
        "colab": {
          "base_uri": "https://localhost:8080/"
        },
        "id": "YeTA4O-RR7vs",
        "outputId": "e1a4cc75-467c-4f54-a544-2035b49be5da"
      },
      "execution_count": null,
      "outputs": [
        {
          "output_type": "stream",
          "name": "stdout",
          "text": [
            "Name**Is**James\n"
          ]
        }
      ]
    },
    {
      "cell_type": "code",
      "source": [
        "name=input(\"Enter name: \")\n",
        "print(name, sep=\"**\")"
      ],
      "metadata": {
        "colab": {
          "base_uri": "https://localhost:8080/"
        },
        "id": "86eKPPlPSOyW",
        "outputId": "b1910f9d-f85f-4325-eedc-0bffc98be38c"
      },
      "execution_count": null,
      "outputs": [
        {
          "output_type": "stream",
          "name": "stdout",
          "text": [
            "Enter name: hishi\n",
            "hishi\n"
          ]
        }
      ]
    },
    {
      "cell_type": "code",
      "source": [
        "#convert decimal number to octal\n",
        "num = 8\n",
        "print('%o' % num)"
      ],
      "metadata": {
        "colab": {
          "base_uri": "https://localhost:8080/"
        },
        "id": "bcjgJoxpSnSY",
        "outputId": "8bcc56a2-11b4-456d-c480-7d63da9b8f6e"
      },
      "execution_count": null,
      "outputs": [
        {
          "output_type": "stream",
          "name": "stdout",
          "text": [
            "10\n"
          ]
        }
      ]
    },
    {
      "cell_type": "code",
      "source": [
        "#Display flot number with 2 decimal places\n",
        "num = 458.888998\n",
        "print('%.2f' %num)"
      ],
      "metadata": {
        "colab": {
          "base_uri": "https://localhost:8080/"
        },
        "id": "9TGXGBExTE80",
        "outputId": "5ce24b42-6ead-4697-8a68-5c351ebdf69f"
      },
      "execution_count": null,
      "outputs": [
        {
          "output_type": "stream",
          "name": "stdout",
          "text": [
            "458.89\n"
          ]
        }
      ]
    },
    {
      "cell_type": "code",
      "source": [
        "#Accept a list of 5 flot numbers as an input from the user\n",
        "numbers = []\n",
        "for i in range(0,5):\n",
        "  print('Enter number at location, ', i,\":\")\n",
        "\n",
        "  item = float(input())\n",
        "\n",
        "  numbers.append(item)\n",
        "\n",
        "print(\"User List\", numbers)"
      ],
      "metadata": {
        "colab": {
          "base_uri": "https://localhost:8080/"
        },
        "id": "R9eQ6qQvToNz",
        "outputId": "684b19d9-014e-4f86-b8e0-51d2fbfc94b4"
      },
      "execution_count": null,
      "outputs": [
        {
          "output_type": "stream",
          "name": "stdout",
          "text": [
            "Enter number at location,  0 :\n",
            "10\n",
            "Enter number at location,  1 :\n",
            "3.5\n",
            "Enter number at location,  2 :\n",
            "6\n",
            "Enter number at location,  3 :\n",
            "9.9\n",
            "Enter number at location,  4 :\n",
            "8.5\n",
            "User List [10.0, 3.5, 6.0, 9.9, 8.5]\n"
          ]
        }
      ]
    },
    {
      "cell_type": "code",
      "source": [
        "#WAP of all content of a given file into a new file by skipping line number 5\n",
        "\n",
        "#read test.txt\n",
        "with open(\"test.txt\", \"r\") as fp:\n",
        "\n",
        "  #read all lines from a file\n",
        "  lines = fp.readline()\n",
        "\n",
        "#open new file in write mode\n",
        "with open(\"new_file.txt\", \"w\") as fp:\n",
        "  count = 0\n",
        "  #iterate each lines from a test.txt\n",
        "  for line in lines:\n",
        "    #skip 5th lines\n",
        "    if count == 4:\n",
        "      count += 1\n",
        "      continue\n",
        "    else:\n",
        "      #write current line\n",
        "      fp.write(line)\n",
        "\n",
        "    #in each iteration reduce the count\n",
        "    count += 1"
      ],
      "metadata": {
        "colab": {
          "base_uri": "https://localhost:8080/",
          "height": 211
        },
        "id": "sU9NOUayUtq2",
        "outputId": "d8740e36-aa17-460b-af65-c434a113630b"
      },
      "execution_count": null,
      "outputs": [
        {
          "output_type": "error",
          "ename": "FileNotFoundError",
          "evalue": "[Errno 2] No such file or directory: 'test.txt'",
          "traceback": [
            "\u001b[0;31m---------------------------------------------------------------------------\u001b[0m",
            "\u001b[0;31mFileNotFoundError\u001b[0m                         Traceback (most recent call last)",
            "\u001b[0;32m<ipython-input-10-31822cb20a4f>\u001b[0m in \u001b[0;36m<cell line: 0>\u001b[0;34m()\u001b[0m\n\u001b[1;32m      2\u001b[0m \u001b[0;34m\u001b[0m\u001b[0m\n\u001b[1;32m      3\u001b[0m \u001b[0;31m#read test.txt\u001b[0m\u001b[0;34m\u001b[0m\u001b[0;34m\u001b[0m\u001b[0m\n\u001b[0;32m----> 4\u001b[0;31m \u001b[0;32mwith\u001b[0m \u001b[0mopen\u001b[0m\u001b[0;34m(\u001b[0m\u001b[0;34m\"test.txt\"\u001b[0m\u001b[0;34m,\u001b[0m \u001b[0;34m\"r\"\u001b[0m\u001b[0;34m)\u001b[0m \u001b[0;32mas\u001b[0m \u001b[0mfp\u001b[0m\u001b[0;34m:\u001b[0m\u001b[0;34m\u001b[0m\u001b[0;34m\u001b[0m\u001b[0m\n\u001b[0m\u001b[1;32m      5\u001b[0m \u001b[0;34m\u001b[0m\u001b[0m\n\u001b[1;32m      6\u001b[0m   \u001b[0;31m#read all lines from a file\u001b[0m\u001b[0;34m\u001b[0m\u001b[0;34m\u001b[0m\u001b[0m\n",
            "\u001b[0;31mFileNotFoundError\u001b[0m: [Errno 2] No such file or directory: 'test.txt'"
          ]
        }
      ]
    }
  ]
}