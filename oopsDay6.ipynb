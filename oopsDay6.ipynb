{
 "cells": [
  {
   "cell_type": "code",
   "execution_count": 3,
   "metadata": {},
   "outputs": [
    {
     "name": "stdout",
     "output_type": "stream",
     "text": [
      "Car detail\n",
      "Brand Name : Tesla\n",
      "Model:  Piez5\n",
      "Year:  2022\n"
     ]
    }
   ],
   "source": [
    "#beginer level\n",
    "class Car:\n",
    "    def __init__(self, brand, model, year):\n",
    "        self.brand = brand\n",
    "        self.model = model\n",
    "        self.year = year\n",
    "    \n",
    "    def display_info(self):\n",
    "        print('Car detail')\n",
    "        print('Brand Name :', self.brand)\n",
    "        print('Model: ', self.model)\n",
    "        print('Year: ', self.year)\n",
    "\n",
    "car1 = Car('Tesla', 'Piez5', 2022)\n",
    "car1.display_info()\n"
   ]
  }
 ],
 "metadata": {
  "kernelspec": {
   "display_name": "base",
   "language": "python",
   "name": "python3"
  },
  "language_info": {
   "codemirror_mode": {
    "name": "ipython",
    "version": 3
   },
   "file_extension": ".py",
   "mimetype": "text/x-python",
   "name": "python",
   "nbconvert_exporter": "python",
   "pygments_lexer": "ipython3",
   "version": "3.12.7"
  }
 },
 "nbformat": 4,
 "nbformat_minor": 2
}
