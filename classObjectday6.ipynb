{
 "cells": [
  {
   "cell_type": "code",
   "execution_count": 9,
   "metadata": {},
   "outputs": [
    {
     "name": "stdout",
     "output_type": "stream",
     "text": [
      "Bark\n",
      "Meow\n",
      "Some generic sound\n"
     ]
    }
   ],
   "source": [
    "class Animal:\n",
    "    def make_sound(self):\n",
    "        print('Some generic sound')\n",
    "\n",
    "class Dog(Animal):\n",
    "    def make_sound(self):\n",
    "        print('Bark')\n",
    "\n",
    "class Cat(Animal):\n",
    "    def make_sound(self):\n",
    "        print('Meow')\n",
    "\n",
    "animal1 = Dog()\n",
    "animal1.make_sound()\n",
    "animal = Cat()\n",
    "animal.make_sound()\n",
    "animal2 = Animal()\n",
    "animal2.make_sound()"
   ]
  },
  {
   "cell_type": "code",
   "execution_count": 8,
   "metadata": {},
   "outputs": [
    {
     "name": "stdout",
     "output_type": "stream",
     "text": [
      "Atomic Habit was not borrowed\n"
     ]
    }
   ],
   "source": [
    "class Book:\n",
    "    def __init__(self, title, author):\n",
    "        self.title = title\n",
    "        self.author = author\n",
    "        self.is_borrowed = False\n",
    "        \n",
    "    def borrow(self):\n",
    "        if not self.is_borrowed:\n",
    "             self.is_borrowed == True\n",
    "             return f'You have borrowed.{self.title}'\n",
    "        return f\"{self.title} is already borrowed\"\n",
    "             \n",
    "    def return_book(self):\n",
    "        if self.is_borrowed:\n",
    "            self.is_borrowed == False\n",
    "            return f'You have returned {self.title}'\n",
    "        return f\"{self.title} was not borrowed\"\n",
    "    \n",
    "    def __str__(self):\n",
    "        status = \"Available\" if not self.is_borrowed else 'Borrowed'\n",
    "        return f\"{self.title} by {self.author} -{status}\"\n",
    "    \n",
    "book1 = Book('Atomic Habit', 'Resham Baral')\n",
    "book1.author\n",
    "book1.borrow()\n",
    "print(book1.return_book())\n",
    "            \n"
   ]
  }
 ],
 "metadata": {
  "kernelspec": {
   "display_name": "base",
   "language": "python",
   "name": "python3"
  },
  "language_info": {
   "codemirror_mode": {
    "name": "ipython",
    "version": 3
   },
   "file_extension": ".py",
   "mimetype": "text/x-python",
   "name": "python",
   "nbconvert_exporter": "python",
   "pygments_lexer": "ipython3",
   "version": "3.12.7"
  }
 },
 "nbformat": 4,
 "nbformat_minor": 2
}
