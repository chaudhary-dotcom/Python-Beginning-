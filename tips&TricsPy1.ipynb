{
  "nbformat": 4,
  "nbformat_minor": 0,
  "metadata": {
    "colab": {
      "provenance": [],
      "authorship_tag": "ABX9TyPkl0V5F963bKigY8/607kr",
      "include_colab_link": true
    },
    "kernelspec": {
      "name": "python3",
      "display_name": "Python 3"
    },
    "language_info": {
      "name": "python"
    }
  },
  "cells": [
    {
      "cell_type": "markdown",
      "metadata": {
        "id": "view-in-github",
        "colab_type": "text"
      },
      "source": [
        "<a href=\"https://colab.research.google.com/github/chaudhary-dotcom/Python-Beginning-/blob/main/tips%26TricsPy1.ipynb\" target=\"_parent\"><img src=\"https://colab.research.google.com/assets/colab-badge.svg\" alt=\"Open In Colab\"/></a>"
      ]
    },
    {
      "cell_type": "code",
      "execution_count": 11,
      "metadata": {
        "id": "Gnf4gmVJmSRV"
      },
      "outputs": [],
      "source": [
        "#How to measure the time elapsed to execute your code in python\n",
        "import time"
      ]
    },
    {
      "cell_type": "code",
      "source": [
        "startTime = time.time()\n",
        "\n",
        "endTime = time.time()\n",
        "totalTime = endTime - startTime\n",
        "print('Total time required to execute code is = ', totalTime)"
      ],
      "metadata": {
        "colab": {
          "base_uri": "https://localhost:8080/"
        },
        "id": "RUDH-kiPmwDI",
        "outputId": "3a506eab-794e-4d5d-83ce-e327edcf6743"
      },
      "execution_count": 10,
      "outputs": [
        {
          "output_type": "stream",
          "name": "stdout",
          "text": [
            "Total time required to execute code is =  7.963180541992188e-05\n"
          ]
        }
      ]
    },
    {
      "cell_type": "code",
      "source": [
        "#get the difference between the two lists\n",
        "list1 = ['scott', 'Eric', 'Kelly', 'Emma', 'Smith']\n",
        "list2 = ['scott', 'Eric', 'Kelly']\n",
        "\n",
        "set1 = set(list1)\n",
        "set2 = set(list2)\n",
        "\n",
        "list3 = list(set1.symmetric_difference(set2))\n",
        "print(list3)"
      ],
      "metadata": {
        "colab": {
          "base_uri": "https://localhost:8080/"
        },
        "id": "RFjtFNaunyk1",
        "outputId": "3282039a-221c-4677-cb1a-83359dc6f20f"
      },
      "execution_count": 15,
      "outputs": [
        {
          "output_type": "stream",
          "name": "stdout",
          "text": [
            "['Emma', 'Smith']\n"
          ]
        }
      ]
    },
    {
      "cell_type": "code",
      "source": [
        "#calculate memory is being used by an object in Python\n",
        "import sys\n",
        "\n",
        "list1 = ['Scott', 'Eric', 'Kelly', 'Emma', 'Smith']\n",
        "print('size of list = ', sys.getsizeof(list1))\n",
        "\n",
        "name = 'pynative.com'\n",
        "print('size of name = ', sys.getsizeof(name))"
      ],
      "metadata": {
        "colab": {
          "base_uri": "https://localhost:8080/"
        },
        "id": "f7LSNOphpHH2",
        "outputId": "8627ade8-b69c-4dbf-d0c2-5dcfeed411bf"
      },
      "execution_count": 18,
      "outputs": [
        {
          "output_type": "stream",
          "name": "stdout",
          "text": [
            "size of list =  104\n",
            "size of name =  61\n"
          ]
        }
      ]
    },
    {
      "cell_type": "code",
      "source": [
        "print(sys.version)"
      ],
      "metadata": {
        "colab": {
          "base_uri": "https://localhost:8080/"
        },
        "id": "dpL01CrQqdDK",
        "outputId": "3b040459-3c96-43f9-f1cc-8434f227e719"
      },
      "execution_count": 19,
      "outputs": [
        {
          "output_type": "stream",
          "name": "stdout",
          "text": [
            "3.11.11 (main, Dec  4 2024, 08:55:07) [GCC 11.4.0]\n"
          ]
        }
      ]
    },
    {
      "cell_type": "code",
      "source": [
        "import sys"
      ],
      "metadata": {
        "id": "G8VFD1OBrQoy"
      },
      "execution_count": 20,
      "outputs": []
    },
    {
      "cell_type": "code",
      "source": [
        "for line in sys.stdin:\n",
        "  if 'q' == line.rstrip():\n",
        "    break\n",
        "  print(f'input: {line}')\n",
        "print('Exit')"
      ],
      "metadata": {
        "colab": {
          "base_uri": "https://localhost:8080/"
        },
        "id": "FC6ciBhbrSrg",
        "outputId": "3ec86286-6599-47d0-daa4-ffe998f7923d"
      },
      "execution_count": 22,
      "outputs": [
        {
          "output_type": "stream",
          "name": "stdout",
          "text": [
            "Exit\n"
          ]
        }
      ]
    },
    {
      "cell_type": "code",
      "source": [
        "#removing duplicates items from a list\n",
        "listNumbers = [20, 22, 24, 26, 28, 20, 30 , 24]\n",
        "print('Original = ', listNumbers)\n",
        "listNumbers = list(set(listNumbers))\n",
        "print('After removing duplicates: ', listNumbers)"
      ],
      "metadata": {
        "colab": {
          "base_uri": "https://localhost:8080/"
        },
        "id": "jvema7ojHx1d",
        "outputId": "4f2a3b9d-8c5e-43e2-d96b-1b889561e22d"
      },
      "execution_count": 4,
      "outputs": [
        {
          "output_type": "stream",
          "name": "stdout",
          "text": [
            "Original =  [20, 22, 24, 26, 28, 20, 30, 24]\n",
            "After removing duplicates:  [20, 22, 24, 26, 28, 30]\n"
          ]
        }
      ]
    },
    {
      "cell_type": "code",
      "source": [
        "#find if all elements in a list are identical\n",
        "listOne = [20, 20, 20, 20]\n",
        "print(listOne.count(listOne[0]) == len(listOne))\n",
        "\n",
        "listTwo = [20,30,30,50,20]\n",
        "print(listTwo.count(listTwo[0])==len(listTwo))"
      ],
      "metadata": {
        "colab": {
          "base_uri": "https://localhost:8080/"
        },
        "id": "HuYgs5bPIqhK",
        "outputId": "9dc1f953-fd5c-4740-dddc-b723bcb7f392"
      },
      "execution_count": 12,
      "outputs": [
        {
          "output_type": "stream",
          "name": "stdout",
          "text": [
            "True\n",
            "False\n"
          ]
        }
      ]
    },
    {
      "cell_type": "code",
      "source": [
        "#how to efficiently compare two unorderd lists\n",
        "one = [33, 44, 22, 11, 55]\n",
        "sort = sorted(one)\n",
        "print(sort)"
      ],
      "metadata": {
        "colab": {
          "base_uri": "https://localhost:8080/"
        },
        "id": "5IySP7x0I2uf",
        "outputId": "c06b3efb-3c3d-47a1-f223-5673e89b60eb"
      },
      "execution_count": 13,
      "outputs": [
        {
          "output_type": "stream",
          "name": "stdout",
          "text": [
            "[11, 22, 33, 44, 55]\n"
          ]
        }
      ]
    },
    {
      "cell_type": "code",
      "source": [
        "#how to efficiently compare two unorderd lists\n",
        "from collections import Counter\n",
        "one = [33,22,11,44,55]\n",
        "two = [22,11,44,55,33]\n",
        "\n",
        "print('Is two list are b equal', Counter(one) == Counter(two))"
      ],
      "metadata": {
        "colab": {
          "base_uri": "https://localhost:8080/"
        },
        "id": "CAY_s32DLIeP",
        "outputId": "88e1e256-cf8d-4b70-c0c9-7bc975776577"
      },
      "execution_count": 15,
      "outputs": [
        {
          "output_type": "stream",
          "name": "stdout",
          "text": [
            "Is two list are b equal True\n"
          ]
        }
      ]
    },
    {
      "cell_type": "code",
      "source": [],
      "metadata": {
        "id": "gajBogrtLIbi"
      },
      "execution_count": null,
      "outputs": []
    },
    {
      "cell_type": "code",
      "source": [],
      "metadata": {
        "id": "Z4SlGHNTLHus"
      },
      "execution_count": null,
      "outputs": []
    }
  ]
}