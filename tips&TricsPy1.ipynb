{
  "nbformat": 4,
  "nbformat_minor": 0,
  "metadata": {
    "colab": {
      "provenance": [],
      "authorship_tag": "ABX9TyN/3U3/Fs6MjNvPzuyrzoPg",
      "include_colab_link": true
    },
    "kernelspec": {
      "name": "python3",
      "display_name": "Python 3"
    },
    "language_info": {
      "name": "python"
    }
  },
  "cells": [
    {
      "cell_type": "markdown",
      "metadata": {
        "id": "view-in-github",
        "colab_type": "text"
      },
      "source": [
        "<a href=\"https://colab.research.google.com/github/chaudhary-dotcom/Python-Beginning-/blob/main/tips%26TricsPy1.ipynb\" target=\"_parent\"><img src=\"https://colab.research.google.com/assets/colab-badge.svg\" alt=\"Open In Colab\"/></a>"
      ]
    },
    {
      "cell_type": "code",
      "execution_count": 11,
      "metadata": {
        "id": "Gnf4gmVJmSRV"
      },
      "outputs": [],
      "source": [
        "#How to measure the time elapsed to execute your code in python\n",
        "import time"
      ]
    },
    {
      "cell_type": "code",
      "source": [
        "startTime = time.time()\n",
        "\n",
        "endTime = time.time()\n",
        "totalTime = endTime - startTime\n",
        "print('Total time required to execute code is = ', totalTime)"
      ],
      "metadata": {
        "colab": {
          "base_uri": "https://localhost:8080/"
        },
        "id": "RUDH-kiPmwDI",
        "outputId": "3a506eab-794e-4d5d-83ce-e327edcf6743"
      },
      "execution_count": 10,
      "outputs": [
        {
          "output_type": "stream",
          "name": "stdout",
          "text": [
            "Total time required to execute code is =  7.963180541992188e-05\n"
          ]
        }
      ]
    },
    {
      "cell_type": "code",
      "source": [
        "#get the difference between the two lists\n",
        "list1 = ['scott', 'Eric', 'Kelly', 'Emma', 'Smith']\n",
        "list2 = ['scott', 'Eric', 'Kelly']\n",
        "\n",
        "set1 = set(list1)\n",
        "set2 = set(list2)\n",
        "\n",
        "list3 = list(set1.symmetric_difference(set2))\n",
        "print(list3)"
      ],
      "metadata": {
        "colab": {
          "base_uri": "https://localhost:8080/"
        },
        "id": "RFjtFNaunyk1",
        "outputId": "3282039a-221c-4677-cb1a-83359dc6f20f"
      },
      "execution_count": 15,
      "outputs": [
        {
          "output_type": "stream",
          "name": "stdout",
          "text": [
            "['Emma', 'Smith']\n"
          ]
        }
      ]
    },
    {
      "cell_type": "code",
      "source": [
        "#calculate memory is being used by an object in Python\n",
        "import sys\n",
        "\n",
        "list1 = ['Scott', 'Eric', 'Kelly', 'Emma', 'Smith']\n",
        "print('size of list = ', sys.getsizeof(list1))\n",
        "\n",
        "name = 'pynative.com'\n",
        "print('size of name = ', sys.getsizeof(name))"
      ],
      "metadata": {
        "colab": {
          "base_uri": "https://localhost:8080/"
        },
        "id": "f7LSNOphpHH2",
        "outputId": "8627ade8-b69c-4dbf-d0c2-5dcfeed411bf"
      },
      "execution_count": 18,
      "outputs": [
        {
          "output_type": "stream",
          "name": "stdout",
          "text": [
            "size of list =  104\n",
            "size of name =  61\n"
          ]
        }
      ]
    }
  ]
}