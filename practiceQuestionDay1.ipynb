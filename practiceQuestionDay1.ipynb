{
  "nbformat": 4,
  "nbformat_minor": 0,
  "metadata": {
    "colab": {
      "provenance": [],
      "authorship_tag": "ABX9TyN3UsPj7H8My0jJOX7NQXRz",
      "include_colab_link": true
    },
    "kernelspec": {
      "name": "python3",
      "display_name": "Python 3"
    },
    "language_info": {
      "name": "python"
    }
  },
  "cells": [
    {
      "cell_type": "markdown",
      "metadata": {
        "id": "view-in-github",
        "colab_type": "text"
      },
      "source": [
        "<a href=\"https://colab.research.google.com/github/chaudhary-dotcom/Python-Beginning-/blob/main/practiceQuestionDay1.ipynb\" target=\"_parent\"><img src=\"https://colab.research.google.com/assets/colab-badge.svg\" alt=\"Open In Colab\"/></a>"
      ]
    },
    {
      "cell_type": "code",
      "execution_count": 18,
      "metadata": {
        "colab": {
          "base_uri": "https://localhost:8080/"
        },
        "id": "uakGlqeRNZA9",
        "outputId": "11a1612a-fecb-40df-eaec-fcdc8073f141"
      },
      "outputs": [
        {
          "output_type": "stream",
          "name": "stdout",
          "text": [
            "Enter numbers: 12\n",
            "30\n"
          ]
        }
      ],
      "source": [
        "\n",
        "def sum_even_numbers(n):\n",
        "  sum = 0\n",
        "  for i in range(0, n):\n",
        "\n",
        "    if i%2 == 0:\n",
        "      sum+=i\n",
        "  return sum\n",
        "\n",
        "num = int(input('Enter numbers: '))\n",
        "print(sum_even_numbers(num))"
      ]
    },
    {
      "cell_type": "code",
      "source": [
        "def sum_odd_numbers(n):\n",
        "  odd_num = 0\n",
        "  for num in n:\n",
        "    if num%2 !=0:\n",
        "      odd_num += num\n",
        "  return odd_num\n",
        "\n",
        "list1 = [1,2,3,4,5,6,7,8]\n",
        "res = sum_odd_numbers(list1)\n",
        "print(res)"
      ],
      "metadata": {
        "colab": {
          "base_uri": "https://localhost:8080/"
        },
        "id": "BqWFIuS4Syk0",
        "outputId": "b9ef3b71-9b01-441c-a40a-ebeb5afe43e4"
      },
      "execution_count": 19,
      "outputs": [
        {
          "output_type": "stream",
          "name": "stdout",
          "text": [
            "16\n"
          ]
        }
      ]
    }
  ]
}