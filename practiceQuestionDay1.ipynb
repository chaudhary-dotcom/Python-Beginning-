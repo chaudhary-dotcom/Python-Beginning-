{
  "nbformat": 4,
  "nbformat_minor": 0,
  "metadata": {
    "colab": {
      "provenance": [],
      "authorship_tag": "ABX9TyMXHTfCNnDxeMv9VbnvVzop",
      "include_colab_link": true
    },
    "kernelspec": {
      "name": "python3",
      "display_name": "Python 3"
    },
    "language_info": {
      "name": "python"
    }
  },
  "cells": [
    {
      "cell_type": "markdown",
      "metadata": {
        "id": "view-in-github",
        "colab_type": "text"
      },
      "source": [
        "<a href=\"https://colab.research.google.com/github/chaudhary-dotcom/Python-Beginning-/blob/main/practiceQuestionDay1.ipynb\" target=\"_parent\"><img src=\"https://colab.research.google.com/assets/colab-badge.svg\" alt=\"Open In Colab\"/></a>"
      ]
    },
    {
      "cell_type": "code",
      "execution_count": null,
      "metadata": {
        "colab": {
          "base_uri": "https://localhost:8080/"
        },
        "id": "uakGlqeRNZA9",
        "outputId": "11a1612a-fecb-40df-eaec-fcdc8073f141"
      },
      "outputs": [
        {
          "output_type": "stream",
          "name": "stdout",
          "text": [
            "Enter numbers: 12\n",
            "30\n"
          ]
        }
      ],
      "source": [
        "\n",
        "def sum_even_numbers(n):\n",
        "  sum = 0\n",
        "  for i in range(0, n):\n",
        "\n",
        "    if i%2 == 0:\n",
        "      sum+=i\n",
        "  return sum\n",
        "\n",
        "num = int(input('Enter numbers: '))\n",
        "print(sum_even_numbers(num))"
      ]
    },
    {
      "cell_type": "code",
      "source": [
        "def sum_odd_numbers(n):\n",
        "  odd_num = 0\n",
        "  for num in n:\n",
        "    if num%2 !=0:\n",
        "      odd_num += num\n",
        "  return odd_num\n",
        "\n",
        "list1 = [1,2,3,4,5,6,7,8]\n",
        "res = sum_odd_numbers(list1)\n",
        "print(res)"
      ],
      "metadata": {
        "colab": {
          "base_uri": "https://localhost:8080/"
        },
        "id": "BqWFIuS4Syk0",
        "outputId": "b9ef3b71-9b01-441c-a40a-ebeb5afe43e4"
      },
      "execution_count": null,
      "outputs": [
        {
          "output_type": "stream",
          "name": "stdout",
          "text": [
            "16\n"
          ]
        }
      ]
    },
    {
      "cell_type": "code",
      "source": [
        "import string"
      ],
      "metadata": {
        "id": "q2Qh_nt2WTL3"
      },
      "execution_count": 23,
      "outputs": []
    },
    {
      "cell_type": "code",
      "source": [
        "def count_word_occurrences(text):\n",
        "  #convert text to lowercase\n",
        "  text = text.lower()\n",
        "\n",
        "  #remove punctuation\n",
        "  text = text.translate(str.maketrans('', '', string.punctuation))\n",
        "\n",
        "  #split text into words\n",
        "  words = text.split()\n",
        "\n",
        "  #count occurrences using a dictionary\n",
        "  word_count = {}\n",
        "  for word in words:\n",
        "    if word in word_count:\n",
        "      word_count[word] += 1\n",
        "\n",
        "    else:\n",
        "      word_count[word] = 1\n",
        "\n",
        "  return word_count\n",
        "\n",
        "#main program\n",
        "sentences = 'apple, banana, apple, orange, banana, apple'\n",
        "word_occurrences = count_word_occurrences(sentences)\n",
        "\n",
        "print('Word Occurrences')\n",
        "for word, count in word_occurrences.items():\n",
        "  print(f'{word}: {count}')"
      ],
      "metadata": {
        "colab": {
          "base_uri": "https://localhost:8080/"
        },
        "id": "aPU8N2pLb7t0",
        "outputId": "569c29bf-46d5-4772-c43c-0947182e45fb"
      },
      "execution_count": 26,
      "outputs": [
        {
          "output_type": "stream",
          "name": "stdout",
          "text": [
            "Word Occurrences\n",
            "apple: 3\n",
            "banana: 2\n",
            "orange: 1\n"
          ]
        }
      ]
    },
    {
      "cell_type": "code",
      "source": [
        "#step 1: define a dictionary of students and their grades\n",
        "students = {\n",
        "    'Alice': 85,\n",
        "    'Bob': 72,\n",
        "    'Charlie': 90,\n",
        "    'Diana': 65,\n",
        "    'Eve': 78,\n",
        "\n",
        "}\n",
        "\n",
        "#step2: functions to filter students by grade\n",
        "def filter_students_by_grade(students, threshold):\n",
        "\n",
        "  #dictionary comprehension to filter students\n",
        "  filtered_students = {name: grade for name, grade in students.items() if grade > threshold}\n",
        "  return filtered_students\n",
        "\n",
        "#step3: main program\n",
        "try:\n",
        "  #get grade threshold from the user\n",
        "  threshold = int(input('Enter the grade threshold: '))\n",
        "\n",
        "  #filter students based on the threshold\n",
        "  filtered = filter_students_by_grade(students, threshold)\n",
        "\n",
        "  #display the result\n",
        "  if filtered:\n",
        "    print(f'Students with grade above {threshold}:')\n",
        "    for name, grade in filtered.items():\n",
        "      print(f'{name}: {grade}')\n",
        "\n",
        "  else:\n",
        "    print(f'No students have grades above {threshold}.')\n",
        "\n",
        "except ValueError:\n",
        "  print('Invalid input! please enter a number')"
      ],
      "metadata": {
        "colab": {
          "base_uri": "https://localhost:8080/"
        },
        "id": "3zsgcwrwhi8R",
        "outputId": "df484627-93c2-4c80-a17c-f049057a52ac"
      },
      "execution_count": 9,
      "outputs": [
        {
          "output_type": "stream",
          "name": "stdout",
          "text": [
            "Enter the grade threshold: 80\n",
            "Students with grade above 80:\n",
            "Alice: 85\n",
            "Charlie: 90\n"
          ]
        }
      ]
    },
    {
      "cell_type": "code",
      "source": [
        "# Step 1: Define a dictionary of students and their grades\n",
        "students = {\n",
        "    \"Alice\": 85,\n",
        "    \"Bob\": 72,\n",
        "    \"Charlie\": 90,\n",
        "    \"Diana\": 65,\n",
        "    \"Eve\": 78,\n",
        "}\n",
        "\n",
        "# Step 2: Function to filter students by grade\n",
        "def filter_students_by_grade(students, threshold):\n",
        "    # Dictionary comprehension to filter students\n",
        "    filtered_students = {name: grade for name, grade in students.items() if grade > threshold}\n",
        "    return filtered_students\n",
        "\n",
        "# Step 3: Main Program\n",
        "try:\n",
        "    # Get grade threshold from the user\n",
        "    threshold = int(input(\"Enter the grade threshold: \"))\n",
        "\n",
        "    # Filter students based on the threshold\n",
        "    filtered = filter_students_by_grade(students, threshold)\n",
        "\n",
        "    # Display the results\n",
        "    if filtered:\n",
        "        print(f\"Students with grades above {threshold}:\")\n",
        "        for name, grade in filtered.items():\n",
        "            print(f\"{name}: {grade}\")\n",
        "    else:\n",
        "        print(f\"No students have grades above {threshold}.\")\n",
        "except ValueError:\n",
        "    print(\"Invalid input! Please enter a number.\")\n"
      ],
      "metadata": {
        "colab": {
          "base_uri": "https://localhost:8080/"
        },
        "id": "60GuTZn-6CNF",
        "outputId": "0d990ab8-42dc-4f12-9a1a-33d18218da64"
      },
      "execution_count": 6,
      "outputs": [
        {
          "output_type": "stream",
          "name": "stdout",
          "text": [
            "Enter the grade threshold: 80\n",
            "Students with grades above 80:\n",
            "Alice: 85\n",
            "Charlie: 90\n"
          ]
        }
      ]
    },
    {
      "cell_type": "code",
      "source": [
        "#count even and odd numbers in a list\n",
        "numbers = [1,2,3,4,5,6,7,8,9]\n",
        "def count_even_numbers(numbers):\n",
        "  count = 0\n",
        "  for num in numbers:\n",
        "    if num%2 == 0:\n",
        "      count+=1\n",
        "  return count\n",
        "\n",
        "\n",
        "res = count_even_numbers(numbers)\n",
        "\n",
        "print(f'Even numbers {res}')\n",
        "print(f'Odd numbers {len(numbers) - res}')"
      ],
      "metadata": {
        "colab": {
          "base_uri": "https://localhost:8080/"
        },
        "id": "tL32nIgQATcQ",
        "outputId": "e36eb0ef-401c-4614-aa6e-12d1fa42e6ad"
      },
      "execution_count": 13,
      "outputs": [
        {
          "output_type": "stream",
          "name": "stdout",
          "text": [
            "Even numbers 4\n",
            "Odd numbers 5\n"
          ]
        }
      ]
    },
    {
      "cell_type": "code",
      "source": [
        "numbers = [5,3,2,5,1,3,4]\n",
        "def unique_elements(numbers):\n",
        "  num = set(numbers)\n",
        "  return tuple(num)\n",
        "res = unique_elements(numbers)\n",
        "print(res)"
      ],
      "metadata": {
        "colab": {
          "base_uri": "https://localhost:8080/"
        },
        "id": "RlJaRiFeCmVJ",
        "outputId": "ff3d967f-0977-4ca9-d741-65c14efa4d90"
      },
      "execution_count": 20,
      "outputs": [
        {
          "output_type": "stream",
          "name": "stdout",
          "text": [
            "(1, 2, 3, 4, 5)\n"
          ]
        }
      ]
    },
    {
      "cell_type": "code",
      "source": [
        "#word length dictionary\n",
        "def word_length_dictionary(words):\n",
        "  return {word: len(word) for word in words}\n",
        "\n",
        "words = ['apple', 'banana', 'cherry', 'date']\n",
        "res = word_length_dictionary(words)\n",
        "print(res)"
      ],
      "metadata": {
        "colab": {
          "base_uri": "https://localhost:8080/"
        },
        "id": "26qsNVbaE79_",
        "outputId": "60779c15-9e58-49d3-c6cf-53109edfeb86"
      },
      "execution_count": 21,
      "outputs": [
        {
          "output_type": "stream",
          "name": "stdout",
          "text": [
            "{'apple': 5, 'banana': 6, 'cherry': 6, 'date': 4}\n"
          ]
        }
      ]
    },
    {
      "cell_type": "code",
      "source": [
        "#sorted\n",
        "def word_length_sorted(words):\n",
        "  return dict(sorted({word: len(word) for word in words}.items(), key = lambda x: x[1]))\n",
        "\n",
        "words = ['apple', 'banana', 'cherry', 'date']\n",
        "res = word_length_sorted(words)\n",
        "print(res)"
      ],
      "metadata": {
        "colab": {
          "base_uri": "https://localhost:8080/"
        },
        "id": "PlXC5K2OIzWH",
        "outputId": "4082109e-2b12-4522-82c8-372386f83bc6"
      },
      "execution_count": 22,
      "outputs": [
        {
          "output_type": "stream",
          "name": "stdout",
          "text": [
            "{'date': 4, 'apple': 5, 'banana': 6, 'cherry': 6}\n"
          ]
        }
      ]
    },
    {
      "cell_type": "code",
      "source": [
        "\n",
        "def write_and_read_file(data):\n",
        "  set1 = set(data)\n",
        "  return set1\n",
        "data = ['hello world', 'hello python', 'python is fun']\n",
        "print(write_and_read_file(data))"
      ],
      "metadata": {
        "colab": {
          "base_uri": "https://localhost:8080/"
        },
        "id": "6RuiMSgnNTNn",
        "outputId": "bcd51d3c-17a0-4718-d66d-51de71bc76d0"
      },
      "execution_count": 24,
      "outputs": [
        {
          "output_type": "stream",
          "name": "stdout",
          "text": [
            "{'hello world', 'python is fun', 'hello python'}\n"
          ]
        }
      ]
    },
    {
      "cell_type": "code",
      "source": [
        "def count_frequencies(elements):\n",
        "  frequency_dict = {}\n",
        "\n",
        "  for element in elements:\n",
        "    if element in frequency_dict:\n",
        "      frequency_dict[element] += 1\n",
        "\n",
        "    else:\n",
        "      frequency_dict[element] = 1\n",
        "\n",
        "  return frequency_dict\n",
        "\n",
        "elements = [1,2,2,3,3,3,4,4,4,4,5]\n",
        "result = count_frequencies(elements)\n",
        "print(result)"
      ],
      "metadata": {
        "colab": {
          "base_uri": "https://localhost:8080/"
        },
        "id": "VVuF5DLgQfOB",
        "outputId": "e794d12b-826c-4679-d685-ebf4fc42a3fe"
      },
      "execution_count": 26,
      "outputs": [
        {
          "output_type": "stream",
          "name": "stdout",
          "text": [
            "{1: 1, 2: 2, 3: 3, 4: 4, 5: 1}\n"
          ]
        }
      ]
    },
    {
      "cell_type": "code",
      "source": [
        "#find common elements in two lists\n",
        "def find_common_elements(list1, list2):\n",
        "  set1 = set(list1)\n",
        "  set2 = set(list2)\n",
        "  common = set1.intersection(set2)\n",
        "  return common\n",
        "list1 = [1,2,3,4]\n",
        "list2 = [3,4,5,6]\n",
        "res = find_common_elements(list1, list2)\n",
        "print(res)"
      ],
      "metadata": {
        "colab": {
          "base_uri": "https://localhost:8080/"
        },
        "id": "gpzPLV3zUF9J",
        "outputId": "f6d63480-17e2-4612-fe51-44af6f0d7659"
      },
      "execution_count": 33,
      "outputs": [
        {
          "output_type": "stream",
          "name": "stdout",
          "text": [
            "{3, 4}\n"
          ]
        }
      ]
    },
    {
      "cell_type": "code",
      "source": [
        "list1 = [1,2,3,4]\n",
        "list2 = [3,4,5,6]\n",
        "com1 = set(list1)\n",
        "com2 = set(list2)\n",
        "common = com1.intersection(com2)\n",
        "print(common)"
      ],
      "metadata": {
        "colab": {
          "base_uri": "https://localhost:8080/"
        },
        "id": "SnEus20kVTyS",
        "outputId": "0383d2ff-a13c-4a48-dee8-47f2de0663b2"
      },
      "execution_count": 31,
      "outputs": [
        {
          "output_type": "stream",
          "name": "stdout",
          "text": [
            "{3, 4}\n"
          ]
        }
      ]
    },
    {
      "cell_type": "code",
      "source": [
        "#find common element using loop\n",
        "def find_common_element(list1, list2):\n",
        "  common_element = set()\n",
        "\n",
        "  for element in list1:\n",
        "    if element in list2:\n",
        "      common_element.add(element)\n",
        "\n",
        "  return common_element\n",
        "\n",
        "list1 = [1,2,3,4]\n",
        "list2 = [3,4,5,6, 2]\n",
        "result = find_common_element(list1, list2)\n",
        "print(result)"
      ],
      "metadata": {
        "colab": {
          "base_uri": "https://localhost:8080/"
        },
        "id": "cmykZvlQYKXx",
        "outputId": "c339f5aa-fc50-43a0-8e02-8477eda8d606"
      },
      "execution_count": 35,
      "outputs": [
        {
          "output_type": "stream",
          "name": "stdout",
          "text": [
            "{2, 3, 4}\n"
          ]
        }
      ]
    },
    {
      "cell_type": "code",
      "source": [
        "#dictionary squares\n",
        "def generate_squares(numbers):\n",
        "  square_dict = {num: num**2 for num in numbers}\n",
        "  return square_dict\n",
        "\n",
        "numbers = (1,2,3,4,5)\n",
        "result = generate_squares(numbers)\n",
        "print(result)"
      ],
      "metadata": {
        "colab": {
          "base_uri": "https://localhost:8080/"
        },
        "id": "v6WTUMOsZz8a",
        "outputId": "65174046-cb87-4c94-bef1-9cca1b452246"
      },
      "execution_count": 36,
      "outputs": [
        {
          "output_type": "stream",
          "name": "stdout",
          "text": [
            "{1: 1, 2: 4, 3: 9, 4: 16, 5: 25}\n"
          ]
        }
      ]
    },
    {
      "cell_type": "code",
      "source": [
        "numbers = (1,2,3,4,5)\n",
        "square_dict = {num: num**2 for num in numbers}\n",
        "print(square_dict)"
      ],
      "metadata": {
        "colab": {
          "base_uri": "https://localhost:8080/"
        },
        "id": "57_J_y4bgFSa",
        "outputId": "fc6902c1-6bc5-4fa6-9659-bd4badfca074"
      },
      "execution_count": 37,
      "outputs": [
        {
          "output_type": "stream",
          "name": "stdout",
          "text": [
            "{1: 1, 2: 4, 3: 9, 4: 16, 5: 25}\n"
          ]
        }
      ]
    },
    {
      "cell_type": "code",
      "source": [
        "numbers = (1,2,3,4,5,6)\n",
        "square_dict = {num: num**2 for num in numbers if num%2 == 0}\n",
        "print(square_dict)"
      ],
      "metadata": {
        "colab": {
          "base_uri": "https://localhost:8080/"
        },
        "id": "3GrXshkFjNy1",
        "outputId": "e9e9d796-ce3a-41f4-db42-e847176afe95"
      },
      "execution_count": 38,
      "outputs": [
        {
          "output_type": "stream",
          "name": "stdout",
          "text": [
            "{2: 4, 4: 16, 6: 36}\n"
          ]
        }
      ]
    },
    {
      "cell_type": "code",
      "source": [
        "#using dictionary comprehension with two lists\n",
        "keys = ['a', 'b', 'c']\n",
        "values = [1,2,3]\n",
        "dict_from_values = {keys[i]: values[i] for i in range(len(keys))}\n",
        "print(dict_from_values)"
      ],
      "metadata": {
        "colab": {
          "base_uri": "https://localhost:8080/"
        },
        "id": "yPrx3Vhxj4Cn",
        "outputId": "472fe21c-0fde-4442-d9c9-4ed4afdec89d"
      },
      "execution_count": 43,
      "outputs": [
        {
          "output_type": "stream",
          "name": "stdout",
          "text": [
            "{'a': 1, 'b': 2, 'c': 3}\n"
          ]
        }
      ]
    },
    {
      "cell_type": "code",
      "source": [
        "#nested dictionary comprehension\n",
        "students = ['Alice', 'Jan', 'Smith']\n",
        "scores = [85, 72, 90]\n",
        "nested_dict = {students[i]: {'score': scores[i], 'passed': scores[i] >=75} for i in range(len(students))}\n",
        "print(nested_dict)"
      ],
      "metadata": {
        "colab": {
          "base_uri": "https://localhost:8080/"
        },
        "id": "8-rWO-TVlDBl",
        "outputId": "d0659d2f-5181-47d3-ec87-eeb06a9d4ff9"
      },
      "execution_count": 2,
      "outputs": [
        {
          "output_type": "stream",
          "name": "stdout",
          "text": [
            "{'Alice': {'score': 85, 'passed': True}, 'Jan': {'score': 72, 'passed': False}, 'Smith': {'score': 90, 'passed': True}}\n"
          ]
        }
      ]
    }
  ]
}