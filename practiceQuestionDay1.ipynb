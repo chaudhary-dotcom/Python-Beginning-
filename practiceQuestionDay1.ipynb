{
  "nbformat": 4,
  "nbformat_minor": 0,
  "metadata": {
    "colab": {
      "provenance": [],
      "authorship_tag": "ABX9TyPGGTRWuZaE955x7XwsAh7S",
      "include_colab_link": true
    },
    "kernelspec": {
      "name": "python3",
      "display_name": "Python 3"
    },
    "language_info": {
      "name": "python"
    }
  },
  "cells": [
    {
      "cell_type": "markdown",
      "metadata": {
        "id": "view-in-github",
        "colab_type": "text"
      },
      "source": [
        "<a href=\"https://colab.research.google.com/github/chaudhary-dotcom/Python-Beginning-/blob/main/practiceQuestionDay1.ipynb\" target=\"_parent\"><img src=\"https://colab.research.google.com/assets/colab-badge.svg\" alt=\"Open In Colab\"/></a>"
      ]
    },
    {
      "cell_type": "code",
      "execution_count": null,
      "metadata": {
        "colab": {
          "base_uri": "https://localhost:8080/"
        },
        "id": "uakGlqeRNZA9",
        "outputId": "11a1612a-fecb-40df-eaec-fcdc8073f141"
      },
      "outputs": [
        {
          "output_type": "stream",
          "name": "stdout",
          "text": [
            "Enter numbers: 12\n",
            "30\n"
          ]
        }
      ],
      "source": [
        "\n",
        "def sum_even_numbers(n):\n",
        "  sum = 0\n",
        "  for i in range(0, n):\n",
        "\n",
        "    if i%2 == 0:\n",
        "      sum+=i\n",
        "  return sum\n",
        "\n",
        "num = int(input('Enter numbers: '))\n",
        "print(sum_even_numbers(num))"
      ]
    },
    {
      "cell_type": "code",
      "source": [
        "def sum_odd_numbers(n):\n",
        "  odd_num = 0\n",
        "  for num in n:\n",
        "    if num%2 !=0:\n",
        "      odd_num += num\n",
        "  return odd_num\n",
        "\n",
        "list1 = [1,2,3,4,5,6,7,8]\n",
        "res = sum_odd_numbers(list1)\n",
        "print(res)"
      ],
      "metadata": {
        "colab": {
          "base_uri": "https://localhost:8080/"
        },
        "id": "BqWFIuS4Syk0",
        "outputId": "b9ef3b71-9b01-441c-a40a-ebeb5afe43e4"
      },
      "execution_count": null,
      "outputs": [
        {
          "output_type": "stream",
          "name": "stdout",
          "text": [
            "16\n"
          ]
        }
      ]
    },
    {
      "cell_type": "code",
      "source": [
        "import string"
      ],
      "metadata": {
        "id": "q2Qh_nt2WTL3"
      },
      "execution_count": 23,
      "outputs": []
    },
    {
      "cell_type": "code",
      "source": [
        "def count_word_occurrences(text):\n",
        "  #convert text to lowercase\n",
        "  text = text.lower()\n",
        "\n",
        "  #remove punctuation\n",
        "  text = text.translate(str.maketrans('', '', string.punctuation))\n",
        "\n",
        "  #split text into words\n",
        "  words = text.split()\n",
        "\n",
        "  #count occurrences using a dictionary\n",
        "  word_count = {}\n",
        "  for word in words:\n",
        "    if word in word_count:\n",
        "      word_count[word] += 1\n",
        "\n",
        "    else:\n",
        "      word_count[word] = 1\n",
        "\n",
        "  return word_count\n",
        "\n",
        "#main program\n",
        "sentences = 'apple, banana, apple, orange, banana, apple'\n",
        "word_occurrences = count_word_occurrences(sentences)\n",
        "\n",
        "print('Word Occurrences')\n",
        "for word, count in word_occurrences.items():\n",
        "  print(f'{word}: {count}')"
      ],
      "metadata": {
        "colab": {
          "base_uri": "https://localhost:8080/"
        },
        "id": "aPU8N2pLb7t0",
        "outputId": "569c29bf-46d5-4772-c43c-0947182e45fb"
      },
      "execution_count": 26,
      "outputs": [
        {
          "output_type": "stream",
          "name": "stdout",
          "text": [
            "Word Occurrences\n",
            "apple: 3\n",
            "banana: 2\n",
            "orange: 1\n"
          ]
        }
      ]
    },
    {
      "cell_type": "code",
      "source": [
        "#step 1: define a dictionary of students and their grades\n",
        "students = {\n",
        "    'Alice': 85,\n",
        "    'Bob': 72,\n",
        "    'Charlie': 90,\n",
        "    'Diana': 65,\n",
        "    'Eve': 78,\n",
        "\n",
        "}\n",
        "\n",
        "#step2: functions to filter students by grade\n",
        "def filter_students_by_grade(students, threshold):\n",
        "\n",
        "  #dictionary comprehension to filter students\n",
        "  filtered_students = {name: grade for name, grade in students.items() if grade > threshold}\n",
        "  return filtered_students\n",
        "\n",
        "#step3: main program\n",
        "try:\n",
        "  #get grade threshold from the user\n",
        "  threshold = int(input('Enter the grade threshold: '))\n",
        "\n",
        "  #filter students based on the threshold\n",
        "  filtered = filter_students_by_grade(students, threshold)\n",
        "\n",
        "  #display the result\n",
        "  if filtered:\n",
        "    print(f'Students with grade above {threshold}:')\n",
        "    for name, grade in filtered.items():\n",
        "      print(f'{name}: {grade}')\n",
        "\n",
        "  else:\n",
        "    print(f'No students have grades above {threshold}.')\n",
        "\n",
        "except ValueError:\n",
        "  print('Invalid input! please enter a number')"
      ],
      "metadata": {
        "colab": {
          "base_uri": "https://localhost:8080/"
        },
        "id": "3zsgcwrwhi8R",
        "outputId": "df484627-93c2-4c80-a17c-f049057a52ac"
      },
      "execution_count": 9,
      "outputs": [
        {
          "output_type": "stream",
          "name": "stdout",
          "text": [
            "Enter the grade threshold: 80\n",
            "Students with grade above 80:\n",
            "Alice: 85\n",
            "Charlie: 90\n"
          ]
        }
      ]
    },
    {
      "cell_type": "code",
      "source": [
        "# Step 1: Define a dictionary of students and their grades\n",
        "students = {\n",
        "    \"Alice\": 85,\n",
        "    \"Bob\": 72,\n",
        "    \"Charlie\": 90,\n",
        "    \"Diana\": 65,\n",
        "    \"Eve\": 78,\n",
        "}\n",
        "\n",
        "# Step 2: Function to filter students by grade\n",
        "def filter_students_by_grade(students, threshold):\n",
        "    # Dictionary comprehension to filter students\n",
        "    filtered_students = {name: grade for name, grade in students.items() if grade > threshold}\n",
        "    return filtered_students\n",
        "\n",
        "# Step 3: Main Program\n",
        "try:\n",
        "    # Get grade threshold from the user\n",
        "    threshold = int(input(\"Enter the grade threshold: \"))\n",
        "\n",
        "    # Filter students based on the threshold\n",
        "    filtered = filter_students_by_grade(students, threshold)\n",
        "\n",
        "    # Display the results\n",
        "    if filtered:\n",
        "        print(f\"Students with grades above {threshold}:\")\n",
        "        for name, grade in filtered.items():\n",
        "            print(f\"{name}: {grade}\")\n",
        "    else:\n",
        "        print(f\"No students have grades above {threshold}.\")\n",
        "except ValueError:\n",
        "    print(\"Invalid input! Please enter a number.\")\n"
      ],
      "metadata": {
        "colab": {
          "base_uri": "https://localhost:8080/"
        },
        "id": "60GuTZn-6CNF",
        "outputId": "0d990ab8-42dc-4f12-9a1a-33d18218da64"
      },
      "execution_count": 6,
      "outputs": [
        {
          "output_type": "stream",
          "name": "stdout",
          "text": [
            "Enter the grade threshold: 80\n",
            "Students with grades above 80:\n",
            "Alice: 85\n",
            "Charlie: 90\n"
          ]
        }
      ]
    }
  ]
}