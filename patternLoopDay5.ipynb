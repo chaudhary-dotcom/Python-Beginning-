{
  "nbformat": 4,
  "nbformat_minor": 0,
  "metadata": {
    "colab": {
      "provenance": [],
      "authorship_tag": "ABX9TyOy9obhoq9WlwWTJEQ6MBQC",
      "include_colab_link": true
    },
    "kernelspec": {
      "name": "python3",
      "display_name": "Python 3"
    },
    "language_info": {
      "name": "python"
    }
  },
  "cells": [
    {
      "cell_type": "markdown",
      "metadata": {
        "id": "view-in-github",
        "colab_type": "text"
      },
      "source": [
        "<a href=\"https://colab.research.google.com/github/chaudhary-dotcom/Python-Beginning-/blob/main/patternLoopDay5.ipynb\" target=\"_parent\"><img src=\"https://colab.research.google.com/assets/colab-badge.svg\" alt=\"Open In Colab\"/></a>"
      ]
    },
    {
      "cell_type": "code",
      "execution_count": 2,
      "metadata": {
        "colab": {
          "base_uri": "https://localhost:8080/"
        },
        "id": "LaTSrTqBqQYo",
        "outputId": "865148fb-7dca-40f8-d47a-6c8f241a0d5c"
      },
      "outputs": [
        {
          "output_type": "stream",
          "name": "stdout",
          "text": [
            "--------* \n",
            "------* * \n",
            "----* * * \n",
            "--* * * * \n",
            "* * * * * \n"
          ]
        }
      ],
      "source": [
        "#print pattern\n",
        "rows = 5\n",
        "k = 2*rows-2\n",
        "for i in range(0, rows):\n",
        "\n",
        "  for j in range(0, k):\n",
        "    print('-', end='')\n",
        "  k = k-2\n",
        "  for j in range(0, i+1):\n",
        "    print(\"* \", end='')\n",
        "  print('')"
      ]
    },
    {
      "cell_type": "code",
      "source": [
        "rows = 6\n",
        "k = 2*rows-2\n",
        "for i in range(0, rows):\n",
        "  for j in range(0, k):\n",
        "    print(end=\" \")\n",
        "  k = k-2\n",
        "  for j in range(0, i+1):\n",
        "    print('* ', end='')\n",
        "  print(\"\")"
      ],
      "metadata": {
        "colab": {
          "base_uri": "https://localhost:8080/"
        },
        "id": "Sc0mlIrJueaf",
        "outputId": "3cdbfea6-abfe-4a96-e075-be40f3f051a8"
      },
      "execution_count": 9,
      "outputs": [
        {
          "output_type": "stream",
          "name": "stdout",
          "text": [
            "          * \n",
            "        * * \n",
            "      * * * \n",
            "    * * * * \n",
            "  * * * * * \n",
            "* * * * * * \n"
          ]
        }
      ]
    },
    {
      "cell_type": "code",
      "source": [
        "rows=5\n",
        "for j in range(1, rows+1):\n",
        "  print('* ' *j)"
      ],
      "metadata": {
        "colab": {
          "base_uri": "https://localhost:8080/"
        },
        "id": "9SUAfvWyvXZa",
        "outputId": "3a163754-e6ed-491a-87be-38f07a89b810"
      },
      "execution_count": 11,
      "outputs": [
        {
          "output_type": "stream",
          "name": "stdout",
          "text": [
            "* \n",
            "* * \n",
            "* * * \n",
            "* * * * \n",
            "* * * * * \n"
          ]
        }
      ]
    },
    {
      "cell_type": "code",
      "source": [
        "rows=5\n",
        "for i in range(rows+1, 0, -1):\n",
        "  for j in range(0, i-1):\n",
        "    print('* ', end='')\n",
        "  print()"
      ],
      "metadata": {
        "colab": {
          "base_uri": "https://localhost:8080/"
        },
        "id": "hDwdR9M7wBZm",
        "outputId": "9817b7c6-77a0-490f-8dc3-2f245098da70"
      },
      "execution_count": 13,
      "outputs": [
        {
          "output_type": "stream",
          "name": "stdout",
          "text": [
            "* * * * * \n",
            "* * * * \n",
            "* * * \n",
            "* * \n",
            "* \n",
            "\n"
          ]
        }
      ]
    },
    {
      "cell_type": "code",
      "source": [
        "rows = 5\n",
        "k = 2*rows-2\n",
        "for i in range(rows, -1, -1):\n",
        "  for j in range(k, 0, -1):\n",
        "    print(end=\" \")\n",
        "  k = k+1\n",
        "  for j in range(0, i+1):\n",
        "    print('*', end=\" \")\n",
        "  print(\"\")"
      ],
      "metadata": {
        "colab": {
          "base_uri": "https://localhost:8080/"
        },
        "id": "QUme-uKAwcyc",
        "outputId": "654831b8-2115-4d85-e44c-82c223168749"
      },
      "execution_count": 19,
      "outputs": [
        {
          "output_type": "stream",
          "name": "stdout",
          "text": [
            "        * * * * * * \n",
            "         * * * * * \n",
            "          * * * * \n",
            "           * * * \n",
            "            * * \n",
            "             * \n"
          ]
        }
      ]
    },
    {
      "cell_type": "code",
      "source": [
        "rows = 5\n",
        "i = rows\n",
        "while i>=1:\n",
        "  j = rows\n",
        "  while j > i:\n",
        "    print(' ', end =' ')\n",
        "    j -=1\n",
        "  k =1\n",
        "  while k <= i:\n",
        "    print('*', end=' ')\n",
        "    k+=1\n",
        "  print()\n",
        "  i-=1"
      ],
      "metadata": {
        "colab": {
          "base_uri": "https://localhost:8080/"
        },
        "id": "X_hAQ1zTzhyg",
        "outputId": "64ec5fe6-7520-48ca-e068-43fe34946887"
      },
      "execution_count": 22,
      "outputs": [
        {
          "output_type": "stream",
          "name": "stdout",
          "text": [
            "* * * * * \n",
            "  * * * * \n",
            "    * * * \n",
            "      * * \n",
            "        * \n"
          ]
        }
      ]
    },
    {
      "cell_type": "code",
      "source": [
        "#equilateral traingle pattern\n",
        "print(\"Equilateral traingle pyramid using asterisk symbol\")\n",
        "size = 7\n",
        "m = (2*size) - 2\n",
        "for i in range(0, size):\n",
        "  for j in range(0, m):\n",
        "    print( end=' ')\n",
        "  m = m-1\n",
        "  for j in range(0, i+1):\n",
        "    print('*', end=' ')\n",
        "  print(' ')"
      ],
      "metadata": {
        "colab": {
          "base_uri": "https://localhost:8080/"
        },
        "id": "Q8LSqbGQ542z",
        "outputId": "22008c34-4e48-47bb-d18f-80b0266366ef"
      },
      "execution_count": 27,
      "outputs": [
        {
          "output_type": "stream",
          "name": "stdout",
          "text": [
            "Equilateral traingle pyramid using asterisk symbol\n",
            "            *  \n",
            "           * *  \n",
            "          * * *  \n",
            "         * * * *  \n",
            "        * * * * *  \n",
            "       * * * * * *  \n",
            "      * * * * * * *  \n"
          ]
        }
      ]
    },
    {
      "cell_type": "code",
      "source": [
        "rows = 6\n",
        "for i in range(0, rows):\n",
        "  for j in range(0, i+1):\n",
        "    print('*', end='')\n",
        "  print('')\n",
        "print('')\n",
        "\n",
        "for i in range(rows+1, 0, -1):\n",
        "  for j in range(0, i-1):\n",
        "    print('*', end='')\n",
        "  print('')"
      ],
      "metadata": {
        "colab": {
          "base_uri": "https://localhost:8080/"
        },
        "id": "csEEfEjR8ZnU",
        "outputId": "1bd9551d-2ed0-4e98-f544-b0249a297c09"
      },
      "execution_count": 29,
      "outputs": [
        {
          "output_type": "stream",
          "name": "stdout",
          "text": [
            "*\n",
            "**\n",
            "***\n",
            "****\n",
            "*****\n",
            "******\n",
            "\n",
            "******\n",
            "*****\n",
            "****\n",
            "***\n",
            "**\n",
            "*\n",
            "\n"
          ]
        }
      ]
    },
    {
      "cell_type": "code",
      "source": [
        "rows=5\n",
        "for i in range(0, rows):\n",
        "  for j in range(0, i+1):\n",
        "    print('*', end='')\n",
        "  print('')\n",
        "for i in range(rows, 0,-1):\n",
        "  for j in range(0, i-1):\n",
        "    print('*', end= '')\n",
        "  print('')"
      ],
      "metadata": {
        "colab": {
          "base_uri": "https://localhost:8080/"
        },
        "id": "QXCk1WUQ-EAT",
        "outputId": "61d177b3-7095-4b1d-8876-8391fea9a51e"
      },
      "execution_count": 30,
      "outputs": [
        {
          "output_type": "stream",
          "name": "stdout",
          "text": [
            "*\n",
            "**\n",
            "***\n",
            "****\n",
            "*****\n",
            "****\n",
            "***\n",
            "**\n",
            "*\n",
            "\n"
          ]
        }
      ]
    },
    {
      "cell_type": "code",
      "source": [
        "rows=5\n",
        "i = 1\n",
        "while i <= rows:\n",
        "  j = i\n",
        "  while j<rows:\n",
        "    print(' ', end=' ')\n",
        "    j+=1\n",
        "  k = 1\n",
        "  while k <= i:\n",
        "    print('*', end=' ')\n",
        "    k+=1\n",
        "  print()\n",
        "  i+=1\n",
        "\n",
        "i = rows\n",
        "while i>=1:\n",
        "  j = i\n",
        "  while j <= rows:\n",
        "    print(' ', end=' ')\n",
        "    j+=1\n",
        "  k = 1\n",
        "  while k<i:\n",
        "    print('*', end=' ')\n",
        "    k+=1\n",
        "  print('')\n",
        "  i-=1"
      ],
      "metadata": {
        "colab": {
          "base_uri": "https://localhost:8080/"
        },
        "id": "1Dp7ixMZ-_G6",
        "outputId": "33b1dde9-ec1c-4ace-cd02-280d655807ca"
      },
      "execution_count": 1,
      "outputs": [
        {
          "output_type": "stream",
          "name": "stdout",
          "text": [
            "        * \n",
            "      * * \n",
            "    * * * \n",
            "  * * * * \n",
            "* * * * * \n",
            "  * * * * \n",
            "    * * * \n",
            "      * * \n",
            "        * \n",
            "          \n"
          ]
        }
      ]
    },
    {
      "cell_type": "code",
      "source": [
        "rows = 5\n",
        "i= 0\n",
        "while i <= rows-1:\n",
        "  j = 0\n",
        "  while j<i:\n",
        "    print('', end=' ')\n",
        "    j+=1\n",
        "  k=i\n",
        "  while k<=rows-1:\n",
        "    print('*', end=' ')\n",
        "    k+=1\n",
        "  print()\n",
        "  i+=1\n",
        "\n",
        "i = rows -1\n",
        "while i >=0:\n",
        "  j = 0\n",
        "  while j < i:\n",
        "    print('', end=' ')\n",
        "    j+=1\n",
        "  k = i\n",
        "  while k <= rows-1:\n",
        "    print('*', end=' ')\n",
        "    k+=1\n",
        "  print('')\n",
        "  i-=1\n"
      ],
      "metadata": {
        "colab": {
          "base_uri": "https://localhost:8080/"
        },
        "id": "9rj8TG5lUxwm",
        "outputId": "a06bc7c5-cf1b-4cad-8b9d-354c72378cb8"
      },
      "execution_count": 15,
      "outputs": [
        {
          "output_type": "stream",
          "name": "stdout",
          "text": [
            "* * * * * \n",
            " * * * * \n",
            "  * * * \n",
            "   * * \n",
            "    * \n",
            "    * \n",
            "   * * \n",
            "  * * * \n",
            " * * * * \n",
            "* * * * * \n"
          ]
        }
      ]
    },
    {
      "cell_type": "code",
      "source": [
        "rows = 14\n",
        "print('*'* rows, end='\\n')\n",
        "i = (rows // 2) - 1\n",
        "j = 2\n",
        "while i!= 0:\n",
        "  while j <= (rows-2):\n",
        "    print('*'*i, end='')\n",
        "    print('-'*j, end='')\n",
        "    print('*'*i, end='\\n')\n",
        "    i = i-1\n",
        "    j=j+2\n",
        ""
      ],
      "metadata": {
        "colab": {
          "base_uri": "https://localhost:8080/"
        },
        "id": "rUBQHM6gdQug",
        "outputId": "39add8e1-88cc-42ca-8f12-bf5570527794"
      },
      "execution_count": 20,
      "outputs": [
        {
          "output_type": "stream",
          "name": "stdout",
          "text": [
            "**************\n",
            "******--******\n",
            "*****----*****\n",
            "****------****\n",
            "***--------***\n",
            "**----------**\n",
            "*------------*\n"
          ]
        }
      ]
    },
    {
      "cell_type": "code",
      "source": [
        "rows = 5\n",
        "k = 2*rows -2\n",
        "for i in range(0, rows):\n",
        "  for j in range(0, k):\n",
        "    print(end=' ')\n",
        "  k = k-1\n",
        "  for j in range(0, i+1):\n",
        "    print('* ',end='')\n",
        "  print('')\n",
        "\n",
        "k = rows - 2\n",
        "\n",
        "for i in range(rows, -1, -1):\n",
        "  for j in range(k, 0,-1):\n",
        "    print(end=' ')\n",
        "  k =k+ 1\n",
        "  for j in range(0, i+1):\n",
        "    print('*', end=' ')\n",
        "  print('')\n"
      ],
      "metadata": {
        "colab": {
          "base_uri": "https://localhost:8080/"
        },
        "id": "whU7WBBakCOT",
        "outputId": "519fb8b1-0e1c-430c-d47f-75b7cfa0f28b"
      },
      "execution_count": 32,
      "outputs": [
        {
          "output_type": "stream",
          "name": "stdout",
          "text": [
            "        * \n",
            "       * * \n",
            "      * * * \n",
            "     * * * * \n",
            "    * * * * * \n",
            "   * * * * * * \n",
            "    * * * * * \n",
            "     * * * * \n",
            "      * * * \n",
            "       * * \n",
            "        * \n"
          ]
        }
      ]
    },
    {
      "cell_type": "code",
      "source": [],
      "metadata": {
        "id": "fTfoNzljpeJw"
      },
      "execution_count": null,
      "outputs": []
    }
  ]
}