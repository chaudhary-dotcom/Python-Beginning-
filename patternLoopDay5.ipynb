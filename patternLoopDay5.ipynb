{
  "nbformat": 4,
  "nbformat_minor": 0,
  "metadata": {
    "colab": {
      "provenance": [],
      "authorship_tag": "ABX9TyN7OEtUN7iS+Kg2ce3BvNmN",
      "include_colab_link": true
    },
    "kernelspec": {
      "name": "python3",
      "display_name": "Python 3"
    },
    "language_info": {
      "name": "python"
    }
  },
  "cells": [
    {
      "cell_type": "markdown",
      "metadata": {
        "id": "view-in-github",
        "colab_type": "text"
      },
      "source": [
        "<a href=\"https://colab.research.google.com/github/chaudhary-dotcom/Python-Beginning-/blob/main/patternLoopDay5.ipynb\" target=\"_parent\"><img src=\"https://colab.research.google.com/assets/colab-badge.svg\" alt=\"Open In Colab\"/></a>"
      ]
    },
    {
      "cell_type": "code",
      "execution_count": 2,
      "metadata": {
        "colab": {
          "base_uri": "https://localhost:8080/"
        },
        "id": "LaTSrTqBqQYo",
        "outputId": "865148fb-7dca-40f8-d47a-6c8f241a0d5c"
      },
      "outputs": [
        {
          "output_type": "stream",
          "name": "stdout",
          "text": [
            "--------* \n",
            "------* * \n",
            "----* * * \n",
            "--* * * * \n",
            "* * * * * \n"
          ]
        }
      ],
      "source": [
        "#print pattern\n",
        "rows = 5\n",
        "k = 2*rows-2\n",
        "for i in range(0, rows):\n",
        "\n",
        "  for j in range(0, k):\n",
        "    print('-', end='')\n",
        "  k = k-2\n",
        "  for j in range(0, i+1):\n",
        "    print(\"* \", end='')\n",
        "  print('')"
      ]
    },
    {
      "cell_type": "code",
      "source": [
        "rows = 6\n",
        "k = 2*rows-2\n",
        "for i in range(0, rows):\n",
        "  for j in range(0, k):\n",
        "    print(end=\" \")\n",
        "  k = k-2\n",
        "  for j in range(0, i+1):\n",
        "    print('* ', end='')\n",
        "  print(\"\")"
      ],
      "metadata": {
        "colab": {
          "base_uri": "https://localhost:8080/"
        },
        "id": "Sc0mlIrJueaf",
        "outputId": "3cdbfea6-abfe-4a96-e075-be40f3f051a8"
      },
      "execution_count": 9,
      "outputs": [
        {
          "output_type": "stream",
          "name": "stdout",
          "text": [
            "          * \n",
            "        * * \n",
            "      * * * \n",
            "    * * * * \n",
            "  * * * * * \n",
            "* * * * * * \n"
          ]
        }
      ]
    },
    {
      "cell_type": "code",
      "source": [
        "rows=5\n",
        "for j in range(1, rows+1):\n",
        "  print('* ' *j)"
      ],
      "metadata": {
        "colab": {
          "base_uri": "https://localhost:8080/"
        },
        "id": "9SUAfvWyvXZa",
        "outputId": "3a163754-e6ed-491a-87be-38f07a89b810"
      },
      "execution_count": 11,
      "outputs": [
        {
          "output_type": "stream",
          "name": "stdout",
          "text": [
            "* \n",
            "* * \n",
            "* * * \n",
            "* * * * \n",
            "* * * * * \n"
          ]
        }
      ]
    },
    {
      "cell_type": "code",
      "source": [
        "rows=5\n",
        "for i in range(rows+1, 0, -1):\n",
        "  for j in range(0, i-1):\n",
        "    print('* ', end='')\n",
        "  print()"
      ],
      "metadata": {
        "colab": {
          "base_uri": "https://localhost:8080/"
        },
        "id": "hDwdR9M7wBZm",
        "outputId": "9817b7c6-77a0-490f-8dc3-2f245098da70"
      },
      "execution_count": 13,
      "outputs": [
        {
          "output_type": "stream",
          "name": "stdout",
          "text": [
            "* * * * * \n",
            "* * * * \n",
            "* * * \n",
            "* * \n",
            "* \n",
            "\n"
          ]
        }
      ]
    },
    {
      "cell_type": "code",
      "source": [
        "rows = 5\n",
        "k = 2*rows-2\n",
        "for i in range(rows, -1, -1):\n",
        "  for j in range(k, 0, -1):\n",
        "    print(end=\" \")\n",
        "  k = k+1\n",
        "  for j in range(0, i+1):\n",
        "    print('*', end=\" \")\n",
        "  print(\"\")"
      ],
      "metadata": {
        "colab": {
          "base_uri": "https://localhost:8080/"
        },
        "id": "QUme-uKAwcyc",
        "outputId": "654831b8-2115-4d85-e44c-82c223168749"
      },
      "execution_count": 19,
      "outputs": [
        {
          "output_type": "stream",
          "name": "stdout",
          "text": [
            "        * * * * * * \n",
            "         * * * * * \n",
            "          * * * * \n",
            "           * * * \n",
            "            * * \n",
            "             * \n"
          ]
        }
      ]
    },
    {
      "cell_type": "code",
      "source": [
        "rows = 5\n",
        "i = rows\n",
        "while i>=1:\n",
        "  j = rows\n",
        "  while j > i:\n",
        "    print(' ', end =' ')\n",
        "    j -=1\n",
        "  k =1\n",
        "  while k <= i:\n",
        "    print('*', end=' ')\n",
        "    k+=1\n",
        "  print()\n",
        "  i-=1"
      ],
      "metadata": {
        "colab": {
          "base_uri": "https://localhost:8080/"
        },
        "id": "X_hAQ1zTzhyg",
        "outputId": "64ec5fe6-7520-48ca-e068-43fe34946887"
      },
      "execution_count": 22,
      "outputs": [
        {
          "output_type": "stream",
          "name": "stdout",
          "text": [
            "* * * * * \n",
            "  * * * * \n",
            "    * * * \n",
            "      * * \n",
            "        * \n"
          ]
        }
      ]
    },
    {
      "cell_type": "code",
      "source": [
        "#equilateral traingle pattern\n",
        "print(\"Equilateral traingle pyramid using asterisk symbol\")\n",
        "size = 7\n",
        "m = (2*size) - 2\n",
        "for i in range(0, size):\n",
        "  for j in range(0, m):\n",
        "    print( end=' ')\n",
        "  m = m-1\n",
        "  for j in range(0, i+1):\n",
        "    print('*', end=' ')\n",
        "  print(' ')"
      ],
      "metadata": {
        "colab": {
          "base_uri": "https://localhost:8080/"
        },
        "id": "Q8LSqbGQ542z",
        "outputId": "22008c34-4e48-47bb-d18f-80b0266366ef"
      },
      "execution_count": 27,
      "outputs": [
        {
          "output_type": "stream",
          "name": "stdout",
          "text": [
            "Equilateral traingle pyramid using asterisk symbol\n",
            "            *  \n",
            "           * *  \n",
            "          * * *  \n",
            "         * * * *  \n",
            "        * * * * *  \n",
            "       * * * * * *  \n",
            "      * * * * * * *  \n"
          ]
        }
      ]
    },
    {
      "cell_type": "code",
      "source": [
        "rows = 6\n",
        "for i in range(0, rows):\n",
        "  for j in range(0, i+1):\n",
        "    print('*', end='')\n",
        "  print('')\n",
        "print('')\n",
        "\n",
        "for i in range(rows+1, 0, -1):\n",
        "  for j in range(0, i-1):\n",
        "    print('*', end='')\n",
        "  print('')"
      ],
      "metadata": {
        "colab": {
          "base_uri": "https://localhost:8080/"
        },
        "id": "csEEfEjR8ZnU",
        "outputId": "1bd9551d-2ed0-4e98-f544-b0249a297c09"
      },
      "execution_count": 29,
      "outputs": [
        {
          "output_type": "stream",
          "name": "stdout",
          "text": [
            "*\n",
            "**\n",
            "***\n",
            "****\n",
            "*****\n",
            "******\n",
            "\n",
            "******\n",
            "*****\n",
            "****\n",
            "***\n",
            "**\n",
            "*\n",
            "\n"
          ]
        }
      ]
    },
    {
      "cell_type": "code",
      "source": [
        "rows=5\n",
        "for i in range(0, rows):\n",
        "  for j in range(0, i+1):\n",
        "    print('*', end='')\n",
        "  print('')\n",
        "for i in range(rows, 0,-1):\n",
        "  for j in range(0, i-1):\n",
        "    print('*', end= '')\n",
        "  print('')"
      ],
      "metadata": {
        "colab": {
          "base_uri": "https://localhost:8080/"
        },
        "id": "QXCk1WUQ-EAT",
        "outputId": "61d177b3-7095-4b1d-8876-8391fea9a51e"
      },
      "execution_count": 30,
      "outputs": [
        {
          "output_type": "stream",
          "name": "stdout",
          "text": [
            "*\n",
            "**\n",
            "***\n",
            "****\n",
            "*****\n",
            "****\n",
            "***\n",
            "**\n",
            "*\n",
            "\n"
          ]
        }
      ]
    },
    {
      "cell_type": "code",
      "source": [
        "rows=5\n",
        "i = 1\n",
        "while i <= rows:\n",
        "  j = i\n",
        "  while j<rows:\n",
        "    print(' ', end=' ')\n",
        "    j+=1\n",
        "  k = 1\n",
        "  while k <= i:\n",
        "    print('*', end=' ')\n",
        "    k+=1\n",
        "  print()\n",
        "  i+=1\n",
        "\n",
        "i = rows\n",
        "while i>=1:\n",
        "  j = i\n",
        "  while j <= rows:\n",
        "    print(' ', end=' ')\n",
        "    j+=1\n",
        "  k = 1\n",
        "  while k<i:\n",
        "    print('*', end=' ')\n",
        "    k+=1\n",
        "  print('')\n",
        "  i-=1"
      ],
      "metadata": {
        "colab": {
          "base_uri": "https://localhost:8080/"
        },
        "id": "1Dp7ixMZ-_G6",
        "outputId": "33b1dde9-ec1c-4ace-cd02-280d655807ca"
      },
      "execution_count": 1,
      "outputs": [
        {
          "output_type": "stream",
          "name": "stdout",
          "text": [
            "        * \n",
            "      * * \n",
            "    * * * \n",
            "  * * * * \n",
            "* * * * * \n",
            "  * * * * \n",
            "    * * * \n",
            "      * * \n",
            "        * \n",
            "          \n"
          ]
        }
      ]
    },
    {
      "cell_type": "code",
      "source": [
        "rows = 5\n",
        "i= 0\n",
        "while i <= rows-1:\n",
        "  j = 0\n",
        "  while j<i:\n",
        "    print('', end=' ')\n",
        "    j+=1\n",
        "  k=i\n",
        "  while k<=rows-1:\n",
        "    print('*', end=' ')\n",
        "    k+=1\n",
        "  print()\n",
        "  i+=1\n",
        "\n",
        "i = rows -1\n",
        "while i >=0:\n",
        "  j = 0\n",
        "  while j < i:\n",
        "    print('', end=' ')\n",
        "    j+=1\n",
        "  k = i\n",
        "  while k <= rows-1:\n",
        "    print('*', end=' ')\n",
        "    k+=1\n",
        "  print('')\n",
        "  i-=1\n"
      ],
      "metadata": {
        "colab": {
          "base_uri": "https://localhost:8080/"
        },
        "id": "9rj8TG5lUxwm",
        "outputId": "a06bc7c5-cf1b-4cad-8b9d-354c72378cb8"
      },
      "execution_count": 15,
      "outputs": [
        {
          "output_type": "stream",
          "name": "stdout",
          "text": [
            "* * * * * \n",
            " * * * * \n",
            "  * * * \n",
            "   * * \n",
            "    * \n",
            "    * \n",
            "   * * \n",
            "  * * * \n",
            " * * * * \n",
            "* * * * * \n"
          ]
        }
      ]
    },
    {
      "cell_type": "code",
      "source": [
        "rows = 14\n",
        "print('*'* rows, end='\\n')\n",
        "i = (rows // 2) - 1\n",
        "j = 2\n",
        "while i!= 0:\n",
        "  while j <= (rows-2):\n",
        "    print('*'*i, end='')\n",
        "    print('-'*j, end='')\n",
        "    print('*'*i, end='\\n')\n",
        "    i = i-1\n",
        "    j=j+2\n",
        ""
      ],
      "metadata": {
        "colab": {
          "base_uri": "https://localhost:8080/"
        },
        "id": "rUBQHM6gdQug",
        "outputId": "39add8e1-88cc-42ca-8f12-bf5570527794"
      },
      "execution_count": 20,
      "outputs": [
        {
          "output_type": "stream",
          "name": "stdout",
          "text": [
            "**************\n",
            "******--******\n",
            "*****----*****\n",
            "****------****\n",
            "***--------***\n",
            "**----------**\n",
            "*------------*\n"
          ]
        }
      ]
    },
    {
      "cell_type": "code",
      "source": [
        "rows = 5\n",
        "k = 2*rows -2\n",
        "for i in range(0, rows):\n",
        "  for j in range(0, k):\n",
        "    print(end=' ')\n",
        "  k = k-1\n",
        "  for j in range(0, i+1):\n",
        "    print('* ',end='')\n",
        "  print('')\n",
        "\n",
        "k = rows - 2\n",
        "\n",
        "for i in range(rows, -1, -1):\n",
        "  for j in range(k, 0,-1):\n",
        "    print(end=' ')\n",
        "  k =k+ 1\n",
        "  for j in range(0, i+1):\n",
        "    print('*', end=' ')\n",
        "  print('')\n"
      ],
      "metadata": {
        "colab": {
          "base_uri": "https://localhost:8080/"
        },
        "id": "whU7WBBakCOT",
        "outputId": "519fb8b1-0e1c-430c-d47f-75b7cfa0f28b"
      },
      "execution_count": 32,
      "outputs": [
        {
          "output_type": "stream",
          "name": "stdout",
          "text": [
            "        * \n",
            "       * * \n",
            "      * * * \n",
            "     * * * * \n",
            "    * * * * * \n",
            "   * * * * * * \n",
            "    * * * * * \n",
            "     * * * * \n",
            "      * * * \n",
            "       * * \n",
            "        * \n"
          ]
        }
      ]
    },
    {
      "cell_type": "code",
      "source": [
        "rows = 5\n",
        "i = 1\n",
        "while i <= rows:\n",
        "  j = rows\n",
        "  while j > i:\n",
        "    print(' ', end=' ')\n",
        "    j-=1\n",
        "  print('*', end=' ')\n",
        "  k = 1\n",
        "  while k < 2 * (i - 1):\n",
        "    print(' ', end =' ')\n",
        "    k+=1\n",
        "  if i == 1:\n",
        "    print()\n",
        "  else:\n",
        "    print('*')\n",
        "  i+=1\n",
        "\n",
        "i = rows - 1\n",
        "while i>=1:\n",
        "  j = rows\n",
        "  while j > i:\n",
        "    print(' ', end=' ')\n",
        "    j-=1\n",
        "  print('*', end=' ')\n",
        "  k=1\n",
        "  while k <= 2*(i-1):\n",
        "    print(' ', end=' ')\n",
        "    k+=1\n",
        "  if i == 1:\n",
        "    print()\n",
        "  else:\n",
        "    print('*')\n",
        "  i-=1\n"
      ],
      "metadata": {
        "colab": {
          "base_uri": "https://localhost:8080/"
        },
        "id": "fTfoNzljpeJw",
        "outputId": "7e607a9e-2059-4b77-f80b-6cf7088bfa64"
      },
      "execution_count": 25,
      "outputs": [
        {
          "output_type": "stream",
          "name": "stdout",
          "text": [
            "        * \n",
            "      *   *\n",
            "    *       *\n",
            "  *           *\n",
            "*               *\n",
            "  *             *\n",
            "    *         *\n",
            "      *     *\n",
            "        * \n"
          ]
        }
      ]
    },
    {
      "cell_type": "code",
      "source": [
        "rows = 5\n",
        "i = 1\n",
        "while i <= rows:\n",
        "  j = rows\n",
        "  while j > i:\n",
        "    print(' ', end=' ')\n",
        "    j-=1\n",
        "  print('*', end=' ')\n",
        "  k = 1\n",
        "  while k < 2 * (i - 1):\n",
        "    print(' ', end =' ')\n",
        "    k+=1\n",
        "  if i == 1:\n",
        "    print()\n",
        "  else:\n",
        "    print('*')\n",
        "  i+=1\n",
        "\n",
        "i = rows - 1\n",
        "while i>=1:\n",
        "  j = rows\n",
        "  while j > i:\n",
        "    print(' ', end=' ')\n",
        "    j-=1\n",
        "  print('*', end=' ')\n",
        "  k=1\n",
        "  while k <= 2*(i-1):\n",
        "    print(' ', end=' ')\n",
        "    k+=1\n",
        "  if i == 1:\n",
        "    print()\n",
        "  else:\n",
        "    print('*')\n",
        "  i-=1\n"
      ],
      "metadata": {
        "colab": {
          "base_uri": "https://localhost:8080/"
        },
        "id": "09xx-lP_LRp-",
        "outputId": "565a371d-8971-4200-a72d-3faec18496ba"
      },
      "execution_count": 26,
      "outputs": [
        {
          "output_type": "stream",
          "name": "stdout",
          "text": [
            "        * \n",
            "      *   *\n",
            "    *       *\n",
            "  *           *\n",
            "*               *\n",
            "  *             *\n",
            "    *         *\n",
            "      *     *\n",
            "        * \n"
          ]
        }
      ]
    },
    {
      "cell_type": "code",
      "source": [
        "rows = 5\n",
        "i = 1\n",
        "while i <= rows:  # Loops through the upper half of the diamond\n",
        "  j = rows\n",
        "  while j > i:  # Prints leading spaces\n",
        "    print(' ', end=' ')\n",
        "    j -= 1\n",
        "  print('*', end=' ')  # Prints the first star\n",
        "\n",
        "  k = 1\n",
        "  while k < 2 * (i - 1):  # Prints spaces inside the diamond\n",
        "    print(' ', end=' ')\n",
        "    k += 1\n",
        "\n",
        "  if i == 1:\n",
        "    print()  # Moves to the next line if it's the first row\n",
        "  else:\n",
        "    print('*')  # Prints the second star (except for the first row)\n",
        "\n",
        "  i += 1  # Moves to the next row\n",
        "\n",
        "i = rows - 1  # Start from the second last row\n",
        "while i >= 1:  # Loops through the lower half of the diamond\n",
        "  j = rows\n",
        "  while j > i:  # Prints leading spaces\n",
        "    print(' ', end=' ')\n",
        "    j -= 1\n",
        "  print('*', end=' ')  # Prints the first star\n",
        "\n",
        "  k = 1\n",
        "  while k <= 2 * (i - 1):  # Prints spaces inside the diamond\n",
        "    print(' ', end=' ')\n",
        "    k += 1\n",
        "\n",
        "  if i == 1:\n",
        "    print()  # Moves to the next line if it's the last row\n",
        "  else:\n",
        "    print('*')  # Prints the second star (except for the last row)\n",
        "\n",
        "  i -= 1  # Moves to the previous row\n"
      ],
      "metadata": {
        "colab": {
          "base_uri": "https://localhost:8080/"
        },
        "id": "BNHCcGzXLcpt",
        "outputId": "d722d445-200a-419e-b01a-7429626c2eb1"
      },
      "execution_count": 28,
      "outputs": [
        {
          "output_type": "stream",
          "name": "stdout",
          "text": [
            "        * \n",
            "      *   *\n",
            "    *       *\n",
            "  *           *\n",
            "*               *\n",
            "  *             *\n",
            "    *         *\n",
            "      *     *\n",
            "        * \n"
          ]
        }
      ]
    },
    {
      "cell_type": "code",
      "source": [
        "ascii_number=65\n",
        "rows = 7\n",
        "for i in range(0, rows):\n",
        "  for j in range(0, i+1):\n",
        "    character = chr(ascii_number)\n",
        "    print(character, end=' ')\n",
        "    ascii_number +=1\n",
        "  print(' ')"
      ],
      "metadata": {
        "colab": {
          "base_uri": "https://localhost:8080/"
        },
        "id": "qTXyZhe3Npy8",
        "outputId": "80470e68-f359-426a-a3aa-039fd454389e"
      },
      "execution_count": 29,
      "outputs": [
        {
          "output_type": "stream",
          "name": "stdout",
          "text": [
            "A  \n",
            "B C  \n",
            "D E F  \n",
            "G H I J  \n",
            "K L M N O  \n",
            "P Q R S T U  \n",
            "V W X Y Z [ \\  \n"
          ]
        }
      ]
    },
    {
      "cell_type": "code",
      "source": [
        "word = 'Python'\n",
        "a = '-'\n",
        "for i in word:\n",
        "  a+=i\n",
        "  print(a)"
      ],
      "metadata": {
        "colab": {
          "base_uri": "https://localhost:8080/"
        },
        "id": "EShqwKuiOr8x",
        "outputId": "9c66366c-6d04-4faf-bd8f-5397bc70b02a"
      },
      "execution_count": 32,
      "outputs": [
        {
          "output_type": "stream",
          "name": "stdout",
          "text": [
            "-P\n",
            "-Py\n",
            "-Pyt\n",
            "-Pyth\n",
            "-Pytho\n",
            "-Python\n"
          ]
        }
      ]
    },
    {
      "cell_type": "code",
      "source": [
        "size = 7\n",
        "asciiNumber = 65\n",
        "m=(2*size)-2\n",
        "for i in range(0, size):\n",
        "  for j in range(0, m):\n",
        "    print(end=' ')\n",
        "  m=m-1\n",
        "  for j in range(0, i+1):\n",
        "    character = chr(asciiNumber)\n",
        "    print(character, end=' ')\n",
        "    asciiNumber +=1\n",
        "  print(' ')\n",
        "\n",
        "\n",
        "\n"
      ],
      "metadata": {
        "colab": {
          "base_uri": "https://localhost:8080/"
        },
        "id": "6tv3oUhEQZnQ",
        "outputId": "fba0a463-8c6e-4975-d11f-eb0740e1b75a"
      },
      "execution_count": 61,
      "outputs": [
        {
          "output_type": "stream",
          "name": "stdout",
          "text": [
            "            A  \n",
            "           B C  \n",
            "          D E F  \n",
            "         G H I J  \n",
            "        K L M N O  \n",
            "       P Q R S T U  \n",
            "      V W X Y Z [ \\  \n"
          ]
        }
      ]
    },
    {
      "cell_type": "code",
      "source": [
        "character = 'V'\n",
        "char_ascii_no = ord(character)\n",
        "for i in range(0, 5):\n",
        "  for j in range(0, i+1):\n",
        "    user_char = chr(char_ascii_no)\n",
        "    print(user_char, end=' ')\n",
        "  print()"
      ],
      "metadata": {
        "colab": {
          "base_uri": "https://localhost:8080/"
        },
        "id": "JNPCiregWm-r",
        "outputId": "7ca6df41-c9d5-44ac-9b7a-5d596329542c"
      },
      "execution_count": 65,
      "outputs": [
        {
          "output_type": "stream",
          "name": "stdout",
          "text": [
            "V \n",
            "V V \n",
            "V V V \n",
            "V V V V \n",
            "V V V V V \n"
          ]
        }
      ]
    },
    {
      "cell_type": "code",
      "source": [
        "for i in range(5):\n",
        "  for j in range(i+1):\n",
        "    if j==0 or j == i or i == 4:\n",
        "      print('V', end='')\n",
        "    else:\n",
        "      print(' ', end='')\n",
        "  print()\n",
        ""
      ],
      "metadata": {
        "colab": {
          "base_uri": "https://localhost:8080/"
        },
        "id": "I9RispnOZEok",
        "outputId": "97e45ad3-d5e9-4dc4-a838-1119626a9671"
      },
      "execution_count": 73,
      "outputs": [
        {
          "output_type": "stream",
          "name": "stdout",
          "text": [
            "V\n",
            "VV\n",
            "V V\n",
            "V  V\n",
            "VVVVV\n"
          ]
        }
      ]
    },
    {
      "cell_type": "code",
      "source": [
        "rows = 10\n",
        "for i in range(1, rows+1):\n",
        "  for j in range(1,i+1):\n",
        "    print(i*j, end=' ')\n",
        "  print()"
      ],
      "metadata": {
        "colab": {
          "base_uri": "https://localhost:8080/"
        },
        "id": "Fy0iAIGugUcg",
        "outputId": "fa53d4e4-eba3-491c-9e3f-0b4c57548f42"
      },
      "execution_count": 75,
      "outputs": [
        {
          "output_type": "stream",
          "name": "stdout",
          "text": [
            "1 \n",
            "2 4 \n",
            "3 6 9 \n",
            "4 8 12 16 \n",
            "5 10 15 20 25 \n",
            "6 12 18 24 30 36 \n",
            "7 14 21 28 35 42 49 \n",
            "8 16 24 32 40 48 56 64 \n",
            "9 18 27 36 45 54 63 72 81 \n",
            "10 20 30 40 50 60 70 80 90 100 \n"
          ]
        }
      ]
    }
  ]
}