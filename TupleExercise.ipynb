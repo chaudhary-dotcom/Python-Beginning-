{
  "nbformat": 4,
  "nbformat_minor": 0,
  "metadata": {
    "colab": {
      "provenance": [],
      "authorship_tag": "ABX9TyPOOpOyyenoUyV8toNbTFQR",
      "include_colab_link": true
    },
    "kernelspec": {
      "name": "python3",
      "display_name": "Python 3"
    },
    "language_info": {
      "name": "python"
    }
  },
  "cells": [
    {
      "cell_type": "markdown",
      "metadata": {
        "id": "view-in-github",
        "colab_type": "text"
      },
      "source": [
        "<a href=\"https://colab.research.google.com/github/chaudhary-dotcom/Python-Beginning-/blob/main/TupleExercise.ipynb\" target=\"_parent\"><img src=\"https://colab.research.google.com/assets/colab-badge.svg\" alt=\"Open In Colab\"/></a>"
      ]
    },
    {
      "cell_type": "code",
      "execution_count": 3,
      "metadata": {
        "colab": {
          "base_uri": "https://localhost:8080/"
        },
        "id": "bkXZmWSxPexz",
        "outputId": "3e0e096d-1f61-4f08-9936-3d2fadbfc411"
      },
      "outputs": [
        {
          "output_type": "stream",
          "name": "stdout",
          "text": [
            "400\n",
            "(200, 300, 400)\n"
          ]
        }
      ],
      "source": [
        "aTuple = (100,200,300,400,500)\n",
        "\n",
        "print(aTuple[-2])\n",
        "print(aTuple[-4:-1])"
      ]
    },
    {
      "cell_type": "code",
      "source": [
        "aTuple=('orange')\n",
        "print(type(aTuple))"
      ],
      "metadata": {
        "colab": {
          "base_uri": "https://localhost:8080/"
        },
        "id": "nzxu90lhUoCn",
        "outputId": "835f7874-6c6c-4535-fc39-52c24544cf20"
      },
      "execution_count": 4,
      "outputs": [
        {
          "output_type": "stream",
          "name": "stdout",
          "text": [
            "<class 'str'>\n"
          ]
        }
      ]
    },
    {
      "cell_type": "code",
      "source": [
        "tuple1 = 1120,'a'\n",
        "print(type(tuple1))\n"
      ],
      "metadata": {
        "colab": {
          "base_uri": "https://localhost:8080/"
        },
        "id": "EZ2VGdDHUyAQ",
        "outputId": "069bb676-cfa7-403f-cfef-994fe567308a"
      },
      "execution_count": 6,
      "outputs": [
        {
          "output_type": "stream",
          "name": "stdout",
          "text": [
            "<class 'tuple'>\n"
          ]
        }
      ]
    },
    {
      "cell_type": "code",
      "source": [
        "aTuple ='yellow', 20, 'red'\n",
        "a,b,c = aTuple\n",
        "print(a)\n",
        "print(b)\n",
        "print(c)"
      ],
      "metadata": {
        "colab": {
          "base_uri": "https://localhost:8080/"
        },
        "id": "jKoKtwuPVUIR",
        "outputId": "9938c3cd-f517-4274-b296-8d432e4ee495"
      },
      "execution_count": 10,
      "outputs": [
        {
          "output_type": "stream",
          "name": "stdout",
          "text": [
            "yellow\n",
            "20\n",
            "red\n"
          ]
        }
      ]
    },
    {
      "cell_type": "code",
      "source": [
        "aTuple =(10,20,30,40,50,60,70,80)\n",
        "print(aTuple[2:5], aTuple[:4], aTuple[3:])"
      ],
      "metadata": {
        "colab": {
          "base_uri": "https://localhost:8080/"
        },
        "id": "tFnrhOwAVlN9",
        "outputId": "cab879d2-c433-4835-9544-816f17ef14d8"
      },
      "execution_count": 11,
      "outputs": [
        {
          "output_type": "stream",
          "name": "stdout",
          "text": [
            "(30, 40, 50) (10, 20, 30, 40) (40, 50, 60, 70, 80)\n"
          ]
        }
      ]
    },
    {
      "cell_type": "code",
      "source": [
        "aTuple = ('orange', [10,20,30], (5,15,25))\n",
        "print(aTuple[1][1])\n",
        "print(aTuple[2][0])\n",
        "print(aTuple[2][2])"
      ],
      "metadata": {
        "colab": {
          "base_uri": "https://localhost:8080/"
        },
        "id": "KAnSfcaiWIcn",
        "outputId": "c3853790-07d3-4e7b-9c82-20a84ed73cda"
      },
      "execution_count": 15,
      "outputs": [
        {
          "output_type": "stream",
          "name": "stdout",
          "text": [
            "20\n",
            "5\n",
            "25\n"
          ]
        }
      ]
    },
    {
      "cell_type": "code",
      "source": [
        "aTuple = (100,)\n",
        "print(aTuple * 4)"
      ],
      "metadata": {
        "colab": {
          "base_uri": "https://localhost:8080/"
        },
        "id": "7yb2xIbCW8NI",
        "outputId": "a598bc05-69ab-4a07-e5b4-902bf7ed0e18"
      },
      "execution_count": 18,
      "outputs": [
        {
          "output_type": "stream",
          "name": "stdout",
          "text": [
            "(100, 100, 100, 100)\n"
          ]
        }
      ]
    },
    {
      "cell_type": "code",
      "source": [
        "#Reverse the tuple\n",
        "tuple1 = (10,20,30,40,50)\n",
        "print(tuple1[::-1])\n"
      ],
      "metadata": {
        "colab": {
          "base_uri": "https://localhost:8080/"
        },
        "id": "Q92HTEioX_fb",
        "outputId": "3c84d338-21bd-493a-84fd-b64feda096bf"
      },
      "execution_count": 24,
      "outputs": [
        {
          "output_type": "stream",
          "name": "stdout",
          "text": [
            "(50, 40, 30, 20, 10)\n"
          ]
        }
      ]
    },
    {
      "cell_type": "code",
      "source": [
        "#Acess value 20 from the tuple\n",
        "tuple1 = ('orange', [10,20,30,40], (5,15,25))\n",
        "print(tuple1[1][1])"
      ],
      "metadata": {
        "colab": {
          "base_uri": "https://localhost:8080/"
        },
        "id": "mDy3jaXOYvl7",
        "outputId": "040fefbb-ddab-410f-c69f-cfede4686571"
      },
      "execution_count": 26,
      "outputs": [
        {
          "output_type": "stream",
          "name": "stdout",
          "text": [
            "20\n"
          ]
        }
      ]
    },
    {
      "cell_type": "code",
      "source": [
        "#Create a tuple with single item 50\n",
        "tuple1 = 50,\n",
        "print(tuple1)\n",
        "print(type(tuple1))"
      ],
      "metadata": {
        "colab": {
          "base_uri": "https://localhost:8080/"
        },
        "id": "uVseykhAZNru",
        "outputId": "2f5f64ef-79ba-4263-8cc8-e7f4d3caa884"
      },
      "execution_count": 28,
      "outputs": [
        {
          "output_type": "stream",
          "name": "stdout",
          "text": [
            "(50,)\n",
            "<class 'tuple'>\n"
          ]
        }
      ]
    },
    {
      "cell_type": "code",
      "source": [
        "#unpack the tuple into 4 variables\n",
        "tuple1 = (10,20,30,40)\n",
        "a,b,c,d = tuple1\n",
        "print(a)\n",
        "print(b)\n",
        "print(c)\n",
        "print(d)"
      ],
      "metadata": {
        "colab": {
          "base_uri": "https://localhost:8080/"
        },
        "id": "zuguYXy3Zk_d",
        "outputId": "0e34a616-6ccc-470c-9635-7afa85b1c1e3"
      },
      "execution_count": 33,
      "outputs": [
        {
          "output_type": "stream",
          "name": "stdout",
          "text": [
            "10\n",
            "20\n",
            "30\n",
            "40\n"
          ]
        }
      ]
    },
    {
      "cell_type": "code",
      "source": [
        "#swap two tuples in python\n",
        "\n",
        "tuple1 = (11,22)\n",
        "tuple2 = (99,88)\n",
        "tuple1, tuple2 = tuple2, tuple1\n",
        "print(tuple1)\n",
        "print(tuple2)\n"
      ],
      "metadata": {
        "colab": {
          "base_uri": "https://localhost:8080/"
        },
        "id": "uycTHFOjaBpm",
        "outputId": "9f4e94a1-5c1b-43cf-df34-6476478bfa00"
      },
      "execution_count": 41,
      "outputs": [
        {
          "output_type": "stream",
          "name": "stdout",
          "text": [
            "(99, 88)\n",
            "(11, 22)\n"
          ]
        }
      ]
    },
    {
      "cell_type": "code",
      "source": [
        "#copy specific elements from one tuple to a new tuple\n",
        "tuple1 = (11,22,33,44,55,66)\n",
        "tuple2 = tuple1[3:-1]\n",
        "print(tuple2)"
      ],
      "metadata": {
        "colab": {
          "base_uri": "https://localhost:8080/"
        },
        "id": "OQa5C8f0a32I",
        "outputId": "ddad421a-64ef-455d-9480-1001ebcdda8e"
      },
      "execution_count": 44,
      "outputs": [
        {
          "output_type": "stream",
          "name": "stdout",
          "text": [
            "(44, 55)\n"
          ]
        }
      ]
    },
    {
      "cell_type": "code",
      "source": [
        "#Modify the tuple\n",
        "tuple1 = (11, [22,33], 44,55)\n",
        "tuple1[1][0] = 222\n",
        "print(tuple1)"
      ],
      "metadata": {
        "colab": {
          "base_uri": "https://localhost:8080/"
        },
        "id": "NIWsoPPacZFg",
        "outputId": "4c4f3a43-2525-4857-c983-c75271449494"
      },
      "execution_count": 45,
      "outputs": [
        {
          "output_type": "stream",
          "name": "stdout",
          "text": [
            "(11, [222, 33], 44, 55)\n"
          ]
        }
      ]
    },
    {
      "cell_type": "code",
      "source": [
        "#sort a tuple of tuples by 2nd item\n",
        "tuple1 = (('a', 23), ('b',37), ('c',11),('d',29))\n",
        "a, b, c, d = tuple1\n",
        "print(c,a,b,d)"
      ],
      "metadata": {
        "colab": {
          "base_uri": "https://localhost:8080/"
        },
        "id": "FbR5bCtddJSg",
        "outputId": "8a8bf88d-460d-4481-8649-8aae68358f4a"
      },
      "execution_count": 47,
      "outputs": [
        {
          "output_type": "stream",
          "name": "stdout",
          "text": [
            "('c', 11) ('a', 23) ('b', 37) ('d', 29)\n"
          ]
        }
      ]
    },
    {
      "cell_type": "code",
      "source": [
        "tuple1 = tuple"
      ],
      "metadata": {
        "id": "34jdZGQWd9cZ"
      },
      "execution_count": null,
      "outputs": []
    },
    {
      "cell_type": "code",
      "source": [
        "tuple1 = tuple(sorted(list(tuple1), key = lambda x: x[1]))\n",
        "print(tuple1)"
      ],
      "metadata": {
        "colab": {
          "base_uri": "https://localhost:8080/"
        },
        "id": "iBnhsv5_e1cS",
        "outputId": "0e60535a-5a42-46ec-ce76-9d17e6f5ffe3"
      },
      "execution_count": 49,
      "outputs": [
        {
          "output_type": "stream",
          "name": "stdout",
          "text": [
            "(('c', 11), ('a', 23), ('d', 29), ('b', 37))\n"
          ]
        }
      ]
    },
    {
      "cell_type": "code",
      "source": [
        "#counts the number of occurance of item 50 from a tuple\n",
        "tuple1 = (50,10,60,70,50)\n",
        "tuple2 =tuple1.count(50)\n",
        "print(tuple2)"
      ],
      "metadata": {
        "colab": {
          "base_uri": "https://localhost:8080/"
        },
        "id": "LBTiwyslfR-r",
        "outputId": "3aa59888-14df-41b2-a20c-42ee7da5ac3f"
      },
      "execution_count": 50,
      "outputs": [
        {
          "output_type": "stream",
          "name": "stdout",
          "text": [
            "2\n"
          ]
        }
      ]
    },
    {
      "cell_type": "code",
      "source": [
        "#check if all items in the tuple are the same\n",
        "def check(t):\n",
        "  return all(i==t[0] for i in t)\n",
        "tuple1 = (45,45,45,45)\n",
        "print(check(tuple1))"
      ],
      "metadata": {
        "colab": {
          "base_uri": "https://localhost:8080/"
        },
        "id": "0d7iWYW7w1AM",
        "outputId": "71f47b2a-7086-424d-cddd-51899a367824"
      },
      "execution_count": 1,
      "outputs": [
        {
          "output_type": "stream",
          "name": "stdout",
          "text": [
            "True\n"
          ]
        }
      ]
    }
  ]
}