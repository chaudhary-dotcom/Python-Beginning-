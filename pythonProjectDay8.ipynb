{
  "nbformat": 4,
  "nbformat_minor": 0,
  "metadata": {
    "colab": {
      "provenance": [],
      "authorship_tag": "ABX9TyMffTmrnG7xG3iccqXLNRcX",
      "include_colab_link": true
    },
    "kernelspec": {
      "name": "python3",
      "display_name": "Python 3"
    },
    "language_info": {
      "name": "python"
    }
  },
  "cells": [
    {
      "cell_type": "markdown",
      "metadata": {
        "id": "view-in-github",
        "colab_type": "text"
      },
      "source": [
        "<a href=\"https://colab.research.google.com/github/chaudhary-dotcom/Python-Beginning-/blob/main/pythonProjectDay8.ipynb\" target=\"_parent\"><img src=\"https://colab.research.google.com/assets/colab-badge.svg\" alt=\"Open In Colab\"/></a>"
      ]
    },
    {
      "cell_type": "markdown",
      "source": [
        "##Number Guessing Game"
      ],
      "metadata": {
        "id": "QaihHHCDij_d"
      }
    },
    {
      "cell_type": "code",
      "source": [
        "import random"
      ],
      "metadata": {
        "id": "kxFCSov9ioxW"
      },
      "execution_count": 1,
      "outputs": []
    },
    {
      "cell_type": "code",
      "source": [
        "def number_guessing_game():\n",
        "  print('Welcome to Number Guessing Game')\n",
        "  secret_number = random.randint(1,100)\n",
        "  attempts = 0\n",
        "\n",
        "  while True:\n",
        "    try:\n",
        "      guess = int(input('Guess a number between 1 and 100: '))\n",
        "      attempts += 1\n",
        "\n",
        "      if guess < secret_number:\n",
        "        print('Too Low! Try again.')\n",
        "\n",
        "      elif guess > secret_number:\n",
        "        print('Too high! Try again.')\n",
        "\n",
        "      else:\n",
        "        print(f'Congratulation! You guessed the number in {attempts} attempts.','Number is', secret_number )\n",
        "        break\n",
        "    except ValueError:\n",
        "      print('Invalid input! Please enter a number.')\n",
        "\n",
        "\n",
        "number_guessing_game()"
      ],
      "metadata": {
        "colab": {
          "base_uri": "https://localhost:8080/"
        },
        "id": "5y25I1TZivd-",
        "outputId": "2568b0ac-5226-47c9-a3a1-5023605834bd"
      },
      "execution_count": 10,
      "outputs": [
        {
          "output_type": "stream",
          "name": "stdout",
          "text": [
            "Welcome to Number Guessing Game\n",
            "Guess a number between 1 and 100: q\n",
            "Invalid input! Please enter a number.\n",
            "Guess a number between 1 and 100: t\n",
            "Invalid input! Please enter a number.\n",
            "Guess a number between 1 and 100: 10\n",
            "Too Low! Try again.\n",
            "Guess a number between 1 and 100: 30\n",
            "Too Low! Try again.\n",
            "Guess a number between 1 and 100: 40\n",
            "Too high! Try again.\n",
            "Guess a number between 1 and 100: 35\n",
            "Congratulation! You guessed the number in 4 attempts. Number is 35\n"
          ]
        }
      ]
    },
    {
      "cell_type": "markdown",
      "source": [
        "##Calculator"
      ],
      "metadata": {
        "id": "R1zR0pHCnrj1"
      }
    },
    {
      "cell_type": "code",
      "source": [
        "def calculator():\n",
        "  print('Simple Calculator')\n",
        "  print('Select an operation:')\n",
        "  print('1. Addition(+)')\n",
        "  print('2. Subtraction(-)')\n",
        "  print('3. Multiplication(*)')\n",
        "  print('4. Division(/)')\n",
        "\n",
        "  while True:\n",
        "    choice = input('Enter choice (1/2/3/4): ')\n",
        "\n",
        "    if choice in ('1', '2', '3', '4'):\n",
        "      try:\n",
        "        num1 = float(input('Enter first number: '))\n",
        "        num2 = float(input('Enter second number: '))\n",
        "\n",
        "        if choice == '1':\n",
        "          print(f'Result:  {num1} + {num2} = {num1 + num2}')\n",
        "\n",
        "        elif choice == '2':\n",
        "          print(f'Result: {num1} - {num2} = {num1 - num2}')\n",
        "\n",
        "        elif choice == '3':\n",
        "          print(f'Result: {num1} * {num2} = {num1 * num2}')\n",
        "\n",
        "        elif choice == '4':\n",
        "          if num2 == 0:\n",
        "            print('Error: Division by zero is not allowed!')\n",
        "\n",
        "          else:\n",
        "            print(f'Result: {num1} / {num2} = {num1 / num2}')\n",
        "\n",
        "      except ValueError:\n",
        "        print('Invalid input! please enters number only.')\n",
        "\n",
        "    else:\n",
        "      print('Invalid choice! Please enter a number between 1-4.')\n",
        "\n",
        "    next_calc = input('Do you want to performe another calculation? (yes/no):').lower()\n",
        "    if next_calc != 'yes':\n",
        "      print('Goodbye!')\n",
        "      break\n",
        "calculator()\n"
      ],
      "metadata": {
        "colab": {
          "base_uri": "https://localhost:8080/"
        },
        "id": "xS6VO8GxntxP",
        "outputId": "ea566c1e-bf4e-4ba9-be7a-3570b0d8835f"
      },
      "execution_count": 12,
      "outputs": [
        {
          "output_type": "stream",
          "name": "stdout",
          "text": [
            "Simple Calculator\n",
            "Select an operation:\n",
            "1. Addition(+)\n",
            "2. Subtraction(-)\n",
            "3. Multiplication(*)\n",
            "4. Division(/)\n",
            "Enter choice (1/2/3/4): 4\n",
            "Enter first number: 0\n",
            "Enter second number: 1\n",
            "Result: 0.0 / 1.0 = 0.0\n",
            "Do you want to performe another calculation? (yes/no):ty\n",
            "Goodbye!\n"
          ]
        }
      ]
    }
  ]
}