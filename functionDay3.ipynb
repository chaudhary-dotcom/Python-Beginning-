{
  "nbformat": 4,
  "nbformat_minor": 0,
  "metadata": {
    "colab": {
      "provenance": [],
      "authorship_tag": "ABX9TyMXNGOb8AwYjCoNTcbvH4im",
      "include_colab_link": true
    },
    "kernelspec": {
      "name": "python3",
      "display_name": "Python 3"
    },
    "language_info": {
      "name": "python"
    }
  },
  "cells": [
    {
      "cell_type": "markdown",
      "metadata": {
        "id": "view-in-github",
        "colab_type": "text"
      },
      "source": [
        "<a href=\"https://colab.research.google.com/github/chaudhary-dotcom/Python-Beginning-/blob/main/functionDay3.ipynb\" target=\"_parent\"><img src=\"https://colab.research.google.com/assets/colab-badge.svg\" alt=\"Open In Colab\"/></a>"
      ]
    },
    {
      "cell_type": "code",
      "execution_count": 8,
      "metadata": {
        "colab": {
          "base_uri": "https://localhost:8080/"
        },
        "id": "taPmZPv-mdIa",
        "outputId": "fa76d207-fbb2-4c20-8596-ce2f2b1ebbaf"
      },
      "outputs": [
        {
          "output_type": "stream",
          "name": "stdout",
          "text": [
            "Enter a number: 1\n",
            "1 is not a prime number\n"
          ]
        }
      ],
      "source": [
        "#prime number checker\n",
        "\n",
        "def num_checker(n):\n",
        "  if n < 2:\n",
        "    return False\n",
        "  for i in range(2, int(n**0.5) + 1):\n",
        "    if n% i == 0:\n",
        "      return False\n",
        "  return True\n",
        "\n",
        "num = int(input('Enter a number: '))\n",
        "if num_checker(num):\n",
        "  print(f'{num} is a prime number')\n",
        "else:\n",
        "  print(f'{num} is not a prime number')\n",
        ""
      ]
    },
    {
      "cell_type": "code",
      "source": [
        "#Generate Fibonacci sequence\n",
        "def fibonacci(n):\n",
        "  #Generate the first n numbers of the fibonacci sequence\n",
        "  if n <= 0:\n",
        "    return []\n",
        "  elif n==1:\n",
        "    return [0]\n",
        "  elif n == 2:\n",
        "    return [0, 1]\n",
        "\n",
        "  fib_seq = [0, 1]\n",
        "  for i in range(2, n):\n",
        "    fib_seq.append(fib_seq[-1] + fib_seq[-2])\n",
        "\n",
        "  return fib_seq\n",
        "\n",
        "num = int(input('Enter the number of Fibonacci terms: '))\n",
        "print(fibonacci(num))"
      ],
      "metadata": {
        "colab": {
          "base_uri": "https://localhost:8080/"
        },
        "id": "rKUs-P8vtTtM",
        "outputId": "053cca1d-d87b-4ecd-f15f-3938503cd4de"
      },
      "execution_count": 26,
      "outputs": [
        {
          "output_type": "stream",
          "name": "stdout",
          "text": [
            "Enter the number of Fibonacci terms: 5\n",
            "[0, 1, 1, 2, 3]\n"
          ]
        }
      ]
    }
  ]
}