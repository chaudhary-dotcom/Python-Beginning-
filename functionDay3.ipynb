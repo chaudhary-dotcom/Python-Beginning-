{
  "nbformat": 4,
  "nbformat_minor": 0,
  "metadata": {
    "colab": {
      "provenance": [],
      "authorship_tag": "ABX9TyPw6BEP5XKdzMm1LYadCvPX",
      "include_colab_link": true
    },
    "kernelspec": {
      "name": "python3",
      "display_name": "Python 3"
    },
    "language_info": {
      "name": "python"
    }
  },
  "cells": [
    {
      "cell_type": "markdown",
      "metadata": {
        "id": "view-in-github",
        "colab_type": "text"
      },
      "source": [
        "<a href=\"https://colab.research.google.com/github/chaudhary-dotcom/Python-Beginning-/blob/main/functionDay3.ipynb\" target=\"_parent\"><img src=\"https://colab.research.google.com/assets/colab-badge.svg\" alt=\"Open In Colab\"/></a>"
      ]
    },
    {
      "cell_type": "code",
      "execution_count": 8,
      "metadata": {
        "colab": {
          "base_uri": "https://localhost:8080/"
        },
        "id": "taPmZPv-mdIa",
        "outputId": "fa76d207-fbb2-4c20-8596-ce2f2b1ebbaf"
      },
      "outputs": [
        {
          "output_type": "stream",
          "name": "stdout",
          "text": [
            "Enter a number: 1\n",
            "1 is not a prime number\n"
          ]
        }
      ],
      "source": [
        "#prime number checker\n",
        "\n",
        "def num_checker(n):\n",
        "  if n < 2:\n",
        "    return False\n",
        "  for i in range(2, int(n**0.5) + 1):\n",
        "    if n% i == 0:\n",
        "      return False\n",
        "  return True\n",
        "\n",
        "num = int(input('Enter a number: '))\n",
        "if num_checker(num):\n",
        "  print(f'{num} is a prime number')\n",
        "else:\n",
        "  print(f'{num} is not a prime number')\n",
        ""
      ]
    },
    {
      "cell_type": "code",
      "source": [
        "#Generate Fibonacci sequence\n",
        "def fibonacci(n):\n",
        "  #Generate the first n numbers of the fibonacci sequence\n",
        "  if n <= 0:\n",
        "    return []\n",
        "  elif n==1:\n",
        "    return [0]\n",
        "  elif n == 2:\n",
        "    return [0, 1]\n",
        "\n",
        "  fib_seq = [0, 1]\n",
        "  for i in range(2, n):\n",
        "    fib_seq.append(fib_seq[-1] + fib_seq[-2])\n",
        "\n",
        "  return fib_seq\n",
        "\n",
        "num = int(input('Enter the number of Fibonacci terms: '))\n",
        "print(fibonacci(num))"
      ],
      "metadata": {
        "colab": {
          "base_uri": "https://localhost:8080/"
        },
        "id": "rKUs-P8vtTtM",
        "outputId": "053cca1d-d87b-4ecd-f15f-3938503cd4de"
      },
      "execution_count": 26,
      "outputs": [
        {
          "output_type": "stream",
          "name": "stdout",
          "text": [
            "Enter the number of Fibonacci terms: 5\n",
            "[0, 1, 1, 2, 3]\n"
          ]
        }
      ]
    },
    {
      "cell_type": "code",
      "source": [
        "#reverse string using slicing\n",
        "def rev_str(s):\n",
        "  return s[::-1]\n",
        "\n",
        "text = input('Enter a string: ')\n",
        "print('Reversed string: ',rev_str(text))\n",
        "\n"
      ],
      "metadata": {
        "colab": {
          "base_uri": "https://localhost:8080/"
        },
        "id": "NbrPOeA8xeD6",
        "outputId": "8897e473-9a0d-4de8-8f44-18ec7b85ac84"
      },
      "execution_count": 30,
      "outputs": [
        {
          "output_type": "stream",
          "name": "stdout",
          "text": [
            "Enter a string: carman\n",
            "Reversed string:  namrac\n"
          ]
        }
      ]
    },
    {
      "cell_type": "code",
      "source": [
        "#reverse string using loop\n",
        "def rev_str(s):\n",
        "  reversed_str = ''\n",
        "  for char in s:\n",
        "    reversed_str = char + reversed_str\n",
        "  return reversed_str\n",
        "\n",
        "text = input('Enter string: ')\n",
        "print(rev_str(text))"
      ],
      "metadata": {
        "colab": {
          "base_uri": "https://localhost:8080/"
        },
        "id": "4Rwfa5znz0xP",
        "outputId": "e75369e2-f670-4c38-ad31-f9f947f4bc04"
      },
      "execution_count": 35,
      "outputs": [
        {
          "output_type": "stream",
          "name": "stdout",
          "text": [
            "Enter string: inside\n",
            "edisni\n"
          ]
        }
      ]
    },
    {
      "cell_type": "code",
      "source": [
        "#Using reversed() and join() method\n",
        "def reverse_string(s):\n",
        "  return ''.join(reversed(s))\n",
        "\n",
        "text = input('Enter string: ')\n",
        "print(reverse_string(text))"
      ],
      "metadata": {
        "colab": {
          "base_uri": "https://localhost:8080/"
        },
        "id": "NPDRQJe613U9",
        "outputId": "346c0fd2-be39-41d6-ad64-ad2a049bf99a"
      },
      "execution_count": 39,
      "outputs": [
        {
          "output_type": "stream",
          "name": "stdout",
          "text": [
            "Enter string: abcdefgh\n",
            "hgfedcba\n"
          ]
        }
      ]
    },
    {
      "cell_type": "code",
      "source": [
        "#Palindrome checker using slicing method\n",
        "def palin_check(s):\n",
        "  return s == s[::-1]\n",
        "\n",
        "text = input('Enter string: ')\n",
        "if palin_check(text):\n",
        "  print('It is palindrome')\n",
        "else:\n",
        "  print('It is not a palindrome')"
      ],
      "metadata": {
        "colab": {
          "base_uri": "https://localhost:8080/"
        },
        "id": "FN_hLmV23eAB",
        "outputId": "83706d16-c359-4f6a-f5f8-a700e063043a"
      },
      "execution_count": 41,
      "outputs": [
        {
          "output_type": "stream",
          "name": "stdout",
          "text": [
            "Enter string: 1221\n",
            "It is palindrome\n"
          ]
        }
      ]
    },
    {
      "cell_type": "code",
      "source": [
        "#palindrome using loop\n",
        "def is_palindrome(s):\n",
        "  #check if a string is a palindrome\n",
        "  left = 0\n",
        "  right = len(s) -1\n",
        "\n",
        "  while left < right:\n",
        "    if s[left] != s[right]:\n",
        "      return False\n",
        "\n",
        "    left += 1\n",
        "    right -=1\n",
        "\n",
        "  return True\n",
        "\n",
        "text = input('Enter string: ')\n",
        "if is_palindrome(text):\n",
        "  print('It is palindrome')\n",
        "\n",
        "else:\n",
        "  print('It is not palindrome')"
      ],
      "metadata": {
        "colab": {
          "base_uri": "https://localhost:8080/"
        },
        "id": "COd9i5Fb4k2i",
        "outputId": "e4753289-69df-463a-843d-46134297162d"
      },
      "execution_count": 2,
      "outputs": [
        {
          "output_type": "stream",
          "name": "stdout",
          "text": [
            "Enter string: manam\n",
            "It is palindrome\n"
          ]
        }
      ]
    }
  ]
}