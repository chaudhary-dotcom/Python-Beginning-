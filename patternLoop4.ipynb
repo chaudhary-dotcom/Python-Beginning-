{
  "nbformat": 4,
  "nbformat_minor": 0,
  "metadata": {
    "colab": {
      "provenance": [],
      "authorship_tag": "ABX9TyM92CQfyrlsy5HRfqZcBSvu",
      "include_colab_link": true
    },
    "kernelspec": {
      "name": "python3",
      "display_name": "Python 3"
    },
    "language_info": {
      "name": "python"
    }
  },
  "cells": [
    {
      "cell_type": "markdown",
      "metadata": {
        "id": "view-in-github",
        "colab_type": "text"
      },
      "source": [
        "<a href=\"https://colab.research.google.com/github/chaudhary-dotcom/Python-Beginning-/blob/main/patternLoop4.ipynb\" target=\"_parent\"><img src=\"https://colab.research.google.com/assets/colab-badge.svg\" alt=\"Open In Colab\"/></a>"
      ]
    },
    {
      "cell_type": "code",
      "execution_count": 2,
      "metadata": {
        "colab": {
          "base_uri": "https://localhost:8080/"
        },
        "id": "mmKj1T_G2R2X",
        "outputId": "5fdfb122-50a6-436a-8976-1793cd9751bf"
      },
      "outputs": [
        {
          "output_type": "stream",
          "name": "stdout",
          "text": [
            "\n",
            "1 \n",
            "2 2 \n",
            "3 3 3 \n",
            "4 4 4 4 \n",
            "5 5 5 5 5 \n"
          ]
        }
      ],
      "source": [
        "rows = 5\n",
        "for i in range(rows+1):\n",
        "  for j in range(i):\n",
        "    print(i, end=' ')\n",
        "  print('')"
      ]
    },
    {
      "cell_type": "code",
      "source": [
        "start = 1\n",
        "stop = 2\n",
        "current_num = stop\n",
        "for row in range(2, 6):\n",
        "  for col in range(start, stop):\n",
        "    current_num -=1\n",
        "    print(current_num, end=' ')\n",
        "  print('')\n",
        "  start = stop\n",
        "  stop += row\n",
        "  current_num = stop"
      ],
      "metadata": {
        "colab": {
          "base_uri": "https://localhost:8080/"
        },
        "id": "A65kdatM4TDM",
        "outputId": "a4acdea6-5376-4de1-f973-85c59c18abbc"
      },
      "execution_count": 8,
      "outputs": [
        {
          "output_type": "stream",
          "name": "stdout",
          "text": [
            "1 \n",
            "3 2 \n",
            "6 5 4 \n",
            "10 9 8 7 \n"
          ]
        }
      ]
    },
    {
      "cell_type": "code",
      "source": [
        "#number traingle pattern\n",
        "rows = 6\n",
        "for i in range(1,rows):\n",
        "  num = 1\n",
        "  for j in range(rows, 0, -1):\n",
        "    if j>i:\n",
        "      print(\" \", end=\"\")\n",
        "    else:\n",
        "      print(num, end=\"\")\n",
        "      num+=1\n",
        "  print(\" \")"
      ],
      "metadata": {
        "colab": {
          "base_uri": "https://localhost:8080/"
        },
        "id": "p3dW_s8C-zN3",
        "outputId": "7d1710fd-66d4-43a6-dc1b-588c87f107e7"
      },
      "execution_count": 23,
      "outputs": [
        {
          "output_type": "stream",
          "name": "stdout",
          "text": [
            "     1 \n",
            "    12 \n",
            "   123 \n",
            "  1234 \n",
            " 12345 \n"
          ]
        }
      ]
    },
    {
      "cell_type": "code",
      "source": [
        "#square pattern with numbers\n",
        "rows = 5\n",
        "for i in range(1, rows+1):\n",
        "  for j in range(1, rows+1):\n",
        "    if j <= i:\n",
        "      print(i, end=' ')\n",
        "    else:\n",
        "      print(j,end=' ')\n",
        "  print()"
      ],
      "metadata": {
        "colab": {
          "base_uri": "https://localhost:8080/"
        },
        "id": "C0qSHUflIn3k",
        "outputId": "c06e988f-dd12-4764-aafa-65e2c00ad41c"
      },
      "execution_count": 31,
      "outputs": [
        {
          "output_type": "stream",
          "name": "stdout",
          "text": [
            "1 2 3 4 5 \n",
            "2 2 3 4 5 \n",
            "3 3 3 4 5 \n",
            "4 4 4 4 5 \n",
            "5 5 5 5 5 \n"
          ]
        }
      ]
    },
    {
      "cell_type": "code",
      "source": [
        "#multiplication table pattern\n",
        "rows = 8\n",
        "for i in range(1, rows+1):\n",
        "  for j in range(1, i+1):\n",
        "    square = i*j\n",
        "    print(square, end=' ')\n",
        "  print()"
      ],
      "metadata": {
        "colab": {
          "base_uri": "https://localhost:8080/"
        },
        "id": "Abhf4Ks1Muvi",
        "outputId": "5d178a31-8d17-438b-dbfe-37c894a154e0"
      },
      "execution_count": 39,
      "outputs": [
        {
          "output_type": "stream",
          "name": "stdout",
          "text": [
            "1 \n",
            "2 4 \n",
            "3 6 9 \n",
            "4 8 12 16 \n",
            "5 10 15 20 25 \n",
            "6 12 18 24 30 36 \n",
            "7 14 21 28 35 42 49 \n",
            "8 16 24 32 40 48 56 64 \n"
          ]
        }
      ]
    },
    {
      "cell_type": "code",
      "source": [
        "rows=5\n",
        "for i in range(0, rows):\n",
        "  for j in range(0, i+1):\n",
        "    print('*', end=' ')\n",
        "  print()"
      ],
      "metadata": {
        "colab": {
          "base_uri": "https://localhost:8080/"
        },
        "id": "U6NcBVV4O5AP",
        "outputId": "73e96701-4283-4ceb-ffd3-32206293e26d"
      },
      "execution_count": 46,
      "outputs": [
        {
          "output_type": "stream",
          "name": "stdout",
          "text": [
            "* \n",
            "* * \n",
            "* * * \n",
            "* * * * \n",
            "* * * * * \n"
          ]
        }
      ]
    },
    {
      "cell_type": "code",
      "source": [
        "rows = 5\n",
        "for j in range(1, rows+1):\n",
        "  print(' *'*j)"
      ],
      "metadata": {
        "colab": {
          "base_uri": "https://localhost:8080/"
        },
        "id": "7JK6jrLaQHq7",
        "outputId": "ec02acd9-67e5-4b72-a455-ff2b9697dcb9"
      },
      "execution_count": 49,
      "outputs": [
        {
          "output_type": "stream",
          "name": "stdout",
          "text": [
            " *\n",
            " * *\n",
            " * * *\n",
            " * * * *\n",
            " * * * * *\n"
          ]
        }
      ]
    },
    {
      "cell_type": "code",
      "source": [],
      "metadata": {
        "id": "TN_zY6QpQl_1"
      },
      "execution_count": null,
      "outputs": []
    }
  ]
}