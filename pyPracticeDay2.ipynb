{
  "nbformat": 4,
  "nbformat_minor": 0,
  "metadata": {
    "colab": {
      "provenance": [],
      "authorship_tag": "ABX9TyO5NlNuA64xMwCxMvMjP4b7",
      "include_colab_link": true
    },
    "kernelspec": {
      "name": "python3",
      "display_name": "Python 3"
    },
    "language_info": {
      "name": "python"
    }
  },
  "cells": [
    {
      "cell_type": "markdown",
      "metadata": {
        "id": "view-in-github",
        "colab_type": "text"
      },
      "source": [
        "<a href=\"https://colab.research.google.com/github/chaudhary-dotcom/Python-Beginning-/blob/main/pyPracticeDay2.ipynb\" target=\"_parent\"><img src=\"https://colab.research.google.com/assets/colab-badge.svg\" alt=\"Open In Colab\"/></a>"
      ]
    },
    {
      "cell_type": "code",
      "execution_count": 7,
      "metadata": {
        "colab": {
          "base_uri": "https://localhost:8080/"
        },
        "id": "vutv_oAZvqMw",
        "outputId": "d2928287-1fa5-4f5a-de92-ae044b7fed7b"
      },
      "outputs": [
        {
          "output_type": "stream",
          "name": "stdout",
          "text": [
            "Enter number10\n",
            "30\n"
          ]
        }
      ],
      "source": [
        "#sum of even numbers\n",
        "def sum_even_numbers(n):\n",
        "  sum = 0\n",
        "  for i in range(1, n+1):\n",
        "\n",
        "    if i%2 == 0:\n",
        "      sum= sum+ i\n",
        "  return sum\n",
        "\n",
        "num = int(input('Enter number'))\n",
        "res = sum_even_numbers(num)\n",
        "print(res)\n"
      ]
    },
    {
      "cell_type": "code",
      "source": [
        "#sum of even numbers using list comprehension\n",
        "def sum_even_numbers(n):\n",
        "  return sum([i for i in range(1, n+1) if i%2==0])\n",
        "\n",
        "num = int(input('Enter number: '))\n",
        "res = sum_even_numbers(num)\n",
        "print(res)"
      ],
      "metadata": {
        "colab": {
          "base_uri": "https://localhost:8080/"
        },
        "id": "_EmOAgFAx024",
        "outputId": "43dc974f-4a70-441c-de63-f1e97ac25187"
      },
      "execution_count": 8,
      "outputs": [
        {
          "output_type": "stream",
          "name": "stdout",
          "text": [
            "Enter number: 10\n",
            "30\n"
          ]
        }
      ]
    },
    {
      "cell_type": "code",
      "source": [
        "def word_length(words):\n",
        "  length = [len(word) for word in words]\n",
        "  return length\n",
        "\n",
        "words = ['apple', 'banana', 'kiwi']\n",
        "res = word_length(words)\n",
        "print(res)\n",
        "\n"
      ],
      "metadata": {
        "colab": {
          "base_uri": "https://localhost:8080/"
        },
        "id": "Zruef_mwyuVv",
        "outputId": "872bc04e-a3e6-4247-a53f-86b77ce3ca42"
      },
      "execution_count": 9,
      "outputs": [
        {
          "output_type": "stream",
          "name": "stdout",
          "text": [
            "[5, 6, 4]\n"
          ]
        }
      ]
    },
    {
      "cell_type": "code",
      "source": [
        "def word_length(words):\n",
        "  length = []\n",
        "  for word in words:\n",
        "    length.append(len(word))\n",
        "  return length\n",
        "\n",
        "words = ['apple', 'banana', 'kiwi']\n",
        "res = word_length(words)\n",
        "print(res)"
      ],
      "metadata": {
        "colab": {
          "base_uri": "https://localhost:8080/"
        },
        "id": "azaHD38m0SrX",
        "outputId": "3a5dfb1b-9085-4813-dd30-1c460eed6c01"
      },
      "execution_count": 15,
      "outputs": [
        {
          "output_type": "stream",
          "name": "stdout",
          "text": [
            "[5, 6, 4]\n"
          ]
        }
      ]
    },
    {
      "cell_type": "code",
      "source": [
        "#generate multiplication table\n",
        "def multiplication_table(num, n):\n",
        "  multiply = []\n",
        "  for i in range(1, num+1):\n",
        "    multiply.append(i*n)\n",
        "  return multiply\n",
        "\n",
        "n = int(input('Enter number: '))\n",
        "num = int(input('Enter number: '))\n",
        "res = multiplication_table(num,n)\n",
        "print(res)"
      ],
      "metadata": {
        "colab": {
          "base_uri": "https://localhost:8080/"
        },
        "id": "RqlOBuvz0jTR",
        "outputId": "50bb5112-0720-4746-cd42-05dd56935d4c"
      },
      "execution_count": 36,
      "outputs": [
        {
          "output_type": "stream",
          "name": "stdout",
          "text": [
            "Enter number: 6\n",
            "Enter number: 12\n",
            "[6, 12, 18, 24, 30, 36, 42, 48, 54, 60, 66, 72]\n"
          ]
        }
      ]
    },
    {
      "cell_type": "code",
      "source": [
        "#using list comprehension\n",
        "def multiplication_table(n, num):\n",
        "  multiply = [i*n for i in range(1, num+1)]\n",
        "  return multiply\n",
        "\n",
        "res = multiplication_table(8,10)\n",
        "print(res)"
      ],
      "metadata": {
        "colab": {
          "base_uri": "https://localhost:8080/"
        },
        "id": "pkg8D4F-5dxK",
        "outputId": "325b01c9-ccff-42c8-e58a-2c3569152f39"
      },
      "execution_count": 39,
      "outputs": [
        {
          "output_type": "stream",
          "name": "stdout",
          "text": [
            "[8, 16, 24, 32, 40, 48, 56, 64, 72, 80]\n"
          ]
        }
      ]
    },
    {
      "cell_type": "code",
      "source": [
        "#filter and square numbers\n",
        "def filter_and_square(numbers):\n",
        "  square = []\n",
        "  for num in numbers:\n",
        "    if num % 2 == 0:\n",
        "      square.append(num**2)\n",
        "  return square\n",
        "\n",
        "numbers = [1,2,3,4,5,6, 8]\n",
        "res = filter_and_square(numbers)\n",
        "print(res)\n"
      ],
      "metadata": {
        "colab": {
          "base_uri": "https://localhost:8080/"
        },
        "id": "12f-Uk0cLj5t",
        "outputId": "32302cb1-0326-4867-c3c4-0c61e9cfdd2b"
      },
      "execution_count": 42,
      "outputs": [
        {
          "output_type": "stream",
          "name": "stdout",
          "text": [
            "[4, 16, 36, 64]\n"
          ]
        }
      ]
    },
    {
      "cell_type": "code",
      "source": [
        "def filter_and_square(numbers):\n",
        "  square = []\n",
        "  for num in numbers:\n",
        "    if num%2 == 0:\n",
        "      square.append(num**2)\n",
        "  return square\n",
        "\n",
        "user_input = input('Enter a list of numbers seperated by spaces: ')\n",
        "numbers = list(map(int, user_input.split()))\n",
        "\n",
        "res = filter_and_square(numbers)\n",
        "print(res)"
      ],
      "metadata": {
        "colab": {
          "base_uri": "https://localhost:8080/"
        },
        "id": "TEeIyVF7WcZH",
        "outputId": "244c96ad-d1ca-424f-cb9b-ebe528439aa3"
      },
      "execution_count": 43,
      "outputs": [
        {
          "output_type": "stream",
          "name": "stdout",
          "text": [
            "Enter a list of numbers seperated by spaces: 2 3 4 5 6 \n",
            "[4, 16, 36]\n"
          ]
        }
      ]
    },
    {
      "cell_type": "code",
      "source": [
        "#using list comprehension\n",
        "def filtered_and_square(numbers):\n",
        "  return[num**2 for num in numbers if num%2 == 0]\n",
        "\n",
        "numbers = [1,2,3,4,5,6]\n",
        "res = filtered_and_square(numbers)\n",
        "print(res)"
      ],
      "metadata": {
        "colab": {
          "base_uri": "https://localhost:8080/"
        },
        "id": "f2aVXQnfXNQC",
        "outputId": "9045434a-688c-4f73-e957-980e7ff640f8"
      },
      "execution_count": 45,
      "outputs": [
        {
          "output_type": "stream",
          "name": "stdout",
          "text": [
            "[4, 16, 36]\n"
          ]
        }
      ]
    },
    {
      "cell_type": "code",
      "source": [
        "#user input\n",
        "def filtered_and_square(numbers):\n",
        "  return[num**2 for num in numbers if num%2 != 0]\n",
        "\n",
        "user_input = input('Enter numbers seperated by space: ')\n",
        "numbers = list(map(int, user_input.split()))\n",
        "res = filtered_and_square(numbers)\n",
        "print(res)"
      ],
      "metadata": {
        "colab": {
          "base_uri": "https://localhost:8080/"
        },
        "id": "K1-Urd88X09K",
        "outputId": "09019041-64b1-4e2d-ed5e-279982e8549d"
      },
      "execution_count": 50,
      "outputs": [
        {
          "output_type": "stream",
          "name": "stdout",
          "text": [
            "Enter numbers seperated by space: 1 2 3\n",
            "[1, 9]\n"
          ]
        }
      ]
    },
    {
      "cell_type": "code",
      "source": [
        "def square_and_filtered_dict(numbers):\n",
        "  return{num: num**2 for num in numbers if num%2 == 0}\n",
        "\n",
        "numbers = [1,2,3,4,5,6]\n",
        "res = square_and_filtered_dict(numbers)\n",
        "print(res)"
      ],
      "metadata": {
        "colab": {
          "base_uri": "https://localhost:8080/"
        },
        "id": "8J_rPi5dZAJk",
        "outputId": "f127c4d2-eba4-4e30-f795-9c6bbd2b33c6"
      },
      "execution_count": 52,
      "outputs": [
        {
          "output_type": "stream",
          "name": "stdout",
          "text": [
            "{2: 4, 4: 16, 6: 36}\n"
          ]
        }
      ]
    },
    {
      "cell_type": "code",
      "source": [
        "def square_and_filtered_dict(numbers):\n",
        "  dictionary = {}\n",
        "  for num in numbers:\n",
        "    if num % 2==0:\n",
        "      dictionary[num] = num**2\n",
        "  return dictionary\n",
        "user_input = input('enter numbers seperated by space: ')\n",
        "numbers = list(map(int, user_input.split()))\n",
        "res = square_and_filtered_dict(numbers)\n",
        "print(res)"
      ],
      "metadata": {
        "colab": {
          "base_uri": "https://localhost:8080/"
        },
        "id": "W8Vm_2SFZ0z6",
        "outputId": "6c9670e9-1a94-46e0-b959-85a1085ad24a"
      },
      "execution_count": 64,
      "outputs": [
        {
          "output_type": "stream",
          "name": "stdout",
          "text": [
            "enter numbers seperated by space: 1 2 3 4 5 6\n",
            "{2: 4, 4: 16, 6: 36}\n"
          ]
        }
      ]
    },
    {
      "cell_type": "code",
      "source": [
        "#dictionary of factorials\n",
        "def factorial_dict(n):\n",
        "  factorial = 1\n",
        "  return {i: (factorial := factorial*i) for i in range(1, n+1)}\n",
        "\n",
        "\n",
        "n = 5\n",
        "res = factorial_dict(n)\n",
        "print(res)"
      ],
      "metadata": {
        "colab": {
          "base_uri": "https://localhost:8080/"
        },
        "id": "Dj0IMsOecTQ5",
        "outputId": "1030925f-a551-4ce7-8be2-1775633948b0"
      },
      "execution_count": 69,
      "outputs": [
        {
          "output_type": "stream",
          "name": "stdout",
          "text": [
            "{1: 1, 2: 2, 3: 6, 4: 24, 5: 120}\n"
          ]
        }
      ]
    },
    {
      "cell_type": "code",
      "source": [
        "def factorial_dict(n):\n",
        "  factorial = 1\n",
        "  return {i: (factorial := factorial*i) for i in range(1, n+1)}\n",
        "\n",
        "num = int(input('Enter number: '))\n",
        "res = factorial_dict(num)\n",
        "print(res)"
      ],
      "metadata": {
        "colab": {
          "base_uri": "https://localhost:8080/"
        },
        "id": "i0KTu4RBfn9r",
        "outputId": "d3425418-c7ee-4790-8a1d-7dfad539dc90"
      },
      "execution_count": 70,
      "outputs": [
        {
          "output_type": "stream",
          "name": "stdout",
          "text": [
            "Enter number: 5\n",
            "{1: 1, 2: 2, 3: 6, 4: 24, 5: 120}\n"
          ]
        }
      ]
    },
    {
      "cell_type": "code",
      "source": [
        "def factorial_dict(n):\n",
        "  result = {}\n",
        "  fact = 1\n",
        "  for i in range(1, n+1):\n",
        "    fact *= i\n",
        "    result[i] = fact\n",
        "  return result\n",
        "\n",
        "num = 5\n",
        "res = factorial_dict(num)\n",
        "print(res)"
      ],
      "metadata": {
        "colab": {
          "base_uri": "https://localhost:8080/"
        },
        "id": "6SZ4XQwIgqqs",
        "outputId": "56379bff-c405-419b-d402-263aff1061f5"
      },
      "execution_count": 73,
      "outputs": [
        {
          "output_type": "stream",
          "name": "stdout",
          "text": [
            "{1: 1, 2: 2, 3: 6, 4: 24, 5: 120}\n"
          ]
        }
      ]
    }
  ]
}