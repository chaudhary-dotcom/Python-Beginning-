{
  "nbformat": 4,
  "nbformat_minor": 0,
  "metadata": {
    "colab": {
      "provenance": [],
      "authorship_tag": "ABX9TyMAn+2/oAmm87EW9LLNOecI",
      "include_colab_link": true
    },
    "kernelspec": {
      "name": "python3",
      "display_name": "Python 3"
    },
    "language_info": {
      "name": "python"
    }
  },
  "cells": [
    {
      "cell_type": "markdown",
      "metadata": {
        "id": "view-in-github",
        "colab_type": "text"
      },
      "source": [
        "<a href=\"https://colab.research.google.com/github/chaudhary-dotcom/Python-Beginning-/blob/main/loopExercise.ipynb\" target=\"_parent\"><img src=\"https://colab.research.google.com/assets/colab-badge.svg\" alt=\"Open In Colab\"/></a>"
      ]
    },
    {
      "cell_type": "code",
      "execution_count": 2,
      "metadata": {
        "colab": {
          "base_uri": "https://localhost:8080/"
        },
        "id": "G1QOyP7q0WvW",
        "outputId": "98f10f69-a363-4e6e-ad7b-42d431e3f18b"
      },
      "outputs": [
        {
          "output_type": "stream",
          "name": "stdout",
          "text": [
            "j, o, h, n, "
          ]
        }
      ],
      "source": [
        "for l in 'john':\n",
        "  if l=='o':\n",
        "    pass\n",
        "  print(l, end=\", \")"
      ]
    },
    {
      "cell_type": "code",
      "source": [
        "for num in range(10,14):\n",
        "  for i in range(2, num):\n",
        "    if num%i ==1:\n",
        "      print(num)\n",
        "      break"
      ],
      "metadata": {
        "colab": {
          "base_uri": "https://localhost:8080/"
        },
        "id": "rMfowSXR1rlu",
        "outputId": "6c63c3cf-8344-49af-e197-1ee6f8c3a28f"
      },
      "execution_count": 4,
      "outputs": [
        {
          "output_type": "stream",
          "name": "stdout",
          "text": [
            "10\n",
            "11\n",
            "12\n",
            "13\n"
          ]
        }
      ]
    },
    {
      "cell_type": "code",
      "source": [
        "numbers = [10,20]\n",
        "items =['chair', 'table']\n",
        "\n",
        "for a in numbers:\n",
        "  for b in items:\n",
        "    print(a, b)"
      ],
      "metadata": {
        "colab": {
          "base_uri": "https://localhost:8080/"
        },
        "id": "hRfvyFs-4S6U",
        "outputId": "fc5905df-3dc3-4721-a54f-d712c2f3b4be"
      },
      "execution_count": 7,
      "outputs": [
        {
          "output_type": "stream",
          "name": "stdout",
          "text": [
            "10 chair\n",
            "10 table\n",
            "20 chair\n",
            "20 table\n"
          ]
        }
      ]
    },
    {
      "cell_type": "code",
      "source": [
        "for num in range(2,-5,-1):\n",
        "  print(num, end=\", \")"
      ],
      "metadata": {
        "colab": {
          "base_uri": "https://localhost:8080/"
        },
        "id": "N4ide-io47z-",
        "outputId": "40bff798-e220-4e88-c5e9-ec86d92eeb9b"
      },
      "execution_count": 8,
      "outputs": [
        {
          "output_type": "stream",
          "name": "stdout",
          "text": [
            "2, 1, 0, -1, -2, -3, -4, "
          ]
        }
      ]
    },
    {
      "cell_type": "code",
      "source": [
        "for num in range(-2,-5,-1):\n",
        "  print(num, end=', ')"
      ],
      "metadata": {
        "colab": {
          "base_uri": "https://localhost:8080/"
        },
        "id": "pLIlkuEI5MiZ",
        "outputId": "018514fb-2a7b-432c-a58d-97f40a8abedb"
      },
      "execution_count": 9,
      "outputs": [
        {
          "output_type": "stream",
          "name": "stdout",
          "text": [
            "-2, -3, -4, "
          ]
        }
      ]
    },
    {
      "cell_type": "code",
      "source": [
        "a = 0\n",
        "while(a < 100):\n",
        "  a+=2\n",
        "print(a)"
      ],
      "metadata": {
        "colab": {
          "base_uri": "https://localhost:8080/"
        },
        "id": "WdlG9rXd5yG0",
        "outputId": "44a8bac0-2786-45ca-b9a9-35affa912fcf"
      },
      "execution_count": 10,
      "outputs": [
        {
          "output_type": "stream",
          "name": "stdout",
          "text": [
            "100\n"
          ]
        }
      ]
    },
    {
      "cell_type": "code",
      "source": [
        "a, b = 12, 5\n",
        "if a+b:\n",
        "  print('True')\n",
        "else:\n",
        "  print('False')"
      ],
      "metadata": {
        "colab": {
          "base_uri": "https://localhost:8080/"
        },
        "id": "M6GI71-v6bhN",
        "outputId": "f2c35675-b916-4cb9-e954-3c34ffc4789c"
      },
      "execution_count": 18,
      "outputs": [
        {
          "output_type": "stream",
          "name": "stdout",
          "text": [
            "True\n"
          ]
        }
      ]
    },
    {
      "cell_type": "code",
      "source": [
        "a = ['ram','sishir']"
      ],
      "metadata": {
        "id": "8skozHvu7vfi"
      },
      "execution_count": 12,
      "outputs": []
    },
    {
      "cell_type": "code",
      "source": [
        "a"
      ],
      "metadata": {
        "colab": {
          "base_uri": "https://localhost:8080/"
        },
        "id": "_4MrecsN7zMb",
        "outputId": "9acbb3b1-ddcd-48aa-ab08-cd351e11be23"
      },
      "execution_count": 13,
      "outputs": [
        {
          "output_type": "execute_result",
          "data": {
            "text/plain": [
              "['ram', 'sishir']"
            ]
          },
          "metadata": {},
          "execution_count": 13
        }
      ]
    },
    {
      "cell_type": "code",
      "source": [
        "a.append('Abishek')\n",
        "print(a)"
      ],
      "metadata": {
        "colab": {
          "base_uri": "https://localhost:8080/"
        },
        "id": "4skvDQyH70Mk",
        "outputId": "a197a773-e411-4910-e92f-a6fe6b519a81"
      },
      "execution_count": 15,
      "outputs": [
        {
          "output_type": "stream",
          "name": "stdout",
          "text": [
            "['ram', ['Laddu'], 'Abishek']\n"
          ]
        }
      ]
    },
    {
      "cell_type": "code",
      "source": [
        "a[1] = 'laddu'\n",
        "a"
      ],
      "metadata": {
        "colab": {
          "base_uri": "https://localhost:8080/"
        },
        "id": "NCrZVnPg8U3r",
        "outputId": "f19f5ef7-6264-4d3c-edd6-7850623b3365"
      },
      "execution_count": 17,
      "outputs": [
        {
          "output_type": "execute_result",
          "data": {
            "text/plain": [
              "['ram', 'laddu', 'Abishek']"
            ]
          },
          "metadata": {},
          "execution_count": 17
        }
      ]
    },
    {
      "cell_type": "code",
      "source": [],
      "metadata": {
        "id": "TreAuLE_8Z_u"
      },
      "execution_count": null,
      "outputs": []
    }
  ]
}