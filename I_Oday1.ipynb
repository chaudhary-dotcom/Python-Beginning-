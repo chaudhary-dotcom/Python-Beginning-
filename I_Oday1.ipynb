{
  "nbformat": 4,
  "nbformat_minor": 0,
  "metadata": {
    "colab": {
      "provenance": [],
      "authorship_tag": "ABX9TyMSONB9lRqW+qEfiSsqObFB",
      "include_colab_link": true
    },
    "kernelspec": {
      "name": "python3",
      "display_name": "Python 3"
    },
    "language_info": {
      "name": "python"
    }
  },
  "cells": [
    {
      "cell_type": "markdown",
      "metadata": {
        "id": "view-in-github",
        "colab_type": "text"
      },
      "source": [
        "<a href=\"https://colab.research.google.com/github/chaudhary-dotcom/Python-Beginning-/blob/main/I_Oday1.ipynb\" target=\"_parent\"><img src=\"https://colab.research.google.com/assets/colab-badge.svg\" alt=\"Open In Colab\"/></a>"
      ]
    },
    {
      "cell_type": "code",
      "source": [
        "f = open('/demo.txt', 'r')\n",
        "data = f.read()\n",
        "print(data)\n",
        "type(data)\n",
        "f.close()"
      ],
      "metadata": {
        "colab": {
          "base_uri": "https://localhost:8080/"
        },
        "id": "kC-1K0mUPmVk",
        "outputId": "036648c2-9ca5-47ef-e452-b0809aac9e9a"
      },
      "execution_count": 23,
      "outputs": [
        {
          "output_type": "stream",
          "name": "stdout",
          "text": [
            "I am learning python\n",
            "my goal is to beacme data scientist\n",
            "\n"
          ]
        }
      ]
    },
    {
      "cell_type": "code",
      "source": [
        "f = open('/demo.txt', 'r')\n",
        "line1 = f.readline()\n",
        "print(line1)\n",
        "\n",
        "line2 = f.readline()\n",
        "print(line2)\n",
        "\n",
        "f.close()\n",
        "\n",
        "\n"
      ],
      "metadata": {
        "colab": {
          "base_uri": "https://localhost:8080/"
        },
        "id": "cJykr_drRwPT",
        "outputId": "e4fee01b-36e6-44a7-eb19-0bd6d4972412"
      },
      "execution_count": 22,
      "outputs": [
        {
          "output_type": "stream",
          "name": "stdout",
          "text": [
            "I am learning python\n",
            "\n",
            "my goal is to beacme data scientist\n",
            "\n"
          ]
        }
      ]
    },
    {
      "cell_type": "code",
      "source": [
        "#write mode: it overwrite the data\n",
        "f = open('/demo.txt', 'w')\n",
        "\n",
        "f.write('then I move to solve problem of human kind')\n",
        "f.close()"
      ],
      "metadata": {
        "id": "aasW9nztTiUM"
      },
      "execution_count": 25,
      "outputs": []
    },
    {
      "cell_type": "code",
      "source": [
        "#append mode\n",
        "f= open('/demo.txt', 'a')\n",
        "f.write('\\n ok to the sky')\n",
        "f.close()"
      ],
      "metadata": {
        "id": "D-y0oAbkUZdd"
      },
      "execution_count": 1,
      "outputs": []
    },
    {
      "cell_type": "code",
      "source": [
        "#read and write 'r+'\n",
        "f = open('/content/demo.txt', 'r+')\n",
        "f.write('abcf')\n",
        "print(f.read())\n",
        "f.close()"
      ],
      "metadata": {
        "colab": {
          "base_uri": "https://localhost:8080/"
        },
        "id": "608f-GiZZtzz",
        "outputId": "eb1d548f-94ad-45e6-917d-2dd15fe3648a"
      },
      "execution_count": 6,
      "outputs": [
        {
          "output_type": "stream",
          "name": "stdout",
          "text": [
            " learning python\n"
          ]
        }
      ]
    },
    {
      "cell_type": "code",
      "source": [
        ""
      ],
      "metadata": {
        "id": "rEMKIcsRaf_5"
      },
      "execution_count": null,
      "outputs": []
    }
  ]
}